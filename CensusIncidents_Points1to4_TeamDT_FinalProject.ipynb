{
 "cells": [
  {
   "cell_type": "code",
   "execution_count": 1,
   "id": "bf413831",
   "metadata": {
    "id": "bf413831"
   },
   "outputs": [],
   "source": [
    "import pandas as pd\n",
    "import geopandas as gpd\n",
    "import os\n",
    "import boto3, json\n",
    "import datetime as dt\n",
    "import plotly.express as px\n",
    "import statsmodels\n",
    "import shapely\n",
    "\n",
    "#pd.set_option('display.max_columns', None)\n",
    "#pd.set_option('display.max_rows', None)"
   ]
  },
  {
   "cell_type": "markdown",
   "id": "3591cb21",
   "metadata": {
    "id": "3591cb21"
   },
   "source": [
    "# SET UP DATA"
   ]
  },
  {
   "cell_type": "markdown",
   "id": "c5bbd7ff",
   "metadata": {
    "id": "c5bbd7ff"
   },
   "source": [
    "- Set up Tennessee Census Tract Data: Read from the shapefile and select its GEOID, wkt, and COUNTYFP columns to CSV to be uploaded to Athena. Note that the incidents data (nfd_incidents_xd_seg.parquet), the economic data (census_economic_data_all_tennessee.csv), and the weather data are all uploaded to Athena directly through the AWS console."
   ]
  },
  {
   "cell_type": "code",
   "execution_count": null,
   "id": "9522e48a",
   "metadata": {
    "id": "9522e48a"
   },
   "outputs": [],
   "source": [
    "df_tracts = gpd.read_file('tn_census/tl_2016_47_tract.shp')\n",
    "df_tracts['wkt'] = pd.Series(\n",
    "        map(lambda geom: str(geom.wkt), df_tracts['geometry']),\n",
    "        index=df_tracts.index, dtype='string')\n",
    "df_tracts_edited = df_tracts[['GEOID', 'wkt', 'COUNTYFP']]\n",
    "df_tracts_edited.to_csv('df_tracts.csv', index=False)"
   ]
  },
  {
   "cell_type": "markdown",
   "id": "adbcf651",
   "metadata": {
    "id": "adbcf651"
   },
   "source": [
    "- Set up Athena credentials and connection"
   ]
  },
  {
   "cell_type": "code",
   "execution_count": null,
   "id": "ed4cca11",
   "metadata": {
    "id": "ed4cca11"
   },
   "outputs": [],
   "source": [
    "credentials = {\n",
    "    'region_name': 'us-east-1',\n",
    "    'aws_access_key_id': 'xxx',\n",
    "    'aws_secret_access_key': 'xxx',\n",
    "    'aws_session_token': 'xxx'\n",
    "}\n",
    "\n",
    "session = boto3.session.Session(**credentials)\n",
    "athena = session.client('athena', region_name='us-east-1')\n",
    "s3 = session.client('s3')"
   ]
  },
  {
   "cell_type": "markdown",
   "id": "8fe62ee1",
   "metadata": {
    "id": "8fe62ee1"
   },
   "source": [
    "## SET UP CENSUS/INCIDENT TABLES"
   ]
  },
  {
   "cell_type": "markdown",
   "id": "352a17c1",
   "metadata": {
    "id": "352a17c1"
   },
   "source": [
    "- **Create econ_tracts table:** Join Davidson County tracts (COUNTYFP=037) with their economic data by GEOID, and store as a table in Athena"
   ]
  },
  {
   "cell_type": "code",
   "execution_count": null,
   "id": "3bfd5022",
   "metadata": {
    "id": "3bfd5022",
    "outputId": "629d4815-97da-43a4-de25-4d408e1d9131"
   },
   "outputs": [
    {
     "data": {
      "text/plain": [
       "{'QueryExecutionId': '1f6f88e9-881b-42a7-83e2-9dce8ecc516e',\n",
       " 'ResponseMetadata': {'RequestId': 'c74b5f51-ed91-45cf-9c4c-80a263ccae34',\n",
       "  'HTTPStatusCode': 200,\n",
       "  'HTTPHeaders': {'date': 'Tue, 25 Apr 2023 03:51:47 GMT',\n",
       "   'content-type': 'application/x-amz-json-1.1',\n",
       "   'content-length': '59',\n",
       "   'connection': 'keep-alive',\n",
       "   'x-amzn-requestid': 'c74b5f51-ed91-45cf-9c4c-80a263ccae34'},\n",
       "  'RetryAttempts': 0}}"
      ]
     },
     "execution_count": 7,
     "metadata": {},
     "output_type": "execute_result"
    }
   ],
   "source": [
    "athena.start_query_execution(\n",
    "    QueryString = 'CREATE TABLE \"econ_tracts\" AS (SELECT * FROM ((SELECT * FROM \"tracts\" WHERE countyfp = \\'037\\' AND geoid IS NOT NULL AND wkt IS NOT NULL) AS \"tracts1\") LEFT JOIN ((SELECT *, CONCAT(CAST(state AS varchar(2)), LPAD(CAST(county AS varchar(3)), 3, \\'0\\'), LPAD(CAST(tract AS varchar(6)), 6, \\'0\\')) AS GEO_ID FROM \"econ\") AS \"econ1\") ON \"tracts1\".GEOID = \"econ1\".GEO_ID);',\n",
    "    QueryExecutionContext = {\n",
    "        'Database': 'econ'\n",
    "    },\n",
    "    ResultConfiguration={\n",
    "        'OutputLocation': 's3://final-proj-schachtj/output'\n",
    "    }\n",
    ")"
   ]
  },
  {
   "cell_type": "code",
   "execution_count": null,
   "id": "9b5828ef",
   "metadata": {
    "id": "9b5828ef",
    "outputId": "15074af9-0739-40ca-efbb-fc9041c1059b"
   },
   "outputs": [
    {
     "data": {
      "text/plain": [
       "{'QueryExecution': {'QueryExecutionId': '1f6f88e9-881b-42a7-83e2-9dce8ecc516e',\n",
       "  'Query': 'CREATE TABLE \"econ_tracts\" AS (SELECT * FROM ((SELECT * FROM \"tracts\" WHERE countyfp = \\'037\\' AND geoid IS NOT NULL AND wkt IS NOT NULL) AS \"tracts1\") LEFT JOIN ((SELECT *, CONCAT(CAST(state AS varchar(2)), LPAD(CAST(county AS varchar(3)), 3, \\'0\\'), LPAD(CAST(tract AS varchar(6)), 6, \\'0\\')) AS GEO_ID FROM \"econ\") AS \"econ1\") ON \"tracts1\".GEOID = \"econ1\".GEO_ID)',\n",
       "  'StatementType': 'DDL',\n",
       "  'ResultConfiguration': {'OutputLocation': 's3://final-proj-schachtj/output/tables/1f6f88e9-881b-42a7-83e2-9dce8ecc516e'},\n",
       "  'ResultReuseConfiguration': {'ResultReuseByAgeConfiguration': {'Enabled': False}},\n",
       "  'QueryExecutionContext': {'Database': 'econ'},\n",
       "  'Status': {'State': 'SUCCEEDED',\n",
       "   'SubmissionDateTime': datetime.datetime(2023, 4, 24, 22, 51, 47, 148000, tzinfo=tzlocal()),\n",
       "   'CompletionDateTime': datetime.datetime(2023, 4, 24, 22, 51, 49, 552000, tzinfo=tzlocal())},\n",
       "  'Statistics': {'EngineExecutionTimeInMillis': 2219,\n",
       "   'DataScannedInBytes': 37457846,\n",
       "   'DataManifestLocation': 's3://final-proj-schachtj/output/tables/1f6f88e9-881b-42a7-83e2-9dce8ecc516e-manifest.csv',\n",
       "   'TotalExecutionTimeInMillis': 2404,\n",
       "   'QueryQueueTimeInMillis': 160,\n",
       "   'QueryPlanningTimeInMillis': 215,\n",
       "   'ServiceProcessingTimeInMillis': 25,\n",
       "   'ResultReuseInformation': {'ReusedPreviousResult': False}},\n",
       "  'WorkGroup': 'primary',\n",
       "  'EngineVersion': {'SelectedEngineVersion': 'AUTO',\n",
       "   'EffectiveEngineVersion': 'Athena engine version 2'},\n",
       "  'SubstatementType': 'CREATE_TABLE_AS_SELECT'},\n",
       " 'ResponseMetadata': {'RequestId': '8637f8ec-9f97-45dc-9aa6-ec573b4dbe6a',\n",
       "  'HTTPStatusCode': 200,\n",
       "  'HTTPHeaders': {'date': 'Tue, 25 Apr 2023 03:52:14 GMT',\n",
       "   'content-type': 'application/x-amz-json-1.1',\n",
       "   'content-length': '2440',\n",
       "   'connection': 'keep-alive',\n",
       "   'x-amzn-requestid': '8637f8ec-9f97-45dc-9aa6-ec573b4dbe6a'},\n",
       "  'RetryAttempts': 0}}"
      ]
     },
     "execution_count": 8,
     "metadata": {},
     "output_type": "execute_result"
    }
   ],
   "source": [
    "athena.get_query_execution(QueryExecutionId = '1f6f88e9-881b-42a7-83e2-9dce8ecc516e')"
   ]
  },
  {
   "cell_type": "markdown",
   "id": "9c233555",
   "metadata": {
    "id": "9c233555"
   },
   "source": [
    "- **Create econ_incidents table**: Join incidents with the demographic information of the tract they take place in"
   ]
  },
  {
   "cell_type": "code",
   "execution_count": null,
   "id": "2fb0cd50",
   "metadata": {
    "id": "2fb0cd50",
    "outputId": "d2f6efa4-c219-434b-8465-bcce223b9ffb"
   },
   "outputs": [
    {
     "data": {
      "text/plain": [
       "{'QueryExecutionId': 'd549ea68-e6c9-438a-b38f-0dbb32097379',\n",
       " 'ResponseMetadata': {'RequestId': 'abf25a41-ace8-4f24-b19d-5b5208acd8e1',\n",
       "  'HTTPStatusCode': 200,\n",
       "  'HTTPHeaders': {'date': 'Wed, 26 Apr 2023 22:08:42 GMT',\n",
       "   'content-type': 'application/x-amz-json-1.1',\n",
       "   'content-length': '59',\n",
       "   'connection': 'keep-alive',\n",
       "   'x-amzn-requestid': 'abf25a41-ace8-4f24-b19d-5b5208acd8e1'},\n",
       "  'RetryAttempts': 0}}"
      ]
     },
     "execution_count": 128,
     "metadata": {},
     "output_type": "execute_result"
    }
   ],
   "source": [
    "athena.start_query_execution(\n",
    "    QueryString = 'CREATE TABLE \"econ_incidents\" AS (SELECT incident_id, median_household_income, median_family_income, median_housing_value, total_population, white, african_american, median_gross_rent, hispanic, MONTH(time_local) AS incident_month, response_time_sec, day_of_week, weekend_or_not, geometry, countyfp, geoid, wkt FROM ((SELECT geoid, wkt, median_household_income, median_family_income, median_housing_value, total_population, white, african_american, median_gross_rent, hispanic, countyfp FROM \"econ_tracts\") AS \"econtracts1\") RIGHT JOIN ((SELECT response_time_sec, day_of_week, time_local, weekend_or_not, geometry, incident_id FROM \"incidents\") AS \"incidents1\") ON ST_CONTAINS (ST_GeometryFromText(\"econtracts1\".wkt), ST_GeometryFromText(\"incidents1\".geometry)) WHERE countyfp IS NOT NULL);',\n",
    "    QueryExecutionContext = {\n",
    "        'Database': 'econ'\n",
    "    },\n",
    "    ResultConfiguration={\n",
    "        'OutputLocation': 's3://final-proj-schachtj/output'\n",
    "    }\n",
    ")"
   ]
  },
  {
   "cell_type": "code",
   "execution_count": null,
   "id": "8b96a31b",
   "metadata": {
    "id": "8b96a31b",
    "outputId": "ea8dcc77-753d-48eb-fb61-19b2dfbdd974"
   },
   "outputs": [
    {
     "data": {
      "text/plain": [
       "{'QueryExecution': {'QueryExecutionId': 'd549ea68-e6c9-438a-b38f-0dbb32097379',\n",
       "  'Query': 'CREATE TABLE \"econ_incidents\" AS (SELECT incident_id, median_household_income, median_family_income, median_housing_value, total_population, white, african_american, median_gross_rent, hispanic, MONTH(time_local) AS incident_month, response_time_sec, day_of_week, weekend_or_not, geometry, countyfp, geoid, wkt FROM ((SELECT geoid, wkt, median_household_income, median_family_income, median_housing_value, total_population, white, african_american, median_gross_rent, hispanic, countyfp FROM \"econ_tracts\") AS \"econtracts1\") RIGHT JOIN ((SELECT response_time_sec, day_of_week, time_local, weekend_or_not, geometry, incident_id FROM \"incidents\") AS \"incidents1\") ON ST_CONTAINS (ST_GeometryFromText(\"econtracts1\".wkt), ST_GeometryFromText(\"incidents1\".geometry)) WHERE countyfp IS NOT NULL)',\n",
       "  'StatementType': 'DDL',\n",
       "  'ResultConfiguration': {'OutputLocation': 's3://final-proj-schachtj/output/tables/d549ea68-e6c9-438a-b38f-0dbb32097379'},\n",
       "  'ResultReuseConfiguration': {'ResultReuseByAgeConfiguration': {'Enabled': False}},\n",
       "  'QueryExecutionContext': {'Database': 'econ'},\n",
       "  'Status': {'State': 'SUCCEEDED',\n",
       "   'SubmissionDateTime': datetime.datetime(2023, 4, 26, 17, 8, 42, 685000, tzinfo=tzlocal()),\n",
       "   'CompletionDateTime': datetime.datetime(2023, 4, 26, 17, 8, 46, 284000, tzinfo=tzlocal())},\n",
       "  'Statistics': {'EngineExecutionTimeInMillis': 3404,\n",
       "   'DataScannedInBytes': 1120256,\n",
       "   'DataManifestLocation': 's3://final-proj-schachtj/output/tables/d549ea68-e6c9-438a-b38f-0dbb32097379-manifest.csv',\n",
       "   'TotalExecutionTimeInMillis': 3599,\n",
       "   'QueryQueueTimeInMillis': 169,\n",
       "   'QueryPlanningTimeInMillis': 173,\n",
       "   'ServiceProcessingTimeInMillis': 26,\n",
       "   'ResultReuseInformation': {'ReusedPreviousResult': False}},\n",
       "  'WorkGroup': 'primary',\n",
       "  'EngineVersion': {'SelectedEngineVersion': 'AUTO',\n",
       "   'EffectiveEngineVersion': 'Athena engine version 2'},\n",
       "  'SubstatementType': 'CREATE_TABLE_AS_SELECT'},\n",
       " 'ResponseMetadata': {'RequestId': 'ad68c2b7-7ebb-47e3-949b-51a02a099d30',\n",
       "  'HTTPStatusCode': 200,\n",
       "  'HTTPHeaders': {'date': 'Wed, 26 Apr 2023 22:08:50 GMT',\n",
       "   'content-type': 'application/x-amz-json-1.1',\n",
       "   'content-length': '3297',\n",
       "   'connection': 'keep-alive',\n",
       "   'x-amzn-requestid': 'ad68c2b7-7ebb-47e3-949b-51a02a099d30'},\n",
       "  'RetryAttempts': 0}}"
      ]
     },
     "execution_count": 129,
     "metadata": {},
     "output_type": "execute_result"
    }
   ],
   "source": [
    "athena.get_query_execution(QueryExecutionId = 'd549ea68-e6c9-438a-b38f-0dbb32097379')"
   ]
  },
  {
   "cell_type": "markdown",
   "id": "7cb997fd",
   "metadata": {
    "id": "7cb997fd"
   },
   "source": [
    "## 1. FREQUENCY OF INCIDENTS BY CENSUS TRACT ACROSS NASHVILLE"
   ]
  },
  {
   "cell_type": "markdown",
   "id": "0a04ab95",
   "metadata": {
    "id": "0a04ab95"
   },
   "source": [
    "- Get number of incidents for each tract over the time period of 2017-2021"
   ]
  },
  {
   "cell_type": "code",
   "execution_count": null,
   "id": "866da08c",
   "metadata": {
    "id": "866da08c",
    "outputId": "726d90b7-060b-45b2-b225-86ee15380d7f"
   },
   "outputs": [
    {
     "data": {
      "text/plain": [
       "{'QueryExecutionId': '32742741-7ace-4f65-9a1d-1653ec065a6a',\n",
       " 'ResponseMetadata': {'RequestId': 'd13108d9-27bf-4c1e-a68b-bdd06e89bfac',\n",
       "  'HTTPStatusCode': 200,\n",
       "  'HTTPHeaders': {'date': 'Thu, 27 Apr 2023 04:12:02 GMT',\n",
       "   'content-type': 'application/x-amz-json-1.1',\n",
       "   'content-length': '59',\n",
       "   'connection': 'keep-alive',\n",
       "   'x-amzn-requestid': 'd13108d9-27bf-4c1e-a68b-bdd06e89bfac'},\n",
       "  'RetryAttempts': 0}}"
      ]
     },
     "execution_count": 169,
     "metadata": {},
     "output_type": "execute_result"
    }
   ],
   "source": [
    "athena.start_query_execution(\n",
    "    QueryString = 'SELECT geoid, wkt, COUNT(*) AS num_incidents, AVG(response_time_sec) AS avg_response_time, VARIANCE(response_time_sec) AS var_response_time, AVG(total_population) AS total_population, COUNT(*)/AVG(total_population) AS incidents_per_capita FROM \"econ_incidents\" GROUP BY geoid, wkt;',\n",
    "    QueryExecutionContext = {\n",
    "        'Database': 'econ'\n",
    "    },\n",
    "    ResultConfiguration={\n",
    "        'OutputLocation': 's3://final-proj-schachtj/output'\n",
    "    }\n",
    ")"
   ]
  },
  {
   "cell_type": "code",
   "execution_count": null,
   "id": "9b536440",
   "metadata": {
    "id": "9b536440",
    "outputId": "d890a2ac-082e-43f9-8007-81cf5b8f5395"
   },
   "outputs": [
    {
     "data": {
      "text/plain": [
       "{'QueryExecution': {'QueryExecutionId': '32742741-7ace-4f65-9a1d-1653ec065a6a',\n",
       "  'Query': 'SELECT geoid, wkt, COUNT(*) AS num_incidents, AVG(response_time_sec) AS avg_response_time, VARIANCE(response_time_sec) AS var_response_time, AVG(total_population) AS total_population, COUNT(*)/AVG(total_population) AS incidents_per_capita FROM \"econ_incidents\" GROUP BY geoid, wkt',\n",
       "  'StatementType': 'DML',\n",
       "  'ResultConfiguration': {'OutputLocation': 's3://final-proj-schachtj/output/32742741-7ace-4f65-9a1d-1653ec065a6a.csv'},\n",
       "  'ResultReuseConfiguration': {'ResultReuseByAgeConfiguration': {'Enabled': False}},\n",
       "  'QueryExecutionContext': {'Database': 'econ'},\n",
       "  'Status': {'State': 'SUCCEEDED',\n",
       "   'SubmissionDateTime': datetime.datetime(2023, 4, 26, 23, 12, 2, 464000, tzinfo=tzlocal()),\n",
       "   'CompletionDateTime': datetime.datetime(2023, 4, 26, 23, 12, 3, 592000, tzinfo=tzlocal())},\n",
       "  'Statistics': {'EngineExecutionTimeInMillis': 868,\n",
       "   'DataScannedInBytes': 1050718,\n",
       "   'TotalExecutionTimeInMillis': 1128,\n",
       "   'QueryQueueTimeInMillis': 254,\n",
       "   'ServiceProcessingTimeInMillis': 6,\n",
       "   'ResultReuseInformation': {'ReusedPreviousResult': False}},\n",
       "  'WorkGroup': 'primary',\n",
       "  'EngineVersion': {'SelectedEngineVersion': 'AUTO',\n",
       "   'EffectiveEngineVersion': 'Athena engine version 2'},\n",
       "  'SubstatementType': 'SELECT'},\n",
       " 'ResponseMetadata': {'RequestId': 'a6e628c7-8c40-4af4-a080-cdcab43b61e0',\n",
       "  'HTTPStatusCode': 200,\n",
       "  'HTTPHeaders': {'date': 'Thu, 27 Apr 2023 04:12:24 GMT',\n",
       "   'content-type': 'application/x-amz-json-1.1',\n",
       "   'content-length': '2083',\n",
       "   'connection': 'keep-alive',\n",
       "   'x-amzn-requestid': 'a6e628c7-8c40-4af4-a080-cdcab43b61e0'},\n",
       "  'RetryAttempts': 0}}"
      ]
     },
     "execution_count": 170,
     "metadata": {},
     "output_type": "execute_result"
    }
   ],
   "source": [
    "athena.get_query_execution(QueryExecutionId = '32742741-7ace-4f65-9a1d-1653ec065a6a')"
   ]
  },
  {
   "cell_type": "code",
   "execution_count": null,
   "id": "a97f3156",
   "metadata": {
    "id": "a97f3156"
   },
   "outputs": [],
   "source": [
    "s3.download_file('final-proj-schachtj', 'output/32742741-7ace-4f65-9a1d-1653ec065a6a.csv', 'incidents_by_tract.csv')"
   ]
  },
  {
   "cell_type": "markdown",
   "id": "29429eb8",
   "metadata": {
    "id": "29429eb8"
   },
   "source": [
    "- Read into CSV, create geometry column, and make GeoPandas dataframe"
   ]
  },
  {
   "cell_type": "code",
   "execution_count": 3,
   "id": "382b73ac",
   "metadata": {
    "colab": {
     "base_uri": "https://localhost:8080/",
     "height": 904
    },
    "id": "382b73ac",
    "outputId": "50a5f080-46f8-48cc-8ec3-c2272a93762a"
   },
   "outputs": [
    {
     "data": {
      "text/html": [
       "<div>\n",
       "<style scoped>\n",
       "    .dataframe tbody tr th:only-of-type {\n",
       "        vertical-align: middle;\n",
       "    }\n",
       "\n",
       "    .dataframe tbody tr th {\n",
       "        vertical-align: top;\n",
       "    }\n",
       "\n",
       "    .dataframe thead th {\n",
       "        text-align: right;\n",
       "    }\n",
       "</style>\n",
       "<table border=\"1\" class=\"dataframe\">\n",
       "  <thead>\n",
       "    <tr style=\"text-align: right;\">\n",
       "      <th></th>\n",
       "      <th>geoid</th>\n",
       "      <th>num_incidents</th>\n",
       "      <th>avg_response_time</th>\n",
       "      <th>var_response_time</th>\n",
       "      <th>total_population</th>\n",
       "      <th>incidents_per_capita</th>\n",
       "      <th>geometry</th>\n",
       "    </tr>\n",
       "  </thead>\n",
       "  <tbody>\n",
       "    <tr>\n",
       "      <th>0</th>\n",
       "      <td>47037010301</td>\n",
       "      <td>62</td>\n",
       "      <td>204.101695</td>\n",
       "      <td>35274.748101</td>\n",
       "      <td>3739.0</td>\n",
       "      <td>0.016582</td>\n",
       "      <td>POLYGON ((-86.74131799999999 36.293537, -86.74...</td>\n",
       "    </tr>\n",
       "    <tr>\n",
       "      <th>1</th>\n",
       "      <td>47037010103</td>\n",
       "      <td>227</td>\n",
       "      <td>630.943925</td>\n",
       "      <td>80495.978062</td>\n",
       "      <td>2627.0</td>\n",
       "      <td>0.086410</td>\n",
       "      <td>POLYGON ((-86.917518 36.339757, -86.9174659999...</td>\n",
       "    </tr>\n",
       "    <tr>\n",
       "      <th>2</th>\n",
       "      <td>47037015612</td>\n",
       "      <td>407</td>\n",
       "      <td>405.320413</td>\n",
       "      <td>64346.503287</td>\n",
       "      <td>6690.0</td>\n",
       "      <td>0.060837</td>\n",
       "      <td>POLYGON ((-86.666478 36.103628, -86.666206 36....</td>\n",
       "    </tr>\n",
       "    <tr>\n",
       "      <th>3</th>\n",
       "      <td>47037010904</td>\n",
       "      <td>248</td>\n",
       "      <td>399.751073</td>\n",
       "      <td>52001.342941</td>\n",
       "      <td>2761.0</td>\n",
       "      <td>0.089823</td>\n",
       "      <td>POLYGON ((-86.78634699999999 36.237884, -86.78...</td>\n",
       "    </tr>\n",
       "    <tr>\n",
       "      <th>4</th>\n",
       "      <td>47037011100</td>\n",
       "      <td>86</td>\n",
       "      <td>218.548780</td>\n",
       "      <td>48659.806233</td>\n",
       "      <td>4344.0</td>\n",
       "      <td>0.019797</td>\n",
       "      <td>POLYGON ((-86.73436 36.221584, -86.73425999999...</td>\n",
       "    </tr>\n",
       "    <tr>\n",
       "      <th>...</th>\n",
       "      <td>...</td>\n",
       "      <td>...</td>\n",
       "      <td>...</td>\n",
       "      <td>...</td>\n",
       "      <td>...</td>\n",
       "      <td>...</td>\n",
       "      <td>...</td>\n",
       "    </tr>\n",
       "    <tr>\n",
       "      <th>156</th>\n",
       "      <td>47037018405</td>\n",
       "      <td>74</td>\n",
       "      <td>498.041667</td>\n",
       "      <td>157743.899648</td>\n",
       "      <td>4710.0</td>\n",
       "      <td>0.015711</td>\n",
       "      <td>POLYGON ((-86.96850099999999 36.027814, -86.96...</td>\n",
       "    </tr>\n",
       "    <tr>\n",
       "      <th>157</th>\n",
       "      <td>47037018201</td>\n",
       "      <td>135</td>\n",
       "      <td>437.092308</td>\n",
       "      <td>70099.572809</td>\n",
       "      <td>3069.0</td>\n",
       "      <td>0.043988</td>\n",
       "      <td>POLYGON ((-86.90934299999999 36.11469599999999...</td>\n",
       "    </tr>\n",
       "    <tr>\n",
       "      <th>158</th>\n",
       "      <td>47037015614</td>\n",
       "      <td>121</td>\n",
       "      <td>421.601695</td>\n",
       "      <td>68634.669057</td>\n",
       "      <td>4572.0</td>\n",
       "      <td>0.026465</td>\n",
       "      <td>POLYGON ((-86.67002 36.078603, -86.669805 36.0...</td>\n",
       "    </tr>\n",
       "    <tr>\n",
       "      <th>159</th>\n",
       "      <td>47037015803</td>\n",
       "      <td>278</td>\n",
       "      <td>404.544061</td>\n",
       "      <td>80373.025936</td>\n",
       "      <td>2622.0</td>\n",
       "      <td>0.106026</td>\n",
       "      <td>POLYGON ((-86.72737 36.13836, -86.727336 36.13...</td>\n",
       "    </tr>\n",
       "    <tr>\n",
       "      <th>160</th>\n",
       "      <td>47037013201</td>\n",
       "      <td>32</td>\n",
       "      <td>422.933333</td>\n",
       "      <td>35289.167816</td>\n",
       "      <td>2997.0</td>\n",
       "      <td>0.010677</td>\n",
       "      <td>POLYGON ((-86.89207499999999 36.142932, -86.89...</td>\n",
       "    </tr>\n",
       "  </tbody>\n",
       "</table>\n",
       "<p>161 rows × 7 columns</p>\n",
       "</div>"
      ],
      "text/plain": [
       "           geoid  num_incidents  avg_response_time  var_response_time  \\\n",
       "0    47037010301             62         204.101695       35274.748101   \n",
       "1    47037010103            227         630.943925       80495.978062   \n",
       "2    47037015612            407         405.320413       64346.503287   \n",
       "3    47037010904            248         399.751073       52001.342941   \n",
       "4    47037011100             86         218.548780       48659.806233   \n",
       "..           ...            ...                ...                ...   \n",
       "156  47037018405             74         498.041667      157743.899648   \n",
       "157  47037018201            135         437.092308       70099.572809   \n",
       "158  47037015614            121         421.601695       68634.669057   \n",
       "159  47037015803            278         404.544061       80373.025936   \n",
       "160  47037013201             32         422.933333       35289.167816   \n",
       "\n",
       "     total_population  incidents_per_capita  \\\n",
       "0              3739.0              0.016582   \n",
       "1              2627.0              0.086410   \n",
       "2              6690.0              0.060837   \n",
       "3              2761.0              0.089823   \n",
       "4              4344.0              0.019797   \n",
       "..                ...                   ...   \n",
       "156            4710.0              0.015711   \n",
       "157            3069.0              0.043988   \n",
       "158            4572.0              0.026465   \n",
       "159            2622.0              0.106026   \n",
       "160            2997.0              0.010677   \n",
       "\n",
       "                                              geometry  \n",
       "0    POLYGON ((-86.74131799999999 36.293537, -86.74...  \n",
       "1    POLYGON ((-86.917518 36.339757, -86.9174659999...  \n",
       "2    POLYGON ((-86.666478 36.103628, -86.666206 36....  \n",
       "3    POLYGON ((-86.78634699999999 36.237884, -86.78...  \n",
       "4    POLYGON ((-86.73436 36.221584, -86.73425999999...  \n",
       "..                                                 ...  \n",
       "156  POLYGON ((-86.96850099999999 36.027814, -86.96...  \n",
       "157  POLYGON ((-86.90934299999999 36.11469599999999...  \n",
       "158  POLYGON ((-86.67002 36.078603, -86.669805 36.0...  \n",
       "159  POLYGON ((-86.72737 36.13836, -86.727336 36.13...  \n",
       "160  POLYGON ((-86.89207499999999 36.142932, -86.89...  \n",
       "\n",
       "[161 rows x 7 columns]"
      ]
     },
     "execution_count": 3,
     "metadata": {},
     "output_type": "execute_result"
    }
   ],
   "source": [
    "incidents_by_tract = pd.read_csv('incidents_by_tract.csv')\n",
    "incidents_by_tract['geometry'] = incidents_by_tract['wkt'].apply(shapely.wkt.loads)\n",
    "incidents_by_tract = incidents_by_tract.drop('wkt', axis=1)\n",
    "incidents_by_tract"
   ]
  },
  {
   "cell_type": "code",
   "execution_count": 4,
   "id": "94ff461c",
   "metadata": {
    "colab": {
     "base_uri": "https://localhost:8080/"
    },
    "id": "94ff461c",
    "outputId": "fbbfff77-e7e4-41b6-ddfe-635c24f16c3b"
   },
   "outputs": [
    {
     "data": {
      "text/plain": [
       "Int64Index([47037010301, 47037010103, 47037015612, 47037010904, 47037011100,\n",
       "            47037018202, 47037019006, 47037015620, 47037011600, 47037012600,\n",
       "            ...\n",
       "            47037012200, 47037010701, 47037010302, 47037011400, 47037019110,\n",
       "            47037018405, 47037018201, 47037015614, 47037015803, 47037013201],\n",
       "           dtype='int64', name='geoid', length=161)"
      ]
     },
     "execution_count": 4,
     "metadata": {},
     "output_type": "execute_result"
    }
   ],
   "source": [
    "inc_tract_gdf = gpd.GeoDataFrame(incidents_by_tract, crs='epsg:4326')\n",
    "inc_tract_gdf.index = inc_tract_gdf['geoid']\n",
    "inc_tract_gdf.index"
   ]
  },
  {
   "cell_type": "markdown",
   "id": "afc0b115",
   "metadata": {
    "id": "afc0b115"
   },
   "source": [
    "- Plot the relationship between population for each tract and number of incidents"
   ]
  },
  {
   "cell_type": "code",
   "execution_count": 6,
   "id": "8bd87fb4",
   "metadata": {
    "colab": {
     "base_uri": "https://localhost:8080/",
     "height": 542
    },
    "id": "8bd87fb4",
    "outputId": "584365d7-61a7-4531-f1c1-a085ec0fcad2"
   },
   "outputs": [
    {
     "data": {
      "application/vnd.plotly.v1+json": {
       "config": {
        "plotlyServerURL": "https://plot.ly"
       },
       "data": [
        {
         "hovertemplate": "total_population=%{x}<br>num_incidents=%{y}<extra></extra>",
         "legendgroup": "",
         "marker": {
          "color": "#636efa",
          "symbol": "circle"
         },
         "mode": "markers",
         "name": "",
         "orientation": "v",
         "showlegend": false,
         "type": "scatter",
         "x": [
          3739,
          2627,
          6690,
          2761,
          4344,
          7472,
          5502,
          7713,
          4071,
          2335,
          6708,
          3457,
          910,
          3877,
          1459,
          6190,
          2961,
          5058,
          2484,
          5118,
          4792,
          4689,
          2792,
          1346,
          2764,
          3826,
          2379,
          5662,
          4179,
          5650,
          2316,
          2645,
          4865,
          5101,
          5946,
          10684,
          5326,
          5806,
          3782,
          2491,
          2747,
          4060,
          2607,
          5945,
          2728,
          4403,
          2913,
          5309,
          4459,
          5941,
          5620,
          2420,
          4402,
          4150,
          1496,
          3564,
          3024,
          8388,
          3507,
          5050,
          2821,
          4638,
          12590,
          1727,
          4070,
          4353,
          3030,
          2631,
          2991,
          4794,
          1624,
          8830,
          1117,
          2628,
          4070,
          6115,
          4740,
          4603,
          4073,
          3992,
          5186,
          4155,
          4344,
          6327,
          6436,
          4176,
          4257,
          5696,
          3282,
          6033,
          4909,
          3419,
          4978,
          3363,
          6082,
          5731,
          3707,
          3257,
          3749,
          6655,
          5661,
          2254,
          2490,
          4466,
          1962,
          2883,
          3719,
          3633,
          6020,
          4453,
          5662,
          4487,
          3337,
          5071,
          5240,
          2823,
          5276,
          4674,
          5856,
          5438,
          3260,
          5106,
          3282,
          4895,
          2087,
          4075,
          3131,
          3728,
          0,
          5830,
          3816,
          2369,
          3254,
          2754,
          0,
          3976,
          1868,
          4054,
          1886,
          5048,
          4520,
          2018,
          4216,
          5351,
          3048,
          3163,
          2631,
          5218,
          5337,
          4615,
          6086,
          1981,
          4252,
          2135,
          4676,
          4415,
          4710,
          3069,
          4572,
          2622,
          2997
         ],
         "xaxis": "x",
         "y": [
          62,
          227,
          407,
          248,
          86,
          70,
          406,
          203,
          26,
          239,
          156,
          153,
          200,
          133,
          292,
          199,
          553,
          208,
          61,
          111,
          62,
          73,
          124,
          288,
          204,
          139,
          36,
          199,
          52,
          203,
          105,
          166,
          241,
          106,
          293,
          333,
          214,
          156,
          80,
          157,
          121,
          491,
          54,
          454,
          108,
          72,
          177,
          66,
          167,
          390,
          261,
          184,
          372,
          319,
          10,
          78,
          39,
          506,
          93,
          136,
          291,
          383,
          192,
          140,
          121,
          138,
          131,
          228,
          142,
          47,
          125,
          266,
          68,
          52,
          98,
          320,
          126,
          111,
          49,
          99,
          132,
          84,
          395,
          393,
          196,
          76,
          140,
          90,
          263,
          1337,
          78,
          121,
          267,
          216,
          181,
          417,
          25,
          217,
          20,
          111,
          467,
          134,
          112,
          164,
          36,
          50,
          63,
          59,
          156,
          272,
          261,
          156,
          175,
          37,
          154,
          235,
          64,
          54,
          71,
          253,
          234,
          144,
          333,
          442,
          83,
          114,
          190,
          285,
          525,
          396,
          133,
          41,
          50,
          128,
          155,
          70,
          70,
          57,
          82,
          54,
          34,
          133,
          512,
          525,
          145,
          627,
          111,
          74,
          114,
          106,
          46,
          18,
          275,
          205,
          116,
          123,
          74,
          135,
          121,
          278,
          32
         ],
         "yaxis": "y"
        },
        {
         "hovertemplate": "<b>OLS trendline</b><br>num_incidents = 0.0188288 * total_population + 105.854<br>R<sup>2</sup>=0.043668<br><br>total_population=%{x}<br>num_incidents=%{y} <b>(trend)</b><extra></extra>",
         "legendgroup": "",
         "marker": {
          "color": "#636efa",
          "symbol": "circle"
         },
         "mode": "lines",
         "name": "",
         "showlegend": false,
         "type": "scatter",
         "x": [
          0,
          0,
          910,
          1117,
          1346,
          1459,
          1496,
          1624,
          1727,
          1868,
          1886,
          1962,
          1981,
          2018,
          2087,
          2135,
          2254,
          2316,
          2335,
          2369,
          2379,
          2420,
          2484,
          2490,
          2491,
          2607,
          2622,
          2627,
          2628,
          2631,
          2631,
          2645,
          2728,
          2747,
          2754,
          2761,
          2764,
          2792,
          2821,
          2823,
          2883,
          2913,
          2961,
          2991,
          2997,
          3024,
          3030,
          3048,
          3069,
          3131,
          3163,
          3254,
          3257,
          3260,
          3282,
          3282,
          3337,
          3363,
          3419,
          3457,
          3507,
          3564,
          3633,
          3707,
          3719,
          3728,
          3739,
          3749,
          3782,
          3816,
          3826,
          3877,
          3976,
          3992,
          4054,
          4060,
          4070,
          4070,
          4071,
          4073,
          4075,
          4150,
          4155,
          4176,
          4179,
          4216,
          4252,
          4257,
          4344,
          4344,
          4353,
          4402,
          4403,
          4415,
          4453,
          4459,
          4466,
          4487,
          4520,
          4572,
          4603,
          4615,
          4638,
          4674,
          4676,
          4689,
          4710,
          4740,
          4792,
          4794,
          4865,
          4895,
          4909,
          4978,
          5048,
          5050,
          5058,
          5071,
          5101,
          5106,
          5118,
          5186,
          5218,
          5240,
          5276,
          5309,
          5326,
          5337,
          5351,
          5438,
          5502,
          5620,
          5650,
          5661,
          5662,
          5662,
          5696,
          5731,
          5806,
          5830,
          5856,
          5941,
          5945,
          5946,
          6020,
          6033,
          6082,
          6086,
          6115,
          6190,
          6327,
          6436,
          6655,
          6690,
          6708,
          7472,
          7713,
          8388,
          8830,
          10684,
          12590
         ],
         "xaxis": "x",
         "y": [
          105.85429975633694,
          105.85429975633694,
          122.9884868434838,
          126.88604368638423,
          131.1978336236992,
          133.32548542682844,
          134.02215017652563,
          136.4322336349375,
          138.3715976678783,
          141.0264552275351,
          141.36537321387425,
          142.7963602673063,
          143.1541070306643,
          143.8507717803615,
          145.14995739466164,
          146.05373869156608,
          148.29436315680837,
          149.46174733197662,
          149.81949409533465,
          150.4596725139753,
          150.64796028416373,
          151.41994014193625,
          152.6249818711422,
          152.73795453325525,
          152.7567833102741,
          154.94092144445986,
          155.2233530997425,
          155.3174969848367,
          155.33632576185556,
          155.39281209291207,
          155.39281209291207,
          155.65641497117588,
          157.2192034637398,
          157.57695022709783,
          157.70875166622972,
          157.84055310536164,
          157.89703943641814,
          158.42424519294576,
          158.97027972649218,
          159.00793728052986,
          160.13766390166043,
          160.70252721222573,
          161.60630850913017,
          162.17117181969545,
          162.2841444818085,
          162.79252146131725,
          162.90549412343032,
          163.24441210976948,
          163.6398164271652,
          164.8072006023334,
          165.4097214669364,
          167.1231401756511,
          167.17962650670762,
          167.23611283776413,
          167.65034593217868,
          167.65034593217868,
          168.685928668215,
          169.17547687070493,
          170.2298883837601,
          170.94538191047616,
          171.88682076141828,
          172.96006105149232,
          174.25924666579246,
          175.65257616518682,
          175.87852148941295,
          176.04798048258252,
          176.2550970297898,
          176.44338479997822,
          177.06473444160002,
          177.70491286024065,
          177.89320063042908,
          178.85346825839008,
          180.7175171832555,
          181.01877761555698,
          182.18616179072524,
          182.2991344528383,
          182.48742222302673,
          182.48742222302673,
          182.50625100004555,
          182.54390855408326,
          182.5815661081209,
          183.99372438453412,
          184.08786826962836,
          184.48327258702403,
          184.53975891808057,
          185.23642366777773,
          185.91425964045607,
          186.0084035255503,
          187.64650712618962,
          187.64650712618962,
          187.8159661193592,
          188.73857619328248,
          188.75740497030134,
          188.98335029452744,
          189.69884382124349,
          189.81181648335652,
          189.94361792248844,
          190.33902223988412,
          190.96037188150592,
          191.93946828648575,
          192.52316037406987,
          192.74910569829598,
          193.18216756972936,
          193.8600035424077,
          193.8976610964454,
          194.14243519769036,
          194.53783951508603,
          195.1027028256513,
          196.08179923063113,
          196.11945678466884,
          197.45629995300666,
          198.02116326357194,
          198.28476614183575,
          199.5839517561359,
          200.90196614745486,
          200.93962370149256,
          201.09025391764328,
          201.33502801888824,
          201.89989132945354,
          201.99403521454775,
          202.21998053877388,
          203.50033737605517,
          204.10285824065812,
          204.51709133507268,
          205.19492730775102,
          205.81627694937282,
          206.13636615869314,
          206.3434827059004,
          206.60708558416422,
          208.2451891848035,
          209.45023091400947,
          211.6720266022329,
          212.23688991279818,
          212.44400646000543,
          212.4628352370243,
          212.4628352370243,
          213.10301365566494,
          213.76202085132445,
          215.17417912773763,
          215.62606977618987,
          216.11561797867978,
          217.7160640252814,
          217.79137913335677,
          217.8102079103756,
          219.20353740976998,
          219.44831151101494,
          220.37092158493823,
          220.4462366930136,
          220.99227122656004,
          222.40442950297324,
          224.98397195455468,
          227.03630864960854,
          231.1598108167351,
          231.8188180123946,
          232.15773599873376,
          246.54292164112957,
          251.08065690267068,
          263.7900813903895,
          272.1124008327179,
          307.0209534256523,
          342.9086024235665
         ],
         "yaxis": "y"
        }
       ],
       "layout": {
        "legend": {
         "tracegroupgap": 0
        },
        "template": {
         "data": {
          "bar": [
           {
            "error_x": {
             "color": "#2a3f5f"
            },
            "error_y": {
             "color": "#2a3f5f"
            },
            "marker": {
             "line": {
              "color": "#E5ECF6",
              "width": 0.5
             },
             "pattern": {
              "fillmode": "overlay",
              "size": 10,
              "solidity": 0.2
             }
            },
            "type": "bar"
           }
          ],
          "barpolar": [
           {
            "marker": {
             "line": {
              "color": "#E5ECF6",
              "width": 0.5
             },
             "pattern": {
              "fillmode": "overlay",
              "size": 10,
              "solidity": 0.2
             }
            },
            "type": "barpolar"
           }
          ],
          "carpet": [
           {
            "aaxis": {
             "endlinecolor": "#2a3f5f",
             "gridcolor": "white",
             "linecolor": "white",
             "minorgridcolor": "white",
             "startlinecolor": "#2a3f5f"
            },
            "baxis": {
             "endlinecolor": "#2a3f5f",
             "gridcolor": "white",
             "linecolor": "white",
             "minorgridcolor": "white",
             "startlinecolor": "#2a3f5f"
            },
            "type": "carpet"
           }
          ],
          "choropleth": [
           {
            "colorbar": {
             "outlinewidth": 0,
             "ticks": ""
            },
            "type": "choropleth"
           }
          ],
          "contour": [
           {
            "colorbar": {
             "outlinewidth": 0,
             "ticks": ""
            },
            "colorscale": [
             [
              0,
              "#0d0887"
             ],
             [
              0.1111111111111111,
              "#46039f"
             ],
             [
              0.2222222222222222,
              "#7201a8"
             ],
             [
              0.3333333333333333,
              "#9c179e"
             ],
             [
              0.4444444444444444,
              "#bd3786"
             ],
             [
              0.5555555555555556,
              "#d8576b"
             ],
             [
              0.6666666666666666,
              "#ed7953"
             ],
             [
              0.7777777777777778,
              "#fb9f3a"
             ],
             [
              0.8888888888888888,
              "#fdca26"
             ],
             [
              1,
              "#f0f921"
             ]
            ],
            "type": "contour"
           }
          ],
          "contourcarpet": [
           {
            "colorbar": {
             "outlinewidth": 0,
             "ticks": ""
            },
            "type": "contourcarpet"
           }
          ],
          "heatmap": [
           {
            "colorbar": {
             "outlinewidth": 0,
             "ticks": ""
            },
            "colorscale": [
             [
              0,
              "#0d0887"
             ],
             [
              0.1111111111111111,
              "#46039f"
             ],
             [
              0.2222222222222222,
              "#7201a8"
             ],
             [
              0.3333333333333333,
              "#9c179e"
             ],
             [
              0.4444444444444444,
              "#bd3786"
             ],
             [
              0.5555555555555556,
              "#d8576b"
             ],
             [
              0.6666666666666666,
              "#ed7953"
             ],
             [
              0.7777777777777778,
              "#fb9f3a"
             ],
             [
              0.8888888888888888,
              "#fdca26"
             ],
             [
              1,
              "#f0f921"
             ]
            ],
            "type": "heatmap"
           }
          ],
          "heatmapgl": [
           {
            "colorbar": {
             "outlinewidth": 0,
             "ticks": ""
            },
            "colorscale": [
             [
              0,
              "#0d0887"
             ],
             [
              0.1111111111111111,
              "#46039f"
             ],
             [
              0.2222222222222222,
              "#7201a8"
             ],
             [
              0.3333333333333333,
              "#9c179e"
             ],
             [
              0.4444444444444444,
              "#bd3786"
             ],
             [
              0.5555555555555556,
              "#d8576b"
             ],
             [
              0.6666666666666666,
              "#ed7953"
             ],
             [
              0.7777777777777778,
              "#fb9f3a"
             ],
             [
              0.8888888888888888,
              "#fdca26"
             ],
             [
              1,
              "#f0f921"
             ]
            ],
            "type": "heatmapgl"
           }
          ],
          "histogram": [
           {
            "marker": {
             "pattern": {
              "fillmode": "overlay",
              "size": 10,
              "solidity": 0.2
             }
            },
            "type": "histogram"
           }
          ],
          "histogram2d": [
           {
            "colorbar": {
             "outlinewidth": 0,
             "ticks": ""
            },
            "colorscale": [
             [
              0,
              "#0d0887"
             ],
             [
              0.1111111111111111,
              "#46039f"
             ],
             [
              0.2222222222222222,
              "#7201a8"
             ],
             [
              0.3333333333333333,
              "#9c179e"
             ],
             [
              0.4444444444444444,
              "#bd3786"
             ],
             [
              0.5555555555555556,
              "#d8576b"
             ],
             [
              0.6666666666666666,
              "#ed7953"
             ],
             [
              0.7777777777777778,
              "#fb9f3a"
             ],
             [
              0.8888888888888888,
              "#fdca26"
             ],
             [
              1,
              "#f0f921"
             ]
            ],
            "type": "histogram2d"
           }
          ],
          "histogram2dcontour": [
           {
            "colorbar": {
             "outlinewidth": 0,
             "ticks": ""
            },
            "colorscale": [
             [
              0,
              "#0d0887"
             ],
             [
              0.1111111111111111,
              "#46039f"
             ],
             [
              0.2222222222222222,
              "#7201a8"
             ],
             [
              0.3333333333333333,
              "#9c179e"
             ],
             [
              0.4444444444444444,
              "#bd3786"
             ],
             [
              0.5555555555555556,
              "#d8576b"
             ],
             [
              0.6666666666666666,
              "#ed7953"
             ],
             [
              0.7777777777777778,
              "#fb9f3a"
             ],
             [
              0.8888888888888888,
              "#fdca26"
             ],
             [
              1,
              "#f0f921"
             ]
            ],
            "type": "histogram2dcontour"
           }
          ],
          "mesh3d": [
           {
            "colorbar": {
             "outlinewidth": 0,
             "ticks": ""
            },
            "type": "mesh3d"
           }
          ],
          "parcoords": [
           {
            "line": {
             "colorbar": {
              "outlinewidth": 0,
              "ticks": ""
             }
            },
            "type": "parcoords"
           }
          ],
          "pie": [
           {
            "automargin": true,
            "type": "pie"
           }
          ],
          "scatter": [
           {
            "fillpattern": {
             "fillmode": "overlay",
             "size": 10,
             "solidity": 0.2
            },
            "type": "scatter"
           }
          ],
          "scatter3d": [
           {
            "line": {
             "colorbar": {
              "outlinewidth": 0,
              "ticks": ""
             }
            },
            "marker": {
             "colorbar": {
              "outlinewidth": 0,
              "ticks": ""
             }
            },
            "type": "scatter3d"
           }
          ],
          "scattercarpet": [
           {
            "marker": {
             "colorbar": {
              "outlinewidth": 0,
              "ticks": ""
             }
            },
            "type": "scattercarpet"
           }
          ],
          "scattergeo": [
           {
            "marker": {
             "colorbar": {
              "outlinewidth": 0,
              "ticks": ""
             }
            },
            "type": "scattergeo"
           }
          ],
          "scattergl": [
           {
            "marker": {
             "colorbar": {
              "outlinewidth": 0,
              "ticks": ""
             }
            },
            "type": "scattergl"
           }
          ],
          "scattermapbox": [
           {
            "marker": {
             "colorbar": {
              "outlinewidth": 0,
              "ticks": ""
             }
            },
            "type": "scattermapbox"
           }
          ],
          "scatterpolar": [
           {
            "marker": {
             "colorbar": {
              "outlinewidth": 0,
              "ticks": ""
             }
            },
            "type": "scatterpolar"
           }
          ],
          "scatterpolargl": [
           {
            "marker": {
             "colorbar": {
              "outlinewidth": 0,
              "ticks": ""
             }
            },
            "type": "scatterpolargl"
           }
          ],
          "scatterternary": [
           {
            "marker": {
             "colorbar": {
              "outlinewidth": 0,
              "ticks": ""
             }
            },
            "type": "scatterternary"
           }
          ],
          "surface": [
           {
            "colorbar": {
             "outlinewidth": 0,
             "ticks": ""
            },
            "colorscale": [
             [
              0,
              "#0d0887"
             ],
             [
              0.1111111111111111,
              "#46039f"
             ],
             [
              0.2222222222222222,
              "#7201a8"
             ],
             [
              0.3333333333333333,
              "#9c179e"
             ],
             [
              0.4444444444444444,
              "#bd3786"
             ],
             [
              0.5555555555555556,
              "#d8576b"
             ],
             [
              0.6666666666666666,
              "#ed7953"
             ],
             [
              0.7777777777777778,
              "#fb9f3a"
             ],
             [
              0.8888888888888888,
              "#fdca26"
             ],
             [
              1,
              "#f0f921"
             ]
            ],
            "type": "surface"
           }
          ],
          "table": [
           {
            "cells": {
             "fill": {
              "color": "#EBF0F8"
             },
             "line": {
              "color": "white"
             }
            },
            "header": {
             "fill": {
              "color": "#C8D4E3"
             },
             "line": {
              "color": "white"
             }
            },
            "type": "table"
           }
          ]
         },
         "layout": {
          "annotationdefaults": {
           "arrowcolor": "#2a3f5f",
           "arrowhead": 0,
           "arrowwidth": 1
          },
          "autotypenumbers": "strict",
          "coloraxis": {
           "colorbar": {
            "outlinewidth": 0,
            "ticks": ""
           }
          },
          "colorscale": {
           "diverging": [
            [
             0,
             "#8e0152"
            ],
            [
             0.1,
             "#c51b7d"
            ],
            [
             0.2,
             "#de77ae"
            ],
            [
             0.3,
             "#f1b6da"
            ],
            [
             0.4,
             "#fde0ef"
            ],
            [
             0.5,
             "#f7f7f7"
            ],
            [
             0.6,
             "#e6f5d0"
            ],
            [
             0.7,
             "#b8e186"
            ],
            [
             0.8,
             "#7fbc41"
            ],
            [
             0.9,
             "#4d9221"
            ],
            [
             1,
             "#276419"
            ]
           ],
           "sequential": [
            [
             0,
             "#0d0887"
            ],
            [
             0.1111111111111111,
             "#46039f"
            ],
            [
             0.2222222222222222,
             "#7201a8"
            ],
            [
             0.3333333333333333,
             "#9c179e"
            ],
            [
             0.4444444444444444,
             "#bd3786"
            ],
            [
             0.5555555555555556,
             "#d8576b"
            ],
            [
             0.6666666666666666,
             "#ed7953"
            ],
            [
             0.7777777777777778,
             "#fb9f3a"
            ],
            [
             0.8888888888888888,
             "#fdca26"
            ],
            [
             1,
             "#f0f921"
            ]
           ],
           "sequentialminus": [
            [
             0,
             "#0d0887"
            ],
            [
             0.1111111111111111,
             "#46039f"
            ],
            [
             0.2222222222222222,
             "#7201a8"
            ],
            [
             0.3333333333333333,
             "#9c179e"
            ],
            [
             0.4444444444444444,
             "#bd3786"
            ],
            [
             0.5555555555555556,
             "#d8576b"
            ],
            [
             0.6666666666666666,
             "#ed7953"
            ],
            [
             0.7777777777777778,
             "#fb9f3a"
            ],
            [
             0.8888888888888888,
             "#fdca26"
            ],
            [
             1,
             "#f0f921"
            ]
           ]
          },
          "colorway": [
           "#636efa",
           "#EF553B",
           "#00cc96",
           "#ab63fa",
           "#FFA15A",
           "#19d3f3",
           "#FF6692",
           "#B6E880",
           "#FF97FF",
           "#FECB52"
          ],
          "font": {
           "color": "#2a3f5f"
          },
          "geo": {
           "bgcolor": "white",
           "lakecolor": "white",
           "landcolor": "#E5ECF6",
           "showlakes": true,
           "showland": true,
           "subunitcolor": "white"
          },
          "hoverlabel": {
           "align": "left"
          },
          "hovermode": "closest",
          "mapbox": {
           "style": "light"
          },
          "paper_bgcolor": "white",
          "plot_bgcolor": "#E5ECF6",
          "polar": {
           "angularaxis": {
            "gridcolor": "white",
            "linecolor": "white",
            "ticks": ""
           },
           "bgcolor": "#E5ECF6",
           "radialaxis": {
            "gridcolor": "white",
            "linecolor": "white",
            "ticks": ""
           }
          },
          "scene": {
           "xaxis": {
            "backgroundcolor": "#E5ECF6",
            "gridcolor": "white",
            "gridwidth": 2,
            "linecolor": "white",
            "showbackground": true,
            "ticks": "",
            "zerolinecolor": "white"
           },
           "yaxis": {
            "backgroundcolor": "#E5ECF6",
            "gridcolor": "white",
            "gridwidth": 2,
            "linecolor": "white",
            "showbackground": true,
            "ticks": "",
            "zerolinecolor": "white"
           },
           "zaxis": {
            "backgroundcolor": "#E5ECF6",
            "gridcolor": "white",
            "gridwidth": 2,
            "linecolor": "white",
            "showbackground": true,
            "ticks": "",
            "zerolinecolor": "white"
           }
          },
          "shapedefaults": {
           "line": {
            "color": "#2a3f5f"
           }
          },
          "ternary": {
           "aaxis": {
            "gridcolor": "white",
            "linecolor": "white",
            "ticks": ""
           },
           "baxis": {
            "gridcolor": "white",
            "linecolor": "white",
            "ticks": ""
           },
           "bgcolor": "#E5ECF6",
           "caxis": {
            "gridcolor": "white",
            "linecolor": "white",
            "ticks": ""
           }
          },
          "title": {
           "x": 0.05
          },
          "xaxis": {
           "automargin": true,
           "gridcolor": "white",
           "linecolor": "white",
           "ticks": "",
           "title": {
            "standoff": 15
           },
           "zerolinecolor": "white",
           "zerolinewidth": 2
          },
          "yaxis": {
           "automargin": true,
           "gridcolor": "white",
           "linecolor": "white",
           "ticks": "",
           "title": {
            "standoff": 15
           },
           "zerolinecolor": "white",
           "zerolinewidth": 2
          }
         }
        },
        "title": {
         "text": "Number of Incidents by Total Population for Census Tracts, Davidson County 2017-2021"
        },
        "xaxis": {
         "anchor": "y",
         "domain": [
          0,
          1
         ],
         "title": {
          "text": "total_population"
         }
        },
        "yaxis": {
         "anchor": "x",
         "domain": [
          0,
          1
         ],
         "title": {
          "text": "num_incidents"
         }
        }
       }
      },
      "text/html": [
       "<div>                            <div id=\"fbae74bf-8a7f-436c-bad8-b94d843af63c\" class=\"plotly-graph-div\" style=\"height:525px; width:100%;\"></div>            <script type=\"text/javascript\">                require([\"plotly\"], function(Plotly) {                    window.PLOTLYENV=window.PLOTLYENV || {};                                    if (document.getElementById(\"fbae74bf-8a7f-436c-bad8-b94d843af63c\")) {                    Plotly.newPlot(                        \"fbae74bf-8a7f-436c-bad8-b94d843af63c\",                        [{\"hovertemplate\":\"total_population=%{x}<br>num_incidents=%{y}<extra></extra>\",\"legendgroup\":\"\",\"marker\":{\"color\":\"#636efa\",\"symbol\":\"circle\"},\"mode\":\"markers\",\"name\":\"\",\"orientation\":\"v\",\"showlegend\":false,\"x\":[3739.0,2627.0,6690.0,2761.0,4344.0,7472.0,5502.0,7713.0,4071.0,2335.0,6708.0,3457.0,910.0,3877.0,1459.0,6190.0,2961.0,5058.0,2484.0,5118.0,4792.0,4689.0,2792.0,1346.0,2764.0,3826.0,2379.0,5662.0,4179.0,5650.0,2316.0,2645.0,4865.0,5101.0,5946.0,10684.0,5326.0,5806.0,3782.0,2491.0,2747.0,4060.0,2607.0,5945.0,2728.0,4403.0,2913.0,5309.0,4459.0,5941.0,5620.0,2420.0,4402.0,4150.0,1496.0,3564.0,3024.0,8388.0,3507.0,5050.0,2821.0,4638.0,12590.0,1727.0,4070.0,4353.0,3030.0,2631.0,2991.0,4794.0,1624.0,8830.0,1117.0,2628.0,4070.0,6115.0,4740.0,4603.0,4073.0,3992.0,5186.0,4155.0,4344.0,6327.0,6436.0,4176.0,4257.0,5696.0,3282.0,6033.0,4909.0,3419.0,4978.0,3363.0,6082.0,5731.0,3707.0,3257.0,3749.0,6655.0,5661.0,2254.0,2490.0,4466.0,1962.0,2883.0,3719.0,3633.0,6020.0,4453.0,5662.0,4487.0,3337.0,5071.0,5240.0,2823.0,5276.0,4674.0,5856.0,5438.0,3260.0,5106.0,3282.0,4895.0,2087.0,4075.0,3131.0,3728.0,0.0,5830.0,3816.0,2369.0,3254.0,2754.0,0.0,3976.0,1868.0,4054.0,1886.0,5048.0,4520.0,2018.0,4216.0,5351.0,3048.0,3163.0,2631.0,5218.0,5337.0,4615.0,6086.0,1981.0,4252.0,2135.0,4676.0,4415.0,4710.0,3069.0,4572.0,2622.0,2997.0],\"xaxis\":\"x\",\"y\":[62,227,407,248,86,70,406,203,26,239,156,153,200,133,292,199,553,208,61,111,62,73,124,288,204,139,36,199,52,203,105,166,241,106,293,333,214,156,80,157,121,491,54,454,108,72,177,66,167,390,261,184,372,319,10,78,39,506,93,136,291,383,192,140,121,138,131,228,142,47,125,266,68,52,98,320,126,111,49,99,132,84,395,393,196,76,140,90,263,1337,78,121,267,216,181,417,25,217,20,111,467,134,112,164,36,50,63,59,156,272,261,156,175,37,154,235,64,54,71,253,234,144,333,442,83,114,190,285,525,396,133,41,50,128,155,70,70,57,82,54,34,133,512,525,145,627,111,74,114,106,46,18,275,205,116,123,74,135,121,278,32],\"yaxis\":\"y\",\"type\":\"scatter\"},{\"hovertemplate\":\"<b>OLS trendline</b><br>num_incidents = 0.0188288 * total_population + 105.854<br>R<sup>2</sup>=0.043668<br><br>total_population=%{x}<br>num_incidents=%{y} <b>(trend)</b><extra></extra>\",\"legendgroup\":\"\",\"marker\":{\"color\":\"#636efa\",\"symbol\":\"circle\"},\"mode\":\"lines\",\"name\":\"\",\"showlegend\":false,\"x\":[0.0,0.0,910.0,1117.0,1346.0,1459.0,1496.0,1624.0,1727.0,1868.0,1886.0,1962.0,1981.0,2018.0,2087.0,2135.0,2254.0,2316.0,2335.0,2369.0,2379.0,2420.0,2484.0,2490.0,2491.0,2607.0,2622.0,2627.0,2628.0,2631.0,2631.0,2645.0,2728.0,2747.0,2754.0,2761.0,2764.0,2792.0,2821.0,2823.0,2883.0,2913.0,2961.0,2991.0,2997.0,3024.0,3030.0,3048.0,3069.0,3131.0,3163.0,3254.0,3257.0,3260.0,3282.0,3282.0,3337.0,3363.0,3419.0,3457.0,3507.0,3564.0,3633.0,3707.0,3719.0,3728.0,3739.0,3749.0,3782.0,3816.0,3826.0,3877.0,3976.0,3992.0,4054.0,4060.0,4070.0,4070.0,4071.0,4073.0,4075.0,4150.0,4155.0,4176.0,4179.0,4216.0,4252.0,4257.0,4344.0,4344.0,4353.0,4402.0,4403.0,4415.0,4453.0,4459.0,4466.0,4487.0,4520.0,4572.0,4603.0,4615.0,4638.0,4674.0,4676.0,4689.0,4710.0,4740.0,4792.0,4794.0,4865.0,4895.0,4909.0,4978.0,5048.0,5050.0,5058.0,5071.0,5101.0,5106.0,5118.0,5186.0,5218.0,5240.0,5276.0,5309.0,5326.0,5337.0,5351.0,5438.0,5502.0,5620.0,5650.0,5661.0,5662.0,5662.0,5696.0,5731.0,5806.0,5830.0,5856.0,5941.0,5945.0,5946.0,6020.0,6033.0,6082.0,6086.0,6115.0,6190.0,6327.0,6436.0,6655.0,6690.0,6708.0,7472.0,7713.0,8388.0,8830.0,10684.0,12590.0],\"xaxis\":\"x\",\"y\":[105.85429975633694,105.85429975633694,122.9884868434838,126.88604368638423,131.1978336236992,133.32548542682844,134.02215017652563,136.4322336349375,138.3715976678783,141.0264552275351,141.36537321387425,142.7963602673063,143.1541070306643,143.8507717803615,145.14995739466164,146.05373869156608,148.29436315680837,149.46174733197662,149.81949409533465,150.4596725139753,150.64796028416373,151.41994014193625,152.6249818711422,152.73795453325525,152.7567833102741,154.94092144445986,155.2233530997425,155.3174969848367,155.33632576185556,155.39281209291207,155.39281209291207,155.65641497117588,157.2192034637398,157.57695022709783,157.70875166622972,157.84055310536164,157.89703943641814,158.42424519294576,158.97027972649218,159.00793728052986,160.13766390166043,160.70252721222573,161.60630850913017,162.17117181969545,162.2841444818085,162.79252146131725,162.90549412343032,163.24441210976948,163.6398164271652,164.8072006023334,165.4097214669364,167.1231401756511,167.17962650670762,167.23611283776413,167.65034593217868,167.65034593217868,168.685928668215,169.17547687070493,170.2298883837601,170.94538191047616,171.88682076141828,172.96006105149232,174.25924666579246,175.65257616518682,175.87852148941295,176.04798048258252,176.2550970297898,176.44338479997822,177.06473444160002,177.70491286024065,177.89320063042908,178.85346825839008,180.7175171832555,181.01877761555698,182.18616179072524,182.2991344528383,182.48742222302673,182.48742222302673,182.50625100004555,182.54390855408326,182.5815661081209,183.99372438453412,184.08786826962836,184.48327258702403,184.53975891808057,185.23642366777773,185.91425964045607,186.0084035255503,187.64650712618962,187.64650712618962,187.8159661193592,188.73857619328248,188.75740497030134,188.98335029452744,189.69884382124349,189.81181648335652,189.94361792248844,190.33902223988412,190.96037188150592,191.93946828648575,192.52316037406987,192.74910569829598,193.18216756972936,193.8600035424077,193.8976610964454,194.14243519769036,194.53783951508603,195.1027028256513,196.08179923063113,196.11945678466884,197.45629995300666,198.02116326357194,198.28476614183575,199.5839517561359,200.90196614745486,200.93962370149256,201.09025391764328,201.33502801888824,201.89989132945354,201.99403521454775,202.21998053877388,203.50033737605517,204.10285824065812,204.51709133507268,205.19492730775102,205.81627694937282,206.13636615869314,206.3434827059004,206.60708558416422,208.2451891848035,209.45023091400947,211.6720266022329,212.23688991279818,212.44400646000543,212.4628352370243,212.4628352370243,213.10301365566494,213.76202085132445,215.17417912773763,215.62606977618987,216.11561797867978,217.7160640252814,217.79137913335677,217.8102079103756,219.20353740976998,219.44831151101494,220.37092158493823,220.4462366930136,220.99227122656004,222.40442950297324,224.98397195455468,227.03630864960854,231.1598108167351,231.8188180123946,232.15773599873376,246.54292164112957,251.08065690267068,263.7900813903895,272.1124008327179,307.0209534256523,342.9086024235665],\"yaxis\":\"y\",\"type\":\"scatter\"}],                        {\"template\":{\"data\":{\"histogram2dcontour\":[{\"type\":\"histogram2dcontour\",\"colorbar\":{\"outlinewidth\":0,\"ticks\":\"\"},\"colorscale\":[[0.0,\"#0d0887\"],[0.1111111111111111,\"#46039f\"],[0.2222222222222222,\"#7201a8\"],[0.3333333333333333,\"#9c179e\"],[0.4444444444444444,\"#bd3786\"],[0.5555555555555556,\"#d8576b\"],[0.6666666666666666,\"#ed7953\"],[0.7777777777777778,\"#fb9f3a\"],[0.8888888888888888,\"#fdca26\"],[1.0,\"#f0f921\"]]}],\"choropleth\":[{\"type\":\"choropleth\",\"colorbar\":{\"outlinewidth\":0,\"ticks\":\"\"}}],\"histogram2d\":[{\"type\":\"histogram2d\",\"colorbar\":{\"outlinewidth\":0,\"ticks\":\"\"},\"colorscale\":[[0.0,\"#0d0887\"],[0.1111111111111111,\"#46039f\"],[0.2222222222222222,\"#7201a8\"],[0.3333333333333333,\"#9c179e\"],[0.4444444444444444,\"#bd3786\"],[0.5555555555555556,\"#d8576b\"],[0.6666666666666666,\"#ed7953\"],[0.7777777777777778,\"#fb9f3a\"],[0.8888888888888888,\"#fdca26\"],[1.0,\"#f0f921\"]]}],\"heatmap\":[{\"type\":\"heatmap\",\"colorbar\":{\"outlinewidth\":0,\"ticks\":\"\"},\"colorscale\":[[0.0,\"#0d0887\"],[0.1111111111111111,\"#46039f\"],[0.2222222222222222,\"#7201a8\"],[0.3333333333333333,\"#9c179e\"],[0.4444444444444444,\"#bd3786\"],[0.5555555555555556,\"#d8576b\"],[0.6666666666666666,\"#ed7953\"],[0.7777777777777778,\"#fb9f3a\"],[0.8888888888888888,\"#fdca26\"],[1.0,\"#f0f921\"]]}],\"heatmapgl\":[{\"type\":\"heatmapgl\",\"colorbar\":{\"outlinewidth\":0,\"ticks\":\"\"},\"colorscale\":[[0.0,\"#0d0887\"],[0.1111111111111111,\"#46039f\"],[0.2222222222222222,\"#7201a8\"],[0.3333333333333333,\"#9c179e\"],[0.4444444444444444,\"#bd3786\"],[0.5555555555555556,\"#d8576b\"],[0.6666666666666666,\"#ed7953\"],[0.7777777777777778,\"#fb9f3a\"],[0.8888888888888888,\"#fdca26\"],[1.0,\"#f0f921\"]]}],\"contourcarpet\":[{\"type\":\"contourcarpet\",\"colorbar\":{\"outlinewidth\":0,\"ticks\":\"\"}}],\"contour\":[{\"type\":\"contour\",\"colorbar\":{\"outlinewidth\":0,\"ticks\":\"\"},\"colorscale\":[[0.0,\"#0d0887\"],[0.1111111111111111,\"#46039f\"],[0.2222222222222222,\"#7201a8\"],[0.3333333333333333,\"#9c179e\"],[0.4444444444444444,\"#bd3786\"],[0.5555555555555556,\"#d8576b\"],[0.6666666666666666,\"#ed7953\"],[0.7777777777777778,\"#fb9f3a\"],[0.8888888888888888,\"#fdca26\"],[1.0,\"#f0f921\"]]}],\"surface\":[{\"type\":\"surface\",\"colorbar\":{\"outlinewidth\":0,\"ticks\":\"\"},\"colorscale\":[[0.0,\"#0d0887\"],[0.1111111111111111,\"#46039f\"],[0.2222222222222222,\"#7201a8\"],[0.3333333333333333,\"#9c179e\"],[0.4444444444444444,\"#bd3786\"],[0.5555555555555556,\"#d8576b\"],[0.6666666666666666,\"#ed7953\"],[0.7777777777777778,\"#fb9f3a\"],[0.8888888888888888,\"#fdca26\"],[1.0,\"#f0f921\"]]}],\"mesh3d\":[{\"type\":\"mesh3d\",\"colorbar\":{\"outlinewidth\":0,\"ticks\":\"\"}}],\"scatter\":[{\"fillpattern\":{\"fillmode\":\"overlay\",\"size\":10,\"solidity\":0.2},\"type\":\"scatter\"}],\"parcoords\":[{\"type\":\"parcoords\",\"line\":{\"colorbar\":{\"outlinewidth\":0,\"ticks\":\"\"}}}],\"scatterpolargl\":[{\"type\":\"scatterpolargl\",\"marker\":{\"colorbar\":{\"outlinewidth\":0,\"ticks\":\"\"}}}],\"bar\":[{\"error_x\":{\"color\":\"#2a3f5f\"},\"error_y\":{\"color\":\"#2a3f5f\"},\"marker\":{\"line\":{\"color\":\"#E5ECF6\",\"width\":0.5},\"pattern\":{\"fillmode\":\"overlay\",\"size\":10,\"solidity\":0.2}},\"type\":\"bar\"}],\"scattergeo\":[{\"type\":\"scattergeo\",\"marker\":{\"colorbar\":{\"outlinewidth\":0,\"ticks\":\"\"}}}],\"scatterpolar\":[{\"type\":\"scatterpolar\",\"marker\":{\"colorbar\":{\"outlinewidth\":0,\"ticks\":\"\"}}}],\"histogram\":[{\"marker\":{\"pattern\":{\"fillmode\":\"overlay\",\"size\":10,\"solidity\":0.2}},\"type\":\"histogram\"}],\"scattergl\":[{\"type\":\"scattergl\",\"marker\":{\"colorbar\":{\"outlinewidth\":0,\"ticks\":\"\"}}}],\"scatter3d\":[{\"type\":\"scatter3d\",\"line\":{\"colorbar\":{\"outlinewidth\":0,\"ticks\":\"\"}},\"marker\":{\"colorbar\":{\"outlinewidth\":0,\"ticks\":\"\"}}}],\"scattermapbox\":[{\"type\":\"scattermapbox\",\"marker\":{\"colorbar\":{\"outlinewidth\":0,\"ticks\":\"\"}}}],\"scatterternary\":[{\"type\":\"scatterternary\",\"marker\":{\"colorbar\":{\"outlinewidth\":0,\"ticks\":\"\"}}}],\"scattercarpet\":[{\"type\":\"scattercarpet\",\"marker\":{\"colorbar\":{\"outlinewidth\":0,\"ticks\":\"\"}}}],\"carpet\":[{\"aaxis\":{\"endlinecolor\":\"#2a3f5f\",\"gridcolor\":\"white\",\"linecolor\":\"white\",\"minorgridcolor\":\"white\",\"startlinecolor\":\"#2a3f5f\"},\"baxis\":{\"endlinecolor\":\"#2a3f5f\",\"gridcolor\":\"white\",\"linecolor\":\"white\",\"minorgridcolor\":\"white\",\"startlinecolor\":\"#2a3f5f\"},\"type\":\"carpet\"}],\"table\":[{\"cells\":{\"fill\":{\"color\":\"#EBF0F8\"},\"line\":{\"color\":\"white\"}},\"header\":{\"fill\":{\"color\":\"#C8D4E3\"},\"line\":{\"color\":\"white\"}},\"type\":\"table\"}],\"barpolar\":[{\"marker\":{\"line\":{\"color\":\"#E5ECF6\",\"width\":0.5},\"pattern\":{\"fillmode\":\"overlay\",\"size\":10,\"solidity\":0.2}},\"type\":\"barpolar\"}],\"pie\":[{\"automargin\":true,\"type\":\"pie\"}]},\"layout\":{\"autotypenumbers\":\"strict\",\"colorway\":[\"#636efa\",\"#EF553B\",\"#00cc96\",\"#ab63fa\",\"#FFA15A\",\"#19d3f3\",\"#FF6692\",\"#B6E880\",\"#FF97FF\",\"#FECB52\"],\"font\":{\"color\":\"#2a3f5f\"},\"hovermode\":\"closest\",\"hoverlabel\":{\"align\":\"left\"},\"paper_bgcolor\":\"white\",\"plot_bgcolor\":\"#E5ECF6\",\"polar\":{\"bgcolor\":\"#E5ECF6\",\"angularaxis\":{\"gridcolor\":\"white\",\"linecolor\":\"white\",\"ticks\":\"\"},\"radialaxis\":{\"gridcolor\":\"white\",\"linecolor\":\"white\",\"ticks\":\"\"}},\"ternary\":{\"bgcolor\":\"#E5ECF6\",\"aaxis\":{\"gridcolor\":\"white\",\"linecolor\":\"white\",\"ticks\":\"\"},\"baxis\":{\"gridcolor\":\"white\",\"linecolor\":\"white\",\"ticks\":\"\"},\"caxis\":{\"gridcolor\":\"white\",\"linecolor\":\"white\",\"ticks\":\"\"}},\"coloraxis\":{\"colorbar\":{\"outlinewidth\":0,\"ticks\":\"\"}},\"colorscale\":{\"sequential\":[[0.0,\"#0d0887\"],[0.1111111111111111,\"#46039f\"],[0.2222222222222222,\"#7201a8\"],[0.3333333333333333,\"#9c179e\"],[0.4444444444444444,\"#bd3786\"],[0.5555555555555556,\"#d8576b\"],[0.6666666666666666,\"#ed7953\"],[0.7777777777777778,\"#fb9f3a\"],[0.8888888888888888,\"#fdca26\"],[1.0,\"#f0f921\"]],\"sequentialminus\":[[0.0,\"#0d0887\"],[0.1111111111111111,\"#46039f\"],[0.2222222222222222,\"#7201a8\"],[0.3333333333333333,\"#9c179e\"],[0.4444444444444444,\"#bd3786\"],[0.5555555555555556,\"#d8576b\"],[0.6666666666666666,\"#ed7953\"],[0.7777777777777778,\"#fb9f3a\"],[0.8888888888888888,\"#fdca26\"],[1.0,\"#f0f921\"]],\"diverging\":[[0,\"#8e0152\"],[0.1,\"#c51b7d\"],[0.2,\"#de77ae\"],[0.3,\"#f1b6da\"],[0.4,\"#fde0ef\"],[0.5,\"#f7f7f7\"],[0.6,\"#e6f5d0\"],[0.7,\"#b8e186\"],[0.8,\"#7fbc41\"],[0.9,\"#4d9221\"],[1,\"#276419\"]]},\"xaxis\":{\"gridcolor\":\"white\",\"linecolor\":\"white\",\"ticks\":\"\",\"title\":{\"standoff\":15},\"zerolinecolor\":\"white\",\"automargin\":true,\"zerolinewidth\":2},\"yaxis\":{\"gridcolor\":\"white\",\"linecolor\":\"white\",\"ticks\":\"\",\"title\":{\"standoff\":15},\"zerolinecolor\":\"white\",\"automargin\":true,\"zerolinewidth\":2},\"scene\":{\"xaxis\":{\"backgroundcolor\":\"#E5ECF6\",\"gridcolor\":\"white\",\"linecolor\":\"white\",\"showbackground\":true,\"ticks\":\"\",\"zerolinecolor\":\"white\",\"gridwidth\":2},\"yaxis\":{\"backgroundcolor\":\"#E5ECF6\",\"gridcolor\":\"white\",\"linecolor\":\"white\",\"showbackground\":true,\"ticks\":\"\",\"zerolinecolor\":\"white\",\"gridwidth\":2},\"zaxis\":{\"backgroundcolor\":\"#E5ECF6\",\"gridcolor\":\"white\",\"linecolor\":\"white\",\"showbackground\":true,\"ticks\":\"\",\"zerolinecolor\":\"white\",\"gridwidth\":2}},\"shapedefaults\":{\"line\":{\"color\":\"#2a3f5f\"}},\"annotationdefaults\":{\"arrowcolor\":\"#2a3f5f\",\"arrowhead\":0,\"arrowwidth\":1},\"geo\":{\"bgcolor\":\"white\",\"landcolor\":\"#E5ECF6\",\"subunitcolor\":\"white\",\"showland\":true,\"showlakes\":true,\"lakecolor\":\"white\"},\"title\":{\"x\":0.05},\"mapbox\":{\"style\":\"light\"}}},\"xaxis\":{\"anchor\":\"y\",\"domain\":[0.0,1.0],\"title\":{\"text\":\"total_population\"}},\"yaxis\":{\"anchor\":\"x\",\"domain\":[0.0,1.0],\"title\":{\"text\":\"num_incidents\"}},\"legend\":{\"tracegroupgap\":0},\"title\":{\"text\":\"Number of Incidents by Total Population for Census Tracts, Davidson County 2017-2021\"}},                        {\"responsive\": true}                    ).then(function(){\n",
       "                            \n",
       "var gd = document.getElementById('fbae74bf-8a7f-436c-bad8-b94d843af63c');\n",
       "var x = new MutationObserver(function (mutations, observer) {{\n",
       "        var display = window.getComputedStyle(gd).display;\n",
       "        if (!display || display === 'none') {{\n",
       "            console.log([gd, 'removed!']);\n",
       "            Plotly.purge(gd);\n",
       "            observer.disconnect();\n",
       "        }}\n",
       "}});\n",
       "\n",
       "// Listen for the removal of the full notebook cells\n",
       "var notebookContainer = gd.closest('#notebook-container');\n",
       "if (notebookContainer) {{\n",
       "    x.observe(notebookContainer, {childList: true});\n",
       "}}\n",
       "\n",
       "// Listen for the clearing of the current output cell\n",
       "var outputEl = gd.closest('.output');\n",
       "if (outputEl) {{\n",
       "    x.observe(outputEl, {childList: true});\n",
       "}}\n",
       "\n",
       "                        })                };                });            </script>        </div>"
      ]
     },
     "metadata": {},
     "output_type": "display_data"
    }
   ],
   "source": [
    "fig = px.scatter(inc_tract_gdf, x='total_population', y='num_incidents', trendline='ols',\n",
    "    title=\"Number of Incidents by Total Population for Census Tracts, Davidson County 2017-2021\")\n",
    "fig.show()\n",
    "fig.write_html('num_incidents_by_total_pop.html')"
   ]
  },
  {
   "cell_type": "markdown",
   "id": "52796c5e",
   "metadata": {
    "id": "52796c5e"
   },
   "source": [
    "- Plot figures with each tract colored by the number of incidents. Those with the most incidents are the most yellow."
   ]
  },
  {
   "cell_type": "code",
   "execution_count": 7,
   "id": "07da1cda",
   "metadata": {
    "colab": {
     "base_uri": "https://localhost:8080/",
     "height": 542
    },
    "id": "07da1cda",
    "outputId": "f7daa83b-e2b8-4f13-fc96-d596fdf01601"
   },
   "outputs": [],
   "source": [
    "fig = px.choropleth(inc_tract_gdf, geojson=inc_tract_gdf.geometry, locations = inc_tract_gdf.index,\n",
    "                            color='num_incidents',\n",
    "                            color_continuous_scale=\"Viridis\",\n",
    "                            range_color=(0, inc_tract_gdf['num_incidents'].max()),\n",
    "                            scope = \"usa\",\n",
    "                            title=\"Number of Incidents by Census Tract, Davidson County 2017-2021\")\n",
    "fig.update_geos(fitbounds=\"locations\", visible=True)\n",
    "fig.update_layout(margin={\"r\":0,\"t\":40,\"l\":0,\"b\":0})\n",
    "fig.write_html('incidents_by_census_tract_choropleth.html')"
   ]
  },
  {
   "cell_type": "markdown",
   "id": "8d40580f",
   "metadata": {
    "id": "8d40580f"
   },
   "source": [
    "- Plot figure with each tract colored by the number of incidents per capita. Those with the most incidents per capita are the most yellow. Two tracts have been lost in the plot, likely since the population data was not available for those tracts."
   ]
  },
  {
   "cell_type": "code",
   "execution_count": 8,
   "id": "6f3b62d1",
   "metadata": {
    "colab": {
     "base_uri": "https://localhost:8080/",
     "height": 542
    },
    "id": "6f3b62d1",
    "outputId": "f6fcb658-f68f-4b56-afd9-8e1784066ae8",
    "scrolled": false
   },
   "outputs": [],
   "source": [
    "fig = px.choropleth(inc_tract_gdf, geojson=inc_tract_gdf.geometry, locations = inc_tract_gdf.index,\n",
    "                            color='incidents_per_capita',\n",
    "                            color_continuous_scale=\"Viridis\",\n",
    "                            range_color=(0, inc_tract_gdf['incidents_per_capita'].max()),\n",
    "                            scope = \"usa\",\n",
    "                            title=\"Number of Incidents PER CAPITA by Census Tract, Davidson County 2017-2021\")\n",
    "fig.update_geos(fitbounds=\"locations\", visible=True)\n",
    "fig.update_layout(margin={\"r\":0,\"t\":40,\"l\":0,\"b\":0})\n",
    "fig.write_html('incidents_per_capita_by_census_tract_choropleth.html')"
   ]
  },
  {
   "cell_type": "markdown",
   "id": "b8bbb3bc",
   "metadata": {
    "id": "b8bbb3bc"
   },
   "source": [
    "- **Notable Conclusions for Section 1: Frequency of Incidents by Census Tract** \n",
    "    - An increased tract population in Davidson County does not seem to significantly increase the number of incidents.\n",
    "    - Both total incidents and incidents per capita were highest in the center of the city, and incidents per capita seemed to increase steadily as the regions moved from the outer regions of Davidson County towards the center. This indicates that there should be more emergency response manpower located near the center of the city. "
   ]
  },
  {
   "cell_type": "markdown",
   "id": "e57faccb",
   "metadata": {
    "id": "e57faccb"
   },
   "source": [
    "## 2: TEMPORAL ANALYSIS OF ACCIDENTS BY MONTH ACROSS NASHVILLE"
   ]
  },
  {
   "cell_type": "markdown",
   "id": "42bb8563",
   "metadata": {
    "id": "42bb8563"
   },
   "source": [
    "- Get number of incidents by month. Properly account for the possibility that some values factored into averages can be null or less than zero."
   ]
  },
  {
   "cell_type": "code",
   "execution_count": null,
   "id": "93874df1",
   "metadata": {
    "id": "93874df1",
    "outputId": "690b95ba-7579-4de4-d13d-be4b1e0a2677"
   },
   "outputs": [
    {
     "data": {
      "text/plain": [
       "{'QueryExecutionId': 'c5345efb-be70-4f5d-a978-bb9ee50db79e',\n",
       " 'ResponseMetadata': {'RequestId': 'f9ad8960-a1aa-4481-8782-8e925ce2b51c',\n",
       "  'HTTPStatusCode': 200,\n",
       "  'HTTPHeaders': {'date': 'Wed, 26 Apr 2023 22:13:40 GMT',\n",
       "   'content-type': 'application/x-amz-json-1.1',\n",
       "   'content-length': '59',\n",
       "   'connection': 'keep-alive',\n",
       "   'x-amzn-requestid': 'f9ad8960-a1aa-4481-8782-8e925ce2b51c'},\n",
       "  'RetryAttempts': 0}}"
      ]
     },
     "execution_count": 130,
     "metadata": {},
     "output_type": "execute_result"
    }
   ],
   "source": [
    "athena.start_query_execution(\n",
    "    QueryString = 'SELECT incident_month, COUNT(*) AS num_incidents, AVG(CASE WHEN median_household_income > 0 THEN median_household_income ELSE NULL END) AS median_household_income, AVG(CASE WHEN median_family_income > 0 THEN median_family_income ELSE NULL END) AS median_family_income, AVG(CASE WHEN median_housing_value > 0 THEN median_housing_value ELSE NULL END) AS median_housing_value, AVG(CASE WHEN median_gross_rent > 0 THEN median_gross_rent ELSE NULL END) AS median_gross_rent, AVG(CASE WHEN total_population > 0 THEN total_population ELSE NULL END) AS total_population, AVG(CASE WHEN white > 0 THEN white ELSE NULL END) AS white, AVG(CASE WHEN african_american > 0 THEN african_american ELSE NULL END) AS african_american, AVG(CASE WHEN hispanic > 0 THEN hispanic ELSE NULL END) AS hispanic, AVG(CASE WHEN response_time_sec > 0 THEN response_time_sec ELSE NULL END) AS avg_response_time FROM \"econ_incidents\" GROUP BY incident_month;',\n",
    "    QueryExecutionContext = {\n",
    "        'Database': 'econ'\n",
    "    },\n",
    "    ResultConfiguration={\n",
    "        'OutputLocation': 's3://final-proj-schachtj/output'\n",
    "    }\n",
    ")"
   ]
  },
  {
   "cell_type": "code",
   "execution_count": null,
   "id": "9ab22dc9",
   "metadata": {
    "id": "9ab22dc9",
    "outputId": "facae73b-e08b-4ec5-bd0f-f1e49faf1c64"
   },
   "outputs": [
    {
     "data": {
      "text/plain": [
       "{'QueryExecution': {'QueryExecutionId': 'c5345efb-be70-4f5d-a978-bb9ee50db79e',\n",
       "  'Query': 'SELECT incident_month, COUNT(*) AS num_incidents, AVG(CASE WHEN median_household_income > 0 THEN median_household_income ELSE NULL END) AS median_household_income, AVG(CASE WHEN median_family_income > 0 THEN median_family_income ELSE NULL END) AS median_family_income, AVG(CASE WHEN median_housing_value > 0 THEN median_housing_value ELSE NULL END) AS median_housing_value, AVG(CASE WHEN median_gross_rent > 0 THEN median_gross_rent ELSE NULL END) AS median_gross_rent, AVG(CASE WHEN total_population > 0 THEN total_population ELSE NULL END) AS total_population, AVG(CASE WHEN white > 0 THEN white ELSE NULL END) AS white, AVG(CASE WHEN african_american > 0 THEN african_american ELSE NULL END) AS african_american, AVG(CASE WHEN hispanic > 0 THEN hispanic ELSE NULL END) AS hispanic, AVG(CASE WHEN response_time_sec > 0 THEN response_time_sec ELSE NULL END) AS avg_response_time FROM \"econ_incidents\" GROUP BY incident_month',\n",
       "  'StatementType': 'DML',\n",
       "  'ResultConfiguration': {'OutputLocation': 's3://final-proj-schachtj/output/c5345efb-be70-4f5d-a978-bb9ee50db79e.csv'},\n",
       "  'ResultReuseConfiguration': {'ResultReuseByAgeConfiguration': {'Enabled': False}},\n",
       "  'QueryExecutionContext': {'Database': 'econ'},\n",
       "  'Status': {'State': 'SUCCEEDED',\n",
       "   'SubmissionDateTime': datetime.datetime(2023, 4, 26, 17, 13, 40, 434000, tzinfo=tzlocal()),\n",
       "   'CompletionDateTime': datetime.datetime(2023, 4, 26, 17, 13, 41, 772000, tzinfo=tzlocal())},\n",
       "  'Statistics': {'EngineExecutionTimeInMillis': 1028,\n",
       "   'DataScannedInBytes': 135667,\n",
       "   'TotalExecutionTimeInMillis': 1338,\n",
       "   'QueryQueueTimeInMillis': 250,\n",
       "   'QueryPlanningTimeInMillis': 242,\n",
       "   'ServiceProcessingTimeInMillis': 60,\n",
       "   'ResultReuseInformation': {'ReusedPreviousResult': False}},\n",
       "  'WorkGroup': 'primary',\n",
       "  'EngineVersion': {'SelectedEngineVersion': 'AUTO',\n",
       "   'EffectiveEngineVersion': 'Athena engine version 2'},\n",
       "  'SubstatementType': 'SELECT'},\n",
       " 'ResponseMetadata': {'RequestId': '193a2917-4d9a-4355-adb9-dc09b47c69f1',\n",
       "  'HTTPStatusCode': 200,\n",
       "  'HTTPHeaders': {'date': 'Wed, 26 Apr 2023 22:13:50 GMT',\n",
       "   'content-type': 'application/x-amz-json-1.1',\n",
       "   'content-length': '3404',\n",
       "   'connection': 'keep-alive',\n",
       "   'x-amzn-requestid': '193a2917-4d9a-4355-adb9-dc09b47c69f1'},\n",
       "  'RetryAttempts': 0}}"
      ]
     },
     "execution_count": 131,
     "metadata": {},
     "output_type": "execute_result"
    }
   ],
   "source": [
    "athena.get_query_execution(QueryExecutionId = 'c5345efb-be70-4f5d-a978-bb9ee50db79e')"
   ]
  },
  {
   "cell_type": "code",
   "execution_count": null,
   "id": "d743233a",
   "metadata": {
    "id": "d743233a"
   },
   "outputs": [],
   "source": [
    "s3.download_file('final-proj-schachtj', 'output/c5345efb-be70-4f5d-a978-bb9ee50db79e.csv', 'incidents_by_month.csv')"
   ]
  },
  {
   "cell_type": "code",
   "execution_count": 9,
   "id": "2b76e29b",
   "metadata": {
    "colab": {
     "base_uri": "https://localhost:8080/",
     "height": 489
    },
    "id": "2b76e29b",
    "outputId": "cca77385-6f3c-4f8e-dbf1-328d0c652b30"
   },
   "outputs": [
    {
     "data": {
      "text/html": [
       "<div>\n",
       "<style scoped>\n",
       "    .dataframe tbody tr th:only-of-type {\n",
       "        vertical-align: middle;\n",
       "    }\n",
       "\n",
       "    .dataframe tbody tr th {\n",
       "        vertical-align: top;\n",
       "    }\n",
       "\n",
       "    .dataframe thead th {\n",
       "        text-align: right;\n",
       "    }\n",
       "</style>\n",
       "<table border=\"1\" class=\"dataframe\">\n",
       "  <thead>\n",
       "    <tr style=\"text-align: right;\">\n",
       "      <th></th>\n",
       "      <th>incident_month</th>\n",
       "      <th>num_incidents</th>\n",
       "      <th>median_household_income</th>\n",
       "      <th>median_family_income</th>\n",
       "      <th>median_housing_value</th>\n",
       "      <th>median_gross_rent</th>\n",
       "      <th>total_population</th>\n",
       "      <th>white</th>\n",
       "      <th>african_american</th>\n",
       "      <th>hispanic</th>\n",
       "      <th>avg_response_time</th>\n",
       "    </tr>\n",
       "  </thead>\n",
       "  <tbody>\n",
       "    <tr>\n",
       "      <th>0</th>\n",
       "      <td>10</td>\n",
       "      <td>2653</td>\n",
       "      <td>47561.461420</td>\n",
       "      <td>59234.912558</td>\n",
       "      <td>187657.408844</td>\n",
       "      <td>931.154083</td>\n",
       "      <td>4548.271822</td>\n",
       "      <td>2649.527182</td>\n",
       "      <td>1470.209186</td>\n",
       "      <td>516.528526</td>\n",
       "      <td>416.059608</td>\n",
       "    </tr>\n",
       "    <tr>\n",
       "      <th>1</th>\n",
       "      <td>6</td>\n",
       "      <td>2264</td>\n",
       "      <td>48464.018132</td>\n",
       "      <td>59392.154649</td>\n",
       "      <td>189521.675774</td>\n",
       "      <td>918.232601</td>\n",
       "      <td>4539.787523</td>\n",
       "      <td>2646.148734</td>\n",
       "      <td>1473.897810</td>\n",
       "      <td>518.098678</td>\n",
       "      <td>394.724380</td>\n",
       "    </tr>\n",
       "    <tr>\n",
       "      <th>2</th>\n",
       "      <td>11</td>\n",
       "      <td>2455</td>\n",
       "      <td>48860.966611</td>\n",
       "      <td>60237.514023</td>\n",
       "      <td>192259.873950</td>\n",
       "      <td>928.895334</td>\n",
       "      <td>4513.693139</td>\n",
       "      <td>2667.218711</td>\n",
       "      <td>1427.315789</td>\n",
       "      <td>519.982624</td>\n",
       "      <td>416.170852</td>\n",
       "    </tr>\n",
       "    <tr>\n",
       "      <th>3</th>\n",
       "      <td>1</td>\n",
       "      <td>2996</td>\n",
       "      <td>49150.043806</td>\n",
       "      <td>60590.368782</td>\n",
       "      <td>194342.249135</td>\n",
       "      <td>937.913704</td>\n",
       "      <td>4605.079918</td>\n",
       "      <td>2705.536885</td>\n",
       "      <td>1472.255540</td>\n",
       "      <td>519.096476</td>\n",
       "      <td>398.275862</td>\n",
       "    </tr>\n",
       "    <tr>\n",
       "      <th>4</th>\n",
       "      <td>8</td>\n",
       "      <td>2537</td>\n",
       "      <td>47423.152817</td>\n",
       "      <td>58925.665855</td>\n",
       "      <td>189056.186198</td>\n",
       "      <td>918.802857</td>\n",
       "      <td>4525.168353</td>\n",
       "      <td>2648.579927</td>\n",
       "      <td>1447.378930</td>\n",
       "      <td>523.248943</td>\n",
       "      <td>402.101487</td>\n",
       "    </tr>\n",
       "    <tr>\n",
       "      <th>5</th>\n",
       "      <td>4</td>\n",
       "      <td>2306</td>\n",
       "      <td>48994.184725</td>\n",
       "      <td>59994.517595</td>\n",
       "      <td>191982.184423</td>\n",
       "      <td>928.244852</td>\n",
       "      <td>4573.880762</td>\n",
       "      <td>2659.424202</td>\n",
       "      <td>1501.785425</td>\n",
       "      <td>502.283141</td>\n",
       "      <td>379.596988</td>\n",
       "    </tr>\n",
       "    <tr>\n",
       "      <th>6</th>\n",
       "      <td>12</td>\n",
       "      <td>2247</td>\n",
       "      <td>48538.062557</td>\n",
       "      <td>59497.030819</td>\n",
       "      <td>188527.713626</td>\n",
       "      <td>927.781439</td>\n",
       "      <td>4612.017915</td>\n",
       "      <td>2691.892513</td>\n",
       "      <td>1485.460502</td>\n",
       "      <td>536.508864</td>\n",
       "      <td>411.549289</td>\n",
       "    </tr>\n",
       "    <tr>\n",
       "      <th>7</th>\n",
       "      <td>5</td>\n",
       "      <td>2411</td>\n",
       "      <td>48583.825478</td>\n",
       "      <td>59621.625000</td>\n",
       "      <td>190802.873070</td>\n",
       "      <td>931.198379</td>\n",
       "      <td>4640.206692</td>\n",
       "      <td>2703.308344</td>\n",
       "      <td>1513.222366</td>\n",
       "      <td>518.357677</td>\n",
       "      <td>370.218466</td>\n",
       "    </tr>\n",
       "    <tr>\n",
       "      <th>8</th>\n",
       "      <td>3</td>\n",
       "      <td>2383</td>\n",
       "      <td>48016.955584</td>\n",
       "      <td>59415.726918</td>\n",
       "      <td>189198.609300</td>\n",
       "      <td>918.516536</td>\n",
       "      <td>4486.978513</td>\n",
       "      <td>2622.410400</td>\n",
       "      <td>1446.991757</td>\n",
       "      <td>515.072225</td>\n",
       "      <td>392.772606</td>\n",
       "    </tr>\n",
       "    <tr>\n",
       "      <th>9</th>\n",
       "      <td>7</td>\n",
       "      <td>2297</td>\n",
       "      <td>47780.628469</td>\n",
       "      <td>58561.307796</td>\n",
       "      <td>187441.494149</td>\n",
       "      <td>921.456101</td>\n",
       "      <td>4610.318141</td>\n",
       "      <td>2653.467382</td>\n",
       "      <td>1514.796296</td>\n",
       "      <td>532.168216</td>\n",
       "      <td>385.418873</td>\n",
       "    </tr>\n",
       "    <tr>\n",
       "      <th>10</th>\n",
       "      <td>9</td>\n",
       "      <td>2262</td>\n",
       "      <td>47938.987766</td>\n",
       "      <td>58521.108280</td>\n",
       "      <td>185709.661172</td>\n",
       "      <td>921.998172</td>\n",
       "      <td>4616.557362</td>\n",
       "      <td>2656.957091</td>\n",
       "      <td>1516.116470</td>\n",
       "      <td>518.188555</td>\n",
       "      <td>404.952264</td>\n",
       "    </tr>\n",
       "    <tr>\n",
       "      <th>11</th>\n",
       "      <td>2</td>\n",
       "      <td>2807</td>\n",
       "      <td>49138.014270</td>\n",
       "      <td>60630.405653</td>\n",
       "      <td>194548.778682</td>\n",
       "      <td>933.066225</td>\n",
       "      <td>4534.341615</td>\n",
       "      <td>2661.515528</td>\n",
       "      <td>1466.389157</td>\n",
       "      <td>487.891205</td>\n",
       "      <td>408.459977</td>\n",
       "    </tr>\n",
       "  </tbody>\n",
       "</table>\n",
       "</div>"
      ],
      "text/plain": [
       "    incident_month  num_incidents  median_household_income  \\\n",
       "0               10           2653             47561.461420   \n",
       "1                6           2264             48464.018132   \n",
       "2               11           2455             48860.966611   \n",
       "3                1           2996             49150.043806   \n",
       "4                8           2537             47423.152817   \n",
       "5                4           2306             48994.184725   \n",
       "6               12           2247             48538.062557   \n",
       "7                5           2411             48583.825478   \n",
       "8                3           2383             48016.955584   \n",
       "9                7           2297             47780.628469   \n",
       "10               9           2262             47938.987766   \n",
       "11               2           2807             49138.014270   \n",
       "\n",
       "    median_family_income  median_housing_value  median_gross_rent  \\\n",
       "0           59234.912558         187657.408844         931.154083   \n",
       "1           59392.154649         189521.675774         918.232601   \n",
       "2           60237.514023         192259.873950         928.895334   \n",
       "3           60590.368782         194342.249135         937.913704   \n",
       "4           58925.665855         189056.186198         918.802857   \n",
       "5           59994.517595         191982.184423         928.244852   \n",
       "6           59497.030819         188527.713626         927.781439   \n",
       "7           59621.625000         190802.873070         931.198379   \n",
       "8           59415.726918         189198.609300         918.516536   \n",
       "9           58561.307796         187441.494149         921.456101   \n",
       "10          58521.108280         185709.661172         921.998172   \n",
       "11          60630.405653         194548.778682         933.066225   \n",
       "\n",
       "    total_population        white  african_american    hispanic  \\\n",
       "0        4548.271822  2649.527182       1470.209186  516.528526   \n",
       "1        4539.787523  2646.148734       1473.897810  518.098678   \n",
       "2        4513.693139  2667.218711       1427.315789  519.982624   \n",
       "3        4605.079918  2705.536885       1472.255540  519.096476   \n",
       "4        4525.168353  2648.579927       1447.378930  523.248943   \n",
       "5        4573.880762  2659.424202       1501.785425  502.283141   \n",
       "6        4612.017915  2691.892513       1485.460502  536.508864   \n",
       "7        4640.206692  2703.308344       1513.222366  518.357677   \n",
       "8        4486.978513  2622.410400       1446.991757  515.072225   \n",
       "9        4610.318141  2653.467382       1514.796296  532.168216   \n",
       "10       4616.557362  2656.957091       1516.116470  518.188555   \n",
       "11       4534.341615  2661.515528       1466.389157  487.891205   \n",
       "\n",
       "    avg_response_time  \n",
       "0          416.059608  \n",
       "1          394.724380  \n",
       "2          416.170852  \n",
       "3          398.275862  \n",
       "4          402.101487  \n",
       "5          379.596988  \n",
       "6          411.549289  \n",
       "7          370.218466  \n",
       "8          392.772606  \n",
       "9          385.418873  \n",
       "10         404.952264  \n",
       "11         408.459977  "
      ]
     },
     "execution_count": 9,
     "metadata": {},
     "output_type": "execute_result"
    }
   ],
   "source": [
    "incidents_by_month = pd.read_csv('incidents_by_month.csv')\n",
    "incidents_by_month"
   ]
  },
  {
   "cell_type": "code",
   "execution_count": 10,
   "id": "c33dbdd3",
   "metadata": {
    "colab": {
     "base_uri": "https://localhost:8080/",
     "height": 542
    },
    "id": "c33dbdd3",
    "outputId": "e4c77db9-022c-45fb-dbff-b83cb39fa31e"
   },
   "outputs": [
    {
     "data": {
      "application/vnd.plotly.v1+json": {
       "config": {
        "plotlyServerURL": "https://plot.ly"
       },
       "data": [
        {
         "alignmentgroup": "True",
         "hovertemplate": "incident_month=%{x}<br>num_incidents=%{y}<extra></extra>",
         "legendgroup": "",
         "marker": {
          "color": "#636efa",
          "pattern": {
           "shape": ""
          }
         },
         "name": "",
         "offsetgroup": "",
         "orientation": "v",
         "showlegend": false,
         "textposition": "auto",
         "type": "bar",
         "x": [
          10,
          6,
          11,
          1,
          8,
          4,
          12,
          5,
          3,
          7,
          9,
          2
         ],
         "xaxis": "x",
         "y": [
          2653,
          2264,
          2455,
          2996,
          2537,
          2306,
          2247,
          2411,
          2383,
          2297,
          2262,
          2807
         ],
         "yaxis": "y"
        }
       ],
       "layout": {
        "barmode": "relative",
        "legend": {
         "tracegroupgap": 0
        },
        "template": {
         "data": {
          "bar": [
           {
            "error_x": {
             "color": "#2a3f5f"
            },
            "error_y": {
             "color": "#2a3f5f"
            },
            "marker": {
             "line": {
              "color": "#E5ECF6",
              "width": 0.5
             },
             "pattern": {
              "fillmode": "overlay",
              "size": 10,
              "solidity": 0.2
             }
            },
            "type": "bar"
           }
          ],
          "barpolar": [
           {
            "marker": {
             "line": {
              "color": "#E5ECF6",
              "width": 0.5
             },
             "pattern": {
              "fillmode": "overlay",
              "size": 10,
              "solidity": 0.2
             }
            },
            "type": "barpolar"
           }
          ],
          "carpet": [
           {
            "aaxis": {
             "endlinecolor": "#2a3f5f",
             "gridcolor": "white",
             "linecolor": "white",
             "minorgridcolor": "white",
             "startlinecolor": "#2a3f5f"
            },
            "baxis": {
             "endlinecolor": "#2a3f5f",
             "gridcolor": "white",
             "linecolor": "white",
             "minorgridcolor": "white",
             "startlinecolor": "#2a3f5f"
            },
            "type": "carpet"
           }
          ],
          "choropleth": [
           {
            "colorbar": {
             "outlinewidth": 0,
             "ticks": ""
            },
            "type": "choropleth"
           }
          ],
          "contour": [
           {
            "colorbar": {
             "outlinewidth": 0,
             "ticks": ""
            },
            "colorscale": [
             [
              0,
              "#0d0887"
             ],
             [
              0.1111111111111111,
              "#46039f"
             ],
             [
              0.2222222222222222,
              "#7201a8"
             ],
             [
              0.3333333333333333,
              "#9c179e"
             ],
             [
              0.4444444444444444,
              "#bd3786"
             ],
             [
              0.5555555555555556,
              "#d8576b"
             ],
             [
              0.6666666666666666,
              "#ed7953"
             ],
             [
              0.7777777777777778,
              "#fb9f3a"
             ],
             [
              0.8888888888888888,
              "#fdca26"
             ],
             [
              1,
              "#f0f921"
             ]
            ],
            "type": "contour"
           }
          ],
          "contourcarpet": [
           {
            "colorbar": {
             "outlinewidth": 0,
             "ticks": ""
            },
            "type": "contourcarpet"
           }
          ],
          "heatmap": [
           {
            "colorbar": {
             "outlinewidth": 0,
             "ticks": ""
            },
            "colorscale": [
             [
              0,
              "#0d0887"
             ],
             [
              0.1111111111111111,
              "#46039f"
             ],
             [
              0.2222222222222222,
              "#7201a8"
             ],
             [
              0.3333333333333333,
              "#9c179e"
             ],
             [
              0.4444444444444444,
              "#bd3786"
             ],
             [
              0.5555555555555556,
              "#d8576b"
             ],
             [
              0.6666666666666666,
              "#ed7953"
             ],
             [
              0.7777777777777778,
              "#fb9f3a"
             ],
             [
              0.8888888888888888,
              "#fdca26"
             ],
             [
              1,
              "#f0f921"
             ]
            ],
            "type": "heatmap"
           }
          ],
          "heatmapgl": [
           {
            "colorbar": {
             "outlinewidth": 0,
             "ticks": ""
            },
            "colorscale": [
             [
              0,
              "#0d0887"
             ],
             [
              0.1111111111111111,
              "#46039f"
             ],
             [
              0.2222222222222222,
              "#7201a8"
             ],
             [
              0.3333333333333333,
              "#9c179e"
             ],
             [
              0.4444444444444444,
              "#bd3786"
             ],
             [
              0.5555555555555556,
              "#d8576b"
             ],
             [
              0.6666666666666666,
              "#ed7953"
             ],
             [
              0.7777777777777778,
              "#fb9f3a"
             ],
             [
              0.8888888888888888,
              "#fdca26"
             ],
             [
              1,
              "#f0f921"
             ]
            ],
            "type": "heatmapgl"
           }
          ],
          "histogram": [
           {
            "marker": {
             "pattern": {
              "fillmode": "overlay",
              "size": 10,
              "solidity": 0.2
             }
            },
            "type": "histogram"
           }
          ],
          "histogram2d": [
           {
            "colorbar": {
             "outlinewidth": 0,
             "ticks": ""
            },
            "colorscale": [
             [
              0,
              "#0d0887"
             ],
             [
              0.1111111111111111,
              "#46039f"
             ],
             [
              0.2222222222222222,
              "#7201a8"
             ],
             [
              0.3333333333333333,
              "#9c179e"
             ],
             [
              0.4444444444444444,
              "#bd3786"
             ],
             [
              0.5555555555555556,
              "#d8576b"
             ],
             [
              0.6666666666666666,
              "#ed7953"
             ],
             [
              0.7777777777777778,
              "#fb9f3a"
             ],
             [
              0.8888888888888888,
              "#fdca26"
             ],
             [
              1,
              "#f0f921"
             ]
            ],
            "type": "histogram2d"
           }
          ],
          "histogram2dcontour": [
           {
            "colorbar": {
             "outlinewidth": 0,
             "ticks": ""
            },
            "colorscale": [
             [
              0,
              "#0d0887"
             ],
             [
              0.1111111111111111,
              "#46039f"
             ],
             [
              0.2222222222222222,
              "#7201a8"
             ],
             [
              0.3333333333333333,
              "#9c179e"
             ],
             [
              0.4444444444444444,
              "#bd3786"
             ],
             [
              0.5555555555555556,
              "#d8576b"
             ],
             [
              0.6666666666666666,
              "#ed7953"
             ],
             [
              0.7777777777777778,
              "#fb9f3a"
             ],
             [
              0.8888888888888888,
              "#fdca26"
             ],
             [
              1,
              "#f0f921"
             ]
            ],
            "type": "histogram2dcontour"
           }
          ],
          "mesh3d": [
           {
            "colorbar": {
             "outlinewidth": 0,
             "ticks": ""
            },
            "type": "mesh3d"
           }
          ],
          "parcoords": [
           {
            "line": {
             "colorbar": {
              "outlinewidth": 0,
              "ticks": ""
             }
            },
            "type": "parcoords"
           }
          ],
          "pie": [
           {
            "automargin": true,
            "type": "pie"
           }
          ],
          "scatter": [
           {
            "fillpattern": {
             "fillmode": "overlay",
             "size": 10,
             "solidity": 0.2
            },
            "type": "scatter"
           }
          ],
          "scatter3d": [
           {
            "line": {
             "colorbar": {
              "outlinewidth": 0,
              "ticks": ""
             }
            },
            "marker": {
             "colorbar": {
              "outlinewidth": 0,
              "ticks": ""
             }
            },
            "type": "scatter3d"
           }
          ],
          "scattercarpet": [
           {
            "marker": {
             "colorbar": {
              "outlinewidth": 0,
              "ticks": ""
             }
            },
            "type": "scattercarpet"
           }
          ],
          "scattergeo": [
           {
            "marker": {
             "colorbar": {
              "outlinewidth": 0,
              "ticks": ""
             }
            },
            "type": "scattergeo"
           }
          ],
          "scattergl": [
           {
            "marker": {
             "colorbar": {
              "outlinewidth": 0,
              "ticks": ""
             }
            },
            "type": "scattergl"
           }
          ],
          "scattermapbox": [
           {
            "marker": {
             "colorbar": {
              "outlinewidth": 0,
              "ticks": ""
             }
            },
            "type": "scattermapbox"
           }
          ],
          "scatterpolar": [
           {
            "marker": {
             "colorbar": {
              "outlinewidth": 0,
              "ticks": ""
             }
            },
            "type": "scatterpolar"
           }
          ],
          "scatterpolargl": [
           {
            "marker": {
             "colorbar": {
              "outlinewidth": 0,
              "ticks": ""
             }
            },
            "type": "scatterpolargl"
           }
          ],
          "scatterternary": [
           {
            "marker": {
             "colorbar": {
              "outlinewidth": 0,
              "ticks": ""
             }
            },
            "type": "scatterternary"
           }
          ],
          "surface": [
           {
            "colorbar": {
             "outlinewidth": 0,
             "ticks": ""
            },
            "colorscale": [
             [
              0,
              "#0d0887"
             ],
             [
              0.1111111111111111,
              "#46039f"
             ],
             [
              0.2222222222222222,
              "#7201a8"
             ],
             [
              0.3333333333333333,
              "#9c179e"
             ],
             [
              0.4444444444444444,
              "#bd3786"
             ],
             [
              0.5555555555555556,
              "#d8576b"
             ],
             [
              0.6666666666666666,
              "#ed7953"
             ],
             [
              0.7777777777777778,
              "#fb9f3a"
             ],
             [
              0.8888888888888888,
              "#fdca26"
             ],
             [
              1,
              "#f0f921"
             ]
            ],
            "type": "surface"
           }
          ],
          "table": [
           {
            "cells": {
             "fill": {
              "color": "#EBF0F8"
             },
             "line": {
              "color": "white"
             }
            },
            "header": {
             "fill": {
              "color": "#C8D4E3"
             },
             "line": {
              "color": "white"
             }
            },
            "type": "table"
           }
          ]
         },
         "layout": {
          "annotationdefaults": {
           "arrowcolor": "#2a3f5f",
           "arrowhead": 0,
           "arrowwidth": 1
          },
          "autotypenumbers": "strict",
          "coloraxis": {
           "colorbar": {
            "outlinewidth": 0,
            "ticks": ""
           }
          },
          "colorscale": {
           "diverging": [
            [
             0,
             "#8e0152"
            ],
            [
             0.1,
             "#c51b7d"
            ],
            [
             0.2,
             "#de77ae"
            ],
            [
             0.3,
             "#f1b6da"
            ],
            [
             0.4,
             "#fde0ef"
            ],
            [
             0.5,
             "#f7f7f7"
            ],
            [
             0.6,
             "#e6f5d0"
            ],
            [
             0.7,
             "#b8e186"
            ],
            [
             0.8,
             "#7fbc41"
            ],
            [
             0.9,
             "#4d9221"
            ],
            [
             1,
             "#276419"
            ]
           ],
           "sequential": [
            [
             0,
             "#0d0887"
            ],
            [
             0.1111111111111111,
             "#46039f"
            ],
            [
             0.2222222222222222,
             "#7201a8"
            ],
            [
             0.3333333333333333,
             "#9c179e"
            ],
            [
             0.4444444444444444,
             "#bd3786"
            ],
            [
             0.5555555555555556,
             "#d8576b"
            ],
            [
             0.6666666666666666,
             "#ed7953"
            ],
            [
             0.7777777777777778,
             "#fb9f3a"
            ],
            [
             0.8888888888888888,
             "#fdca26"
            ],
            [
             1,
             "#f0f921"
            ]
           ],
           "sequentialminus": [
            [
             0,
             "#0d0887"
            ],
            [
             0.1111111111111111,
             "#46039f"
            ],
            [
             0.2222222222222222,
             "#7201a8"
            ],
            [
             0.3333333333333333,
             "#9c179e"
            ],
            [
             0.4444444444444444,
             "#bd3786"
            ],
            [
             0.5555555555555556,
             "#d8576b"
            ],
            [
             0.6666666666666666,
             "#ed7953"
            ],
            [
             0.7777777777777778,
             "#fb9f3a"
            ],
            [
             0.8888888888888888,
             "#fdca26"
            ],
            [
             1,
             "#f0f921"
            ]
           ]
          },
          "colorway": [
           "#636efa",
           "#EF553B",
           "#00cc96",
           "#ab63fa",
           "#FFA15A",
           "#19d3f3",
           "#FF6692",
           "#B6E880",
           "#FF97FF",
           "#FECB52"
          ],
          "font": {
           "color": "#2a3f5f"
          },
          "geo": {
           "bgcolor": "white",
           "lakecolor": "white",
           "landcolor": "#E5ECF6",
           "showlakes": true,
           "showland": true,
           "subunitcolor": "white"
          },
          "hoverlabel": {
           "align": "left"
          },
          "hovermode": "closest",
          "mapbox": {
           "style": "light"
          },
          "paper_bgcolor": "white",
          "plot_bgcolor": "#E5ECF6",
          "polar": {
           "angularaxis": {
            "gridcolor": "white",
            "linecolor": "white",
            "ticks": ""
           },
           "bgcolor": "#E5ECF6",
           "radialaxis": {
            "gridcolor": "white",
            "linecolor": "white",
            "ticks": ""
           }
          },
          "scene": {
           "xaxis": {
            "backgroundcolor": "#E5ECF6",
            "gridcolor": "white",
            "gridwidth": 2,
            "linecolor": "white",
            "showbackground": true,
            "ticks": "",
            "zerolinecolor": "white"
           },
           "yaxis": {
            "backgroundcolor": "#E5ECF6",
            "gridcolor": "white",
            "gridwidth": 2,
            "linecolor": "white",
            "showbackground": true,
            "ticks": "",
            "zerolinecolor": "white"
           },
           "zaxis": {
            "backgroundcolor": "#E5ECF6",
            "gridcolor": "white",
            "gridwidth": 2,
            "linecolor": "white",
            "showbackground": true,
            "ticks": "",
            "zerolinecolor": "white"
           }
          },
          "shapedefaults": {
           "line": {
            "color": "#2a3f5f"
           }
          },
          "ternary": {
           "aaxis": {
            "gridcolor": "white",
            "linecolor": "white",
            "ticks": ""
           },
           "baxis": {
            "gridcolor": "white",
            "linecolor": "white",
            "ticks": ""
           },
           "bgcolor": "#E5ECF6",
           "caxis": {
            "gridcolor": "white",
            "linecolor": "white",
            "ticks": ""
           }
          },
          "title": {
           "x": 0.05
          },
          "xaxis": {
           "automargin": true,
           "gridcolor": "white",
           "linecolor": "white",
           "ticks": "",
           "title": {
            "standoff": 15
           },
           "zerolinecolor": "white",
           "zerolinewidth": 2
          },
          "yaxis": {
           "automargin": true,
           "gridcolor": "white",
           "linecolor": "white",
           "ticks": "",
           "title": {
            "standoff": 15
           },
           "zerolinecolor": "white",
           "zerolinewidth": 2
          }
         }
        },
        "title": {
         "text": "Number of Incidents by Month, Davidson County 2017-2021"
        },
        "xaxis": {
         "anchor": "y",
         "domain": [
          0,
          1
         ],
         "title": {
          "text": "incident_month"
         }
        },
        "yaxis": {
         "anchor": "x",
         "domain": [
          0,
          1
         ],
         "title": {
          "text": "num_incidents"
         }
        }
       }
      },
      "text/html": [
       "<div>                            <div id=\"4b0b152d-32ab-4954-9805-f5668a56b6e3\" class=\"plotly-graph-div\" style=\"height:525px; width:100%;\"></div>            <script type=\"text/javascript\">                require([\"plotly\"], function(Plotly) {                    window.PLOTLYENV=window.PLOTLYENV || {};                                    if (document.getElementById(\"4b0b152d-32ab-4954-9805-f5668a56b6e3\")) {                    Plotly.newPlot(                        \"4b0b152d-32ab-4954-9805-f5668a56b6e3\",                        [{\"alignmentgroup\":\"True\",\"hovertemplate\":\"incident_month=%{x}<br>num_incidents=%{y}<extra></extra>\",\"legendgroup\":\"\",\"marker\":{\"color\":\"#636efa\",\"pattern\":{\"shape\":\"\"}},\"name\":\"\",\"offsetgroup\":\"\",\"orientation\":\"v\",\"showlegend\":false,\"textposition\":\"auto\",\"x\":[10,6,11,1,8,4,12,5,3,7,9,2],\"xaxis\":\"x\",\"y\":[2653,2264,2455,2996,2537,2306,2247,2411,2383,2297,2262,2807],\"yaxis\":\"y\",\"type\":\"bar\"}],                        {\"template\":{\"data\":{\"histogram2dcontour\":[{\"type\":\"histogram2dcontour\",\"colorbar\":{\"outlinewidth\":0,\"ticks\":\"\"},\"colorscale\":[[0.0,\"#0d0887\"],[0.1111111111111111,\"#46039f\"],[0.2222222222222222,\"#7201a8\"],[0.3333333333333333,\"#9c179e\"],[0.4444444444444444,\"#bd3786\"],[0.5555555555555556,\"#d8576b\"],[0.6666666666666666,\"#ed7953\"],[0.7777777777777778,\"#fb9f3a\"],[0.8888888888888888,\"#fdca26\"],[1.0,\"#f0f921\"]]}],\"choropleth\":[{\"type\":\"choropleth\",\"colorbar\":{\"outlinewidth\":0,\"ticks\":\"\"}}],\"histogram2d\":[{\"type\":\"histogram2d\",\"colorbar\":{\"outlinewidth\":0,\"ticks\":\"\"},\"colorscale\":[[0.0,\"#0d0887\"],[0.1111111111111111,\"#46039f\"],[0.2222222222222222,\"#7201a8\"],[0.3333333333333333,\"#9c179e\"],[0.4444444444444444,\"#bd3786\"],[0.5555555555555556,\"#d8576b\"],[0.6666666666666666,\"#ed7953\"],[0.7777777777777778,\"#fb9f3a\"],[0.8888888888888888,\"#fdca26\"],[1.0,\"#f0f921\"]]}],\"heatmap\":[{\"type\":\"heatmap\",\"colorbar\":{\"outlinewidth\":0,\"ticks\":\"\"},\"colorscale\":[[0.0,\"#0d0887\"],[0.1111111111111111,\"#46039f\"],[0.2222222222222222,\"#7201a8\"],[0.3333333333333333,\"#9c179e\"],[0.4444444444444444,\"#bd3786\"],[0.5555555555555556,\"#d8576b\"],[0.6666666666666666,\"#ed7953\"],[0.7777777777777778,\"#fb9f3a\"],[0.8888888888888888,\"#fdca26\"],[1.0,\"#f0f921\"]]}],\"heatmapgl\":[{\"type\":\"heatmapgl\",\"colorbar\":{\"outlinewidth\":0,\"ticks\":\"\"},\"colorscale\":[[0.0,\"#0d0887\"],[0.1111111111111111,\"#46039f\"],[0.2222222222222222,\"#7201a8\"],[0.3333333333333333,\"#9c179e\"],[0.4444444444444444,\"#bd3786\"],[0.5555555555555556,\"#d8576b\"],[0.6666666666666666,\"#ed7953\"],[0.7777777777777778,\"#fb9f3a\"],[0.8888888888888888,\"#fdca26\"],[1.0,\"#f0f921\"]]}],\"contourcarpet\":[{\"type\":\"contourcarpet\",\"colorbar\":{\"outlinewidth\":0,\"ticks\":\"\"}}],\"contour\":[{\"type\":\"contour\",\"colorbar\":{\"outlinewidth\":0,\"ticks\":\"\"},\"colorscale\":[[0.0,\"#0d0887\"],[0.1111111111111111,\"#46039f\"],[0.2222222222222222,\"#7201a8\"],[0.3333333333333333,\"#9c179e\"],[0.4444444444444444,\"#bd3786\"],[0.5555555555555556,\"#d8576b\"],[0.6666666666666666,\"#ed7953\"],[0.7777777777777778,\"#fb9f3a\"],[0.8888888888888888,\"#fdca26\"],[1.0,\"#f0f921\"]]}],\"surface\":[{\"type\":\"surface\",\"colorbar\":{\"outlinewidth\":0,\"ticks\":\"\"},\"colorscale\":[[0.0,\"#0d0887\"],[0.1111111111111111,\"#46039f\"],[0.2222222222222222,\"#7201a8\"],[0.3333333333333333,\"#9c179e\"],[0.4444444444444444,\"#bd3786\"],[0.5555555555555556,\"#d8576b\"],[0.6666666666666666,\"#ed7953\"],[0.7777777777777778,\"#fb9f3a\"],[0.8888888888888888,\"#fdca26\"],[1.0,\"#f0f921\"]]}],\"mesh3d\":[{\"type\":\"mesh3d\",\"colorbar\":{\"outlinewidth\":0,\"ticks\":\"\"}}],\"scatter\":[{\"fillpattern\":{\"fillmode\":\"overlay\",\"size\":10,\"solidity\":0.2},\"type\":\"scatter\"}],\"parcoords\":[{\"type\":\"parcoords\",\"line\":{\"colorbar\":{\"outlinewidth\":0,\"ticks\":\"\"}}}],\"scatterpolargl\":[{\"type\":\"scatterpolargl\",\"marker\":{\"colorbar\":{\"outlinewidth\":0,\"ticks\":\"\"}}}],\"bar\":[{\"error_x\":{\"color\":\"#2a3f5f\"},\"error_y\":{\"color\":\"#2a3f5f\"},\"marker\":{\"line\":{\"color\":\"#E5ECF6\",\"width\":0.5},\"pattern\":{\"fillmode\":\"overlay\",\"size\":10,\"solidity\":0.2}},\"type\":\"bar\"}],\"scattergeo\":[{\"type\":\"scattergeo\",\"marker\":{\"colorbar\":{\"outlinewidth\":0,\"ticks\":\"\"}}}],\"scatterpolar\":[{\"type\":\"scatterpolar\",\"marker\":{\"colorbar\":{\"outlinewidth\":0,\"ticks\":\"\"}}}],\"histogram\":[{\"marker\":{\"pattern\":{\"fillmode\":\"overlay\",\"size\":10,\"solidity\":0.2}},\"type\":\"histogram\"}],\"scattergl\":[{\"type\":\"scattergl\",\"marker\":{\"colorbar\":{\"outlinewidth\":0,\"ticks\":\"\"}}}],\"scatter3d\":[{\"type\":\"scatter3d\",\"line\":{\"colorbar\":{\"outlinewidth\":0,\"ticks\":\"\"}},\"marker\":{\"colorbar\":{\"outlinewidth\":0,\"ticks\":\"\"}}}],\"scattermapbox\":[{\"type\":\"scattermapbox\",\"marker\":{\"colorbar\":{\"outlinewidth\":0,\"ticks\":\"\"}}}],\"scatterternary\":[{\"type\":\"scatterternary\",\"marker\":{\"colorbar\":{\"outlinewidth\":0,\"ticks\":\"\"}}}],\"scattercarpet\":[{\"type\":\"scattercarpet\",\"marker\":{\"colorbar\":{\"outlinewidth\":0,\"ticks\":\"\"}}}],\"carpet\":[{\"aaxis\":{\"endlinecolor\":\"#2a3f5f\",\"gridcolor\":\"white\",\"linecolor\":\"white\",\"minorgridcolor\":\"white\",\"startlinecolor\":\"#2a3f5f\"},\"baxis\":{\"endlinecolor\":\"#2a3f5f\",\"gridcolor\":\"white\",\"linecolor\":\"white\",\"minorgridcolor\":\"white\",\"startlinecolor\":\"#2a3f5f\"},\"type\":\"carpet\"}],\"table\":[{\"cells\":{\"fill\":{\"color\":\"#EBF0F8\"},\"line\":{\"color\":\"white\"}},\"header\":{\"fill\":{\"color\":\"#C8D4E3\"},\"line\":{\"color\":\"white\"}},\"type\":\"table\"}],\"barpolar\":[{\"marker\":{\"line\":{\"color\":\"#E5ECF6\",\"width\":0.5},\"pattern\":{\"fillmode\":\"overlay\",\"size\":10,\"solidity\":0.2}},\"type\":\"barpolar\"}],\"pie\":[{\"automargin\":true,\"type\":\"pie\"}]},\"layout\":{\"autotypenumbers\":\"strict\",\"colorway\":[\"#636efa\",\"#EF553B\",\"#00cc96\",\"#ab63fa\",\"#FFA15A\",\"#19d3f3\",\"#FF6692\",\"#B6E880\",\"#FF97FF\",\"#FECB52\"],\"font\":{\"color\":\"#2a3f5f\"},\"hovermode\":\"closest\",\"hoverlabel\":{\"align\":\"left\"},\"paper_bgcolor\":\"white\",\"plot_bgcolor\":\"#E5ECF6\",\"polar\":{\"bgcolor\":\"#E5ECF6\",\"angularaxis\":{\"gridcolor\":\"white\",\"linecolor\":\"white\",\"ticks\":\"\"},\"radialaxis\":{\"gridcolor\":\"white\",\"linecolor\":\"white\",\"ticks\":\"\"}},\"ternary\":{\"bgcolor\":\"#E5ECF6\",\"aaxis\":{\"gridcolor\":\"white\",\"linecolor\":\"white\",\"ticks\":\"\"},\"baxis\":{\"gridcolor\":\"white\",\"linecolor\":\"white\",\"ticks\":\"\"},\"caxis\":{\"gridcolor\":\"white\",\"linecolor\":\"white\",\"ticks\":\"\"}},\"coloraxis\":{\"colorbar\":{\"outlinewidth\":0,\"ticks\":\"\"}},\"colorscale\":{\"sequential\":[[0.0,\"#0d0887\"],[0.1111111111111111,\"#46039f\"],[0.2222222222222222,\"#7201a8\"],[0.3333333333333333,\"#9c179e\"],[0.4444444444444444,\"#bd3786\"],[0.5555555555555556,\"#d8576b\"],[0.6666666666666666,\"#ed7953\"],[0.7777777777777778,\"#fb9f3a\"],[0.8888888888888888,\"#fdca26\"],[1.0,\"#f0f921\"]],\"sequentialminus\":[[0.0,\"#0d0887\"],[0.1111111111111111,\"#46039f\"],[0.2222222222222222,\"#7201a8\"],[0.3333333333333333,\"#9c179e\"],[0.4444444444444444,\"#bd3786\"],[0.5555555555555556,\"#d8576b\"],[0.6666666666666666,\"#ed7953\"],[0.7777777777777778,\"#fb9f3a\"],[0.8888888888888888,\"#fdca26\"],[1.0,\"#f0f921\"]],\"diverging\":[[0,\"#8e0152\"],[0.1,\"#c51b7d\"],[0.2,\"#de77ae\"],[0.3,\"#f1b6da\"],[0.4,\"#fde0ef\"],[0.5,\"#f7f7f7\"],[0.6,\"#e6f5d0\"],[0.7,\"#b8e186\"],[0.8,\"#7fbc41\"],[0.9,\"#4d9221\"],[1,\"#276419\"]]},\"xaxis\":{\"gridcolor\":\"white\",\"linecolor\":\"white\",\"ticks\":\"\",\"title\":{\"standoff\":15},\"zerolinecolor\":\"white\",\"automargin\":true,\"zerolinewidth\":2},\"yaxis\":{\"gridcolor\":\"white\",\"linecolor\":\"white\",\"ticks\":\"\",\"title\":{\"standoff\":15},\"zerolinecolor\":\"white\",\"automargin\":true,\"zerolinewidth\":2},\"scene\":{\"xaxis\":{\"backgroundcolor\":\"#E5ECF6\",\"gridcolor\":\"white\",\"linecolor\":\"white\",\"showbackground\":true,\"ticks\":\"\",\"zerolinecolor\":\"white\",\"gridwidth\":2},\"yaxis\":{\"backgroundcolor\":\"#E5ECF6\",\"gridcolor\":\"white\",\"linecolor\":\"white\",\"showbackground\":true,\"ticks\":\"\",\"zerolinecolor\":\"white\",\"gridwidth\":2},\"zaxis\":{\"backgroundcolor\":\"#E5ECF6\",\"gridcolor\":\"white\",\"linecolor\":\"white\",\"showbackground\":true,\"ticks\":\"\",\"zerolinecolor\":\"white\",\"gridwidth\":2}},\"shapedefaults\":{\"line\":{\"color\":\"#2a3f5f\"}},\"annotationdefaults\":{\"arrowcolor\":\"#2a3f5f\",\"arrowhead\":0,\"arrowwidth\":1},\"geo\":{\"bgcolor\":\"white\",\"landcolor\":\"#E5ECF6\",\"subunitcolor\":\"white\",\"showland\":true,\"showlakes\":true,\"lakecolor\":\"white\"},\"title\":{\"x\":0.05},\"mapbox\":{\"style\":\"light\"}}},\"xaxis\":{\"anchor\":\"y\",\"domain\":[0.0,1.0],\"title\":{\"text\":\"incident_month\"}},\"yaxis\":{\"anchor\":\"x\",\"domain\":[0.0,1.0],\"title\":{\"text\":\"num_incidents\"}},\"legend\":{\"tracegroupgap\":0},\"title\":{\"text\":\"Number of Incidents by Month, Davidson County 2017-2021\"},\"barmode\":\"relative\"},                        {\"responsive\": true}                    ).then(function(){\n",
       "                            \n",
       "var gd = document.getElementById('4b0b152d-32ab-4954-9805-f5668a56b6e3');\n",
       "var x = new MutationObserver(function (mutations, observer) {{\n",
       "        var display = window.getComputedStyle(gd).display;\n",
       "        if (!display || display === 'none') {{\n",
       "            console.log([gd, 'removed!']);\n",
       "            Plotly.purge(gd);\n",
       "            observer.disconnect();\n",
       "        }}\n",
       "}});\n",
       "\n",
       "// Listen for the removal of the full notebook cells\n",
       "var notebookContainer = gd.closest('#notebook-container');\n",
       "if (notebookContainer) {{\n",
       "    x.observe(notebookContainer, {childList: true});\n",
       "}}\n",
       "\n",
       "// Listen for the clearing of the current output cell\n",
       "var outputEl = gd.closest('.output');\n",
       "if (outputEl) {{\n",
       "    x.observe(outputEl, {childList: true});\n",
       "}}\n",
       "\n",
       "                        })                };                });            </script>        </div>"
      ]
     },
     "metadata": {},
     "output_type": "display_data"
    }
   ],
   "source": [
    "fig = px.bar(incidents_by_month, x='incident_month', y='num_incidents', title='Number of Incidents by Month, Davidson County 2017-2021')\n",
    "fig.show()\n",
    "fig.write_html('incidents_by_month.html')"
   ]
  },
  {
   "cell_type": "code",
   "execution_count": null,
   "id": "fb5e5cb2",
   "metadata": {
    "id": "fb5e5cb2",
    "outputId": "e5a75cee-1ec7-4c9b-e149-fa9b25e4f1e9"
   },
   "outputs": [
    {
     "name": "stdout",
     "output_type": "stream",
     "text": [
      "The accidents per month in January/Feburary is 2901.5 whereas the accidents per month across all other months is 2381.5, which is an increase of 21.834977955070343 percent\n"
     ]
    }
   ],
   "source": [
    "janfeb = incidents_by_month[(incidents_by_month['incident_month']<=2)]\n",
    "janfeb_freq = sum(janfeb['num_incidents'])/len(janfeb)\n",
    "allothers = incidents_by_month[incidents_by_month['incident_month']>2]\n",
    "allothers_freq = sum(allothers['num_incidents'])/len(allothers)\n",
    "print('The accidents per month in January/Feburary is ' + str(janfeb_freq) + ' whereas the accidents per month across all other months is ' + str(allothers_freq) + ', which is an increase of ' + str(((janfeb_freq/allothers_freq)-1)*100) + ' percent')"
   ]
  },
  {
   "cell_type": "code",
   "execution_count": 11,
   "id": "56c95932",
   "metadata": {
    "colab": {
     "base_uri": "https://localhost:8080/",
     "height": 542
    },
    "id": "56c95932",
    "outputId": "c6472275-4fa0-45df-9e52-5648778a2cf4"
   },
   "outputs": [
    {
     "data": {
      "application/vnd.plotly.v1+json": {
       "config": {
        "plotlyServerURL": "https://plot.ly"
       },
       "data": [
        {
         "alignmentgroup": "True",
         "hovertemplate": "incident_month=%{x}<br>avg_response_time=%{y}<extra></extra>",
         "legendgroup": "",
         "marker": {
          "color": "#636efa",
          "pattern": {
           "shape": ""
          }
         },
         "name": "",
         "offsetgroup": "",
         "orientation": "v",
         "showlegend": false,
         "textposition": "auto",
         "type": "bar",
         "x": [
          10,
          6,
          11,
          1,
          8,
          4,
          12,
          5,
          3,
          7,
          9,
          2
         ],
         "xaxis": "x",
         "y": [
          416.0596081700709,
          394.72437997192327,
          416.1708520179372,
          398.2758620689655,
          402.1014873140857,
          379.5969876768599,
          411.5492888670917,
          370.2184655396619,
          392.7726063829787,
          385.4188733750602,
          404.9522637795276,
          408.4599774520857
         ],
         "yaxis": "y"
        }
       ],
       "layout": {
        "barmode": "relative",
        "legend": {
         "tracegroupgap": 0
        },
        "template": {
         "data": {
          "bar": [
           {
            "error_x": {
             "color": "#2a3f5f"
            },
            "error_y": {
             "color": "#2a3f5f"
            },
            "marker": {
             "line": {
              "color": "#E5ECF6",
              "width": 0.5
             },
             "pattern": {
              "fillmode": "overlay",
              "size": 10,
              "solidity": 0.2
             }
            },
            "type": "bar"
           }
          ],
          "barpolar": [
           {
            "marker": {
             "line": {
              "color": "#E5ECF6",
              "width": 0.5
             },
             "pattern": {
              "fillmode": "overlay",
              "size": 10,
              "solidity": 0.2
             }
            },
            "type": "barpolar"
           }
          ],
          "carpet": [
           {
            "aaxis": {
             "endlinecolor": "#2a3f5f",
             "gridcolor": "white",
             "linecolor": "white",
             "minorgridcolor": "white",
             "startlinecolor": "#2a3f5f"
            },
            "baxis": {
             "endlinecolor": "#2a3f5f",
             "gridcolor": "white",
             "linecolor": "white",
             "minorgridcolor": "white",
             "startlinecolor": "#2a3f5f"
            },
            "type": "carpet"
           }
          ],
          "choropleth": [
           {
            "colorbar": {
             "outlinewidth": 0,
             "ticks": ""
            },
            "type": "choropleth"
           }
          ],
          "contour": [
           {
            "colorbar": {
             "outlinewidth": 0,
             "ticks": ""
            },
            "colorscale": [
             [
              0,
              "#0d0887"
             ],
             [
              0.1111111111111111,
              "#46039f"
             ],
             [
              0.2222222222222222,
              "#7201a8"
             ],
             [
              0.3333333333333333,
              "#9c179e"
             ],
             [
              0.4444444444444444,
              "#bd3786"
             ],
             [
              0.5555555555555556,
              "#d8576b"
             ],
             [
              0.6666666666666666,
              "#ed7953"
             ],
             [
              0.7777777777777778,
              "#fb9f3a"
             ],
             [
              0.8888888888888888,
              "#fdca26"
             ],
             [
              1,
              "#f0f921"
             ]
            ],
            "type": "contour"
           }
          ],
          "contourcarpet": [
           {
            "colorbar": {
             "outlinewidth": 0,
             "ticks": ""
            },
            "type": "contourcarpet"
           }
          ],
          "heatmap": [
           {
            "colorbar": {
             "outlinewidth": 0,
             "ticks": ""
            },
            "colorscale": [
             [
              0,
              "#0d0887"
             ],
             [
              0.1111111111111111,
              "#46039f"
             ],
             [
              0.2222222222222222,
              "#7201a8"
             ],
             [
              0.3333333333333333,
              "#9c179e"
             ],
             [
              0.4444444444444444,
              "#bd3786"
             ],
             [
              0.5555555555555556,
              "#d8576b"
             ],
             [
              0.6666666666666666,
              "#ed7953"
             ],
             [
              0.7777777777777778,
              "#fb9f3a"
             ],
             [
              0.8888888888888888,
              "#fdca26"
             ],
             [
              1,
              "#f0f921"
             ]
            ],
            "type": "heatmap"
           }
          ],
          "heatmapgl": [
           {
            "colorbar": {
             "outlinewidth": 0,
             "ticks": ""
            },
            "colorscale": [
             [
              0,
              "#0d0887"
             ],
             [
              0.1111111111111111,
              "#46039f"
             ],
             [
              0.2222222222222222,
              "#7201a8"
             ],
             [
              0.3333333333333333,
              "#9c179e"
             ],
             [
              0.4444444444444444,
              "#bd3786"
             ],
             [
              0.5555555555555556,
              "#d8576b"
             ],
             [
              0.6666666666666666,
              "#ed7953"
             ],
             [
              0.7777777777777778,
              "#fb9f3a"
             ],
             [
              0.8888888888888888,
              "#fdca26"
             ],
             [
              1,
              "#f0f921"
             ]
            ],
            "type": "heatmapgl"
           }
          ],
          "histogram": [
           {
            "marker": {
             "pattern": {
              "fillmode": "overlay",
              "size": 10,
              "solidity": 0.2
             }
            },
            "type": "histogram"
           }
          ],
          "histogram2d": [
           {
            "colorbar": {
             "outlinewidth": 0,
             "ticks": ""
            },
            "colorscale": [
             [
              0,
              "#0d0887"
             ],
             [
              0.1111111111111111,
              "#46039f"
             ],
             [
              0.2222222222222222,
              "#7201a8"
             ],
             [
              0.3333333333333333,
              "#9c179e"
             ],
             [
              0.4444444444444444,
              "#bd3786"
             ],
             [
              0.5555555555555556,
              "#d8576b"
             ],
             [
              0.6666666666666666,
              "#ed7953"
             ],
             [
              0.7777777777777778,
              "#fb9f3a"
             ],
             [
              0.8888888888888888,
              "#fdca26"
             ],
             [
              1,
              "#f0f921"
             ]
            ],
            "type": "histogram2d"
           }
          ],
          "histogram2dcontour": [
           {
            "colorbar": {
             "outlinewidth": 0,
             "ticks": ""
            },
            "colorscale": [
             [
              0,
              "#0d0887"
             ],
             [
              0.1111111111111111,
              "#46039f"
             ],
             [
              0.2222222222222222,
              "#7201a8"
             ],
             [
              0.3333333333333333,
              "#9c179e"
             ],
             [
              0.4444444444444444,
              "#bd3786"
             ],
             [
              0.5555555555555556,
              "#d8576b"
             ],
             [
              0.6666666666666666,
              "#ed7953"
             ],
             [
              0.7777777777777778,
              "#fb9f3a"
             ],
             [
              0.8888888888888888,
              "#fdca26"
             ],
             [
              1,
              "#f0f921"
             ]
            ],
            "type": "histogram2dcontour"
           }
          ],
          "mesh3d": [
           {
            "colorbar": {
             "outlinewidth": 0,
             "ticks": ""
            },
            "type": "mesh3d"
           }
          ],
          "parcoords": [
           {
            "line": {
             "colorbar": {
              "outlinewidth": 0,
              "ticks": ""
             }
            },
            "type": "parcoords"
           }
          ],
          "pie": [
           {
            "automargin": true,
            "type": "pie"
           }
          ],
          "scatter": [
           {
            "fillpattern": {
             "fillmode": "overlay",
             "size": 10,
             "solidity": 0.2
            },
            "type": "scatter"
           }
          ],
          "scatter3d": [
           {
            "line": {
             "colorbar": {
              "outlinewidth": 0,
              "ticks": ""
             }
            },
            "marker": {
             "colorbar": {
              "outlinewidth": 0,
              "ticks": ""
             }
            },
            "type": "scatter3d"
           }
          ],
          "scattercarpet": [
           {
            "marker": {
             "colorbar": {
              "outlinewidth": 0,
              "ticks": ""
             }
            },
            "type": "scattercarpet"
           }
          ],
          "scattergeo": [
           {
            "marker": {
             "colorbar": {
              "outlinewidth": 0,
              "ticks": ""
             }
            },
            "type": "scattergeo"
           }
          ],
          "scattergl": [
           {
            "marker": {
             "colorbar": {
              "outlinewidth": 0,
              "ticks": ""
             }
            },
            "type": "scattergl"
           }
          ],
          "scattermapbox": [
           {
            "marker": {
             "colorbar": {
              "outlinewidth": 0,
              "ticks": ""
             }
            },
            "type": "scattermapbox"
           }
          ],
          "scatterpolar": [
           {
            "marker": {
             "colorbar": {
              "outlinewidth": 0,
              "ticks": ""
             }
            },
            "type": "scatterpolar"
           }
          ],
          "scatterpolargl": [
           {
            "marker": {
             "colorbar": {
              "outlinewidth": 0,
              "ticks": ""
             }
            },
            "type": "scatterpolargl"
           }
          ],
          "scatterternary": [
           {
            "marker": {
             "colorbar": {
              "outlinewidth": 0,
              "ticks": ""
             }
            },
            "type": "scatterternary"
           }
          ],
          "surface": [
           {
            "colorbar": {
             "outlinewidth": 0,
             "ticks": ""
            },
            "colorscale": [
             [
              0,
              "#0d0887"
             ],
             [
              0.1111111111111111,
              "#46039f"
             ],
             [
              0.2222222222222222,
              "#7201a8"
             ],
             [
              0.3333333333333333,
              "#9c179e"
             ],
             [
              0.4444444444444444,
              "#bd3786"
             ],
             [
              0.5555555555555556,
              "#d8576b"
             ],
             [
              0.6666666666666666,
              "#ed7953"
             ],
             [
              0.7777777777777778,
              "#fb9f3a"
             ],
             [
              0.8888888888888888,
              "#fdca26"
             ],
             [
              1,
              "#f0f921"
             ]
            ],
            "type": "surface"
           }
          ],
          "table": [
           {
            "cells": {
             "fill": {
              "color": "#EBF0F8"
             },
             "line": {
              "color": "white"
             }
            },
            "header": {
             "fill": {
              "color": "#C8D4E3"
             },
             "line": {
              "color": "white"
             }
            },
            "type": "table"
           }
          ]
         },
         "layout": {
          "annotationdefaults": {
           "arrowcolor": "#2a3f5f",
           "arrowhead": 0,
           "arrowwidth": 1
          },
          "autotypenumbers": "strict",
          "coloraxis": {
           "colorbar": {
            "outlinewidth": 0,
            "ticks": ""
           }
          },
          "colorscale": {
           "diverging": [
            [
             0,
             "#8e0152"
            ],
            [
             0.1,
             "#c51b7d"
            ],
            [
             0.2,
             "#de77ae"
            ],
            [
             0.3,
             "#f1b6da"
            ],
            [
             0.4,
             "#fde0ef"
            ],
            [
             0.5,
             "#f7f7f7"
            ],
            [
             0.6,
             "#e6f5d0"
            ],
            [
             0.7,
             "#b8e186"
            ],
            [
             0.8,
             "#7fbc41"
            ],
            [
             0.9,
             "#4d9221"
            ],
            [
             1,
             "#276419"
            ]
           ],
           "sequential": [
            [
             0,
             "#0d0887"
            ],
            [
             0.1111111111111111,
             "#46039f"
            ],
            [
             0.2222222222222222,
             "#7201a8"
            ],
            [
             0.3333333333333333,
             "#9c179e"
            ],
            [
             0.4444444444444444,
             "#bd3786"
            ],
            [
             0.5555555555555556,
             "#d8576b"
            ],
            [
             0.6666666666666666,
             "#ed7953"
            ],
            [
             0.7777777777777778,
             "#fb9f3a"
            ],
            [
             0.8888888888888888,
             "#fdca26"
            ],
            [
             1,
             "#f0f921"
            ]
           ],
           "sequentialminus": [
            [
             0,
             "#0d0887"
            ],
            [
             0.1111111111111111,
             "#46039f"
            ],
            [
             0.2222222222222222,
             "#7201a8"
            ],
            [
             0.3333333333333333,
             "#9c179e"
            ],
            [
             0.4444444444444444,
             "#bd3786"
            ],
            [
             0.5555555555555556,
             "#d8576b"
            ],
            [
             0.6666666666666666,
             "#ed7953"
            ],
            [
             0.7777777777777778,
             "#fb9f3a"
            ],
            [
             0.8888888888888888,
             "#fdca26"
            ],
            [
             1,
             "#f0f921"
            ]
           ]
          },
          "colorway": [
           "#636efa",
           "#EF553B",
           "#00cc96",
           "#ab63fa",
           "#FFA15A",
           "#19d3f3",
           "#FF6692",
           "#B6E880",
           "#FF97FF",
           "#FECB52"
          ],
          "font": {
           "color": "#2a3f5f"
          },
          "geo": {
           "bgcolor": "white",
           "lakecolor": "white",
           "landcolor": "#E5ECF6",
           "showlakes": true,
           "showland": true,
           "subunitcolor": "white"
          },
          "hoverlabel": {
           "align": "left"
          },
          "hovermode": "closest",
          "mapbox": {
           "style": "light"
          },
          "paper_bgcolor": "white",
          "plot_bgcolor": "#E5ECF6",
          "polar": {
           "angularaxis": {
            "gridcolor": "white",
            "linecolor": "white",
            "ticks": ""
           },
           "bgcolor": "#E5ECF6",
           "radialaxis": {
            "gridcolor": "white",
            "linecolor": "white",
            "ticks": ""
           }
          },
          "scene": {
           "xaxis": {
            "backgroundcolor": "#E5ECF6",
            "gridcolor": "white",
            "gridwidth": 2,
            "linecolor": "white",
            "showbackground": true,
            "ticks": "",
            "zerolinecolor": "white"
           },
           "yaxis": {
            "backgroundcolor": "#E5ECF6",
            "gridcolor": "white",
            "gridwidth": 2,
            "linecolor": "white",
            "showbackground": true,
            "ticks": "",
            "zerolinecolor": "white"
           },
           "zaxis": {
            "backgroundcolor": "#E5ECF6",
            "gridcolor": "white",
            "gridwidth": 2,
            "linecolor": "white",
            "showbackground": true,
            "ticks": "",
            "zerolinecolor": "white"
           }
          },
          "shapedefaults": {
           "line": {
            "color": "#2a3f5f"
           }
          },
          "ternary": {
           "aaxis": {
            "gridcolor": "white",
            "linecolor": "white",
            "ticks": ""
           },
           "baxis": {
            "gridcolor": "white",
            "linecolor": "white",
            "ticks": ""
           },
           "bgcolor": "#E5ECF6",
           "caxis": {
            "gridcolor": "white",
            "linecolor": "white",
            "ticks": ""
           }
          },
          "title": {
           "x": 0.05
          },
          "xaxis": {
           "automargin": true,
           "gridcolor": "white",
           "linecolor": "white",
           "ticks": "",
           "title": {
            "standoff": 15
           },
           "zerolinecolor": "white",
           "zerolinewidth": 2
          },
          "yaxis": {
           "automargin": true,
           "gridcolor": "white",
           "linecolor": "white",
           "ticks": "",
           "title": {
            "standoff": 15
           },
           "zerolinecolor": "white",
           "zerolinewidth": 2
          }
         }
        },
        "title": {
         "text": "Average Response Time on Incidents by Month, Davidson County 2017-2021"
        },
        "xaxis": {
         "anchor": "y",
         "domain": [
          0,
          1
         ],
         "title": {
          "text": "incident_month"
         }
        },
        "yaxis": {
         "anchor": "x",
         "domain": [
          0,
          1
         ],
         "title": {
          "text": "avg_response_time"
         }
        }
       }
      },
      "text/html": [
       "<div>                            <div id=\"10893d3d-efdf-429f-9745-ff5c32cc1357\" class=\"plotly-graph-div\" style=\"height:525px; width:100%;\"></div>            <script type=\"text/javascript\">                require([\"plotly\"], function(Plotly) {                    window.PLOTLYENV=window.PLOTLYENV || {};                                    if (document.getElementById(\"10893d3d-efdf-429f-9745-ff5c32cc1357\")) {                    Plotly.newPlot(                        \"10893d3d-efdf-429f-9745-ff5c32cc1357\",                        [{\"alignmentgroup\":\"True\",\"hovertemplate\":\"incident_month=%{x}<br>avg_response_time=%{y}<extra></extra>\",\"legendgroup\":\"\",\"marker\":{\"color\":\"#636efa\",\"pattern\":{\"shape\":\"\"}},\"name\":\"\",\"offsetgroup\":\"\",\"orientation\":\"v\",\"showlegend\":false,\"textposition\":\"auto\",\"x\":[10,6,11,1,8,4,12,5,3,7,9,2],\"xaxis\":\"x\",\"y\":[416.0596081700709,394.72437997192327,416.1708520179372,398.2758620689655,402.1014873140857,379.5969876768599,411.5492888670917,370.2184655396619,392.7726063829787,385.4188733750602,404.9522637795276,408.4599774520857],\"yaxis\":\"y\",\"type\":\"bar\"}],                        {\"template\":{\"data\":{\"histogram2dcontour\":[{\"type\":\"histogram2dcontour\",\"colorbar\":{\"outlinewidth\":0,\"ticks\":\"\"},\"colorscale\":[[0.0,\"#0d0887\"],[0.1111111111111111,\"#46039f\"],[0.2222222222222222,\"#7201a8\"],[0.3333333333333333,\"#9c179e\"],[0.4444444444444444,\"#bd3786\"],[0.5555555555555556,\"#d8576b\"],[0.6666666666666666,\"#ed7953\"],[0.7777777777777778,\"#fb9f3a\"],[0.8888888888888888,\"#fdca26\"],[1.0,\"#f0f921\"]]}],\"choropleth\":[{\"type\":\"choropleth\",\"colorbar\":{\"outlinewidth\":0,\"ticks\":\"\"}}],\"histogram2d\":[{\"type\":\"histogram2d\",\"colorbar\":{\"outlinewidth\":0,\"ticks\":\"\"},\"colorscale\":[[0.0,\"#0d0887\"],[0.1111111111111111,\"#46039f\"],[0.2222222222222222,\"#7201a8\"],[0.3333333333333333,\"#9c179e\"],[0.4444444444444444,\"#bd3786\"],[0.5555555555555556,\"#d8576b\"],[0.6666666666666666,\"#ed7953\"],[0.7777777777777778,\"#fb9f3a\"],[0.8888888888888888,\"#fdca26\"],[1.0,\"#f0f921\"]]}],\"heatmap\":[{\"type\":\"heatmap\",\"colorbar\":{\"outlinewidth\":0,\"ticks\":\"\"},\"colorscale\":[[0.0,\"#0d0887\"],[0.1111111111111111,\"#46039f\"],[0.2222222222222222,\"#7201a8\"],[0.3333333333333333,\"#9c179e\"],[0.4444444444444444,\"#bd3786\"],[0.5555555555555556,\"#d8576b\"],[0.6666666666666666,\"#ed7953\"],[0.7777777777777778,\"#fb9f3a\"],[0.8888888888888888,\"#fdca26\"],[1.0,\"#f0f921\"]]}],\"heatmapgl\":[{\"type\":\"heatmapgl\",\"colorbar\":{\"outlinewidth\":0,\"ticks\":\"\"},\"colorscale\":[[0.0,\"#0d0887\"],[0.1111111111111111,\"#46039f\"],[0.2222222222222222,\"#7201a8\"],[0.3333333333333333,\"#9c179e\"],[0.4444444444444444,\"#bd3786\"],[0.5555555555555556,\"#d8576b\"],[0.6666666666666666,\"#ed7953\"],[0.7777777777777778,\"#fb9f3a\"],[0.8888888888888888,\"#fdca26\"],[1.0,\"#f0f921\"]]}],\"contourcarpet\":[{\"type\":\"contourcarpet\",\"colorbar\":{\"outlinewidth\":0,\"ticks\":\"\"}}],\"contour\":[{\"type\":\"contour\",\"colorbar\":{\"outlinewidth\":0,\"ticks\":\"\"},\"colorscale\":[[0.0,\"#0d0887\"],[0.1111111111111111,\"#46039f\"],[0.2222222222222222,\"#7201a8\"],[0.3333333333333333,\"#9c179e\"],[0.4444444444444444,\"#bd3786\"],[0.5555555555555556,\"#d8576b\"],[0.6666666666666666,\"#ed7953\"],[0.7777777777777778,\"#fb9f3a\"],[0.8888888888888888,\"#fdca26\"],[1.0,\"#f0f921\"]]}],\"surface\":[{\"type\":\"surface\",\"colorbar\":{\"outlinewidth\":0,\"ticks\":\"\"},\"colorscale\":[[0.0,\"#0d0887\"],[0.1111111111111111,\"#46039f\"],[0.2222222222222222,\"#7201a8\"],[0.3333333333333333,\"#9c179e\"],[0.4444444444444444,\"#bd3786\"],[0.5555555555555556,\"#d8576b\"],[0.6666666666666666,\"#ed7953\"],[0.7777777777777778,\"#fb9f3a\"],[0.8888888888888888,\"#fdca26\"],[1.0,\"#f0f921\"]]}],\"mesh3d\":[{\"type\":\"mesh3d\",\"colorbar\":{\"outlinewidth\":0,\"ticks\":\"\"}}],\"scatter\":[{\"fillpattern\":{\"fillmode\":\"overlay\",\"size\":10,\"solidity\":0.2},\"type\":\"scatter\"}],\"parcoords\":[{\"type\":\"parcoords\",\"line\":{\"colorbar\":{\"outlinewidth\":0,\"ticks\":\"\"}}}],\"scatterpolargl\":[{\"type\":\"scatterpolargl\",\"marker\":{\"colorbar\":{\"outlinewidth\":0,\"ticks\":\"\"}}}],\"bar\":[{\"error_x\":{\"color\":\"#2a3f5f\"},\"error_y\":{\"color\":\"#2a3f5f\"},\"marker\":{\"line\":{\"color\":\"#E5ECF6\",\"width\":0.5},\"pattern\":{\"fillmode\":\"overlay\",\"size\":10,\"solidity\":0.2}},\"type\":\"bar\"}],\"scattergeo\":[{\"type\":\"scattergeo\",\"marker\":{\"colorbar\":{\"outlinewidth\":0,\"ticks\":\"\"}}}],\"scatterpolar\":[{\"type\":\"scatterpolar\",\"marker\":{\"colorbar\":{\"outlinewidth\":0,\"ticks\":\"\"}}}],\"histogram\":[{\"marker\":{\"pattern\":{\"fillmode\":\"overlay\",\"size\":10,\"solidity\":0.2}},\"type\":\"histogram\"}],\"scattergl\":[{\"type\":\"scattergl\",\"marker\":{\"colorbar\":{\"outlinewidth\":0,\"ticks\":\"\"}}}],\"scatter3d\":[{\"type\":\"scatter3d\",\"line\":{\"colorbar\":{\"outlinewidth\":0,\"ticks\":\"\"}},\"marker\":{\"colorbar\":{\"outlinewidth\":0,\"ticks\":\"\"}}}],\"scattermapbox\":[{\"type\":\"scattermapbox\",\"marker\":{\"colorbar\":{\"outlinewidth\":0,\"ticks\":\"\"}}}],\"scatterternary\":[{\"type\":\"scatterternary\",\"marker\":{\"colorbar\":{\"outlinewidth\":0,\"ticks\":\"\"}}}],\"scattercarpet\":[{\"type\":\"scattercarpet\",\"marker\":{\"colorbar\":{\"outlinewidth\":0,\"ticks\":\"\"}}}],\"carpet\":[{\"aaxis\":{\"endlinecolor\":\"#2a3f5f\",\"gridcolor\":\"white\",\"linecolor\":\"white\",\"minorgridcolor\":\"white\",\"startlinecolor\":\"#2a3f5f\"},\"baxis\":{\"endlinecolor\":\"#2a3f5f\",\"gridcolor\":\"white\",\"linecolor\":\"white\",\"minorgridcolor\":\"white\",\"startlinecolor\":\"#2a3f5f\"},\"type\":\"carpet\"}],\"table\":[{\"cells\":{\"fill\":{\"color\":\"#EBF0F8\"},\"line\":{\"color\":\"white\"}},\"header\":{\"fill\":{\"color\":\"#C8D4E3\"},\"line\":{\"color\":\"white\"}},\"type\":\"table\"}],\"barpolar\":[{\"marker\":{\"line\":{\"color\":\"#E5ECF6\",\"width\":0.5},\"pattern\":{\"fillmode\":\"overlay\",\"size\":10,\"solidity\":0.2}},\"type\":\"barpolar\"}],\"pie\":[{\"automargin\":true,\"type\":\"pie\"}]},\"layout\":{\"autotypenumbers\":\"strict\",\"colorway\":[\"#636efa\",\"#EF553B\",\"#00cc96\",\"#ab63fa\",\"#FFA15A\",\"#19d3f3\",\"#FF6692\",\"#B6E880\",\"#FF97FF\",\"#FECB52\"],\"font\":{\"color\":\"#2a3f5f\"},\"hovermode\":\"closest\",\"hoverlabel\":{\"align\":\"left\"},\"paper_bgcolor\":\"white\",\"plot_bgcolor\":\"#E5ECF6\",\"polar\":{\"bgcolor\":\"#E5ECF6\",\"angularaxis\":{\"gridcolor\":\"white\",\"linecolor\":\"white\",\"ticks\":\"\"},\"radialaxis\":{\"gridcolor\":\"white\",\"linecolor\":\"white\",\"ticks\":\"\"}},\"ternary\":{\"bgcolor\":\"#E5ECF6\",\"aaxis\":{\"gridcolor\":\"white\",\"linecolor\":\"white\",\"ticks\":\"\"},\"baxis\":{\"gridcolor\":\"white\",\"linecolor\":\"white\",\"ticks\":\"\"},\"caxis\":{\"gridcolor\":\"white\",\"linecolor\":\"white\",\"ticks\":\"\"}},\"coloraxis\":{\"colorbar\":{\"outlinewidth\":0,\"ticks\":\"\"}},\"colorscale\":{\"sequential\":[[0.0,\"#0d0887\"],[0.1111111111111111,\"#46039f\"],[0.2222222222222222,\"#7201a8\"],[0.3333333333333333,\"#9c179e\"],[0.4444444444444444,\"#bd3786\"],[0.5555555555555556,\"#d8576b\"],[0.6666666666666666,\"#ed7953\"],[0.7777777777777778,\"#fb9f3a\"],[0.8888888888888888,\"#fdca26\"],[1.0,\"#f0f921\"]],\"sequentialminus\":[[0.0,\"#0d0887\"],[0.1111111111111111,\"#46039f\"],[0.2222222222222222,\"#7201a8\"],[0.3333333333333333,\"#9c179e\"],[0.4444444444444444,\"#bd3786\"],[0.5555555555555556,\"#d8576b\"],[0.6666666666666666,\"#ed7953\"],[0.7777777777777778,\"#fb9f3a\"],[0.8888888888888888,\"#fdca26\"],[1.0,\"#f0f921\"]],\"diverging\":[[0,\"#8e0152\"],[0.1,\"#c51b7d\"],[0.2,\"#de77ae\"],[0.3,\"#f1b6da\"],[0.4,\"#fde0ef\"],[0.5,\"#f7f7f7\"],[0.6,\"#e6f5d0\"],[0.7,\"#b8e186\"],[0.8,\"#7fbc41\"],[0.9,\"#4d9221\"],[1,\"#276419\"]]},\"xaxis\":{\"gridcolor\":\"white\",\"linecolor\":\"white\",\"ticks\":\"\",\"title\":{\"standoff\":15},\"zerolinecolor\":\"white\",\"automargin\":true,\"zerolinewidth\":2},\"yaxis\":{\"gridcolor\":\"white\",\"linecolor\":\"white\",\"ticks\":\"\",\"title\":{\"standoff\":15},\"zerolinecolor\":\"white\",\"automargin\":true,\"zerolinewidth\":2},\"scene\":{\"xaxis\":{\"backgroundcolor\":\"#E5ECF6\",\"gridcolor\":\"white\",\"linecolor\":\"white\",\"showbackground\":true,\"ticks\":\"\",\"zerolinecolor\":\"white\",\"gridwidth\":2},\"yaxis\":{\"backgroundcolor\":\"#E5ECF6\",\"gridcolor\":\"white\",\"linecolor\":\"white\",\"showbackground\":true,\"ticks\":\"\",\"zerolinecolor\":\"white\",\"gridwidth\":2},\"zaxis\":{\"backgroundcolor\":\"#E5ECF6\",\"gridcolor\":\"white\",\"linecolor\":\"white\",\"showbackground\":true,\"ticks\":\"\",\"zerolinecolor\":\"white\",\"gridwidth\":2}},\"shapedefaults\":{\"line\":{\"color\":\"#2a3f5f\"}},\"annotationdefaults\":{\"arrowcolor\":\"#2a3f5f\",\"arrowhead\":0,\"arrowwidth\":1},\"geo\":{\"bgcolor\":\"white\",\"landcolor\":\"#E5ECF6\",\"subunitcolor\":\"white\",\"showland\":true,\"showlakes\":true,\"lakecolor\":\"white\"},\"title\":{\"x\":0.05},\"mapbox\":{\"style\":\"light\"}}},\"xaxis\":{\"anchor\":\"y\",\"domain\":[0.0,1.0],\"title\":{\"text\":\"incident_month\"}},\"yaxis\":{\"anchor\":\"x\",\"domain\":[0.0,1.0],\"title\":{\"text\":\"avg_response_time\"}},\"legend\":{\"tracegroupgap\":0},\"title\":{\"text\":\"Average Response Time on Incidents by Month, Davidson County 2017-2021\"},\"barmode\":\"relative\"},                        {\"responsive\": true}                    ).then(function(){\n",
       "                            \n",
       "var gd = document.getElementById('10893d3d-efdf-429f-9745-ff5c32cc1357');\n",
       "var x = new MutationObserver(function (mutations, observer) {{\n",
       "        var display = window.getComputedStyle(gd).display;\n",
       "        if (!display || display === 'none') {{\n",
       "            console.log([gd, 'removed!']);\n",
       "            Plotly.purge(gd);\n",
       "            observer.disconnect();\n",
       "        }}\n",
       "}});\n",
       "\n",
       "// Listen for the removal of the full notebook cells\n",
       "var notebookContainer = gd.closest('#notebook-container');\n",
       "if (notebookContainer) {{\n",
       "    x.observe(notebookContainer, {childList: true});\n",
       "}}\n",
       "\n",
       "// Listen for the clearing of the current output cell\n",
       "var outputEl = gd.closest('.output');\n",
       "if (outputEl) {{\n",
       "    x.observe(outputEl, {childList: true});\n",
       "}}\n",
       "\n",
       "                        })                };                });            </script>        </div>"
      ]
     },
     "metadata": {},
     "output_type": "display_data"
    }
   ],
   "source": [
    "fig = px.bar(incidents_by_month, x='incident_month', y='avg_response_time', title='Average Response Time on Incidents by Month, Davidson County 2017-2021')\n",
    "fig.show()\n",
    "fig.write_html('avg_res_time_by_month.html')"
   ]
  },
  {
   "cell_type": "markdown",
   "id": "4ed32206",
   "metadata": {
    "id": "4ed32206"
   },
   "source": [
    "- **Notable Conclusions for Section 2: Temporal Analysis of Accidents By Month**\n",
    "    - By month, the average response time and the average tract household income across incidents do not appear to undergo any significant change.\n",
    "    - Incidents seem to occur most often during the first few months of the year, with >21% more acccidents per month compared to the rest of the year. This is likely due to the cold temperatures and snow that are more prevalent during January and February. This also indicates that there should be more emergency response manpower during those first two months. "
   ]
  },
  {
   "cell_type": "markdown",
   "id": "6acd8b49",
   "metadata": {
    "id": "6acd8b49"
   },
   "source": [
    "## 3: RESPONSE TIME DISTRIBUTION ON INCIDENTS ACROSS CENSUS TRACTS"
   ]
  },
  {
   "cell_type": "markdown",
   "id": "a3f96824",
   "metadata": {
    "id": "a3f96824"
   },
   "source": [
    "- Take the incidents_by_tract dataframe from Section 1, and make plots regarding response time"
   ]
  },
  {
   "cell_type": "code",
   "execution_count": 12,
   "id": "fb43cd6f",
   "metadata": {
    "colab": {
     "base_uri": "https://localhost:8080/",
     "height": 542
    },
    "id": "fb43cd6f",
    "outputId": "f0d805b8-0c26-4e8b-b5ae-ca5bf57c92ac"
   },
   "outputs": [
    {
     "data": {
      "application/vnd.plotly.v1+json": {
       "config": {
        "plotlyServerURL": "https://plot.ly"
       },
       "data": [
        {
         "hovertemplate": "total_population=%{x}<br>avg_response_time=%{y}<extra></extra>",
         "legendgroup": "",
         "marker": {
          "color": "#636efa",
          "symbol": "circle"
         },
         "mode": "markers",
         "name": "",
         "orientation": "v",
         "showlegend": false,
         "type": "scatter",
         "x": [
          3739,
          2627,
          6690,
          2761,
          4344,
          7472,
          5502,
          7713,
          4071,
          2335,
          6708,
          3457,
          910,
          3877,
          1459,
          6190,
          2961,
          5058,
          2484,
          5118,
          4792,
          4689,
          2792,
          1346,
          2764,
          3826,
          2379,
          5662,
          4179,
          5650,
          2316,
          2645,
          4865,
          5101,
          5946,
          10684,
          5326,
          5806,
          3782,
          2491,
          2747,
          4060,
          2607,
          5945,
          2728,
          4403,
          2913,
          5309,
          4459,
          5941,
          5620,
          2420,
          4402,
          4150,
          1496,
          3564,
          3024,
          8388,
          3507,
          5050,
          2821,
          4638,
          12590,
          1727,
          4070,
          4353,
          3030,
          2631,
          2991,
          4794,
          1624,
          8830,
          1117,
          2628,
          4070,
          6115,
          4740,
          4603,
          4073,
          3992,
          5186,
          4155,
          4344,
          6327,
          6436,
          4176,
          4257,
          5696,
          3282,
          6033,
          4909,
          3419,
          4978,
          3363,
          6082,
          5731,
          3707,
          3257,
          3749,
          6655,
          5661,
          2254,
          2490,
          4466,
          1962,
          2883,
          3719,
          3633,
          6020,
          4453,
          5662,
          4487,
          3337,
          5071,
          5240,
          2823,
          5276,
          4674,
          5856,
          5438,
          3260,
          5106,
          3282,
          4895,
          2087,
          4075,
          3131,
          3728,
          0,
          5830,
          3816,
          2369,
          3254,
          2754,
          0,
          3976,
          1868,
          4054,
          1886,
          5048,
          4520,
          2018,
          4216,
          5351,
          3048,
          3163,
          2631,
          5218,
          5337,
          4615,
          6086,
          1981,
          4252,
          2135,
          4676,
          4415,
          4710,
          3069,
          4572,
          2622,
          2997
         ],
         "xaxis": "x",
         "y": [
          204.10169491525423,
          630.9439252336449,
          405.3204134366925,
          399.7510729613734,
          218.5487804878049,
          370.5151515151515,
          391.6780104712042,
          309.5326633165829,
          392.2,
          372.75,
          406.8684210526316,
          339.11805555555554,
          328.7846153846154,
          242.93893129770996,
          372.1067615658363,
          302.9005235602094,
          411.7240075614367,
          487.7552083333333,
          513.1833333333333,
          389.803738317757,
          336.8965517241379,
          352.2647058823529,
          253.45833333333331,
          252.87632508833923,
          304.54040404040404,
          353.85496183206106,
          582.75,
          467.6157894736842,
          496.55102040816325,
          333.5076923076923,
          486.9072164948454,
          355.8961038961039,
          284.18220338983053,
          422.5922330097088,
          396.7793103448276,
          449.6428571428572,
          432.94685990338166,
          400.97333333333336,
          349.9873417721519,
          312.6666666666667,
          314.37068965517244,
          351.3506493506493,
          297.82,
          364.6902050113896,
          309.85714285714283,
          389.0142857142857,
          269.62573099415204,
          457.71875,
          277.67283950617286,
          407.58575197889184,
          428.0282258064516,
          356.3953488372093,
          368.78551532033424,
          522.371237458194,
          366.7,
          344.18666666666667,
          177.6578947368421,
          561.8604651162791,
          547.0444444444445,
          331.0229007633588,
          506.3043478260869,
          440.986301369863,
          625.1977401129943,
          331.07462686567163,
          347.5,
          231.6,
          529.096,
          423.6772727272728,
          459.24444444444447,
          388.0869565217391,
          454.0183486238532,
          570.0166666666667,
          389.3076923076923,
          262.6,
          598.314606741573,
          380.22591362126246,
          339.13675213675214,
          368.622641509434,
          497.59183673469386,
          338.4479166666667,
          436.54761904761904,
          282.6125,
          391.0343007915568,
          302.0873015873016,
          345.5684210526316,
          525.6027397260274,
          514.4744525547445,
          414.0116279069768,
          398.6586345381526,
          303.91417322834644,
          365.6351351351352,
          319.5882352941176,
          308.60700389105057,
          283.91346153846155,
          362.2625698324022,
          382.4658227848101,
          508.7916666666667,
          525.5756097560976,
          351.95,
          379.25233644859816,
          394.9932584269663,
          403.1769230769231,
          624.6470588235294,
          285.80625,
          370.6470588235294,
          295.625,
          376.7213114754098,
          311.859649122807,
          387.635761589404,
          506.936,
          429.0326530612245,
          372.0890410958904,
          239.2325581395349,
          373.7714285714285,
          375.9127516778523,
          351.52941176470586,
          588.5166666666667,
          401.7307692307692,
          366.1449275362319,
          327.93172690763055,
          326.3688888888889,
          356.5248226950355,
          505.64401294498384,
          393.0904872389791,
          370.1038961038961,
          417.13392857142856,
          380.43715846994536,
          376.6044776119403,
          414.17043121149896,
          344.02933333333334,
          413.25396825396825,
          317.925,
          322.95454545454544,
          339.2619047619048,
          354.2328767123288,
          322.4558823529412,
          342.25,
          286.98214285714283,
          248.7625,
          493.3018867924528,
          539.5454545454545,
          355.2230769230769,
          440.2895277207392,
          321.9841584158416,
          384.3120567375887,
          363.7206132879046,
          627.1851851851852,
          472.15277777777777,
          458.5140186915888,
          467.5384615384616,
          364.31111111111113,
          474,
          280.47014925373134,
          289.8181818181818,
          289.11504424778764,
          373.957627118644,
          498.0416666666667,
          437.0923076923077,
          421.6016949152543,
          404.544061302682,
          422.9333333333333
         ],
         "yaxis": "y"
        },
        {
         "hovertemplate": "<b>OLS trendline</b><br>avg_response_time = 0.00878016 * total_population + 352.027<br>R<sup>2</sup>=0.029423<br><br>total_population=%{x}<br>avg_response_time=%{y} <b>(trend)</b><extra></extra>",
         "legendgroup": "",
         "marker": {
          "color": "#636efa",
          "symbol": "circle"
         },
         "mode": "lines",
         "name": "",
         "showlegend": false,
         "type": "scatter",
         "x": [
          0,
          0,
          910,
          1117,
          1346,
          1459,
          1496,
          1624,
          1727,
          1868,
          1886,
          1962,
          1981,
          2018,
          2087,
          2135,
          2254,
          2316,
          2335,
          2369,
          2379,
          2420,
          2484,
          2490,
          2491,
          2607,
          2622,
          2627,
          2628,
          2631,
          2631,
          2645,
          2728,
          2747,
          2754,
          2761,
          2764,
          2792,
          2821,
          2823,
          2883,
          2913,
          2961,
          2991,
          2997,
          3024,
          3030,
          3048,
          3069,
          3131,
          3163,
          3254,
          3257,
          3260,
          3282,
          3282,
          3337,
          3363,
          3419,
          3457,
          3507,
          3564,
          3633,
          3707,
          3719,
          3728,
          3739,
          3749,
          3782,
          3816,
          3826,
          3877,
          3976,
          3992,
          4054,
          4060,
          4070,
          4070,
          4071,
          4073,
          4075,
          4150,
          4155,
          4176,
          4179,
          4216,
          4252,
          4257,
          4344,
          4344,
          4353,
          4402,
          4403,
          4415,
          4453,
          4459,
          4466,
          4487,
          4520,
          4572,
          4603,
          4615,
          4638,
          4674,
          4676,
          4689,
          4710,
          4740,
          4792,
          4794,
          4865,
          4895,
          4909,
          4978,
          5048,
          5050,
          5058,
          5071,
          5101,
          5106,
          5118,
          5186,
          5218,
          5240,
          5276,
          5309,
          5326,
          5337,
          5351,
          5438,
          5502,
          5620,
          5650,
          5661,
          5662,
          5662,
          5696,
          5731,
          5806,
          5830,
          5856,
          5941,
          5945,
          5946,
          6020,
          6033,
          6082,
          6086,
          6115,
          6190,
          6327,
          6436,
          6655,
          6690,
          6708,
          7472,
          7713,
          8388,
          8830,
          10684,
          12590
         ],
         "xaxis": "x",
         "y": [
          352.0274409231356,
          352.0274409231356,
          360.01738835914944,
          361.8348818967922,
          363.84553899882206,
          364.8376973068106,
          365.16256330146166,
          366.2864240397142,
          367.1907807275267,
          368.428783572008,
          368.5868264883248,
          369.2541188016622,
          369.4209418799965,
          369.74580787464765,
          370.3516390538619,
          370.7730868307066,
          371.8179261108007,
          372.3622961558918,
          372.52911923422613,
          372.8276447428244,
          372.9154463630004,
          373.27543300572194,
          373.83736337484817,
          373.89004434695374,
          373.89882450897136,
          374.91732330301267,
          375.04902573327666,
          375.0929265433646,
          375.10170670538224,
          375.12804719143503,
          375.12804719143503,
          375.2509694596814,
          375.979722907142,
          376.14654598547634,
          376.20800711959953,
          376.2694682537227,
          376.2958087397755,
          376.5416532762682,
          376.79627797477855,
          376.8138382988138,
          377.3406480198696,
          377.60405288039755,
          378.0255006572422,
          378.28890551777016,
          378.34158648987574,
          378.5786508643509,
          378.63133183645647,
          378.78937475277326,
          378.9737581551428,
          379.51812820023383,
          379.79909338479695,
          380.59808812839833,
          380.6244286144512,
          380.65076910050396,
          380.8439326648911,
          380.8439326648911,
          381.32684157585896,
          381.5551257883165,
          382.046814861302,
          382.3804610179707,
          382.8194691188506,
          383.3199383538536,
          383.92576953306786,
          384.5755015223701,
          384.6808634665813,
          384.75988492473965,
          384.8564667069332,
          384.94426832710917,
          385.2340136736899,
          385.53253918228825,
          385.6203408024642,
          386.0681290653617,
          386.9373651051039,
          387.07784769738544,
          387.6222177424765,
          387.67489871458207,
          387.76270033475805,
          387.76270033475805,
          387.7714804967756,
          387.78904082081084,
          387.806601144846,
          388.46511329616584,
          388.50901410625386,
          388.6933975086234,
          388.71973799467617,
          389.0446039893273,
          389.3606898219608,
          389.4045906320488,
          390.1684647275798,
          390.1684647275798,
          390.2474861857382,
          390.67771412460047,
          390.6864942866181,
          390.79185623082924,
          391.12550238749793,
          391.1781833596035,
          391.2396444937267,
          391.4240278960963,
          391.713773242677,
          392.1703416675921,
          392.4425266901376,
          392.54788863434874,
          392.7498323607535,
          393.065918193387,
          393.08347851742224,
          393.197620623651,
          393.3820040260205,
          393.64540888654847,
          394.10197731146354,
          394.1195376354987,
          394.7429291387482,
          395.0063339992761,
          395.12925626752246,
          395.7350874467367,
          396.3496987879685,
          396.36725911200375,
          396.4375004081445,
          396.55164251437327,
          396.8150473749012,
          396.85894818498923,
          396.9643101292004,
          397.561361146397,
          397.84232633096013,
          398.03548989534727,
          398.3515757279808,
          398.6413210745615,
          398.7905838288607,
          398.88716561105423,
          399.0100878793006,
          399.77396197483165,
          400.3358923439579,
          401.3719514620344,
          401.6353563225623,
          401.7319381047559,
          401.7407182667735,
          401.7407182667735,
          402.0392437753718,
          402.34654944598776,
          403.00506159730753,
          403.2157854857299,
          403.44406969818743,
          404.19038346968324,
          404.22550411775364,
          404.23428427977126,
          404.88401626907347,
          404.99815837530224,
          405.4283863141645,
          405.4635069622349,
          405.71813166074526,
          406.376643812065,
          407.5795260084759,
          408.5365636683941,
          410.459419150248,
          410.7667248208639,
          410.9247677371806,
          417.63281151862526,
          419.7488305648663,
          425.6754399267447,
          429.5562715385229,
          445.8346919191489,
          462.56968072469
         ],
         "yaxis": "y"
        }
       ],
       "layout": {
        "legend": {
         "tracegroupgap": 0
        },
        "template": {
         "data": {
          "bar": [
           {
            "error_x": {
             "color": "#2a3f5f"
            },
            "error_y": {
             "color": "#2a3f5f"
            },
            "marker": {
             "line": {
              "color": "#E5ECF6",
              "width": 0.5
             },
             "pattern": {
              "fillmode": "overlay",
              "size": 10,
              "solidity": 0.2
             }
            },
            "type": "bar"
           }
          ],
          "barpolar": [
           {
            "marker": {
             "line": {
              "color": "#E5ECF6",
              "width": 0.5
             },
             "pattern": {
              "fillmode": "overlay",
              "size": 10,
              "solidity": 0.2
             }
            },
            "type": "barpolar"
           }
          ],
          "carpet": [
           {
            "aaxis": {
             "endlinecolor": "#2a3f5f",
             "gridcolor": "white",
             "linecolor": "white",
             "minorgridcolor": "white",
             "startlinecolor": "#2a3f5f"
            },
            "baxis": {
             "endlinecolor": "#2a3f5f",
             "gridcolor": "white",
             "linecolor": "white",
             "minorgridcolor": "white",
             "startlinecolor": "#2a3f5f"
            },
            "type": "carpet"
           }
          ],
          "choropleth": [
           {
            "colorbar": {
             "outlinewidth": 0,
             "ticks": ""
            },
            "type": "choropleth"
           }
          ],
          "contour": [
           {
            "colorbar": {
             "outlinewidth": 0,
             "ticks": ""
            },
            "colorscale": [
             [
              0,
              "#0d0887"
             ],
             [
              0.1111111111111111,
              "#46039f"
             ],
             [
              0.2222222222222222,
              "#7201a8"
             ],
             [
              0.3333333333333333,
              "#9c179e"
             ],
             [
              0.4444444444444444,
              "#bd3786"
             ],
             [
              0.5555555555555556,
              "#d8576b"
             ],
             [
              0.6666666666666666,
              "#ed7953"
             ],
             [
              0.7777777777777778,
              "#fb9f3a"
             ],
             [
              0.8888888888888888,
              "#fdca26"
             ],
             [
              1,
              "#f0f921"
             ]
            ],
            "type": "contour"
           }
          ],
          "contourcarpet": [
           {
            "colorbar": {
             "outlinewidth": 0,
             "ticks": ""
            },
            "type": "contourcarpet"
           }
          ],
          "heatmap": [
           {
            "colorbar": {
             "outlinewidth": 0,
             "ticks": ""
            },
            "colorscale": [
             [
              0,
              "#0d0887"
             ],
             [
              0.1111111111111111,
              "#46039f"
             ],
             [
              0.2222222222222222,
              "#7201a8"
             ],
             [
              0.3333333333333333,
              "#9c179e"
             ],
             [
              0.4444444444444444,
              "#bd3786"
             ],
             [
              0.5555555555555556,
              "#d8576b"
             ],
             [
              0.6666666666666666,
              "#ed7953"
             ],
             [
              0.7777777777777778,
              "#fb9f3a"
             ],
             [
              0.8888888888888888,
              "#fdca26"
             ],
             [
              1,
              "#f0f921"
             ]
            ],
            "type": "heatmap"
           }
          ],
          "heatmapgl": [
           {
            "colorbar": {
             "outlinewidth": 0,
             "ticks": ""
            },
            "colorscale": [
             [
              0,
              "#0d0887"
             ],
             [
              0.1111111111111111,
              "#46039f"
             ],
             [
              0.2222222222222222,
              "#7201a8"
             ],
             [
              0.3333333333333333,
              "#9c179e"
             ],
             [
              0.4444444444444444,
              "#bd3786"
             ],
             [
              0.5555555555555556,
              "#d8576b"
             ],
             [
              0.6666666666666666,
              "#ed7953"
             ],
             [
              0.7777777777777778,
              "#fb9f3a"
             ],
             [
              0.8888888888888888,
              "#fdca26"
             ],
             [
              1,
              "#f0f921"
             ]
            ],
            "type": "heatmapgl"
           }
          ],
          "histogram": [
           {
            "marker": {
             "pattern": {
              "fillmode": "overlay",
              "size": 10,
              "solidity": 0.2
             }
            },
            "type": "histogram"
           }
          ],
          "histogram2d": [
           {
            "colorbar": {
             "outlinewidth": 0,
             "ticks": ""
            },
            "colorscale": [
             [
              0,
              "#0d0887"
             ],
             [
              0.1111111111111111,
              "#46039f"
             ],
             [
              0.2222222222222222,
              "#7201a8"
             ],
             [
              0.3333333333333333,
              "#9c179e"
             ],
             [
              0.4444444444444444,
              "#bd3786"
             ],
             [
              0.5555555555555556,
              "#d8576b"
             ],
             [
              0.6666666666666666,
              "#ed7953"
             ],
             [
              0.7777777777777778,
              "#fb9f3a"
             ],
             [
              0.8888888888888888,
              "#fdca26"
             ],
             [
              1,
              "#f0f921"
             ]
            ],
            "type": "histogram2d"
           }
          ],
          "histogram2dcontour": [
           {
            "colorbar": {
             "outlinewidth": 0,
             "ticks": ""
            },
            "colorscale": [
             [
              0,
              "#0d0887"
             ],
             [
              0.1111111111111111,
              "#46039f"
             ],
             [
              0.2222222222222222,
              "#7201a8"
             ],
             [
              0.3333333333333333,
              "#9c179e"
             ],
             [
              0.4444444444444444,
              "#bd3786"
             ],
             [
              0.5555555555555556,
              "#d8576b"
             ],
             [
              0.6666666666666666,
              "#ed7953"
             ],
             [
              0.7777777777777778,
              "#fb9f3a"
             ],
             [
              0.8888888888888888,
              "#fdca26"
             ],
             [
              1,
              "#f0f921"
             ]
            ],
            "type": "histogram2dcontour"
           }
          ],
          "mesh3d": [
           {
            "colorbar": {
             "outlinewidth": 0,
             "ticks": ""
            },
            "type": "mesh3d"
           }
          ],
          "parcoords": [
           {
            "line": {
             "colorbar": {
              "outlinewidth": 0,
              "ticks": ""
             }
            },
            "type": "parcoords"
           }
          ],
          "pie": [
           {
            "automargin": true,
            "type": "pie"
           }
          ],
          "scatter": [
           {
            "fillpattern": {
             "fillmode": "overlay",
             "size": 10,
             "solidity": 0.2
            },
            "type": "scatter"
           }
          ],
          "scatter3d": [
           {
            "line": {
             "colorbar": {
              "outlinewidth": 0,
              "ticks": ""
             }
            },
            "marker": {
             "colorbar": {
              "outlinewidth": 0,
              "ticks": ""
             }
            },
            "type": "scatter3d"
           }
          ],
          "scattercarpet": [
           {
            "marker": {
             "colorbar": {
              "outlinewidth": 0,
              "ticks": ""
             }
            },
            "type": "scattercarpet"
           }
          ],
          "scattergeo": [
           {
            "marker": {
             "colorbar": {
              "outlinewidth": 0,
              "ticks": ""
             }
            },
            "type": "scattergeo"
           }
          ],
          "scattergl": [
           {
            "marker": {
             "colorbar": {
              "outlinewidth": 0,
              "ticks": ""
             }
            },
            "type": "scattergl"
           }
          ],
          "scattermapbox": [
           {
            "marker": {
             "colorbar": {
              "outlinewidth": 0,
              "ticks": ""
             }
            },
            "type": "scattermapbox"
           }
          ],
          "scatterpolar": [
           {
            "marker": {
             "colorbar": {
              "outlinewidth": 0,
              "ticks": ""
             }
            },
            "type": "scatterpolar"
           }
          ],
          "scatterpolargl": [
           {
            "marker": {
             "colorbar": {
              "outlinewidth": 0,
              "ticks": ""
             }
            },
            "type": "scatterpolargl"
           }
          ],
          "scatterternary": [
           {
            "marker": {
             "colorbar": {
              "outlinewidth": 0,
              "ticks": ""
             }
            },
            "type": "scatterternary"
           }
          ],
          "surface": [
           {
            "colorbar": {
             "outlinewidth": 0,
             "ticks": ""
            },
            "colorscale": [
             [
              0,
              "#0d0887"
             ],
             [
              0.1111111111111111,
              "#46039f"
             ],
             [
              0.2222222222222222,
              "#7201a8"
             ],
             [
              0.3333333333333333,
              "#9c179e"
             ],
             [
              0.4444444444444444,
              "#bd3786"
             ],
             [
              0.5555555555555556,
              "#d8576b"
             ],
             [
              0.6666666666666666,
              "#ed7953"
             ],
             [
              0.7777777777777778,
              "#fb9f3a"
             ],
             [
              0.8888888888888888,
              "#fdca26"
             ],
             [
              1,
              "#f0f921"
             ]
            ],
            "type": "surface"
           }
          ],
          "table": [
           {
            "cells": {
             "fill": {
              "color": "#EBF0F8"
             },
             "line": {
              "color": "white"
             }
            },
            "header": {
             "fill": {
              "color": "#C8D4E3"
             },
             "line": {
              "color": "white"
             }
            },
            "type": "table"
           }
          ]
         },
         "layout": {
          "annotationdefaults": {
           "arrowcolor": "#2a3f5f",
           "arrowhead": 0,
           "arrowwidth": 1
          },
          "autotypenumbers": "strict",
          "coloraxis": {
           "colorbar": {
            "outlinewidth": 0,
            "ticks": ""
           }
          },
          "colorscale": {
           "diverging": [
            [
             0,
             "#8e0152"
            ],
            [
             0.1,
             "#c51b7d"
            ],
            [
             0.2,
             "#de77ae"
            ],
            [
             0.3,
             "#f1b6da"
            ],
            [
             0.4,
             "#fde0ef"
            ],
            [
             0.5,
             "#f7f7f7"
            ],
            [
             0.6,
             "#e6f5d0"
            ],
            [
             0.7,
             "#b8e186"
            ],
            [
             0.8,
             "#7fbc41"
            ],
            [
             0.9,
             "#4d9221"
            ],
            [
             1,
             "#276419"
            ]
           ],
           "sequential": [
            [
             0,
             "#0d0887"
            ],
            [
             0.1111111111111111,
             "#46039f"
            ],
            [
             0.2222222222222222,
             "#7201a8"
            ],
            [
             0.3333333333333333,
             "#9c179e"
            ],
            [
             0.4444444444444444,
             "#bd3786"
            ],
            [
             0.5555555555555556,
             "#d8576b"
            ],
            [
             0.6666666666666666,
             "#ed7953"
            ],
            [
             0.7777777777777778,
             "#fb9f3a"
            ],
            [
             0.8888888888888888,
             "#fdca26"
            ],
            [
             1,
             "#f0f921"
            ]
           ],
           "sequentialminus": [
            [
             0,
             "#0d0887"
            ],
            [
             0.1111111111111111,
             "#46039f"
            ],
            [
             0.2222222222222222,
             "#7201a8"
            ],
            [
             0.3333333333333333,
             "#9c179e"
            ],
            [
             0.4444444444444444,
             "#bd3786"
            ],
            [
             0.5555555555555556,
             "#d8576b"
            ],
            [
             0.6666666666666666,
             "#ed7953"
            ],
            [
             0.7777777777777778,
             "#fb9f3a"
            ],
            [
             0.8888888888888888,
             "#fdca26"
            ],
            [
             1,
             "#f0f921"
            ]
           ]
          },
          "colorway": [
           "#636efa",
           "#EF553B",
           "#00cc96",
           "#ab63fa",
           "#FFA15A",
           "#19d3f3",
           "#FF6692",
           "#B6E880",
           "#FF97FF",
           "#FECB52"
          ],
          "font": {
           "color": "#2a3f5f"
          },
          "geo": {
           "bgcolor": "white",
           "lakecolor": "white",
           "landcolor": "#E5ECF6",
           "showlakes": true,
           "showland": true,
           "subunitcolor": "white"
          },
          "hoverlabel": {
           "align": "left"
          },
          "hovermode": "closest",
          "mapbox": {
           "style": "light"
          },
          "paper_bgcolor": "white",
          "plot_bgcolor": "#E5ECF6",
          "polar": {
           "angularaxis": {
            "gridcolor": "white",
            "linecolor": "white",
            "ticks": ""
           },
           "bgcolor": "#E5ECF6",
           "radialaxis": {
            "gridcolor": "white",
            "linecolor": "white",
            "ticks": ""
           }
          },
          "scene": {
           "xaxis": {
            "backgroundcolor": "#E5ECF6",
            "gridcolor": "white",
            "gridwidth": 2,
            "linecolor": "white",
            "showbackground": true,
            "ticks": "",
            "zerolinecolor": "white"
           },
           "yaxis": {
            "backgroundcolor": "#E5ECF6",
            "gridcolor": "white",
            "gridwidth": 2,
            "linecolor": "white",
            "showbackground": true,
            "ticks": "",
            "zerolinecolor": "white"
           },
           "zaxis": {
            "backgroundcolor": "#E5ECF6",
            "gridcolor": "white",
            "gridwidth": 2,
            "linecolor": "white",
            "showbackground": true,
            "ticks": "",
            "zerolinecolor": "white"
           }
          },
          "shapedefaults": {
           "line": {
            "color": "#2a3f5f"
           }
          },
          "ternary": {
           "aaxis": {
            "gridcolor": "white",
            "linecolor": "white",
            "ticks": ""
           },
           "baxis": {
            "gridcolor": "white",
            "linecolor": "white",
            "ticks": ""
           },
           "bgcolor": "#E5ECF6",
           "caxis": {
            "gridcolor": "white",
            "linecolor": "white",
            "ticks": ""
           }
          },
          "title": {
           "x": 0.05
          },
          "xaxis": {
           "automargin": true,
           "gridcolor": "white",
           "linecolor": "white",
           "ticks": "",
           "title": {
            "standoff": 15
           },
           "zerolinecolor": "white",
           "zerolinewidth": 2
          },
          "yaxis": {
           "automargin": true,
           "gridcolor": "white",
           "linecolor": "white",
           "ticks": "",
           "title": {
            "standoff": 15
           },
           "zerolinecolor": "white",
           "zerolinewidth": 2
          }
         }
        },
        "title": {
         "text": "Average Response Time by Tract Population for Census Tracts, Davidson County 2017-2021"
        },
        "xaxis": {
         "anchor": "y",
         "domain": [
          0,
          1
         ],
         "title": {
          "text": "total_population"
         }
        },
        "yaxis": {
         "anchor": "x",
         "domain": [
          0,
          1
         ],
         "title": {
          "text": "avg_response_time"
         }
        }
       }
      },
      "text/html": [
       "<div>                            <div id=\"aa4d6ae8-a5ee-426d-a3eb-7bd34bc05d6e\" class=\"plotly-graph-div\" style=\"height:525px; width:100%;\"></div>            <script type=\"text/javascript\">                require([\"plotly\"], function(Plotly) {                    window.PLOTLYENV=window.PLOTLYENV || {};                                    if (document.getElementById(\"aa4d6ae8-a5ee-426d-a3eb-7bd34bc05d6e\")) {                    Plotly.newPlot(                        \"aa4d6ae8-a5ee-426d-a3eb-7bd34bc05d6e\",                        [{\"hovertemplate\":\"total_population=%{x}<br>avg_response_time=%{y}<extra></extra>\",\"legendgroup\":\"\",\"marker\":{\"color\":\"#636efa\",\"symbol\":\"circle\"},\"mode\":\"markers\",\"name\":\"\",\"orientation\":\"v\",\"showlegend\":false,\"x\":[3739.0,2627.0,6690.0,2761.0,4344.0,7472.0,5502.0,7713.0,4071.0,2335.0,6708.0,3457.0,910.0,3877.0,1459.0,6190.0,2961.0,5058.0,2484.0,5118.0,4792.0,4689.0,2792.0,1346.0,2764.0,3826.0,2379.0,5662.0,4179.0,5650.0,2316.0,2645.0,4865.0,5101.0,5946.0,10684.0,5326.0,5806.0,3782.0,2491.0,2747.0,4060.0,2607.0,5945.0,2728.0,4403.0,2913.0,5309.0,4459.0,5941.0,5620.0,2420.0,4402.0,4150.0,1496.0,3564.0,3024.0,8388.0,3507.0,5050.0,2821.0,4638.0,12590.0,1727.0,4070.0,4353.0,3030.0,2631.0,2991.0,4794.0,1624.0,8830.0,1117.0,2628.0,4070.0,6115.0,4740.0,4603.0,4073.0,3992.0,5186.0,4155.0,4344.0,6327.0,6436.0,4176.0,4257.0,5696.0,3282.0,6033.0,4909.0,3419.0,4978.0,3363.0,6082.0,5731.0,3707.0,3257.0,3749.0,6655.0,5661.0,2254.0,2490.0,4466.0,1962.0,2883.0,3719.0,3633.0,6020.0,4453.0,5662.0,4487.0,3337.0,5071.0,5240.0,2823.0,5276.0,4674.0,5856.0,5438.0,3260.0,5106.0,3282.0,4895.0,2087.0,4075.0,3131.0,3728.0,0.0,5830.0,3816.0,2369.0,3254.0,2754.0,0.0,3976.0,1868.0,4054.0,1886.0,5048.0,4520.0,2018.0,4216.0,5351.0,3048.0,3163.0,2631.0,5218.0,5337.0,4615.0,6086.0,1981.0,4252.0,2135.0,4676.0,4415.0,4710.0,3069.0,4572.0,2622.0,2997.0],\"xaxis\":\"x\",\"y\":[204.10169491525423,630.9439252336449,405.3204134366925,399.7510729613734,218.5487804878049,370.5151515151515,391.6780104712042,309.5326633165829,392.2,372.75,406.8684210526316,339.11805555555554,328.7846153846154,242.93893129770996,372.1067615658363,302.9005235602094,411.7240075614367,487.7552083333333,513.1833333333333,389.803738317757,336.8965517241379,352.2647058823529,253.45833333333331,252.87632508833923,304.54040404040404,353.85496183206106,582.75,467.6157894736842,496.55102040816325,333.5076923076923,486.9072164948454,355.8961038961039,284.18220338983053,422.5922330097088,396.7793103448276,449.6428571428572,432.94685990338166,400.97333333333336,349.9873417721519,312.6666666666667,314.37068965517244,351.3506493506493,297.82,364.6902050113896,309.85714285714283,389.0142857142857,269.62573099415204,457.71875,277.67283950617286,407.58575197889184,428.0282258064516,356.3953488372093,368.78551532033424,522.371237458194,366.7,344.18666666666667,177.6578947368421,561.8604651162791,547.0444444444445,331.0229007633588,506.3043478260869,440.986301369863,625.1977401129943,331.07462686567163,347.5,231.6,529.096,423.6772727272728,459.24444444444447,388.0869565217391,454.0183486238532,570.0166666666667,389.3076923076923,262.6,598.314606741573,380.22591362126246,339.13675213675214,368.622641509434,497.59183673469386,338.4479166666667,436.54761904761904,282.6125,391.0343007915568,302.0873015873016,345.5684210526316,525.6027397260274,514.4744525547445,414.0116279069768,398.6586345381526,303.91417322834644,365.6351351351352,319.5882352941176,308.60700389105057,283.91346153846155,362.2625698324022,382.4658227848101,508.7916666666667,525.5756097560976,351.95,379.25233644859816,394.9932584269663,403.1769230769231,624.6470588235294,285.80625,370.6470588235294,295.625,376.7213114754098,311.859649122807,387.635761589404,506.936,429.0326530612245,372.0890410958904,239.2325581395349,373.7714285714285,375.9127516778523,351.52941176470586,588.5166666666667,401.7307692307692,366.1449275362319,327.93172690763055,326.3688888888889,356.5248226950355,505.64401294498384,393.0904872389791,370.1038961038961,417.13392857142856,380.43715846994536,376.6044776119403,414.17043121149896,344.02933333333334,413.25396825396825,317.925,322.95454545454544,339.2619047619048,354.2328767123288,322.4558823529412,342.25,286.98214285714283,248.7625,493.3018867924528,539.5454545454545,355.2230769230769,440.2895277207392,321.9841584158416,384.3120567375887,363.7206132879046,627.1851851851852,472.15277777777777,458.5140186915888,467.5384615384616,364.31111111111113,474.0,280.47014925373134,289.8181818181818,289.11504424778764,373.957627118644,498.0416666666667,437.0923076923077,421.6016949152543,404.544061302682,422.9333333333333],\"yaxis\":\"y\",\"type\":\"scatter\"},{\"hovertemplate\":\"<b>OLS trendline</b><br>avg_response_time = 0.00878016 * total_population + 352.027<br>R<sup>2</sup>=0.029423<br><br>total_population=%{x}<br>avg_response_time=%{y} <b>(trend)</b><extra></extra>\",\"legendgroup\":\"\",\"marker\":{\"color\":\"#636efa\",\"symbol\":\"circle\"},\"mode\":\"lines\",\"name\":\"\",\"showlegend\":false,\"x\":[0.0,0.0,910.0,1117.0,1346.0,1459.0,1496.0,1624.0,1727.0,1868.0,1886.0,1962.0,1981.0,2018.0,2087.0,2135.0,2254.0,2316.0,2335.0,2369.0,2379.0,2420.0,2484.0,2490.0,2491.0,2607.0,2622.0,2627.0,2628.0,2631.0,2631.0,2645.0,2728.0,2747.0,2754.0,2761.0,2764.0,2792.0,2821.0,2823.0,2883.0,2913.0,2961.0,2991.0,2997.0,3024.0,3030.0,3048.0,3069.0,3131.0,3163.0,3254.0,3257.0,3260.0,3282.0,3282.0,3337.0,3363.0,3419.0,3457.0,3507.0,3564.0,3633.0,3707.0,3719.0,3728.0,3739.0,3749.0,3782.0,3816.0,3826.0,3877.0,3976.0,3992.0,4054.0,4060.0,4070.0,4070.0,4071.0,4073.0,4075.0,4150.0,4155.0,4176.0,4179.0,4216.0,4252.0,4257.0,4344.0,4344.0,4353.0,4402.0,4403.0,4415.0,4453.0,4459.0,4466.0,4487.0,4520.0,4572.0,4603.0,4615.0,4638.0,4674.0,4676.0,4689.0,4710.0,4740.0,4792.0,4794.0,4865.0,4895.0,4909.0,4978.0,5048.0,5050.0,5058.0,5071.0,5101.0,5106.0,5118.0,5186.0,5218.0,5240.0,5276.0,5309.0,5326.0,5337.0,5351.0,5438.0,5502.0,5620.0,5650.0,5661.0,5662.0,5662.0,5696.0,5731.0,5806.0,5830.0,5856.0,5941.0,5945.0,5946.0,6020.0,6033.0,6082.0,6086.0,6115.0,6190.0,6327.0,6436.0,6655.0,6690.0,6708.0,7472.0,7713.0,8388.0,8830.0,10684.0,12590.0],\"xaxis\":\"x\",\"y\":[352.0274409231356,352.0274409231356,360.01738835914944,361.8348818967922,363.84553899882206,364.8376973068106,365.16256330146166,366.2864240397142,367.1907807275267,368.428783572008,368.5868264883248,369.2541188016622,369.4209418799965,369.74580787464765,370.3516390538619,370.7730868307066,371.8179261108007,372.3622961558918,372.52911923422613,372.8276447428244,372.9154463630004,373.27543300572194,373.83736337484817,373.89004434695374,373.89882450897136,374.91732330301267,375.04902573327666,375.0929265433646,375.10170670538224,375.12804719143503,375.12804719143503,375.2509694596814,375.979722907142,376.14654598547634,376.20800711959953,376.2694682537227,376.2958087397755,376.5416532762682,376.79627797477855,376.8138382988138,377.3406480198696,377.60405288039755,378.0255006572422,378.28890551777016,378.34158648987574,378.5786508643509,378.63133183645647,378.78937475277326,378.9737581551428,379.51812820023383,379.79909338479695,380.59808812839833,380.6244286144512,380.65076910050396,380.8439326648911,380.8439326648911,381.32684157585896,381.5551257883165,382.046814861302,382.3804610179707,382.8194691188506,383.3199383538536,383.92576953306786,384.5755015223701,384.6808634665813,384.75988492473965,384.8564667069332,384.94426832710917,385.2340136736899,385.53253918228825,385.6203408024642,386.0681290653617,386.9373651051039,387.07784769738544,387.6222177424765,387.67489871458207,387.76270033475805,387.76270033475805,387.7714804967756,387.78904082081084,387.806601144846,388.46511329616584,388.50901410625386,388.6933975086234,388.71973799467617,389.0446039893273,389.3606898219608,389.4045906320488,390.1684647275798,390.1684647275798,390.2474861857382,390.67771412460047,390.6864942866181,390.79185623082924,391.12550238749793,391.1781833596035,391.2396444937267,391.4240278960963,391.713773242677,392.1703416675921,392.4425266901376,392.54788863434874,392.7498323607535,393.065918193387,393.08347851742224,393.197620623651,393.3820040260205,393.64540888654847,394.10197731146354,394.1195376354987,394.7429291387482,395.0063339992761,395.12925626752246,395.7350874467367,396.3496987879685,396.36725911200375,396.4375004081445,396.55164251437327,396.8150473749012,396.85894818498923,396.9643101292004,397.561361146397,397.84232633096013,398.03548989534727,398.3515757279808,398.6413210745615,398.7905838288607,398.88716561105423,399.0100878793006,399.77396197483165,400.3358923439579,401.3719514620344,401.6353563225623,401.7319381047559,401.7407182667735,401.7407182667735,402.0392437753718,402.34654944598776,403.00506159730753,403.2157854857299,403.44406969818743,404.19038346968324,404.22550411775364,404.23428427977126,404.88401626907347,404.99815837530224,405.4283863141645,405.4635069622349,405.71813166074526,406.376643812065,407.5795260084759,408.5365636683941,410.459419150248,410.7667248208639,410.9247677371806,417.63281151862526,419.7488305648663,425.6754399267447,429.5562715385229,445.8346919191489,462.56968072469],\"yaxis\":\"y\",\"type\":\"scatter\"}],                        {\"template\":{\"data\":{\"histogram2dcontour\":[{\"type\":\"histogram2dcontour\",\"colorbar\":{\"outlinewidth\":0,\"ticks\":\"\"},\"colorscale\":[[0.0,\"#0d0887\"],[0.1111111111111111,\"#46039f\"],[0.2222222222222222,\"#7201a8\"],[0.3333333333333333,\"#9c179e\"],[0.4444444444444444,\"#bd3786\"],[0.5555555555555556,\"#d8576b\"],[0.6666666666666666,\"#ed7953\"],[0.7777777777777778,\"#fb9f3a\"],[0.8888888888888888,\"#fdca26\"],[1.0,\"#f0f921\"]]}],\"choropleth\":[{\"type\":\"choropleth\",\"colorbar\":{\"outlinewidth\":0,\"ticks\":\"\"}}],\"histogram2d\":[{\"type\":\"histogram2d\",\"colorbar\":{\"outlinewidth\":0,\"ticks\":\"\"},\"colorscale\":[[0.0,\"#0d0887\"],[0.1111111111111111,\"#46039f\"],[0.2222222222222222,\"#7201a8\"],[0.3333333333333333,\"#9c179e\"],[0.4444444444444444,\"#bd3786\"],[0.5555555555555556,\"#d8576b\"],[0.6666666666666666,\"#ed7953\"],[0.7777777777777778,\"#fb9f3a\"],[0.8888888888888888,\"#fdca26\"],[1.0,\"#f0f921\"]]}],\"heatmap\":[{\"type\":\"heatmap\",\"colorbar\":{\"outlinewidth\":0,\"ticks\":\"\"},\"colorscale\":[[0.0,\"#0d0887\"],[0.1111111111111111,\"#46039f\"],[0.2222222222222222,\"#7201a8\"],[0.3333333333333333,\"#9c179e\"],[0.4444444444444444,\"#bd3786\"],[0.5555555555555556,\"#d8576b\"],[0.6666666666666666,\"#ed7953\"],[0.7777777777777778,\"#fb9f3a\"],[0.8888888888888888,\"#fdca26\"],[1.0,\"#f0f921\"]]}],\"heatmapgl\":[{\"type\":\"heatmapgl\",\"colorbar\":{\"outlinewidth\":0,\"ticks\":\"\"},\"colorscale\":[[0.0,\"#0d0887\"],[0.1111111111111111,\"#46039f\"],[0.2222222222222222,\"#7201a8\"],[0.3333333333333333,\"#9c179e\"],[0.4444444444444444,\"#bd3786\"],[0.5555555555555556,\"#d8576b\"],[0.6666666666666666,\"#ed7953\"],[0.7777777777777778,\"#fb9f3a\"],[0.8888888888888888,\"#fdca26\"],[1.0,\"#f0f921\"]]}],\"contourcarpet\":[{\"type\":\"contourcarpet\",\"colorbar\":{\"outlinewidth\":0,\"ticks\":\"\"}}],\"contour\":[{\"type\":\"contour\",\"colorbar\":{\"outlinewidth\":0,\"ticks\":\"\"},\"colorscale\":[[0.0,\"#0d0887\"],[0.1111111111111111,\"#46039f\"],[0.2222222222222222,\"#7201a8\"],[0.3333333333333333,\"#9c179e\"],[0.4444444444444444,\"#bd3786\"],[0.5555555555555556,\"#d8576b\"],[0.6666666666666666,\"#ed7953\"],[0.7777777777777778,\"#fb9f3a\"],[0.8888888888888888,\"#fdca26\"],[1.0,\"#f0f921\"]]}],\"surface\":[{\"type\":\"surface\",\"colorbar\":{\"outlinewidth\":0,\"ticks\":\"\"},\"colorscale\":[[0.0,\"#0d0887\"],[0.1111111111111111,\"#46039f\"],[0.2222222222222222,\"#7201a8\"],[0.3333333333333333,\"#9c179e\"],[0.4444444444444444,\"#bd3786\"],[0.5555555555555556,\"#d8576b\"],[0.6666666666666666,\"#ed7953\"],[0.7777777777777778,\"#fb9f3a\"],[0.8888888888888888,\"#fdca26\"],[1.0,\"#f0f921\"]]}],\"mesh3d\":[{\"type\":\"mesh3d\",\"colorbar\":{\"outlinewidth\":0,\"ticks\":\"\"}}],\"scatter\":[{\"fillpattern\":{\"fillmode\":\"overlay\",\"size\":10,\"solidity\":0.2},\"type\":\"scatter\"}],\"parcoords\":[{\"type\":\"parcoords\",\"line\":{\"colorbar\":{\"outlinewidth\":0,\"ticks\":\"\"}}}],\"scatterpolargl\":[{\"type\":\"scatterpolargl\",\"marker\":{\"colorbar\":{\"outlinewidth\":0,\"ticks\":\"\"}}}],\"bar\":[{\"error_x\":{\"color\":\"#2a3f5f\"},\"error_y\":{\"color\":\"#2a3f5f\"},\"marker\":{\"line\":{\"color\":\"#E5ECF6\",\"width\":0.5},\"pattern\":{\"fillmode\":\"overlay\",\"size\":10,\"solidity\":0.2}},\"type\":\"bar\"}],\"scattergeo\":[{\"type\":\"scattergeo\",\"marker\":{\"colorbar\":{\"outlinewidth\":0,\"ticks\":\"\"}}}],\"scatterpolar\":[{\"type\":\"scatterpolar\",\"marker\":{\"colorbar\":{\"outlinewidth\":0,\"ticks\":\"\"}}}],\"histogram\":[{\"marker\":{\"pattern\":{\"fillmode\":\"overlay\",\"size\":10,\"solidity\":0.2}},\"type\":\"histogram\"}],\"scattergl\":[{\"type\":\"scattergl\",\"marker\":{\"colorbar\":{\"outlinewidth\":0,\"ticks\":\"\"}}}],\"scatter3d\":[{\"type\":\"scatter3d\",\"line\":{\"colorbar\":{\"outlinewidth\":0,\"ticks\":\"\"}},\"marker\":{\"colorbar\":{\"outlinewidth\":0,\"ticks\":\"\"}}}],\"scattermapbox\":[{\"type\":\"scattermapbox\",\"marker\":{\"colorbar\":{\"outlinewidth\":0,\"ticks\":\"\"}}}],\"scatterternary\":[{\"type\":\"scatterternary\",\"marker\":{\"colorbar\":{\"outlinewidth\":0,\"ticks\":\"\"}}}],\"scattercarpet\":[{\"type\":\"scattercarpet\",\"marker\":{\"colorbar\":{\"outlinewidth\":0,\"ticks\":\"\"}}}],\"carpet\":[{\"aaxis\":{\"endlinecolor\":\"#2a3f5f\",\"gridcolor\":\"white\",\"linecolor\":\"white\",\"minorgridcolor\":\"white\",\"startlinecolor\":\"#2a3f5f\"},\"baxis\":{\"endlinecolor\":\"#2a3f5f\",\"gridcolor\":\"white\",\"linecolor\":\"white\",\"minorgridcolor\":\"white\",\"startlinecolor\":\"#2a3f5f\"},\"type\":\"carpet\"}],\"table\":[{\"cells\":{\"fill\":{\"color\":\"#EBF0F8\"},\"line\":{\"color\":\"white\"}},\"header\":{\"fill\":{\"color\":\"#C8D4E3\"},\"line\":{\"color\":\"white\"}},\"type\":\"table\"}],\"barpolar\":[{\"marker\":{\"line\":{\"color\":\"#E5ECF6\",\"width\":0.5},\"pattern\":{\"fillmode\":\"overlay\",\"size\":10,\"solidity\":0.2}},\"type\":\"barpolar\"}],\"pie\":[{\"automargin\":true,\"type\":\"pie\"}]},\"layout\":{\"autotypenumbers\":\"strict\",\"colorway\":[\"#636efa\",\"#EF553B\",\"#00cc96\",\"#ab63fa\",\"#FFA15A\",\"#19d3f3\",\"#FF6692\",\"#B6E880\",\"#FF97FF\",\"#FECB52\"],\"font\":{\"color\":\"#2a3f5f\"},\"hovermode\":\"closest\",\"hoverlabel\":{\"align\":\"left\"},\"paper_bgcolor\":\"white\",\"plot_bgcolor\":\"#E5ECF6\",\"polar\":{\"bgcolor\":\"#E5ECF6\",\"angularaxis\":{\"gridcolor\":\"white\",\"linecolor\":\"white\",\"ticks\":\"\"},\"radialaxis\":{\"gridcolor\":\"white\",\"linecolor\":\"white\",\"ticks\":\"\"}},\"ternary\":{\"bgcolor\":\"#E5ECF6\",\"aaxis\":{\"gridcolor\":\"white\",\"linecolor\":\"white\",\"ticks\":\"\"},\"baxis\":{\"gridcolor\":\"white\",\"linecolor\":\"white\",\"ticks\":\"\"},\"caxis\":{\"gridcolor\":\"white\",\"linecolor\":\"white\",\"ticks\":\"\"}},\"coloraxis\":{\"colorbar\":{\"outlinewidth\":0,\"ticks\":\"\"}},\"colorscale\":{\"sequential\":[[0.0,\"#0d0887\"],[0.1111111111111111,\"#46039f\"],[0.2222222222222222,\"#7201a8\"],[0.3333333333333333,\"#9c179e\"],[0.4444444444444444,\"#bd3786\"],[0.5555555555555556,\"#d8576b\"],[0.6666666666666666,\"#ed7953\"],[0.7777777777777778,\"#fb9f3a\"],[0.8888888888888888,\"#fdca26\"],[1.0,\"#f0f921\"]],\"sequentialminus\":[[0.0,\"#0d0887\"],[0.1111111111111111,\"#46039f\"],[0.2222222222222222,\"#7201a8\"],[0.3333333333333333,\"#9c179e\"],[0.4444444444444444,\"#bd3786\"],[0.5555555555555556,\"#d8576b\"],[0.6666666666666666,\"#ed7953\"],[0.7777777777777778,\"#fb9f3a\"],[0.8888888888888888,\"#fdca26\"],[1.0,\"#f0f921\"]],\"diverging\":[[0,\"#8e0152\"],[0.1,\"#c51b7d\"],[0.2,\"#de77ae\"],[0.3,\"#f1b6da\"],[0.4,\"#fde0ef\"],[0.5,\"#f7f7f7\"],[0.6,\"#e6f5d0\"],[0.7,\"#b8e186\"],[0.8,\"#7fbc41\"],[0.9,\"#4d9221\"],[1,\"#276419\"]]},\"xaxis\":{\"gridcolor\":\"white\",\"linecolor\":\"white\",\"ticks\":\"\",\"title\":{\"standoff\":15},\"zerolinecolor\":\"white\",\"automargin\":true,\"zerolinewidth\":2},\"yaxis\":{\"gridcolor\":\"white\",\"linecolor\":\"white\",\"ticks\":\"\",\"title\":{\"standoff\":15},\"zerolinecolor\":\"white\",\"automargin\":true,\"zerolinewidth\":2},\"scene\":{\"xaxis\":{\"backgroundcolor\":\"#E5ECF6\",\"gridcolor\":\"white\",\"linecolor\":\"white\",\"showbackground\":true,\"ticks\":\"\",\"zerolinecolor\":\"white\",\"gridwidth\":2},\"yaxis\":{\"backgroundcolor\":\"#E5ECF6\",\"gridcolor\":\"white\",\"linecolor\":\"white\",\"showbackground\":true,\"ticks\":\"\",\"zerolinecolor\":\"white\",\"gridwidth\":2},\"zaxis\":{\"backgroundcolor\":\"#E5ECF6\",\"gridcolor\":\"white\",\"linecolor\":\"white\",\"showbackground\":true,\"ticks\":\"\",\"zerolinecolor\":\"white\",\"gridwidth\":2}},\"shapedefaults\":{\"line\":{\"color\":\"#2a3f5f\"}},\"annotationdefaults\":{\"arrowcolor\":\"#2a3f5f\",\"arrowhead\":0,\"arrowwidth\":1},\"geo\":{\"bgcolor\":\"white\",\"landcolor\":\"#E5ECF6\",\"subunitcolor\":\"white\",\"showland\":true,\"showlakes\":true,\"lakecolor\":\"white\"},\"title\":{\"x\":0.05},\"mapbox\":{\"style\":\"light\"}}},\"xaxis\":{\"anchor\":\"y\",\"domain\":[0.0,1.0],\"title\":{\"text\":\"total_population\"}},\"yaxis\":{\"anchor\":\"x\",\"domain\":[0.0,1.0],\"title\":{\"text\":\"avg_response_time\"}},\"legend\":{\"tracegroupgap\":0},\"title\":{\"text\":\"Average Response Time by Tract Population for Census Tracts, Davidson County 2017-2021\"}},                        {\"responsive\": true}                    ).then(function(){\n",
       "                            \n",
       "var gd = document.getElementById('aa4d6ae8-a5ee-426d-a3eb-7bd34bc05d6e');\n",
       "var x = new MutationObserver(function (mutations, observer) {{\n",
       "        var display = window.getComputedStyle(gd).display;\n",
       "        if (!display || display === 'none') {{\n",
       "            console.log([gd, 'removed!']);\n",
       "            Plotly.purge(gd);\n",
       "            observer.disconnect();\n",
       "        }}\n",
       "}});\n",
       "\n",
       "// Listen for the removal of the full notebook cells\n",
       "var notebookContainer = gd.closest('#notebook-container');\n",
       "if (notebookContainer) {{\n",
       "    x.observe(notebookContainer, {childList: true});\n",
       "}}\n",
       "\n",
       "// Listen for the clearing of the current output cell\n",
       "var outputEl = gd.closest('.output');\n",
       "if (outputEl) {{\n",
       "    x.observe(outputEl, {childList: true});\n",
       "}}\n",
       "\n",
       "                        })                };                });            </script>        </div>"
      ]
     },
     "metadata": {},
     "output_type": "display_data"
    }
   ],
   "source": [
    "fig = px.scatter(inc_tract_gdf, x='total_population', y='avg_response_time', trendline='ols',\n",
    "    title=\"Average Response Time by Tract Population for Census Tracts, Davidson County 2017-2021\")\n",
    "fig.show()\n",
    "fig.write_html('avg_res_by_tract_population.html')"
   ]
  },
  {
   "cell_type": "code",
   "execution_count": 14,
   "id": "cf565098",
   "metadata": {
    "colab": {
     "base_uri": "https://localhost:8080/",
     "height": 542
    },
    "id": "cf565098",
    "outputId": "9afbe3e6-de8f-436d-91ff-c3cfba326046"
   },
   "outputs": [],
   "source": [
    "fig = px.choropleth(inc_tract_gdf, geojson=inc_tract_gdf.geometry, locations = inc_tract_gdf.index,\n",
    "                            color='avg_response_time',\n",
    "                            color_continuous_scale=\"Viridis\",\n",
    "                            range_color=(inc_tract_gdf['avg_response_time'].min(), inc_tract_gdf['avg_response_time'].max()),\n",
    "                            scope = \"usa\",\n",
    "                            title=\"Average Response Time by Census Tract, Davidson County 2017-2021\")\n",
    "fig.update_geos(fitbounds=\"locations\", visible=True)\n",
    "fig.update_layout(margin={\"r\":0,\"t\":40,\"l\":0,\"b\":0})\n",
    "fig.write_html('avg_res_time_by_tract.html')"
   ]
  },
  {
   "cell_type": "code",
   "execution_count": 15,
   "id": "7fdb630d",
   "metadata": {
    "colab": {
     "base_uri": "https://localhost:8080/",
     "height": 542
    },
    "id": "7fdb630d",
    "outputId": "8e0762e4-7f93-44f6-adfb-c3a8662ff281"
   },
   "outputs": [],
   "source": [
    "fig = px.choropleth(inc_tract_gdf, geojson=inc_tract_gdf.geometry, locations = inc_tract_gdf.index,\n",
    "                            color='total_population',\n",
    "                            color_continuous_scale=\"Viridis\",\n",
    "                            range_color=(inc_tract_gdf['total_population'].min(), inc_tract_gdf['total_population'].max()),\n",
    "                            scope = \"usa\",\n",
    "                            title=\"Population by Census Tract, Davidson County 2017-2021\")\n",
    "fig.update_geos(fitbounds=\"locations\", visible=True)\n",
    "fig.update_layout(margin={\"r\":0,\"t\":40,\"l\":0,\"b\":0})\n",
    "fig.write_html('pop_by_tract.html')"
   ]
  },
  {
   "cell_type": "markdown",
   "id": "2a684793",
   "metadata": {
    "id": "2a684793"
   },
   "source": [
    "- **Notable Conclusions for Section 3: Response Time Distribution on Incidents Across Census Tracts**\n",
    "    - The outer regions of Davidson County that are further away from the city tend to have the highest response times. This implies that emergency response locations in areas farther from the city are more spread out or that those regions have a perceived lower priority. This indicates that there should be a greater emergency response presence in those outer regions, especially on the west side of Davidson County.\n",
    "    - There is a slightly positive correlation between the number of people in a tract and its average response time. A few of the regions with the highest populations also have high response times, notably tracts 47037019114 (southeast corner of Davidson) and 47037018301 (on the west side of Davidson). This seems to make sense, as it is more difficult to reach everybody at a similar time when there is a wider range of people. "
   ]
  },
  {
   "cell_type": "markdown",
   "id": "13bbb84c",
   "metadata": {
    "id": "13bbb84c"
   },
   "source": [
    "## 4: DEMOGRAPHIC CORRELATION ON THE INCIDENTS AND RESPONSE TIME DISTRIBUTION"
   ]
  },
  {
   "cell_type": "markdown",
   "id": "12c3040d",
   "metadata": {
    "id": "12c3040d"
   },
   "source": [
    "- Get demographic information along with average response time for each tract into a CSV. Properly for the possibility that some values factored into averages may be null or less than zero."
   ]
  },
  {
   "cell_type": "code",
   "execution_count": null,
   "id": "2f02db06",
   "metadata": {
    "id": "2f02db06",
    "outputId": "9a360afc-cb06-4d24-df42-d5868f7c9c64"
   },
   "outputs": [
    {
     "data": {
      "text/plain": [
       "{'QueryExecutionId': 'a3afcc66-3b7a-46d2-829c-5cfe1e6cd059',\n",
       " 'ResponseMetadata': {'RequestId': '8507e569-feec-4ae0-a4b8-dfbe27dfe2a6',\n",
       "  'HTTPStatusCode': 200,\n",
       "  'HTTPHeaders': {'date': 'Thu, 27 Apr 2023 21:05:54 GMT',\n",
       "   'content-type': 'application/x-amz-json-1.1',\n",
       "   'content-length': '59',\n",
       "   'connection': 'keep-alive',\n",
       "   'x-amzn-requestid': '8507e569-feec-4ae0-a4b8-dfbe27dfe2a6'},\n",
       "  'RetryAttempts': 0}}"
      ]
     },
     "execution_count": 187,
     "metadata": {},
     "output_type": "execute_result"
    }
   ],
   "source": [
    "athena.start_query_execution(\n",
    "    QueryString = 'SELECT geoid, wkt, COUNT(*) AS num_incidents, AVG(CASE WHEN median_household_income > 0 THEN median_household_income ELSE NULL END) AS median_household_income, AVG(CASE WHEN median_family_income > 0 THEN median_family_income ELSE NULL END) AS median_family_income, AVG(CASE WHEN median_housing_value > 0 THEN median_housing_value ELSE NULL END) AS median_housing_value, AVG(CASE WHEN median_gross_rent > 0 THEN median_gross_rent ELSE NULL END) AS median_gross_rent, AVG(CASE WHEN total_population > 0 THEN total_population ELSE NULL END) AS total_population, AVG(CASE WHEN white > 0 THEN white ELSE NULL END) AS white, AVG(CASE WHEN african_american > 0 THEN african_american ELSE NULL END) AS african_american, AVG(CASE WHEN hispanic > 0 THEN hispanic ELSE NULL END) AS hispanic, AVG(CASE WHEN response_time_sec > 0 THEN response_time_sec ELSE NULL END) AS avg_response_time FROM \"econ_incidents\" GROUP BY geoid, wkt;',\n",
    "    QueryExecutionContext = {\n",
    "        'Database': 'econ'\n",
    "    },\n",
    "    ResultConfiguration={\n",
    "        'OutputLocation': 's3://final-proj-schachtj/output'\n",
    "    }\n",
    ")"
   ]
  },
  {
   "cell_type": "code",
   "execution_count": null,
   "id": "678a57f8",
   "metadata": {
    "id": "678a57f8",
    "outputId": "27c71427-5166-4893-fb8a-eb524e9f7f0f"
   },
   "outputs": [
    {
     "data": {
      "text/plain": [
       "{'QueryExecution': {'QueryExecutionId': 'a3afcc66-3b7a-46d2-829c-5cfe1e6cd059',\n",
       "  'Query': 'SELECT geoid, wkt, COUNT(*) AS num_incidents, AVG(CASE WHEN median_household_income > 0 THEN median_household_income ELSE NULL END) AS median_household_income, AVG(CASE WHEN median_family_income > 0 THEN median_family_income ELSE NULL END) AS median_family_income, AVG(CASE WHEN median_housing_value > 0 THEN median_housing_value ELSE NULL END) AS median_housing_value, AVG(CASE WHEN median_gross_rent > 0 THEN median_gross_rent ELSE NULL END) AS median_gross_rent, AVG(CASE WHEN total_population > 0 THEN total_population ELSE NULL END) AS total_population, AVG(CASE WHEN white > 0 THEN white ELSE NULL END) AS white, AVG(CASE WHEN african_american > 0 THEN african_american ELSE NULL END) AS african_american, AVG(CASE WHEN hispanic > 0 THEN hispanic ELSE NULL END) AS hispanic, AVG(CASE WHEN response_time_sec > 0 THEN response_time_sec ELSE NULL END) AS avg_response_time FROM \"econ_incidents\" GROUP BY geoid, wkt',\n",
       "  'StatementType': 'DML',\n",
       "  'ResultConfiguration': {'OutputLocation': 's3://final-proj-schachtj/output/a3afcc66-3b7a-46d2-829c-5cfe1e6cd059.csv'},\n",
       "  'ResultReuseConfiguration': {'ResultReuseByAgeConfiguration': {'Enabled': False}},\n",
       "  'QueryExecutionContext': {'Database': 'econ'},\n",
       "  'Status': {'State': 'SUCCEEDED',\n",
       "   'SubmissionDateTime': datetime.datetime(2023, 4, 27, 16, 5, 54, 539000, tzinfo=tzlocal()),\n",
       "   'CompletionDateTime': datetime.datetime(2023, 4, 27, 16, 5, 55, 876000, tzinfo=tzlocal())},\n",
       "  'Statistics': {'EngineExecutionTimeInMillis': 1141,\n",
       "   'DataScannedInBytes': 1087974,\n",
       "   'TotalExecutionTimeInMillis': 1337,\n",
       "   'QueryQueueTimeInMillis': 162,\n",
       "   'QueryPlanningTimeInMillis': 146,\n",
       "   'ServiceProcessingTimeInMillis': 34,\n",
       "   'ResultReuseInformation': {'ReusedPreviousResult': False}},\n",
       "  'WorkGroup': 'primary',\n",
       "  'EngineVersion': {'SelectedEngineVersion': 'AUTO',\n",
       "   'EffectiveEngineVersion': 'Athena engine version 2'},\n",
       "  'SubstatementType': 'SELECT'},\n",
       " 'ResponseMetadata': {'RequestId': '1b8ba05d-4192-4771-b2e8-f3c4ddfb4c81',\n",
       "  'HTTPStatusCode': 200,\n",
       "  'HTTPHeaders': {'date': 'Thu, 27 Apr 2023 21:06:31 GMT',\n",
       "   'content-type': 'application/x-amz-json-1.1',\n",
       "   'content-length': '3392',\n",
       "   'connection': 'keep-alive',\n",
       "   'x-amzn-requestid': '1b8ba05d-4192-4771-b2e8-f3c4ddfb4c81'},\n",
       "  'RetryAttempts': 0}}"
      ]
     },
     "execution_count": 188,
     "metadata": {},
     "output_type": "execute_result"
    }
   ],
   "source": [
    "athena.get_query_execution(QueryExecutionId = 'a3afcc66-3b7a-46d2-829c-5cfe1e6cd059')"
   ]
  },
  {
   "cell_type": "markdown",
   "id": "7d4fd51b",
   "metadata": {
    "id": "7d4fd51b"
   },
   "source": [
    "- Read into CSV"
   ]
  },
  {
   "cell_type": "code",
   "execution_count": null,
   "id": "0628c3a4",
   "metadata": {
    "id": "0628c3a4"
   },
   "outputs": [],
   "source": [
    "s3.download_file('final-proj-schachtj', 'output/a3afcc66-3b7a-46d2-829c-5cfe1e6cd059.csv', 'avg_res_and_demographics.csv')"
   ]
  },
  {
   "cell_type": "code",
   "execution_count": 16,
   "id": "af1e9610",
   "metadata": {
    "colab": {
     "base_uri": "https://localhost:8080/",
     "height": 1008
    },
    "id": "af1e9610",
    "outputId": "6af01190-1943-4960-84c4-b2fe17ea03f1"
   },
   "outputs": [
    {
     "data": {
      "text/html": [
       "<div>\n",
       "<style scoped>\n",
       "    .dataframe tbody tr th:only-of-type {\n",
       "        vertical-align: middle;\n",
       "    }\n",
       "\n",
       "    .dataframe tbody tr th {\n",
       "        vertical-align: top;\n",
       "    }\n",
       "\n",
       "    .dataframe thead th {\n",
       "        text-align: right;\n",
       "    }\n",
       "</style>\n",
       "<table border=\"1\" class=\"dataframe\">\n",
       "  <thead>\n",
       "    <tr style=\"text-align: right;\">\n",
       "      <th></th>\n",
       "      <th>geoid</th>\n",
       "      <th>num_incidents</th>\n",
       "      <th>median_household_income</th>\n",
       "      <th>median_family_income</th>\n",
       "      <th>median_housing_value</th>\n",
       "      <th>median_gross_rent</th>\n",
       "      <th>total_population</th>\n",
       "      <th>white</th>\n",
       "      <th>african_american</th>\n",
       "      <th>hispanic</th>\n",
       "      <th>avg_response_time</th>\n",
       "      <th>geometry</th>\n",
       "    </tr>\n",
       "  </thead>\n",
       "  <tbody>\n",
       "    <tr>\n",
       "      <th>0</th>\n",
       "      <td>47037015620</td>\n",
       "      <td>203</td>\n",
       "      <td>51596.0</td>\n",
       "      <td>63377.0</td>\n",
       "      <td>137000.0</td>\n",
       "      <td>836.0</td>\n",
       "      <td>7713.0</td>\n",
       "      <td>3461.0</td>\n",
       "      <td>3204.0</td>\n",
       "      <td>1263.0</td>\n",
       "      <td>336.677596</td>\n",
       "      <td>POLYGON ((-86.636183 36.071874, -86.635672 36....</td>\n",
       "    </tr>\n",
       "    <tr>\n",
       "      <th>1</th>\n",
       "      <td>47037011600</td>\n",
       "      <td>26</td>\n",
       "      <td>51106.0</td>\n",
       "      <td>73015.0</td>\n",
       "      <td>163700.0</td>\n",
       "      <td>874.0</td>\n",
       "      <td>4071.0</td>\n",
       "      <td>2954.0</td>\n",
       "      <td>1090.0</td>\n",
       "      <td>NaN</td>\n",
       "      <td>392.200000</td>\n",
       "      <td>POLYGON ((-86.727575 36.188247, -86.727374 36....</td>\n",
       "    </tr>\n",
       "    <tr>\n",
       "      <th>2</th>\n",
       "      <td>47037010103</td>\n",
       "      <td>227</td>\n",
       "      <td>67250.0</td>\n",
       "      <td>80592.0</td>\n",
       "      <td>201500.0</td>\n",
       "      <td>985.0</td>\n",
       "      <td>2627.0</td>\n",
       "      <td>2422.0</td>\n",
       "      <td>144.0</td>\n",
       "      <td>39.0</td>\n",
       "      <td>639.928910</td>\n",
       "      <td>POLYGON ((-86.917518 36.339757, -86.9174659999...</td>\n",
       "    </tr>\n",
       "    <tr>\n",
       "      <th>3</th>\n",
       "      <td>47037015612</td>\n",
       "      <td>407</td>\n",
       "      <td>49878.0</td>\n",
       "      <td>59476.0</td>\n",
       "      <td>137200.0</td>\n",
       "      <td>981.0</td>\n",
       "      <td>6690.0</td>\n",
       "      <td>3552.0</td>\n",
       "      <td>2651.0</td>\n",
       "      <td>429.0</td>\n",
       "      <td>413.897098</td>\n",
       "      <td>POLYGON ((-86.666478 36.103628, -86.666206 36....</td>\n",
       "    </tr>\n",
       "    <tr>\n",
       "      <th>4</th>\n",
       "      <td>47037016000</td>\n",
       "      <td>200</td>\n",
       "      <td>34688.0</td>\n",
       "      <td>27262.0</td>\n",
       "      <td>112200.0</td>\n",
       "      <td>755.0</td>\n",
       "      <td>910.0</td>\n",
       "      <td>202.0</td>\n",
       "      <td>681.0</td>\n",
       "      <td>10.0</td>\n",
       "      <td>337.463158</td>\n",
       "      <td>POLYGON ((-86.775159 36.149175, -86.775035 36....</td>\n",
       "    </tr>\n",
       "    <tr>\n",
       "      <th>...</th>\n",
       "      <td>...</td>\n",
       "      <td>...</td>\n",
       "      <td>...</td>\n",
       "      <td>...</td>\n",
       "      <td>...</td>\n",
       "      <td>...</td>\n",
       "      <td>...</td>\n",
       "      <td>...</td>\n",
       "      <td>...</td>\n",
       "      <td>...</td>\n",
       "      <td>...</td>\n",
       "      <td>...</td>\n",
       "    </tr>\n",
       "    <tr>\n",
       "      <th>156</th>\n",
       "      <td>47037016700</td>\n",
       "      <td>144</td>\n",
       "      <td>94331.0</td>\n",
       "      <td>157991.0</td>\n",
       "      <td>606000.0</td>\n",
       "      <td>1382.0</td>\n",
       "      <td>5106.0</td>\n",
       "      <td>4597.0</td>\n",
       "      <td>150.0</td>\n",
       "      <td>92.0</td>\n",
       "      <td>375.201493</td>\n",
       "      <td>POLYGON ((-86.847596 36.131537, -86.847411 36....</td>\n",
       "    </tr>\n",
       "    <tr>\n",
       "      <th>157</th>\n",
       "      <td>47037013500</td>\n",
       "      <td>83</td>\n",
       "      <td>45625.0</td>\n",
       "      <td>56384.0</td>\n",
       "      <td>270000.0</td>\n",
       "      <td>875.0</td>\n",
       "      <td>2087.0</td>\n",
       "      <td>1402.0</td>\n",
       "      <td>503.0</td>\n",
       "      <td>130.0</td>\n",
       "      <td>374.986842</td>\n",
       "      <td>POLYGON ((-86.836518 36.153923999999996, -86.8...</td>\n",
       "    </tr>\n",
       "    <tr>\n",
       "      <th>158</th>\n",
       "      <td>47037012802</td>\n",
       "      <td>114</td>\n",
       "      <td>36855.0</td>\n",
       "      <td>43179.0</td>\n",
       "      <td>104700.0</td>\n",
       "      <td>928.0</td>\n",
       "      <td>4075.0</td>\n",
       "      <td>1136.0</td>\n",
       "      <td>2858.0</td>\n",
       "      <td>69.0</td>\n",
       "      <td>420.900901</td>\n",
       "      <td>POLYGON ((-86.893164 36.211861, -86.893091 36....</td>\n",
       "    </tr>\n",
       "    <tr>\n",
       "      <th>159</th>\n",
       "      <td>47037018407</td>\n",
       "      <td>34</td>\n",
       "      <td>95571.0</td>\n",
       "      <td>98209.0</td>\n",
       "      <td>248400.0</td>\n",
       "      <td>NaN</td>\n",
       "      <td>4520.0</td>\n",
       "      <td>3940.0</td>\n",
       "      <td>212.0</td>\n",
       "      <td>111.0</td>\n",
       "      <td>539.545455</td>\n",
       "      <td>POLYGON ((-87.023179 36.076855, -87.022582 36....</td>\n",
       "    </tr>\n",
       "    <tr>\n",
       "      <th>160</th>\n",
       "      <td>47037013602</td>\n",
       "      <td>70</td>\n",
       "      <td>23611.0</td>\n",
       "      <td>NaN</td>\n",
       "      <td>NaN</td>\n",
       "      <td>623.0</td>\n",
       "      <td>1868.0</td>\n",
       "      <td>227.0</td>\n",
       "      <td>1600.0</td>\n",
       "      <td>19.0</td>\n",
       "      <td>358.092308</td>\n",
       "      <td>POLYGON ((-86.837074 36.169872999999995, -86.8...</td>\n",
       "    </tr>\n",
       "  </tbody>\n",
       "</table>\n",
       "<p>161 rows × 12 columns</p>\n",
       "</div>"
      ],
      "text/plain": [
       "           geoid  num_incidents  median_household_income  \\\n",
       "0    47037015620            203                  51596.0   \n",
       "1    47037011600             26                  51106.0   \n",
       "2    47037010103            227                  67250.0   \n",
       "3    47037015612            407                  49878.0   \n",
       "4    47037016000            200                  34688.0   \n",
       "..           ...            ...                      ...   \n",
       "156  47037016700            144                  94331.0   \n",
       "157  47037013500             83                  45625.0   \n",
       "158  47037012802            114                  36855.0   \n",
       "159  47037018407             34                  95571.0   \n",
       "160  47037013602             70                  23611.0   \n",
       "\n",
       "     median_family_income  median_housing_value  median_gross_rent  \\\n",
       "0                 63377.0              137000.0              836.0   \n",
       "1                 73015.0              163700.0              874.0   \n",
       "2                 80592.0              201500.0              985.0   \n",
       "3                 59476.0              137200.0              981.0   \n",
       "4                 27262.0              112200.0              755.0   \n",
       "..                    ...                   ...                ...   \n",
       "156              157991.0              606000.0             1382.0   \n",
       "157               56384.0              270000.0              875.0   \n",
       "158               43179.0              104700.0              928.0   \n",
       "159               98209.0              248400.0                NaN   \n",
       "160                   NaN                   NaN              623.0   \n",
       "\n",
       "     total_population   white  african_american  hispanic  avg_response_time  \\\n",
       "0              7713.0  3461.0            3204.0    1263.0         336.677596   \n",
       "1              4071.0  2954.0            1090.0       NaN         392.200000   \n",
       "2              2627.0  2422.0             144.0      39.0         639.928910   \n",
       "3              6690.0  3552.0            2651.0     429.0         413.897098   \n",
       "4               910.0   202.0             681.0      10.0         337.463158   \n",
       "..                ...     ...               ...       ...                ...   \n",
       "156            5106.0  4597.0             150.0      92.0         375.201493   \n",
       "157            2087.0  1402.0             503.0     130.0         374.986842   \n",
       "158            4075.0  1136.0            2858.0      69.0         420.900901   \n",
       "159            4520.0  3940.0             212.0     111.0         539.545455   \n",
       "160            1868.0   227.0            1600.0      19.0         358.092308   \n",
       "\n",
       "                                              geometry  \n",
       "0    POLYGON ((-86.636183 36.071874, -86.635672 36....  \n",
       "1    POLYGON ((-86.727575 36.188247, -86.727374 36....  \n",
       "2    POLYGON ((-86.917518 36.339757, -86.9174659999...  \n",
       "3    POLYGON ((-86.666478 36.103628, -86.666206 36....  \n",
       "4    POLYGON ((-86.775159 36.149175, -86.775035 36....  \n",
       "..                                                 ...  \n",
       "156  POLYGON ((-86.847596 36.131537, -86.847411 36....  \n",
       "157  POLYGON ((-86.836518 36.153923999999996, -86.8...  \n",
       "158  POLYGON ((-86.893164 36.211861, -86.893091 36....  \n",
       "159  POLYGON ((-87.023179 36.076855, -87.022582 36....  \n",
       "160  POLYGON ((-86.837074 36.169872999999995, -86.8...  \n",
       "\n",
       "[161 rows x 12 columns]"
      ]
     },
     "execution_count": 16,
     "metadata": {},
     "output_type": "execute_result"
    }
   ],
   "source": [
    "avg_res_and_demographics = pd.read_csv('avg_res_and_demographics.csv')\n",
    "avg_res_and_demographics['geometry'] = avg_res_and_demographics['wkt'].apply(shapely.wkt.loads)\n",
    "avg_res_and_demographics = avg_res_and_demographics.drop('wkt', axis=1)\n",
    "avg_res_and_demographics"
   ]
  },
  {
   "cell_type": "code",
   "execution_count": 17,
   "id": "d72d90ea",
   "metadata": {
    "colab": {
     "base_uri": "https://localhost:8080/",
     "height": 1213
    },
    "id": "d72d90ea",
    "outputId": "b966a72a-60bb-492a-dfd3-37b8f6634ec5"
   },
   "outputs": [
    {
     "data": {
      "text/html": [
       "<div>\n",
       "<style scoped>\n",
       "    .dataframe tbody tr th:only-of-type {\n",
       "        vertical-align: middle;\n",
       "    }\n",
       "\n",
       "    .dataframe tbody tr th {\n",
       "        vertical-align: top;\n",
       "    }\n",
       "\n",
       "    .dataframe thead th {\n",
       "        text-align: right;\n",
       "    }\n",
       "</style>\n",
       "<table border=\"1\" class=\"dataframe\">\n",
       "  <thead>\n",
       "    <tr style=\"text-align: right;\">\n",
       "      <th></th>\n",
       "      <th>geoid</th>\n",
       "      <th>num_incidents</th>\n",
       "      <th>median_household_income</th>\n",
       "      <th>median_family_income</th>\n",
       "      <th>median_housing_value</th>\n",
       "      <th>median_gross_rent</th>\n",
       "      <th>total_population</th>\n",
       "      <th>white</th>\n",
       "      <th>african_american</th>\n",
       "      <th>hispanic</th>\n",
       "      <th>avg_response_time</th>\n",
       "      <th>geometry</th>\n",
       "    </tr>\n",
       "    <tr>\n",
       "      <th>geoid</th>\n",
       "      <th></th>\n",
       "      <th></th>\n",
       "      <th></th>\n",
       "      <th></th>\n",
       "      <th></th>\n",
       "      <th></th>\n",
       "      <th></th>\n",
       "      <th></th>\n",
       "      <th></th>\n",
       "      <th></th>\n",
       "      <th></th>\n",
       "      <th></th>\n",
       "    </tr>\n",
       "  </thead>\n",
       "  <tbody>\n",
       "    <tr>\n",
       "      <th>47037015620</th>\n",
       "      <td>47037015620</td>\n",
       "      <td>203</td>\n",
       "      <td>51596.0</td>\n",
       "      <td>63377.0</td>\n",
       "      <td>137000.0</td>\n",
       "      <td>836.0</td>\n",
       "      <td>7713.0</td>\n",
       "      <td>3461.0</td>\n",
       "      <td>3204.0</td>\n",
       "      <td>1263.0</td>\n",
       "      <td>336.677596</td>\n",
       "      <td>POLYGON ((-86.63618 36.07187, -86.63567 36.073...</td>\n",
       "    </tr>\n",
       "    <tr>\n",
       "      <th>47037011600</th>\n",
       "      <td>47037011600</td>\n",
       "      <td>26</td>\n",
       "      <td>51106.0</td>\n",
       "      <td>73015.0</td>\n",
       "      <td>163700.0</td>\n",
       "      <td>874.0</td>\n",
       "      <td>4071.0</td>\n",
       "      <td>2954.0</td>\n",
       "      <td>1090.0</td>\n",
       "      <td>NaN</td>\n",
       "      <td>392.200000</td>\n",
       "      <td>POLYGON ((-86.72758 36.18825, -86.72737 36.188...</td>\n",
       "    </tr>\n",
       "    <tr>\n",
       "      <th>47037010103</th>\n",
       "      <td>47037010103</td>\n",
       "      <td>227</td>\n",
       "      <td>67250.0</td>\n",
       "      <td>80592.0</td>\n",
       "      <td>201500.0</td>\n",
       "      <td>985.0</td>\n",
       "      <td>2627.0</td>\n",
       "      <td>2422.0</td>\n",
       "      <td>144.0</td>\n",
       "      <td>39.0</td>\n",
       "      <td>639.928910</td>\n",
       "      <td>POLYGON ((-86.91752 36.33976, -86.91747 36.339...</td>\n",
       "    </tr>\n",
       "    <tr>\n",
       "      <th>47037015612</th>\n",
       "      <td>47037015612</td>\n",
       "      <td>407</td>\n",
       "      <td>49878.0</td>\n",
       "      <td>59476.0</td>\n",
       "      <td>137200.0</td>\n",
       "      <td>981.0</td>\n",
       "      <td>6690.0</td>\n",
       "      <td>3552.0</td>\n",
       "      <td>2651.0</td>\n",
       "      <td>429.0</td>\n",
       "      <td>413.897098</td>\n",
       "      <td>POLYGON ((-86.66648 36.10363, -86.66621 36.104...</td>\n",
       "    </tr>\n",
       "    <tr>\n",
       "      <th>47037016000</th>\n",
       "      <td>47037016000</td>\n",
       "      <td>200</td>\n",
       "      <td>34688.0</td>\n",
       "      <td>27262.0</td>\n",
       "      <td>112200.0</td>\n",
       "      <td>755.0</td>\n",
       "      <td>910.0</td>\n",
       "      <td>202.0</td>\n",
       "      <td>681.0</td>\n",
       "      <td>10.0</td>\n",
       "      <td>337.463158</td>\n",
       "      <td>POLYGON ((-86.77516 36.14917, -86.77504 36.149...</td>\n",
       "    </tr>\n",
       "    <tr>\n",
       "      <th>...</th>\n",
       "      <td>...</td>\n",
       "      <td>...</td>\n",
       "      <td>...</td>\n",
       "      <td>...</td>\n",
       "      <td>...</td>\n",
       "      <td>...</td>\n",
       "      <td>...</td>\n",
       "      <td>...</td>\n",
       "      <td>...</td>\n",
       "      <td>...</td>\n",
       "      <td>...</td>\n",
       "      <td>...</td>\n",
       "    </tr>\n",
       "    <tr>\n",
       "      <th>47037016700</th>\n",
       "      <td>47037016700</td>\n",
       "      <td>144</td>\n",
       "      <td>94331.0</td>\n",
       "      <td>157991.0</td>\n",
       "      <td>606000.0</td>\n",
       "      <td>1382.0</td>\n",
       "      <td>5106.0</td>\n",
       "      <td>4597.0</td>\n",
       "      <td>150.0</td>\n",
       "      <td>92.0</td>\n",
       "      <td>375.201493</td>\n",
       "      <td>POLYGON ((-86.84760 36.13154, -86.84741 36.132...</td>\n",
       "    </tr>\n",
       "    <tr>\n",
       "      <th>47037013500</th>\n",
       "      <td>47037013500</td>\n",
       "      <td>83</td>\n",
       "      <td>45625.0</td>\n",
       "      <td>56384.0</td>\n",
       "      <td>270000.0</td>\n",
       "      <td>875.0</td>\n",
       "      <td>2087.0</td>\n",
       "      <td>1402.0</td>\n",
       "      <td>503.0</td>\n",
       "      <td>130.0</td>\n",
       "      <td>374.986842</td>\n",
       "      <td>POLYGON ((-86.83652 36.15392, -86.83518 36.153...</td>\n",
       "    </tr>\n",
       "    <tr>\n",
       "      <th>47037012802</th>\n",
       "      <td>47037012802</td>\n",
       "      <td>114</td>\n",
       "      <td>36855.0</td>\n",
       "      <td>43179.0</td>\n",
       "      <td>104700.0</td>\n",
       "      <td>928.0</td>\n",
       "      <td>4075.0</td>\n",
       "      <td>1136.0</td>\n",
       "      <td>2858.0</td>\n",
       "      <td>69.0</td>\n",
       "      <td>420.900901</td>\n",
       "      <td>POLYGON ((-86.89316 36.21186, -86.89309 36.211...</td>\n",
       "    </tr>\n",
       "    <tr>\n",
       "      <th>47037018407</th>\n",
       "      <td>47037018407</td>\n",
       "      <td>34</td>\n",
       "      <td>95571.0</td>\n",
       "      <td>98209.0</td>\n",
       "      <td>248400.0</td>\n",
       "      <td>NaN</td>\n",
       "      <td>4520.0</td>\n",
       "      <td>3940.0</td>\n",
       "      <td>212.0</td>\n",
       "      <td>111.0</td>\n",
       "      <td>539.545455</td>\n",
       "      <td>POLYGON ((-87.02318 36.07686, -87.02258 36.076...</td>\n",
       "    </tr>\n",
       "    <tr>\n",
       "      <th>47037013602</th>\n",
       "      <td>47037013602</td>\n",
       "      <td>70</td>\n",
       "      <td>23611.0</td>\n",
       "      <td>NaN</td>\n",
       "      <td>NaN</td>\n",
       "      <td>623.0</td>\n",
       "      <td>1868.0</td>\n",
       "      <td>227.0</td>\n",
       "      <td>1600.0</td>\n",
       "      <td>19.0</td>\n",
       "      <td>358.092308</td>\n",
       "      <td>POLYGON ((-86.83707 36.16987, -86.83565 36.171...</td>\n",
       "    </tr>\n",
       "  </tbody>\n",
       "</table>\n",
       "<p>161 rows × 12 columns</p>\n",
       "</div>"
      ],
      "text/plain": [
       "                   geoid  num_incidents  median_household_income  \\\n",
       "geoid                                                              \n",
       "47037015620  47037015620            203                  51596.0   \n",
       "47037011600  47037011600             26                  51106.0   \n",
       "47037010103  47037010103            227                  67250.0   \n",
       "47037015612  47037015612            407                  49878.0   \n",
       "47037016000  47037016000            200                  34688.0   \n",
       "...                  ...            ...                      ...   \n",
       "47037016700  47037016700            144                  94331.0   \n",
       "47037013500  47037013500             83                  45625.0   \n",
       "47037012802  47037012802            114                  36855.0   \n",
       "47037018407  47037018407             34                  95571.0   \n",
       "47037013602  47037013602             70                  23611.0   \n",
       "\n",
       "             median_family_income  median_housing_value  median_gross_rent  \\\n",
       "geoid                                                                        \n",
       "47037015620               63377.0              137000.0              836.0   \n",
       "47037011600               73015.0              163700.0              874.0   \n",
       "47037010103               80592.0              201500.0              985.0   \n",
       "47037015612               59476.0              137200.0              981.0   \n",
       "47037016000               27262.0              112200.0              755.0   \n",
       "...                           ...                   ...                ...   \n",
       "47037016700              157991.0              606000.0             1382.0   \n",
       "47037013500               56384.0              270000.0              875.0   \n",
       "47037012802               43179.0              104700.0              928.0   \n",
       "47037018407               98209.0              248400.0                NaN   \n",
       "47037013602                   NaN                   NaN              623.0   \n",
       "\n",
       "             total_population   white  african_american  hispanic  \\\n",
       "geoid                                                               \n",
       "47037015620            7713.0  3461.0            3204.0    1263.0   \n",
       "47037011600            4071.0  2954.0            1090.0       NaN   \n",
       "47037010103            2627.0  2422.0             144.0      39.0   \n",
       "47037015612            6690.0  3552.0            2651.0     429.0   \n",
       "47037016000             910.0   202.0             681.0      10.0   \n",
       "...                       ...     ...               ...       ...   \n",
       "47037016700            5106.0  4597.0             150.0      92.0   \n",
       "47037013500            2087.0  1402.0             503.0     130.0   \n",
       "47037012802            4075.0  1136.0            2858.0      69.0   \n",
       "47037018407            4520.0  3940.0             212.0     111.0   \n",
       "47037013602            1868.0   227.0            1600.0      19.0   \n",
       "\n",
       "             avg_response_time  \\\n",
       "geoid                            \n",
       "47037015620         336.677596   \n",
       "47037011600         392.200000   \n",
       "47037010103         639.928910   \n",
       "47037015612         413.897098   \n",
       "47037016000         337.463158   \n",
       "...                        ...   \n",
       "47037016700         375.201493   \n",
       "47037013500         374.986842   \n",
       "47037012802         420.900901   \n",
       "47037018407         539.545455   \n",
       "47037013602         358.092308   \n",
       "\n",
       "                                                      geometry  \n",
       "geoid                                                           \n",
       "47037015620  POLYGON ((-86.63618 36.07187, -86.63567 36.073...  \n",
       "47037011600  POLYGON ((-86.72758 36.18825, -86.72737 36.188...  \n",
       "47037010103  POLYGON ((-86.91752 36.33976, -86.91747 36.339...  \n",
       "47037015612  POLYGON ((-86.66648 36.10363, -86.66621 36.104...  \n",
       "47037016000  POLYGON ((-86.77516 36.14917, -86.77504 36.149...  \n",
       "...                                                        ...  \n",
       "47037016700  POLYGON ((-86.84760 36.13154, -86.84741 36.132...  \n",
       "47037013500  POLYGON ((-86.83652 36.15392, -86.83518 36.153...  \n",
       "47037012802  POLYGON ((-86.89316 36.21186, -86.89309 36.211...  \n",
       "47037018407  POLYGON ((-87.02318 36.07686, -87.02258 36.076...  \n",
       "47037013602  POLYGON ((-86.83707 36.16987, -86.83565 36.171...  \n",
       "\n",
       "[161 rows x 12 columns]"
      ]
     },
     "execution_count": 17,
     "metadata": {},
     "output_type": "execute_result"
    }
   ],
   "source": [
    "res_dem_gdf = gpd.GeoDataFrame(avg_res_and_demographics, crs='epsg:4326')\n",
    "res_dem_gdf.index = res_dem_gdf['geoid']\n",
    "res_dem_gdf"
   ]
  },
  {
   "cell_type": "markdown",
   "id": "225a556a",
   "metadata": {
    "id": "225a556a"
   },
   "source": [
    "- See if there are any correlations between the racial makeup of a tract and the response times. This involves making scatter plots of response time versus racial makeup and comparing choropleth plots of racial makeup for each tract with the prior num_incidents and avg_response_time choropleths from Sections 2 and 3."
   ]
  },
  {
   "cell_type": "code",
   "execution_count": 18,
   "id": "3952fccc",
   "metadata": {
    "colab": {
     "base_uri": "https://localhost:8080/",
     "height": 542
    },
    "id": "3952fccc",
    "outputId": "e3e0e97e-ef8b-43a0-dfcf-1be40a369af9"
   },
   "outputs": [
    {
     "data": {
      "application/vnd.plotly.v1+json": {
       "config": {
        "plotlyServerURL": "https://plot.ly"
       },
       "data": [
        {
         "hovertemplate": "african_american=%{x}<br>avg_response_time=%{y}<extra></extra>",
         "legendgroup": "",
         "marker": {
          "color": "#636efa",
          "symbol": "circle"
         },
         "mode": "markers",
         "name": "",
         "orientation": "v",
         "showlegend": false,
         "type": "scatter",
         "x": [
          3204,
          1090,
          144,
          2651,
          681,
          3112,
          1423,
          111,
          604,
          1426,
          1061,
          233,
          1694,
          3373,
          87,
          2452,
          391,
          1411,
          1116,
          1382,
          395,
          780,
          125,
          258,
          59,
          443,
          88,
          1559,
          5245,
          180,
          356,
          300,
          548,
          2031,
          41,
          1266,
          2259,
          2957,
          381,
          2007,
          331,
          1939,
          2313,
          2697,
          991,
          224,
          890,
          796,
          667,
          1690,
          1789,
          443,
          536,
          1700,
          2150,
          2051,
          104,
          372,
          1040,
          1897,
          1450,
          2601,
          1271,
          1083,
          621,
          4671,
          2147,
          1892,
          575,
          59,
          3368,
          1517,
          800,
          1222,
          147,
          331,
          1901,
          29,
          759,
          127,
          1542,
          525,
          1566,
          844,
          261,
          1825,
          218,
          471,
          1310,
          1205,
          2421,
          104,
          63,
          197,
          1245,
          515,
          2244,
          808,
          570,
          487,
          1135,
          319,
          2640,
          2850,
          1160,
          2245,
          823,
          875,
          661,
          15,
          522,
          140,
          2518,
          98,
          86,
          1172,
          917,
          1087,
          1959,
          139,
          1031,
          40,
          1300,
          70,
          1279,
          785,
          284,
          568,
          679,
          2036,
          4144,
          1597,
          311,
          880,
          303,
          166,
          1266,
          965,
          4857,
          540,
          612,
          1482,
          342,
          null,
          206,
          null,
          33,
          1894,
          1711,
          1558,
          173,
          2108,
          496,
          4693,
          689,
          null,
          150,
          503,
          2858,
          212,
          1600
         ],
         "xaxis": "x",
         "y": [
          336.6775956284153,
          392.2,
          639.9289099526067,
          413.8970976253298,
          337.46315789473687,
          343.90845070422534,
          403.3207547169811,
          377.4945848375451,
          426.2622309197652,
          506.2486486486487,
          397.247619047619,
          342.8245614035088,
          381.283105022831,
          415.08053691275165,
          513.1833333333333,
          404.9782608695652,
          246.04109589041096,
          311.0698924731183,
          274.52272727272725,
          382.125,
          368.5692307692308,
          247.34883720930236,
          264.5217391304348,
          286.4347826086956,
          400.4852941176471,
          457.71875,
          339.1875,
          357.5594713656388,
          375.1241217798595,
          372.95211267605634,
          218,
          348.8513513513513,
          290.258064516129,
          525.8956228956229,
          407.55555555555554,
          310.2708333333333,
          435.0614754098361,
          429.14722222222224,
          367.09580838323353,
          404.17471264367816,
          416.0079365079365,
          373.7714285714285,
          383.6575342465753,
          359.68981481481484,
          600.0677966101695,
          426.3877551020408,
          317.44642857142856,
          630.8415841584158,
          300.89473684210526,
          379.9160839160839,
          381.9090909090909,
          252.49693251533745,
          392.8523489932886,
          515.2967479674796,
          443.54852320675104,
          308.5217391304348,
          383.01666666666665,
          386.5857142857143,
          314.9942903752039,
          308.64054054054054,
          403.8528610354224,
          423.8928571428572,
          394.0194174757282,
          295.31,
          351.95,
          395.5157068062827,
          528.156862745098,
          383.71014492753625,
          405.18367346938777,
          525.6027397260274,
          518.2647058823529,
          333.64912280701753,
          372.7011494252874,
          368.9325842696629,
          508.7916666666667,
          353.20652173913044,
          452.38483146067415,
          341.4803149606299,
          569.0920770877945,
          586.1904761904761,
          338.6793893129771,
          598.314606741573,
          389.30272108843536,
          354.32142857142856,
          458.2314814814815,
          577.2447257383966,
          521.4477611940298,
          389.3076923076923,
          262.6,
          466.16541353383457,
          632.3542857142858,
          244.3203125,
          533.3709677419355,
          396.73333333333335,
          372.1428571428572,
          518.8085106382979,
          441.7914691943128,
          443.60483870967744,
          350.697247706422,
          297.5394736842105,
          462.8490566037736,
          467.5384615384616,
          364.31111111111113,
          334.13963039014374,
          387.0642857142857,
          371.48521739130433,
          442.10927835051547,
          293.6640625,
          380.5033112582781,
          451,
          407.6756756756757,
          422.9333333333333,
          297.0272727272727,
          474,
          639.0377358490566,
          428.88793103448273,
          380.4224137931034,
          357.984496124031,
          485.6714285714286,
          512.3,
          310.587962962963,
          426.7450980392157,
          342.31052631578945,
          486.9072164948454,
          356.5846153846154,
          599.4285714285714,
          315.73298429319374,
          472.6010638297872,
          405.1830985915493,
          330.3380281690141,
          459.6571428571429,
          358.2287581699346,
          432.94685990338166,
          271.14772727272725,
          317.11304347826086,
          414.8344827586207,
          354.4871794871795,
          506.9166666666667,
          353.5561643835616,
          338.3809523809524,
          426.8360655737705,
          409.2705314009662,
          386.7944444444444,
          422.874213836478,
          344.75,
          507.288961038961,
          326.1025641025641,
          392.00387596899225,
          337.38461538461536,
          251.9240506329114,
          371.5441176470589,
          335.6575342465753,
          315.2156862745098,
          344.58649789029533,
          493.3018867924528,
          356.68275862068964,
          375.2014925373134,
          374.9868421052632,
          420.9009009009009,
          539.5454545454545,
          358.0923076923077
         ],
         "yaxis": "y"
        },
        {
         "hovertemplate": "<b>OLS trendline</b><br>avg_response_time = -0.00423194 * african_american + 403.961<br>R<sup>2</sup>=0.002658<br><br>african_american=%{x}<br>avg_response_time=%{y} <b>(trend)</b><extra></extra>",
         "legendgroup": "",
         "marker": {
          "color": "#636efa",
          "symbol": "circle"
         },
         "mode": "lines",
         "name": "",
         "showlegend": false,
         "type": "scatter",
         "x": [
          15,
          29,
          33,
          40,
          41,
          59,
          59,
          63,
          70,
          86,
          87,
          88,
          98,
          104,
          104,
          111,
          125,
          127,
          139,
          140,
          144,
          147,
          150,
          166,
          173,
          180,
          197,
          206,
          212,
          218,
          224,
          233,
          258,
          261,
          284,
          300,
          303,
          311,
          319,
          331,
          331,
          342,
          356,
          372,
          381,
          391,
          395,
          443,
          443,
          471,
          487,
          496,
          503,
          515,
          522,
          525,
          536,
          540,
          548,
          568,
          570,
          575,
          604,
          612,
          621,
          661,
          667,
          679,
          681,
          689,
          759,
          780,
          785,
          796,
          800,
          808,
          823,
          844,
          875,
          880,
          890,
          917,
          965,
          991,
          1031,
          1040,
          1061,
          1083,
          1087,
          1090,
          1116,
          1135,
          1160,
          1172,
          1205,
          1222,
          1245,
          1266,
          1266,
          1271,
          1279,
          1300,
          1310,
          1382,
          1411,
          1423,
          1426,
          1450,
          1482,
          1517,
          1542,
          1558,
          1559,
          1566,
          1597,
          1600,
          1690,
          1694,
          1700,
          1711,
          1789,
          1825,
          1892,
          1894,
          1897,
          1901,
          1939,
          1959,
          2007,
          2031,
          2036,
          2051,
          2108,
          2147,
          2150,
          2244,
          2245,
          2259,
          2313,
          2421,
          2452,
          2518,
          2601,
          2640,
          2651,
          2697,
          2850,
          2858,
          2957,
          3112,
          3204,
          3368,
          3373,
          4144,
          4671,
          4693,
          4857,
          5245
         ],
         "xaxis": "x",
         "y": [
          403.897244393501,
          403.83799724051283,
          403.82106948251624,
          403.7914459060222,
          403.78721396652304,
          403.71103905553827,
          403.71103905553827,
          403.69411129754167,
          403.6644877210476,
          403.59677668906113,
          403.59254474956197,
          403.58831281006286,
          403.5459934150713,
          403.5206017780764,
          403.5206017780764,
          403.4909782015823,
          403.43173104859414,
          403.4232671695959,
          403.372483895606,
          403.36825195610686,
          403.35132419811026,
          403.3386283796128,
          403.32593256111534,
          403.2582215291289,
          403.2285979526348,
          403.19897437614077,
          403.12703140465516,
          403.0889439491628,
          403.0635523121679,
          403.03816067517295,
          403.012769038178,
          402.97468158268566,
          402.8688830952068,
          402.85618727670936,
          402.7588526682288,
          402.6911416362424,
          402.67844581774494,
          402.6445903017517,
          402.6107347857585,
          402.55995151176865,
          402.55995151176865,
          402.51340017727796,
          402.45415302428984,
          402.3864419923034,
          402.348354536811,
          402.30603514181945,
          402.28910738382285,
          402.0859742878635,
          402.0859742878635,
          401.9674799818872,
          401.89976894990076,
          401.8616814944084,
          401.8320579179143,
          401.7812746439245,
          401.75165106743043,
          401.738955248933,
          401.6924039144423,
          401.67547615644565,
          401.64162064045246,
          401.5569818504694,
          401.5485179714711,
          401.5273582739753,
          401.40463202849986,
          401.37077651250667,
          401.3326890570143,
          401.16341147704816,
          401.13801984005323,
          401.0872365660634,
          401.0787726870651,
          401.04491717107186,
          400.74868140613114,
          400.65981067664893,
          400.63865097915317,
          400.5920996446625,
          400.5751718866659,
          400.5413163706727,
          400.47783727818535,
          400.38896654870314,
          400.2577764242294,
          400.23661672673364,
          400.1942973317421,
          400.080034965265,
          399.87690186930564,
          399.76687144232767,
          399.5975938623615,
          399.55950640686916,
          399.47063567738695,
          399.3775330084056,
          399.360605250409,
          399.34790943191155,
          399.2378790049335,
          399.15747215444964,
          399.0516736669708,
          399.000890392981,
          398.8612363895089,
          398.7892934180233,
          398.6919588095428,
          398.6030880800606,
          398.6030880800606,
          398.5819283825648,
          398.5480728665716,
          398.4592021370894,
          398.41688274209787,
          398.1121830981588,
          397.9894568526834,
          397.93867357869357,
          397.92597776019613,
          397.82441121221643,
          397.68898914824354,
          397.5408712657732,
          397.43507277829434,
          397.3673617463079,
          397.3631298068088,
          397.3335062303147,
          397.20231610584096,
          397.1896202873435,
          396.8087457324197,
          396.7918179744231,
          396.7664263374282,
          396.7198750029375,
          396.3897837220036,
          396.23743390003403,
          395.9538939535908,
          395.9454300745925,
          395.93273425609505,
          395.91580649809845,
          395.7549927971306,
          395.6703540071476,
          395.46722091118824,
          395.36565436320853,
          395.3444946657128,
          395.2810155732255,
          395.0397950217738,
          394.8747493813068,
          394.8620535628093,
          394.46425124988895,
          394.4600193103898,
          394.40077215740166,
          394.1722474244474,
          393.71519795853885,
          393.5840078340651,
          393.304699827121,
          392.9534488486913,
          392.78840320822434,
          392.74185187373365,
          392.54718265677263,
          391.89969591340224,
          391.865840397409,
          391.44687838699286,
          390.79092776462414,
          390.40158933070205,
          389.707551252841,
          389.6863915553452,
          386.42356620149826,
          384.1933340854446,
          384.10023141646326,
          383.4061933386021,
          381.76420081293077
         ],
         "yaxis": "y"
        }
       ],
       "layout": {
        "legend": {
         "tracegroupgap": 0
        },
        "template": {
         "data": {
          "bar": [
           {
            "error_x": {
             "color": "#2a3f5f"
            },
            "error_y": {
             "color": "#2a3f5f"
            },
            "marker": {
             "line": {
              "color": "#E5ECF6",
              "width": 0.5
             },
             "pattern": {
              "fillmode": "overlay",
              "size": 10,
              "solidity": 0.2
             }
            },
            "type": "bar"
           }
          ],
          "barpolar": [
           {
            "marker": {
             "line": {
              "color": "#E5ECF6",
              "width": 0.5
             },
             "pattern": {
              "fillmode": "overlay",
              "size": 10,
              "solidity": 0.2
             }
            },
            "type": "barpolar"
           }
          ],
          "carpet": [
           {
            "aaxis": {
             "endlinecolor": "#2a3f5f",
             "gridcolor": "white",
             "linecolor": "white",
             "minorgridcolor": "white",
             "startlinecolor": "#2a3f5f"
            },
            "baxis": {
             "endlinecolor": "#2a3f5f",
             "gridcolor": "white",
             "linecolor": "white",
             "minorgridcolor": "white",
             "startlinecolor": "#2a3f5f"
            },
            "type": "carpet"
           }
          ],
          "choropleth": [
           {
            "colorbar": {
             "outlinewidth": 0,
             "ticks": ""
            },
            "type": "choropleth"
           }
          ],
          "contour": [
           {
            "colorbar": {
             "outlinewidth": 0,
             "ticks": ""
            },
            "colorscale": [
             [
              0,
              "#0d0887"
             ],
             [
              0.1111111111111111,
              "#46039f"
             ],
             [
              0.2222222222222222,
              "#7201a8"
             ],
             [
              0.3333333333333333,
              "#9c179e"
             ],
             [
              0.4444444444444444,
              "#bd3786"
             ],
             [
              0.5555555555555556,
              "#d8576b"
             ],
             [
              0.6666666666666666,
              "#ed7953"
             ],
             [
              0.7777777777777778,
              "#fb9f3a"
             ],
             [
              0.8888888888888888,
              "#fdca26"
             ],
             [
              1,
              "#f0f921"
             ]
            ],
            "type": "contour"
           }
          ],
          "contourcarpet": [
           {
            "colorbar": {
             "outlinewidth": 0,
             "ticks": ""
            },
            "type": "contourcarpet"
           }
          ],
          "heatmap": [
           {
            "colorbar": {
             "outlinewidth": 0,
             "ticks": ""
            },
            "colorscale": [
             [
              0,
              "#0d0887"
             ],
             [
              0.1111111111111111,
              "#46039f"
             ],
             [
              0.2222222222222222,
              "#7201a8"
             ],
             [
              0.3333333333333333,
              "#9c179e"
             ],
             [
              0.4444444444444444,
              "#bd3786"
             ],
             [
              0.5555555555555556,
              "#d8576b"
             ],
             [
              0.6666666666666666,
              "#ed7953"
             ],
             [
              0.7777777777777778,
              "#fb9f3a"
             ],
             [
              0.8888888888888888,
              "#fdca26"
             ],
             [
              1,
              "#f0f921"
             ]
            ],
            "type": "heatmap"
           }
          ],
          "heatmapgl": [
           {
            "colorbar": {
             "outlinewidth": 0,
             "ticks": ""
            },
            "colorscale": [
             [
              0,
              "#0d0887"
             ],
             [
              0.1111111111111111,
              "#46039f"
             ],
             [
              0.2222222222222222,
              "#7201a8"
             ],
             [
              0.3333333333333333,
              "#9c179e"
             ],
             [
              0.4444444444444444,
              "#bd3786"
             ],
             [
              0.5555555555555556,
              "#d8576b"
             ],
             [
              0.6666666666666666,
              "#ed7953"
             ],
             [
              0.7777777777777778,
              "#fb9f3a"
             ],
             [
              0.8888888888888888,
              "#fdca26"
             ],
             [
              1,
              "#f0f921"
             ]
            ],
            "type": "heatmapgl"
           }
          ],
          "histogram": [
           {
            "marker": {
             "pattern": {
              "fillmode": "overlay",
              "size": 10,
              "solidity": 0.2
             }
            },
            "type": "histogram"
           }
          ],
          "histogram2d": [
           {
            "colorbar": {
             "outlinewidth": 0,
             "ticks": ""
            },
            "colorscale": [
             [
              0,
              "#0d0887"
             ],
             [
              0.1111111111111111,
              "#46039f"
             ],
             [
              0.2222222222222222,
              "#7201a8"
             ],
             [
              0.3333333333333333,
              "#9c179e"
             ],
             [
              0.4444444444444444,
              "#bd3786"
             ],
             [
              0.5555555555555556,
              "#d8576b"
             ],
             [
              0.6666666666666666,
              "#ed7953"
             ],
             [
              0.7777777777777778,
              "#fb9f3a"
             ],
             [
              0.8888888888888888,
              "#fdca26"
             ],
             [
              1,
              "#f0f921"
             ]
            ],
            "type": "histogram2d"
           }
          ],
          "histogram2dcontour": [
           {
            "colorbar": {
             "outlinewidth": 0,
             "ticks": ""
            },
            "colorscale": [
             [
              0,
              "#0d0887"
             ],
             [
              0.1111111111111111,
              "#46039f"
             ],
             [
              0.2222222222222222,
              "#7201a8"
             ],
             [
              0.3333333333333333,
              "#9c179e"
             ],
             [
              0.4444444444444444,
              "#bd3786"
             ],
             [
              0.5555555555555556,
              "#d8576b"
             ],
             [
              0.6666666666666666,
              "#ed7953"
             ],
             [
              0.7777777777777778,
              "#fb9f3a"
             ],
             [
              0.8888888888888888,
              "#fdca26"
             ],
             [
              1,
              "#f0f921"
             ]
            ],
            "type": "histogram2dcontour"
           }
          ],
          "mesh3d": [
           {
            "colorbar": {
             "outlinewidth": 0,
             "ticks": ""
            },
            "type": "mesh3d"
           }
          ],
          "parcoords": [
           {
            "line": {
             "colorbar": {
              "outlinewidth": 0,
              "ticks": ""
             }
            },
            "type": "parcoords"
           }
          ],
          "pie": [
           {
            "automargin": true,
            "type": "pie"
           }
          ],
          "scatter": [
           {
            "fillpattern": {
             "fillmode": "overlay",
             "size": 10,
             "solidity": 0.2
            },
            "type": "scatter"
           }
          ],
          "scatter3d": [
           {
            "line": {
             "colorbar": {
              "outlinewidth": 0,
              "ticks": ""
             }
            },
            "marker": {
             "colorbar": {
              "outlinewidth": 0,
              "ticks": ""
             }
            },
            "type": "scatter3d"
           }
          ],
          "scattercarpet": [
           {
            "marker": {
             "colorbar": {
              "outlinewidth": 0,
              "ticks": ""
             }
            },
            "type": "scattercarpet"
           }
          ],
          "scattergeo": [
           {
            "marker": {
             "colorbar": {
              "outlinewidth": 0,
              "ticks": ""
             }
            },
            "type": "scattergeo"
           }
          ],
          "scattergl": [
           {
            "marker": {
             "colorbar": {
              "outlinewidth": 0,
              "ticks": ""
             }
            },
            "type": "scattergl"
           }
          ],
          "scattermapbox": [
           {
            "marker": {
             "colorbar": {
              "outlinewidth": 0,
              "ticks": ""
             }
            },
            "type": "scattermapbox"
           }
          ],
          "scatterpolar": [
           {
            "marker": {
             "colorbar": {
              "outlinewidth": 0,
              "ticks": ""
             }
            },
            "type": "scatterpolar"
           }
          ],
          "scatterpolargl": [
           {
            "marker": {
             "colorbar": {
              "outlinewidth": 0,
              "ticks": ""
             }
            },
            "type": "scatterpolargl"
           }
          ],
          "scatterternary": [
           {
            "marker": {
             "colorbar": {
              "outlinewidth": 0,
              "ticks": ""
             }
            },
            "type": "scatterternary"
           }
          ],
          "surface": [
           {
            "colorbar": {
             "outlinewidth": 0,
             "ticks": ""
            },
            "colorscale": [
             [
              0,
              "#0d0887"
             ],
             [
              0.1111111111111111,
              "#46039f"
             ],
             [
              0.2222222222222222,
              "#7201a8"
             ],
             [
              0.3333333333333333,
              "#9c179e"
             ],
             [
              0.4444444444444444,
              "#bd3786"
             ],
             [
              0.5555555555555556,
              "#d8576b"
             ],
             [
              0.6666666666666666,
              "#ed7953"
             ],
             [
              0.7777777777777778,
              "#fb9f3a"
             ],
             [
              0.8888888888888888,
              "#fdca26"
             ],
             [
              1,
              "#f0f921"
             ]
            ],
            "type": "surface"
           }
          ],
          "table": [
           {
            "cells": {
             "fill": {
              "color": "#EBF0F8"
             },
             "line": {
              "color": "white"
             }
            },
            "header": {
             "fill": {
              "color": "#C8D4E3"
             },
             "line": {
              "color": "white"
             }
            },
            "type": "table"
           }
          ]
         },
         "layout": {
          "annotationdefaults": {
           "arrowcolor": "#2a3f5f",
           "arrowhead": 0,
           "arrowwidth": 1
          },
          "autotypenumbers": "strict",
          "coloraxis": {
           "colorbar": {
            "outlinewidth": 0,
            "ticks": ""
           }
          },
          "colorscale": {
           "diverging": [
            [
             0,
             "#8e0152"
            ],
            [
             0.1,
             "#c51b7d"
            ],
            [
             0.2,
             "#de77ae"
            ],
            [
             0.3,
             "#f1b6da"
            ],
            [
             0.4,
             "#fde0ef"
            ],
            [
             0.5,
             "#f7f7f7"
            ],
            [
             0.6,
             "#e6f5d0"
            ],
            [
             0.7,
             "#b8e186"
            ],
            [
             0.8,
             "#7fbc41"
            ],
            [
             0.9,
             "#4d9221"
            ],
            [
             1,
             "#276419"
            ]
           ],
           "sequential": [
            [
             0,
             "#0d0887"
            ],
            [
             0.1111111111111111,
             "#46039f"
            ],
            [
             0.2222222222222222,
             "#7201a8"
            ],
            [
             0.3333333333333333,
             "#9c179e"
            ],
            [
             0.4444444444444444,
             "#bd3786"
            ],
            [
             0.5555555555555556,
             "#d8576b"
            ],
            [
             0.6666666666666666,
             "#ed7953"
            ],
            [
             0.7777777777777778,
             "#fb9f3a"
            ],
            [
             0.8888888888888888,
             "#fdca26"
            ],
            [
             1,
             "#f0f921"
            ]
           ],
           "sequentialminus": [
            [
             0,
             "#0d0887"
            ],
            [
             0.1111111111111111,
             "#46039f"
            ],
            [
             0.2222222222222222,
             "#7201a8"
            ],
            [
             0.3333333333333333,
             "#9c179e"
            ],
            [
             0.4444444444444444,
             "#bd3786"
            ],
            [
             0.5555555555555556,
             "#d8576b"
            ],
            [
             0.6666666666666666,
             "#ed7953"
            ],
            [
             0.7777777777777778,
             "#fb9f3a"
            ],
            [
             0.8888888888888888,
             "#fdca26"
            ],
            [
             1,
             "#f0f921"
            ]
           ]
          },
          "colorway": [
           "#636efa",
           "#EF553B",
           "#00cc96",
           "#ab63fa",
           "#FFA15A",
           "#19d3f3",
           "#FF6692",
           "#B6E880",
           "#FF97FF",
           "#FECB52"
          ],
          "font": {
           "color": "#2a3f5f"
          },
          "geo": {
           "bgcolor": "white",
           "lakecolor": "white",
           "landcolor": "#E5ECF6",
           "showlakes": true,
           "showland": true,
           "subunitcolor": "white"
          },
          "hoverlabel": {
           "align": "left"
          },
          "hovermode": "closest",
          "mapbox": {
           "style": "light"
          },
          "paper_bgcolor": "white",
          "plot_bgcolor": "#E5ECF6",
          "polar": {
           "angularaxis": {
            "gridcolor": "white",
            "linecolor": "white",
            "ticks": ""
           },
           "bgcolor": "#E5ECF6",
           "radialaxis": {
            "gridcolor": "white",
            "linecolor": "white",
            "ticks": ""
           }
          },
          "scene": {
           "xaxis": {
            "backgroundcolor": "#E5ECF6",
            "gridcolor": "white",
            "gridwidth": 2,
            "linecolor": "white",
            "showbackground": true,
            "ticks": "",
            "zerolinecolor": "white"
           },
           "yaxis": {
            "backgroundcolor": "#E5ECF6",
            "gridcolor": "white",
            "gridwidth": 2,
            "linecolor": "white",
            "showbackground": true,
            "ticks": "",
            "zerolinecolor": "white"
           },
           "zaxis": {
            "backgroundcolor": "#E5ECF6",
            "gridcolor": "white",
            "gridwidth": 2,
            "linecolor": "white",
            "showbackground": true,
            "ticks": "",
            "zerolinecolor": "white"
           }
          },
          "shapedefaults": {
           "line": {
            "color": "#2a3f5f"
           }
          },
          "ternary": {
           "aaxis": {
            "gridcolor": "white",
            "linecolor": "white",
            "ticks": ""
           },
           "baxis": {
            "gridcolor": "white",
            "linecolor": "white",
            "ticks": ""
           },
           "bgcolor": "#E5ECF6",
           "caxis": {
            "gridcolor": "white",
            "linecolor": "white",
            "ticks": ""
           }
          },
          "title": {
           "x": 0.05
          },
          "xaxis": {
           "automargin": true,
           "gridcolor": "white",
           "linecolor": "white",
           "ticks": "",
           "title": {
            "standoff": 15
           },
           "zerolinecolor": "white",
           "zerolinewidth": 2
          },
          "yaxis": {
           "automargin": true,
           "gridcolor": "white",
           "linecolor": "white",
           "ticks": "",
           "title": {
            "standoff": 15
           },
           "zerolinecolor": "white",
           "zerolinewidth": 2
          }
         }
        },
        "title": {
         "text": "Response Time by African American Population for Census Tracts, Davidson County 2017-2021"
        },
        "xaxis": {
         "anchor": "y",
         "domain": [
          0,
          1
         ],
         "title": {
          "text": "african_american"
         }
        },
        "yaxis": {
         "anchor": "x",
         "domain": [
          0,
          1
         ],
         "title": {
          "text": "avg_response_time"
         }
        }
       }
      },
      "text/html": [
       "<div>                            <div id=\"b8eb72e2-16a9-4b4b-94fe-46072bce0dcb\" class=\"plotly-graph-div\" style=\"height:525px; width:100%;\"></div>            <script type=\"text/javascript\">                require([\"plotly\"], function(Plotly) {                    window.PLOTLYENV=window.PLOTLYENV || {};                                    if (document.getElementById(\"b8eb72e2-16a9-4b4b-94fe-46072bce0dcb\")) {                    Plotly.newPlot(                        \"b8eb72e2-16a9-4b4b-94fe-46072bce0dcb\",                        [{\"hovertemplate\":\"african_american=%{x}<br>avg_response_time=%{y}<extra></extra>\",\"legendgroup\":\"\",\"marker\":{\"color\":\"#636efa\",\"symbol\":\"circle\"},\"mode\":\"markers\",\"name\":\"\",\"orientation\":\"v\",\"showlegend\":false,\"x\":[3204.0,1090.0,144.0,2651.0,681.0,3112.0,1423.0,111.0,604.0,1426.0,1061.0,233.0,1694.0,3373.0,87.0,2452.0,391.0,1411.0,1116.0,1382.0,395.0,780.0,125.0,258.0,59.0,443.0,88.0,1559.0,5245.0,180.0,356.0,300.0,548.0,2031.0,41.0,1266.0,2259.0,2957.0,381.0,2007.0,331.0,1939.0,2313.0,2697.0,991.0,224.0,890.0,796.0,667.0,1690.0,1789.0,443.0,536.0,1700.0,2150.0,2051.0,104.0,372.0,1040.0,1897.0,1450.0,2601.0,1271.0,1083.0,621.0,4671.0,2147.0,1892.0,575.0,59.0,3368.0,1517.0,800.0,1222.0,147.0,331.0,1901.0,29.0,759.0,127.0,1542.0,525.0,1566.0,844.0,261.0,1825.0,218.0,471.0,1310.0,1205.0,2421.0,104.0,63.0,197.0,1245.0,515.0,2244.0,808.0,570.0,487.0,1135.0,319.0,2640.0,2850.0,1160.0,2245.0,823.0,875.0,661.0,15.0,522.0,140.0,2518.0,98.0,86.0,1172.0,917.0,1087.0,1959.0,139.0,1031.0,40.0,1300.0,70.0,1279.0,785.0,284.0,568.0,679.0,2036.0,4144.0,1597.0,311.0,880.0,303.0,166.0,1266.0,965.0,4857.0,540.0,612.0,1482.0,342.0,null,206.0,null,33.0,1894.0,1711.0,1558.0,173.0,2108.0,496.0,4693.0,689.0,null,150.0,503.0,2858.0,212.0,1600.0],\"xaxis\":\"x\",\"y\":[336.6775956284153,392.2,639.9289099526067,413.8970976253298,337.46315789473687,343.90845070422534,403.3207547169811,377.4945848375451,426.2622309197652,506.2486486486487,397.247619047619,342.8245614035088,381.283105022831,415.08053691275165,513.1833333333333,404.9782608695652,246.04109589041096,311.0698924731183,274.52272727272725,382.125,368.5692307692308,247.34883720930236,264.5217391304348,286.4347826086956,400.4852941176471,457.71875,339.1875,357.5594713656388,375.1241217798595,372.95211267605634,218.0,348.8513513513513,290.258064516129,525.8956228956229,407.55555555555554,310.2708333333333,435.0614754098361,429.14722222222224,367.09580838323353,404.17471264367816,416.0079365079365,373.7714285714285,383.6575342465753,359.68981481481484,600.0677966101695,426.3877551020408,317.44642857142856,630.8415841584158,300.89473684210526,379.9160839160839,381.9090909090909,252.49693251533745,392.8523489932886,515.2967479674796,443.54852320675104,308.5217391304348,383.01666666666665,386.5857142857143,314.9942903752039,308.64054054054054,403.8528610354224,423.8928571428572,394.0194174757282,295.31,351.95,395.5157068062827,528.156862745098,383.71014492753625,405.18367346938777,525.6027397260274,518.2647058823529,333.64912280701753,372.7011494252874,368.9325842696629,508.7916666666667,353.20652173913044,452.38483146067415,341.4803149606299,569.0920770877945,586.1904761904761,338.6793893129771,598.314606741573,389.30272108843536,354.32142857142856,458.2314814814815,577.2447257383966,521.4477611940298,389.3076923076923,262.6,466.16541353383457,632.3542857142858,244.3203125,533.3709677419355,396.73333333333335,372.1428571428572,518.8085106382979,441.7914691943128,443.60483870967744,350.697247706422,297.5394736842105,462.8490566037736,467.5384615384616,364.31111111111113,334.13963039014374,387.0642857142857,371.48521739130433,442.10927835051547,293.6640625,380.5033112582781,451.0,407.6756756756757,422.9333333333333,297.0272727272727,474.0,639.0377358490566,428.88793103448273,380.4224137931034,357.984496124031,485.6714285714286,512.3,310.587962962963,426.7450980392157,342.31052631578945,486.9072164948454,356.5846153846154,599.4285714285714,315.73298429319374,472.6010638297872,405.1830985915493,330.3380281690141,459.6571428571429,358.2287581699346,432.94685990338166,271.14772727272725,317.11304347826086,414.8344827586207,354.4871794871795,506.9166666666667,353.5561643835616,338.3809523809524,426.8360655737705,409.2705314009662,386.7944444444444,422.874213836478,344.75,507.288961038961,326.1025641025641,392.00387596899225,337.38461538461536,251.9240506329114,371.5441176470589,335.6575342465753,315.2156862745098,344.58649789029533,493.3018867924528,356.68275862068964,375.2014925373134,374.9868421052632,420.9009009009009,539.5454545454545,358.0923076923077],\"yaxis\":\"y\",\"type\":\"scatter\"},{\"hovertemplate\":\"<b>OLS trendline</b><br>avg_response_time = -0.00423194 * african_american + 403.961<br>R<sup>2</sup>=0.002658<br><br>african_american=%{x}<br>avg_response_time=%{y} <b>(trend)</b><extra></extra>\",\"legendgroup\":\"\",\"marker\":{\"color\":\"#636efa\",\"symbol\":\"circle\"},\"mode\":\"lines\",\"name\":\"\",\"showlegend\":false,\"x\":[15.0,29.0,33.0,40.0,41.0,59.0,59.0,63.0,70.0,86.0,87.0,88.0,98.0,104.0,104.0,111.0,125.0,127.0,139.0,140.0,144.0,147.0,150.0,166.0,173.0,180.0,197.0,206.0,212.0,218.0,224.0,233.0,258.0,261.0,284.0,300.0,303.0,311.0,319.0,331.0,331.0,342.0,356.0,372.0,381.0,391.0,395.0,443.0,443.0,471.0,487.0,496.0,503.0,515.0,522.0,525.0,536.0,540.0,548.0,568.0,570.0,575.0,604.0,612.0,621.0,661.0,667.0,679.0,681.0,689.0,759.0,780.0,785.0,796.0,800.0,808.0,823.0,844.0,875.0,880.0,890.0,917.0,965.0,991.0,1031.0,1040.0,1061.0,1083.0,1087.0,1090.0,1116.0,1135.0,1160.0,1172.0,1205.0,1222.0,1245.0,1266.0,1266.0,1271.0,1279.0,1300.0,1310.0,1382.0,1411.0,1423.0,1426.0,1450.0,1482.0,1517.0,1542.0,1558.0,1559.0,1566.0,1597.0,1600.0,1690.0,1694.0,1700.0,1711.0,1789.0,1825.0,1892.0,1894.0,1897.0,1901.0,1939.0,1959.0,2007.0,2031.0,2036.0,2051.0,2108.0,2147.0,2150.0,2244.0,2245.0,2259.0,2313.0,2421.0,2452.0,2518.0,2601.0,2640.0,2651.0,2697.0,2850.0,2858.0,2957.0,3112.0,3204.0,3368.0,3373.0,4144.0,4671.0,4693.0,4857.0,5245.0],\"xaxis\":\"x\",\"y\":[403.897244393501,403.83799724051283,403.82106948251624,403.7914459060222,403.78721396652304,403.71103905553827,403.71103905553827,403.69411129754167,403.6644877210476,403.59677668906113,403.59254474956197,403.58831281006286,403.5459934150713,403.5206017780764,403.5206017780764,403.4909782015823,403.43173104859414,403.4232671695959,403.372483895606,403.36825195610686,403.35132419811026,403.3386283796128,403.32593256111534,403.2582215291289,403.2285979526348,403.19897437614077,403.12703140465516,403.0889439491628,403.0635523121679,403.03816067517295,403.012769038178,402.97468158268566,402.8688830952068,402.85618727670936,402.7588526682288,402.6911416362424,402.67844581774494,402.6445903017517,402.6107347857585,402.55995151176865,402.55995151176865,402.51340017727796,402.45415302428984,402.3864419923034,402.348354536811,402.30603514181945,402.28910738382285,402.0859742878635,402.0859742878635,401.9674799818872,401.89976894990076,401.8616814944084,401.8320579179143,401.7812746439245,401.75165106743043,401.738955248933,401.6924039144423,401.67547615644565,401.64162064045246,401.5569818504694,401.5485179714711,401.5273582739753,401.40463202849986,401.37077651250667,401.3326890570143,401.16341147704816,401.13801984005323,401.0872365660634,401.0787726870651,401.04491717107186,400.74868140613114,400.65981067664893,400.63865097915317,400.5920996446625,400.5751718866659,400.5413163706727,400.47783727818535,400.38896654870314,400.2577764242294,400.23661672673364,400.1942973317421,400.080034965265,399.87690186930564,399.76687144232767,399.5975938623615,399.55950640686916,399.47063567738695,399.3775330084056,399.360605250409,399.34790943191155,399.2378790049335,399.15747215444964,399.0516736669708,399.000890392981,398.8612363895089,398.7892934180233,398.6919588095428,398.6030880800606,398.6030880800606,398.5819283825648,398.5480728665716,398.4592021370894,398.41688274209787,398.1121830981588,397.9894568526834,397.93867357869357,397.92597776019613,397.82441121221643,397.68898914824354,397.5408712657732,397.43507277829434,397.3673617463079,397.3631298068088,397.3335062303147,397.20231610584096,397.1896202873435,396.8087457324197,396.7918179744231,396.7664263374282,396.7198750029375,396.3897837220036,396.23743390003403,395.9538939535908,395.9454300745925,395.93273425609505,395.91580649809845,395.7549927971306,395.6703540071476,395.46722091118824,395.36565436320853,395.3444946657128,395.2810155732255,395.0397950217738,394.8747493813068,394.8620535628093,394.46425124988895,394.4600193103898,394.40077215740166,394.1722474244474,393.71519795853885,393.5840078340651,393.304699827121,392.9534488486913,392.78840320822434,392.74185187373365,392.54718265677263,391.89969591340224,391.865840397409,391.44687838699286,390.79092776462414,390.40158933070205,389.707551252841,389.6863915553452,386.42356620149826,384.1933340854446,384.10023141646326,383.4061933386021,381.76420081293077],\"yaxis\":\"y\",\"type\":\"scatter\"}],                        {\"template\":{\"data\":{\"histogram2dcontour\":[{\"type\":\"histogram2dcontour\",\"colorbar\":{\"outlinewidth\":0,\"ticks\":\"\"},\"colorscale\":[[0.0,\"#0d0887\"],[0.1111111111111111,\"#46039f\"],[0.2222222222222222,\"#7201a8\"],[0.3333333333333333,\"#9c179e\"],[0.4444444444444444,\"#bd3786\"],[0.5555555555555556,\"#d8576b\"],[0.6666666666666666,\"#ed7953\"],[0.7777777777777778,\"#fb9f3a\"],[0.8888888888888888,\"#fdca26\"],[1.0,\"#f0f921\"]]}],\"choropleth\":[{\"type\":\"choropleth\",\"colorbar\":{\"outlinewidth\":0,\"ticks\":\"\"}}],\"histogram2d\":[{\"type\":\"histogram2d\",\"colorbar\":{\"outlinewidth\":0,\"ticks\":\"\"},\"colorscale\":[[0.0,\"#0d0887\"],[0.1111111111111111,\"#46039f\"],[0.2222222222222222,\"#7201a8\"],[0.3333333333333333,\"#9c179e\"],[0.4444444444444444,\"#bd3786\"],[0.5555555555555556,\"#d8576b\"],[0.6666666666666666,\"#ed7953\"],[0.7777777777777778,\"#fb9f3a\"],[0.8888888888888888,\"#fdca26\"],[1.0,\"#f0f921\"]]}],\"heatmap\":[{\"type\":\"heatmap\",\"colorbar\":{\"outlinewidth\":0,\"ticks\":\"\"},\"colorscale\":[[0.0,\"#0d0887\"],[0.1111111111111111,\"#46039f\"],[0.2222222222222222,\"#7201a8\"],[0.3333333333333333,\"#9c179e\"],[0.4444444444444444,\"#bd3786\"],[0.5555555555555556,\"#d8576b\"],[0.6666666666666666,\"#ed7953\"],[0.7777777777777778,\"#fb9f3a\"],[0.8888888888888888,\"#fdca26\"],[1.0,\"#f0f921\"]]}],\"heatmapgl\":[{\"type\":\"heatmapgl\",\"colorbar\":{\"outlinewidth\":0,\"ticks\":\"\"},\"colorscale\":[[0.0,\"#0d0887\"],[0.1111111111111111,\"#46039f\"],[0.2222222222222222,\"#7201a8\"],[0.3333333333333333,\"#9c179e\"],[0.4444444444444444,\"#bd3786\"],[0.5555555555555556,\"#d8576b\"],[0.6666666666666666,\"#ed7953\"],[0.7777777777777778,\"#fb9f3a\"],[0.8888888888888888,\"#fdca26\"],[1.0,\"#f0f921\"]]}],\"contourcarpet\":[{\"type\":\"contourcarpet\",\"colorbar\":{\"outlinewidth\":0,\"ticks\":\"\"}}],\"contour\":[{\"type\":\"contour\",\"colorbar\":{\"outlinewidth\":0,\"ticks\":\"\"},\"colorscale\":[[0.0,\"#0d0887\"],[0.1111111111111111,\"#46039f\"],[0.2222222222222222,\"#7201a8\"],[0.3333333333333333,\"#9c179e\"],[0.4444444444444444,\"#bd3786\"],[0.5555555555555556,\"#d8576b\"],[0.6666666666666666,\"#ed7953\"],[0.7777777777777778,\"#fb9f3a\"],[0.8888888888888888,\"#fdca26\"],[1.0,\"#f0f921\"]]}],\"surface\":[{\"type\":\"surface\",\"colorbar\":{\"outlinewidth\":0,\"ticks\":\"\"},\"colorscale\":[[0.0,\"#0d0887\"],[0.1111111111111111,\"#46039f\"],[0.2222222222222222,\"#7201a8\"],[0.3333333333333333,\"#9c179e\"],[0.4444444444444444,\"#bd3786\"],[0.5555555555555556,\"#d8576b\"],[0.6666666666666666,\"#ed7953\"],[0.7777777777777778,\"#fb9f3a\"],[0.8888888888888888,\"#fdca26\"],[1.0,\"#f0f921\"]]}],\"mesh3d\":[{\"type\":\"mesh3d\",\"colorbar\":{\"outlinewidth\":0,\"ticks\":\"\"}}],\"scatter\":[{\"fillpattern\":{\"fillmode\":\"overlay\",\"size\":10,\"solidity\":0.2},\"type\":\"scatter\"}],\"parcoords\":[{\"type\":\"parcoords\",\"line\":{\"colorbar\":{\"outlinewidth\":0,\"ticks\":\"\"}}}],\"scatterpolargl\":[{\"type\":\"scatterpolargl\",\"marker\":{\"colorbar\":{\"outlinewidth\":0,\"ticks\":\"\"}}}],\"bar\":[{\"error_x\":{\"color\":\"#2a3f5f\"},\"error_y\":{\"color\":\"#2a3f5f\"},\"marker\":{\"line\":{\"color\":\"#E5ECF6\",\"width\":0.5},\"pattern\":{\"fillmode\":\"overlay\",\"size\":10,\"solidity\":0.2}},\"type\":\"bar\"}],\"scattergeo\":[{\"type\":\"scattergeo\",\"marker\":{\"colorbar\":{\"outlinewidth\":0,\"ticks\":\"\"}}}],\"scatterpolar\":[{\"type\":\"scatterpolar\",\"marker\":{\"colorbar\":{\"outlinewidth\":0,\"ticks\":\"\"}}}],\"histogram\":[{\"marker\":{\"pattern\":{\"fillmode\":\"overlay\",\"size\":10,\"solidity\":0.2}},\"type\":\"histogram\"}],\"scattergl\":[{\"type\":\"scattergl\",\"marker\":{\"colorbar\":{\"outlinewidth\":0,\"ticks\":\"\"}}}],\"scatter3d\":[{\"type\":\"scatter3d\",\"line\":{\"colorbar\":{\"outlinewidth\":0,\"ticks\":\"\"}},\"marker\":{\"colorbar\":{\"outlinewidth\":0,\"ticks\":\"\"}}}],\"scattermapbox\":[{\"type\":\"scattermapbox\",\"marker\":{\"colorbar\":{\"outlinewidth\":0,\"ticks\":\"\"}}}],\"scatterternary\":[{\"type\":\"scatterternary\",\"marker\":{\"colorbar\":{\"outlinewidth\":0,\"ticks\":\"\"}}}],\"scattercarpet\":[{\"type\":\"scattercarpet\",\"marker\":{\"colorbar\":{\"outlinewidth\":0,\"ticks\":\"\"}}}],\"carpet\":[{\"aaxis\":{\"endlinecolor\":\"#2a3f5f\",\"gridcolor\":\"white\",\"linecolor\":\"white\",\"minorgridcolor\":\"white\",\"startlinecolor\":\"#2a3f5f\"},\"baxis\":{\"endlinecolor\":\"#2a3f5f\",\"gridcolor\":\"white\",\"linecolor\":\"white\",\"minorgridcolor\":\"white\",\"startlinecolor\":\"#2a3f5f\"},\"type\":\"carpet\"}],\"table\":[{\"cells\":{\"fill\":{\"color\":\"#EBF0F8\"},\"line\":{\"color\":\"white\"}},\"header\":{\"fill\":{\"color\":\"#C8D4E3\"},\"line\":{\"color\":\"white\"}},\"type\":\"table\"}],\"barpolar\":[{\"marker\":{\"line\":{\"color\":\"#E5ECF6\",\"width\":0.5},\"pattern\":{\"fillmode\":\"overlay\",\"size\":10,\"solidity\":0.2}},\"type\":\"barpolar\"}],\"pie\":[{\"automargin\":true,\"type\":\"pie\"}]},\"layout\":{\"autotypenumbers\":\"strict\",\"colorway\":[\"#636efa\",\"#EF553B\",\"#00cc96\",\"#ab63fa\",\"#FFA15A\",\"#19d3f3\",\"#FF6692\",\"#B6E880\",\"#FF97FF\",\"#FECB52\"],\"font\":{\"color\":\"#2a3f5f\"},\"hovermode\":\"closest\",\"hoverlabel\":{\"align\":\"left\"},\"paper_bgcolor\":\"white\",\"plot_bgcolor\":\"#E5ECF6\",\"polar\":{\"bgcolor\":\"#E5ECF6\",\"angularaxis\":{\"gridcolor\":\"white\",\"linecolor\":\"white\",\"ticks\":\"\"},\"radialaxis\":{\"gridcolor\":\"white\",\"linecolor\":\"white\",\"ticks\":\"\"}},\"ternary\":{\"bgcolor\":\"#E5ECF6\",\"aaxis\":{\"gridcolor\":\"white\",\"linecolor\":\"white\",\"ticks\":\"\"},\"baxis\":{\"gridcolor\":\"white\",\"linecolor\":\"white\",\"ticks\":\"\"},\"caxis\":{\"gridcolor\":\"white\",\"linecolor\":\"white\",\"ticks\":\"\"}},\"coloraxis\":{\"colorbar\":{\"outlinewidth\":0,\"ticks\":\"\"}},\"colorscale\":{\"sequential\":[[0.0,\"#0d0887\"],[0.1111111111111111,\"#46039f\"],[0.2222222222222222,\"#7201a8\"],[0.3333333333333333,\"#9c179e\"],[0.4444444444444444,\"#bd3786\"],[0.5555555555555556,\"#d8576b\"],[0.6666666666666666,\"#ed7953\"],[0.7777777777777778,\"#fb9f3a\"],[0.8888888888888888,\"#fdca26\"],[1.0,\"#f0f921\"]],\"sequentialminus\":[[0.0,\"#0d0887\"],[0.1111111111111111,\"#46039f\"],[0.2222222222222222,\"#7201a8\"],[0.3333333333333333,\"#9c179e\"],[0.4444444444444444,\"#bd3786\"],[0.5555555555555556,\"#d8576b\"],[0.6666666666666666,\"#ed7953\"],[0.7777777777777778,\"#fb9f3a\"],[0.8888888888888888,\"#fdca26\"],[1.0,\"#f0f921\"]],\"diverging\":[[0,\"#8e0152\"],[0.1,\"#c51b7d\"],[0.2,\"#de77ae\"],[0.3,\"#f1b6da\"],[0.4,\"#fde0ef\"],[0.5,\"#f7f7f7\"],[0.6,\"#e6f5d0\"],[0.7,\"#b8e186\"],[0.8,\"#7fbc41\"],[0.9,\"#4d9221\"],[1,\"#276419\"]]},\"xaxis\":{\"gridcolor\":\"white\",\"linecolor\":\"white\",\"ticks\":\"\",\"title\":{\"standoff\":15},\"zerolinecolor\":\"white\",\"automargin\":true,\"zerolinewidth\":2},\"yaxis\":{\"gridcolor\":\"white\",\"linecolor\":\"white\",\"ticks\":\"\",\"title\":{\"standoff\":15},\"zerolinecolor\":\"white\",\"automargin\":true,\"zerolinewidth\":2},\"scene\":{\"xaxis\":{\"backgroundcolor\":\"#E5ECF6\",\"gridcolor\":\"white\",\"linecolor\":\"white\",\"showbackground\":true,\"ticks\":\"\",\"zerolinecolor\":\"white\",\"gridwidth\":2},\"yaxis\":{\"backgroundcolor\":\"#E5ECF6\",\"gridcolor\":\"white\",\"linecolor\":\"white\",\"showbackground\":true,\"ticks\":\"\",\"zerolinecolor\":\"white\",\"gridwidth\":2},\"zaxis\":{\"backgroundcolor\":\"#E5ECF6\",\"gridcolor\":\"white\",\"linecolor\":\"white\",\"showbackground\":true,\"ticks\":\"\",\"zerolinecolor\":\"white\",\"gridwidth\":2}},\"shapedefaults\":{\"line\":{\"color\":\"#2a3f5f\"}},\"annotationdefaults\":{\"arrowcolor\":\"#2a3f5f\",\"arrowhead\":0,\"arrowwidth\":1},\"geo\":{\"bgcolor\":\"white\",\"landcolor\":\"#E5ECF6\",\"subunitcolor\":\"white\",\"showland\":true,\"showlakes\":true,\"lakecolor\":\"white\"},\"title\":{\"x\":0.05},\"mapbox\":{\"style\":\"light\"}}},\"xaxis\":{\"anchor\":\"y\",\"domain\":[0.0,1.0],\"title\":{\"text\":\"african_american\"}},\"yaxis\":{\"anchor\":\"x\",\"domain\":[0.0,1.0],\"title\":{\"text\":\"avg_response_time\"}},\"legend\":{\"tracegroupgap\":0},\"title\":{\"text\":\"Response Time by African American Population for Census Tracts, Davidson County 2017-2021\"}},                        {\"responsive\": true}                    ).then(function(){\n",
       "                            \n",
       "var gd = document.getElementById('b8eb72e2-16a9-4b4b-94fe-46072bce0dcb');\n",
       "var x = new MutationObserver(function (mutations, observer) {{\n",
       "        var display = window.getComputedStyle(gd).display;\n",
       "        if (!display || display === 'none') {{\n",
       "            console.log([gd, 'removed!']);\n",
       "            Plotly.purge(gd);\n",
       "            observer.disconnect();\n",
       "        }}\n",
       "}});\n",
       "\n",
       "// Listen for the removal of the full notebook cells\n",
       "var notebookContainer = gd.closest('#notebook-container');\n",
       "if (notebookContainer) {{\n",
       "    x.observe(notebookContainer, {childList: true});\n",
       "}}\n",
       "\n",
       "// Listen for the clearing of the current output cell\n",
       "var outputEl = gd.closest('.output');\n",
       "if (outputEl) {{\n",
       "    x.observe(outputEl, {childList: true});\n",
       "}}\n",
       "\n",
       "                        })                };                });            </script>        </div>"
      ]
     },
     "metadata": {},
     "output_type": "display_data"
    }
   ],
   "source": [
    "fig = px.scatter(res_dem_gdf, x='african_american', y='avg_response_time', trendline='ols',\n",
    "    title=\"Response Time by African American Population for Census Tracts, Davidson County 2017-2021\")\n",
    "fig.show()\n",
    "fig.write_html('res_time_by_african_american_pop.html')"
   ]
  },
  {
   "cell_type": "code",
   "execution_count": 19,
   "id": "c1bac376",
   "metadata": {
    "colab": {
     "base_uri": "https://localhost:8080/",
     "height": 542
    },
    "id": "c1bac376",
    "outputId": "33b28755-c5f6-4ec5-9409-ca444c30ea6b"
   },
   "outputs": [
    {
     "data": {
      "application/vnd.plotly.v1+json": {
       "config": {
        "plotlyServerURL": "https://plot.ly"
       },
       "data": [
        {
         "hovertemplate": "white=%{x}<br>avg_response_time=%{y}<extra></extra>",
         "legendgroup": "",
         "marker": {
          "color": "#636efa",
          "symbol": "circle"
         },
         "mode": "markers",
         "name": "",
         "orientation": "v",
         "showlegend": false,
         "type": "scatter",
         "x": [
          3461,
          2954,
          2422,
          3552,
          202,
          215,
          2692,
          1263,
          2203,
          3353,
          2963,
          4275,
          341,
          2474,
          2308,
          309,
          3314,
          4437,
          2415,
          5302,
          3643,
          2813,
          2484,
          2474,
          4154,
          4287,
          2424,
          2416,
          449,
          3731,
          2475,
          2726,
          3273,
          1819,
          1434,
          1163,
          2574,
          2589,
          1799,
          2928,
          1875,
          2562,
          2573,
          108,
          4047,
          4365,
          2601,
          1456,
          3691,
          2181,
          89,
          2405,
          4772,
          2339,
          3055,
          698,
          3427,
          3910,
          4579,
          3134,
          2409,
          2851,
          4692,
          1447,
          3013,
          511,
          761,
          2813,
          1829,
          3987,
          789,
          1397,
          3562,
          4523,
          3191,
          2791,
          2543,
          4715,
          6815,
          3253,
          90,
          2751,
          3726,
          2826,
          1281,
          6430,
          2504,
          620,
          1226,
          1284,
          9132,
          3958,
          2870,
          4459,
          2451,
          3175,
          274,
          4252,
          2837,
          3272,
          3307,
          4057,
          2672,
          1946,
          1685,
          590,
          2990,
          2467,
          1414,
          2832,
          1727,
          2151,
          2119,
          1779,
          2458,
          2554,
          3117,
          911,
          2841,
          4374,
          2202,
          4881,
          3102,
          2083,
          2404,
          1559,
          2137,
          4727,
          5101,
          400,
          5021,
          845,
          4738,
          251,
          2061,
          5269,
          2148,
          3079,
          693,
          1930,
          2928,
          2816,
          2625,
          null,
          2322,
          3220,
          2327,
          1456,
          1708,
          280,
          4932,
          1107,
          3219,
          582,
          3956,
          null,
          4597,
          1402,
          1136,
          3940,
          227
         ],
         "xaxis": "x",
         "y": [
          336.6775956284153,
          392.2,
          639.9289099526067,
          413.8970976253298,
          337.46315789473687,
          343.90845070422534,
          403.3207547169811,
          377.4945848375451,
          426.2622309197652,
          506.2486486486487,
          397.247619047619,
          342.8245614035088,
          381.283105022831,
          415.08053691275165,
          513.1833333333333,
          404.9782608695652,
          246.04109589041096,
          311.0698924731183,
          274.52272727272725,
          382.125,
          368.5692307692308,
          247.34883720930236,
          264.5217391304348,
          286.4347826086956,
          400.4852941176471,
          457.71875,
          339.1875,
          357.5594713656388,
          375.1241217798595,
          372.95211267605634,
          218,
          348.8513513513513,
          290.258064516129,
          525.8956228956229,
          407.55555555555554,
          310.2708333333333,
          435.0614754098361,
          429.14722222222224,
          367.09580838323353,
          404.17471264367816,
          416.0079365079365,
          373.7714285714285,
          383.6575342465753,
          359.68981481481484,
          600.0677966101695,
          426.3877551020408,
          317.44642857142856,
          630.8415841584158,
          300.89473684210526,
          379.9160839160839,
          381.9090909090909,
          252.49693251533745,
          392.8523489932886,
          515.2967479674796,
          443.54852320675104,
          308.5217391304348,
          383.01666666666665,
          386.5857142857143,
          314.9942903752039,
          308.64054054054054,
          403.8528610354224,
          423.8928571428572,
          394.0194174757282,
          295.31,
          351.95,
          395.5157068062827,
          528.156862745098,
          383.71014492753625,
          405.18367346938777,
          525.6027397260274,
          518.2647058823529,
          333.64912280701753,
          372.7011494252874,
          368.9325842696629,
          508.7916666666667,
          353.20652173913044,
          452.38483146067415,
          341.4803149606299,
          569.0920770877945,
          586.1904761904761,
          338.6793893129771,
          598.314606741573,
          389.30272108843536,
          354.32142857142856,
          458.2314814814815,
          577.2447257383966,
          521.4477611940298,
          389.3076923076923,
          262.6,
          466.16541353383457,
          632.3542857142858,
          244.3203125,
          533.3709677419355,
          396.73333333333335,
          372.1428571428572,
          518.8085106382979,
          441.7914691943128,
          443.60483870967744,
          350.697247706422,
          297.5394736842105,
          462.8490566037736,
          467.5384615384616,
          364.31111111111113,
          334.13963039014374,
          387.0642857142857,
          371.48521739130433,
          442.10927835051547,
          293.6640625,
          380.5033112582781,
          451,
          407.6756756756757,
          422.9333333333333,
          297.0272727272727,
          474,
          639.0377358490566,
          428.88793103448273,
          380.4224137931034,
          357.984496124031,
          485.6714285714286,
          512.3,
          310.587962962963,
          426.7450980392157,
          342.31052631578945,
          486.9072164948454,
          356.5846153846154,
          599.4285714285714,
          315.73298429319374,
          472.6010638297872,
          405.1830985915493,
          330.3380281690141,
          459.6571428571429,
          358.2287581699346,
          432.94685990338166,
          271.14772727272725,
          317.11304347826086,
          414.8344827586207,
          354.4871794871795,
          506.9166666666667,
          353.5561643835616,
          338.3809523809524,
          426.8360655737705,
          409.2705314009662,
          386.7944444444444,
          422.874213836478,
          344.75,
          507.288961038961,
          326.1025641025641,
          392.00387596899225,
          337.38461538461536,
          251.9240506329114,
          371.5441176470589,
          335.6575342465753,
          315.2156862745098,
          344.58649789029533,
          493.3018867924528,
          356.68275862068964,
          375.2014925373134,
          374.9868421052632,
          420.9009009009009,
          539.5454545454545,
          358.0923076923077
         ],
         "yaxis": "y"
        },
        {
         "hovertemplate": "<b>OLS trendline</b><br>avg_response_time = 0.0157498 * white + 358.033<br>R<sup>2</sup>=0.069839<br><br>white=%{x}<br>avg_response_time=%{y} <b>(trend)</b><extra></extra>",
         "legendgroup": "",
         "marker": {
          "color": "#636efa",
          "symbol": "circle"
         },
         "mode": "lines",
         "name": "",
         "showlegend": false,
         "type": "scatter",
         "x": [
          89,
          90,
          108,
          202,
          215,
          227,
          251,
          274,
          280,
          309,
          341,
          400,
          449,
          511,
          582,
          590,
          620,
          693,
          698,
          761,
          789,
          845,
          911,
          1107,
          1136,
          1163,
          1226,
          1263,
          1281,
          1284,
          1397,
          1402,
          1414,
          1434,
          1447,
          1456,
          1456,
          1559,
          1685,
          1708,
          1727,
          1779,
          1799,
          1819,
          1829,
          1875,
          1930,
          1946,
          2061,
          2083,
          2119,
          2137,
          2148,
          2151,
          2181,
          2202,
          2203,
          2308,
          2322,
          2327,
          2339,
          2404,
          2405,
          2409,
          2415,
          2416,
          2422,
          2424,
          2451,
          2458,
          2467,
          2474,
          2474,
          2475,
          2484,
          2504,
          2543,
          2554,
          2562,
          2573,
          2574,
          2589,
          2601,
          2625,
          2672,
          2692,
          2726,
          2751,
          2791,
          2813,
          2813,
          2816,
          2826,
          2832,
          2837,
          2841,
          2851,
          2870,
          2928,
          2928,
          2954,
          2963,
          2990,
          3013,
          3055,
          3079,
          3102,
          3117,
          3134,
          3175,
          3191,
          3219,
          3220,
          3253,
          3272,
          3273,
          3307,
          3314,
          3353,
          3427,
          3461,
          3552,
          3562,
          3643,
          3691,
          3726,
          3731,
          3910,
          3940,
          3956,
          3958,
          3987,
          4047,
          4057,
          4154,
          4252,
          4275,
          4287,
          4365,
          4374,
          4437,
          4459,
          4523,
          4579,
          4597,
          4692,
          4715,
          4727,
          4738,
          4772,
          4881,
          4932,
          5021,
          5101,
          5269,
          5302,
          6430,
          6815,
          9132
         ],
         "xaxis": "x",
         "y": [
          359.435127085852,
          359.4508768446459,
          359.7343725029368,
          361.21484982956696,
          361.41959669388814,
          361.60859379941536,
          361.98658801046986,
          362.34883246273046,
          362.44333101549404,
          362.9000740205183,
          363.4040663019243,
          364.3333020707666,
          365.1050402516695,
          366.08152529689363,
          367.1997581712632,
          367.3257562416147,
          367.7982490054328,
          368.94798139739027,
          369.02673019135995,
          370.01896499537804,
          370.45995824160826,
          371.34194473406876,
          372.3814288144687,
          375.4683815380804,
          375.92512454310463,
          376.3503680305409,
          377.342602834559,
          377.92534390993467,
          378.2088395682255,
          378.25608884460735,
          380.0358115883223,
          380.114560382292,
          380.30355748781926,
          380.618552663698,
          380.82329952801916,
          380.9650473571646,
          380.9650473571646,
          382.58727251294016,
          384.5717421209763,
          384.9339865732369,
          385.2332319903217,
          386.05221944760643,
          386.3672146234852,
          386.68220979936393,
          386.83970738730335,
          387.56419629182443,
          388.430433025491,
          388.682429166194,
          390.49365142749684,
          390.8401461209635,
          391.4071374375452,
          391.6906330958361,
          391.8638804425694,
          391.9111297189512,
          392.38362248276934,
          392.714367417442,
          392.730117176236,
          394.38384184959943,
          394.6043384727145,
          394.6830872666842,
          394.8720843722115,
          395.89581869381743,
          395.91156845261133,
          395.9745674877871,
          396.06906604055075,
          396.08481579934465,
          396.1793143521083,
          396.21081386969615,
          396.6360573571325,
          396.74630566869007,
          396.8880534978355,
          396.99830180939307,
          396.99830180939307,
          397.01405156818697,
          397.15579939733243,
          397.47079457321115,
          398.08503516617475,
          398.25828251290807,
          398.38428058325957,
          398.5575279299929,
          398.5732776887868,
          398.8095240706959,
          398.9985211762231,
          399.3765153872776,
          400.1167540505927,
          400.4317492264714,
          400.9672410254653,
          401.36098499531374,
          401.99097534707124,
          402.3374700405379,
          402.3374700405379,
          402.3847193169197,
          402.54221690485906,
          402.6367154576227,
          402.7154642515924,
          402.7784632867681,
          402.9359608747075,
          403.23520629179234,
          404.1486923018407,
          404.1486923018407,
          404.55818603048306,
          404.6999338596285,
          405.12517734706483,
          405.4874217993254,
          406.14891166867073,
          406.5269058797253,
          406.88915033198583,
          407.1253967138949,
          407.39314261339183,
          408.0388827239433,
          408.2908788646463,
          408.7318721108765,
          408.74762186967047,
          409.26736390987037,
          409.5666093269552,
          409.58235908574915,
          410.117850884743,
          410.2280991963006,
          410.84233978926414,
          412.00782194001556,
          412.5433137390094,
          413.97654178925774,
          414.1340393771971,
          415.40976983950605,
          416.16575826161505,
          416.7169998194029,
          416.79574861337255,
          419.61495543748737,
          420.0874482013055,
          420.3394443420085,
          420.37094385959637,
          420.82768686462055,
          421.7726723922568,
          421.9301699801962,
          423.45789658320814,
          425.001372945014,
          425.36361739727454,
          425.5526145028018,
          426.78109568872895,
          426.9228435178744,
          427.91507832189245,
          428.2615730153591,
          429.2695575781711,
          430.1515440706316,
          430.43503972892245,
          431.93126681434654,
          432.2935112666071,
          432.48250837213436,
          432.6557557188677,
          433.19124751786154,
          434.9079712264007,
          435.71120892489154,
          437.112937457552,
          438.372918161067,
          441.0188776384485,
          441.53861967864844,
          459.30434759821003,
          465.368004733876,
          501.86019585942927
         ],
         "yaxis": "y"
        }
       ],
       "layout": {
        "legend": {
         "tracegroupgap": 0
        },
        "template": {
         "data": {
          "bar": [
           {
            "error_x": {
             "color": "#2a3f5f"
            },
            "error_y": {
             "color": "#2a3f5f"
            },
            "marker": {
             "line": {
              "color": "#E5ECF6",
              "width": 0.5
             },
             "pattern": {
              "fillmode": "overlay",
              "size": 10,
              "solidity": 0.2
             }
            },
            "type": "bar"
           }
          ],
          "barpolar": [
           {
            "marker": {
             "line": {
              "color": "#E5ECF6",
              "width": 0.5
             },
             "pattern": {
              "fillmode": "overlay",
              "size": 10,
              "solidity": 0.2
             }
            },
            "type": "barpolar"
           }
          ],
          "carpet": [
           {
            "aaxis": {
             "endlinecolor": "#2a3f5f",
             "gridcolor": "white",
             "linecolor": "white",
             "minorgridcolor": "white",
             "startlinecolor": "#2a3f5f"
            },
            "baxis": {
             "endlinecolor": "#2a3f5f",
             "gridcolor": "white",
             "linecolor": "white",
             "minorgridcolor": "white",
             "startlinecolor": "#2a3f5f"
            },
            "type": "carpet"
           }
          ],
          "choropleth": [
           {
            "colorbar": {
             "outlinewidth": 0,
             "ticks": ""
            },
            "type": "choropleth"
           }
          ],
          "contour": [
           {
            "colorbar": {
             "outlinewidth": 0,
             "ticks": ""
            },
            "colorscale": [
             [
              0,
              "#0d0887"
             ],
             [
              0.1111111111111111,
              "#46039f"
             ],
             [
              0.2222222222222222,
              "#7201a8"
             ],
             [
              0.3333333333333333,
              "#9c179e"
             ],
             [
              0.4444444444444444,
              "#bd3786"
             ],
             [
              0.5555555555555556,
              "#d8576b"
             ],
             [
              0.6666666666666666,
              "#ed7953"
             ],
             [
              0.7777777777777778,
              "#fb9f3a"
             ],
             [
              0.8888888888888888,
              "#fdca26"
             ],
             [
              1,
              "#f0f921"
             ]
            ],
            "type": "contour"
           }
          ],
          "contourcarpet": [
           {
            "colorbar": {
             "outlinewidth": 0,
             "ticks": ""
            },
            "type": "contourcarpet"
           }
          ],
          "heatmap": [
           {
            "colorbar": {
             "outlinewidth": 0,
             "ticks": ""
            },
            "colorscale": [
             [
              0,
              "#0d0887"
             ],
             [
              0.1111111111111111,
              "#46039f"
             ],
             [
              0.2222222222222222,
              "#7201a8"
             ],
             [
              0.3333333333333333,
              "#9c179e"
             ],
             [
              0.4444444444444444,
              "#bd3786"
             ],
             [
              0.5555555555555556,
              "#d8576b"
             ],
             [
              0.6666666666666666,
              "#ed7953"
             ],
             [
              0.7777777777777778,
              "#fb9f3a"
             ],
             [
              0.8888888888888888,
              "#fdca26"
             ],
             [
              1,
              "#f0f921"
             ]
            ],
            "type": "heatmap"
           }
          ],
          "heatmapgl": [
           {
            "colorbar": {
             "outlinewidth": 0,
             "ticks": ""
            },
            "colorscale": [
             [
              0,
              "#0d0887"
             ],
             [
              0.1111111111111111,
              "#46039f"
             ],
             [
              0.2222222222222222,
              "#7201a8"
             ],
             [
              0.3333333333333333,
              "#9c179e"
             ],
             [
              0.4444444444444444,
              "#bd3786"
             ],
             [
              0.5555555555555556,
              "#d8576b"
             ],
             [
              0.6666666666666666,
              "#ed7953"
             ],
             [
              0.7777777777777778,
              "#fb9f3a"
             ],
             [
              0.8888888888888888,
              "#fdca26"
             ],
             [
              1,
              "#f0f921"
             ]
            ],
            "type": "heatmapgl"
           }
          ],
          "histogram": [
           {
            "marker": {
             "pattern": {
              "fillmode": "overlay",
              "size": 10,
              "solidity": 0.2
             }
            },
            "type": "histogram"
           }
          ],
          "histogram2d": [
           {
            "colorbar": {
             "outlinewidth": 0,
             "ticks": ""
            },
            "colorscale": [
             [
              0,
              "#0d0887"
             ],
             [
              0.1111111111111111,
              "#46039f"
             ],
             [
              0.2222222222222222,
              "#7201a8"
             ],
             [
              0.3333333333333333,
              "#9c179e"
             ],
             [
              0.4444444444444444,
              "#bd3786"
             ],
             [
              0.5555555555555556,
              "#d8576b"
             ],
             [
              0.6666666666666666,
              "#ed7953"
             ],
             [
              0.7777777777777778,
              "#fb9f3a"
             ],
             [
              0.8888888888888888,
              "#fdca26"
             ],
             [
              1,
              "#f0f921"
             ]
            ],
            "type": "histogram2d"
           }
          ],
          "histogram2dcontour": [
           {
            "colorbar": {
             "outlinewidth": 0,
             "ticks": ""
            },
            "colorscale": [
             [
              0,
              "#0d0887"
             ],
             [
              0.1111111111111111,
              "#46039f"
             ],
             [
              0.2222222222222222,
              "#7201a8"
             ],
             [
              0.3333333333333333,
              "#9c179e"
             ],
             [
              0.4444444444444444,
              "#bd3786"
             ],
             [
              0.5555555555555556,
              "#d8576b"
             ],
             [
              0.6666666666666666,
              "#ed7953"
             ],
             [
              0.7777777777777778,
              "#fb9f3a"
             ],
             [
              0.8888888888888888,
              "#fdca26"
             ],
             [
              1,
              "#f0f921"
             ]
            ],
            "type": "histogram2dcontour"
           }
          ],
          "mesh3d": [
           {
            "colorbar": {
             "outlinewidth": 0,
             "ticks": ""
            },
            "type": "mesh3d"
           }
          ],
          "parcoords": [
           {
            "line": {
             "colorbar": {
              "outlinewidth": 0,
              "ticks": ""
             }
            },
            "type": "parcoords"
           }
          ],
          "pie": [
           {
            "automargin": true,
            "type": "pie"
           }
          ],
          "scatter": [
           {
            "fillpattern": {
             "fillmode": "overlay",
             "size": 10,
             "solidity": 0.2
            },
            "type": "scatter"
           }
          ],
          "scatter3d": [
           {
            "line": {
             "colorbar": {
              "outlinewidth": 0,
              "ticks": ""
             }
            },
            "marker": {
             "colorbar": {
              "outlinewidth": 0,
              "ticks": ""
             }
            },
            "type": "scatter3d"
           }
          ],
          "scattercarpet": [
           {
            "marker": {
             "colorbar": {
              "outlinewidth": 0,
              "ticks": ""
             }
            },
            "type": "scattercarpet"
           }
          ],
          "scattergeo": [
           {
            "marker": {
             "colorbar": {
              "outlinewidth": 0,
              "ticks": ""
             }
            },
            "type": "scattergeo"
           }
          ],
          "scattergl": [
           {
            "marker": {
             "colorbar": {
              "outlinewidth": 0,
              "ticks": ""
             }
            },
            "type": "scattergl"
           }
          ],
          "scattermapbox": [
           {
            "marker": {
             "colorbar": {
              "outlinewidth": 0,
              "ticks": ""
             }
            },
            "type": "scattermapbox"
           }
          ],
          "scatterpolar": [
           {
            "marker": {
             "colorbar": {
              "outlinewidth": 0,
              "ticks": ""
             }
            },
            "type": "scatterpolar"
           }
          ],
          "scatterpolargl": [
           {
            "marker": {
             "colorbar": {
              "outlinewidth": 0,
              "ticks": ""
             }
            },
            "type": "scatterpolargl"
           }
          ],
          "scatterternary": [
           {
            "marker": {
             "colorbar": {
              "outlinewidth": 0,
              "ticks": ""
             }
            },
            "type": "scatterternary"
           }
          ],
          "surface": [
           {
            "colorbar": {
             "outlinewidth": 0,
             "ticks": ""
            },
            "colorscale": [
             [
              0,
              "#0d0887"
             ],
             [
              0.1111111111111111,
              "#46039f"
             ],
             [
              0.2222222222222222,
              "#7201a8"
             ],
             [
              0.3333333333333333,
              "#9c179e"
             ],
             [
              0.4444444444444444,
              "#bd3786"
             ],
             [
              0.5555555555555556,
              "#d8576b"
             ],
             [
              0.6666666666666666,
              "#ed7953"
             ],
             [
              0.7777777777777778,
              "#fb9f3a"
             ],
             [
              0.8888888888888888,
              "#fdca26"
             ],
             [
              1,
              "#f0f921"
             ]
            ],
            "type": "surface"
           }
          ],
          "table": [
           {
            "cells": {
             "fill": {
              "color": "#EBF0F8"
             },
             "line": {
              "color": "white"
             }
            },
            "header": {
             "fill": {
              "color": "#C8D4E3"
             },
             "line": {
              "color": "white"
             }
            },
            "type": "table"
           }
          ]
         },
         "layout": {
          "annotationdefaults": {
           "arrowcolor": "#2a3f5f",
           "arrowhead": 0,
           "arrowwidth": 1
          },
          "autotypenumbers": "strict",
          "coloraxis": {
           "colorbar": {
            "outlinewidth": 0,
            "ticks": ""
           }
          },
          "colorscale": {
           "diverging": [
            [
             0,
             "#8e0152"
            ],
            [
             0.1,
             "#c51b7d"
            ],
            [
             0.2,
             "#de77ae"
            ],
            [
             0.3,
             "#f1b6da"
            ],
            [
             0.4,
             "#fde0ef"
            ],
            [
             0.5,
             "#f7f7f7"
            ],
            [
             0.6,
             "#e6f5d0"
            ],
            [
             0.7,
             "#b8e186"
            ],
            [
             0.8,
             "#7fbc41"
            ],
            [
             0.9,
             "#4d9221"
            ],
            [
             1,
             "#276419"
            ]
           ],
           "sequential": [
            [
             0,
             "#0d0887"
            ],
            [
             0.1111111111111111,
             "#46039f"
            ],
            [
             0.2222222222222222,
             "#7201a8"
            ],
            [
             0.3333333333333333,
             "#9c179e"
            ],
            [
             0.4444444444444444,
             "#bd3786"
            ],
            [
             0.5555555555555556,
             "#d8576b"
            ],
            [
             0.6666666666666666,
             "#ed7953"
            ],
            [
             0.7777777777777778,
             "#fb9f3a"
            ],
            [
             0.8888888888888888,
             "#fdca26"
            ],
            [
             1,
             "#f0f921"
            ]
           ],
           "sequentialminus": [
            [
             0,
             "#0d0887"
            ],
            [
             0.1111111111111111,
             "#46039f"
            ],
            [
             0.2222222222222222,
             "#7201a8"
            ],
            [
             0.3333333333333333,
             "#9c179e"
            ],
            [
             0.4444444444444444,
             "#bd3786"
            ],
            [
             0.5555555555555556,
             "#d8576b"
            ],
            [
             0.6666666666666666,
             "#ed7953"
            ],
            [
             0.7777777777777778,
             "#fb9f3a"
            ],
            [
             0.8888888888888888,
             "#fdca26"
            ],
            [
             1,
             "#f0f921"
            ]
           ]
          },
          "colorway": [
           "#636efa",
           "#EF553B",
           "#00cc96",
           "#ab63fa",
           "#FFA15A",
           "#19d3f3",
           "#FF6692",
           "#B6E880",
           "#FF97FF",
           "#FECB52"
          ],
          "font": {
           "color": "#2a3f5f"
          },
          "geo": {
           "bgcolor": "white",
           "lakecolor": "white",
           "landcolor": "#E5ECF6",
           "showlakes": true,
           "showland": true,
           "subunitcolor": "white"
          },
          "hoverlabel": {
           "align": "left"
          },
          "hovermode": "closest",
          "mapbox": {
           "style": "light"
          },
          "paper_bgcolor": "white",
          "plot_bgcolor": "#E5ECF6",
          "polar": {
           "angularaxis": {
            "gridcolor": "white",
            "linecolor": "white",
            "ticks": ""
           },
           "bgcolor": "#E5ECF6",
           "radialaxis": {
            "gridcolor": "white",
            "linecolor": "white",
            "ticks": ""
           }
          },
          "scene": {
           "xaxis": {
            "backgroundcolor": "#E5ECF6",
            "gridcolor": "white",
            "gridwidth": 2,
            "linecolor": "white",
            "showbackground": true,
            "ticks": "",
            "zerolinecolor": "white"
           },
           "yaxis": {
            "backgroundcolor": "#E5ECF6",
            "gridcolor": "white",
            "gridwidth": 2,
            "linecolor": "white",
            "showbackground": true,
            "ticks": "",
            "zerolinecolor": "white"
           },
           "zaxis": {
            "backgroundcolor": "#E5ECF6",
            "gridcolor": "white",
            "gridwidth": 2,
            "linecolor": "white",
            "showbackground": true,
            "ticks": "",
            "zerolinecolor": "white"
           }
          },
          "shapedefaults": {
           "line": {
            "color": "#2a3f5f"
           }
          },
          "ternary": {
           "aaxis": {
            "gridcolor": "white",
            "linecolor": "white",
            "ticks": ""
           },
           "baxis": {
            "gridcolor": "white",
            "linecolor": "white",
            "ticks": ""
           },
           "bgcolor": "#E5ECF6",
           "caxis": {
            "gridcolor": "white",
            "linecolor": "white",
            "ticks": ""
           }
          },
          "title": {
           "x": 0.05
          },
          "xaxis": {
           "automargin": true,
           "gridcolor": "white",
           "linecolor": "white",
           "ticks": "",
           "title": {
            "standoff": 15
           },
           "zerolinecolor": "white",
           "zerolinewidth": 2
          },
          "yaxis": {
           "automargin": true,
           "gridcolor": "white",
           "linecolor": "white",
           "ticks": "",
           "title": {
            "standoff": 15
           },
           "zerolinecolor": "white",
           "zerolinewidth": 2
          }
         }
        },
        "title": {
         "text": "Response Time by Average White Population for Census Tracts, Davidson County 2017-2021"
        },
        "xaxis": {
         "anchor": "y",
         "domain": [
          0,
          1
         ],
         "title": {
          "text": "white"
         }
        },
        "yaxis": {
         "anchor": "x",
         "domain": [
          0,
          1
         ],
         "title": {
          "text": "avg_response_time"
         }
        }
       }
      },
      "text/html": [
       "<div>                            <div id=\"5401421f-3237-4971-b5a8-0847ff404ae4\" class=\"plotly-graph-div\" style=\"height:525px; width:100%;\"></div>            <script type=\"text/javascript\">                require([\"plotly\"], function(Plotly) {                    window.PLOTLYENV=window.PLOTLYENV || {};                                    if (document.getElementById(\"5401421f-3237-4971-b5a8-0847ff404ae4\")) {                    Plotly.newPlot(                        \"5401421f-3237-4971-b5a8-0847ff404ae4\",                        [{\"hovertemplate\":\"white=%{x}<br>avg_response_time=%{y}<extra></extra>\",\"legendgroup\":\"\",\"marker\":{\"color\":\"#636efa\",\"symbol\":\"circle\"},\"mode\":\"markers\",\"name\":\"\",\"orientation\":\"v\",\"showlegend\":false,\"x\":[3461.0,2954.0,2422.0,3552.0,202.0,215.0,2692.0,1263.0,2203.0,3353.0,2963.0,4275.0,341.0,2474.0,2308.0,309.0,3314.0,4437.0,2415.0,5302.0,3643.0,2813.0,2484.0,2474.0,4154.0,4287.0,2424.0,2416.0,449.0,3731.0,2475.0,2726.0,3273.0,1819.0,1434.0,1163.0,2574.0,2589.0,1799.0,2928.0,1875.0,2562.0,2573.0,108.0,4047.0,4365.0,2601.0,1456.0,3691.0,2181.0,89.0,2405.0,4772.0,2339.0,3055.0,698.0,3427.0,3910.0,4579.0,3134.0,2409.0,2851.0,4692.0,1447.0,3013.0,511.0,761.0,2813.0,1829.0,3987.0,789.0,1397.0,3562.0,4523.0,3191.0,2791.0,2543.0,4715.0,6815.0,3253.0,90.0,2751.0,3726.0,2826.0,1281.0,6430.0,2504.0,620.0,1226.0,1284.0,9132.0,3958.0,2870.0,4459.0,2451.0,3175.0,274.0,4252.0,2837.0,3272.0,3307.0,4057.0,2672.0,1946.0,1685.0,590.0,2990.0,2467.0,1414.0,2832.0,1727.0,2151.0,2119.0,1779.0,2458.0,2554.0,3117.0,911.0,2841.0,4374.0,2202.0,4881.0,3102.0,2083.0,2404.0,1559.0,2137.0,4727.0,5101.0,400.0,5021.0,845.0,4738.0,251.0,2061.0,5269.0,2148.0,3079.0,693.0,1930.0,2928.0,2816.0,2625.0,null,2322.0,3220.0,2327.0,1456.0,1708.0,280.0,4932.0,1107.0,3219.0,582.0,3956.0,null,4597.0,1402.0,1136.0,3940.0,227.0],\"xaxis\":\"x\",\"y\":[336.6775956284153,392.2,639.9289099526067,413.8970976253298,337.46315789473687,343.90845070422534,403.3207547169811,377.4945848375451,426.2622309197652,506.2486486486487,397.247619047619,342.8245614035088,381.283105022831,415.08053691275165,513.1833333333333,404.9782608695652,246.04109589041096,311.0698924731183,274.52272727272725,382.125,368.5692307692308,247.34883720930236,264.5217391304348,286.4347826086956,400.4852941176471,457.71875,339.1875,357.5594713656388,375.1241217798595,372.95211267605634,218.0,348.8513513513513,290.258064516129,525.8956228956229,407.55555555555554,310.2708333333333,435.0614754098361,429.14722222222224,367.09580838323353,404.17471264367816,416.0079365079365,373.7714285714285,383.6575342465753,359.68981481481484,600.0677966101695,426.3877551020408,317.44642857142856,630.8415841584158,300.89473684210526,379.9160839160839,381.9090909090909,252.49693251533745,392.8523489932886,515.2967479674796,443.54852320675104,308.5217391304348,383.01666666666665,386.5857142857143,314.9942903752039,308.64054054054054,403.8528610354224,423.8928571428572,394.0194174757282,295.31,351.95,395.5157068062827,528.156862745098,383.71014492753625,405.18367346938777,525.6027397260274,518.2647058823529,333.64912280701753,372.7011494252874,368.9325842696629,508.7916666666667,353.20652173913044,452.38483146067415,341.4803149606299,569.0920770877945,586.1904761904761,338.6793893129771,598.314606741573,389.30272108843536,354.32142857142856,458.2314814814815,577.2447257383966,521.4477611940298,389.3076923076923,262.6,466.16541353383457,632.3542857142858,244.3203125,533.3709677419355,396.73333333333335,372.1428571428572,518.8085106382979,441.7914691943128,443.60483870967744,350.697247706422,297.5394736842105,462.8490566037736,467.5384615384616,364.31111111111113,334.13963039014374,387.0642857142857,371.48521739130433,442.10927835051547,293.6640625,380.5033112582781,451.0,407.6756756756757,422.9333333333333,297.0272727272727,474.0,639.0377358490566,428.88793103448273,380.4224137931034,357.984496124031,485.6714285714286,512.3,310.587962962963,426.7450980392157,342.31052631578945,486.9072164948454,356.5846153846154,599.4285714285714,315.73298429319374,472.6010638297872,405.1830985915493,330.3380281690141,459.6571428571429,358.2287581699346,432.94685990338166,271.14772727272725,317.11304347826086,414.8344827586207,354.4871794871795,506.9166666666667,353.5561643835616,338.3809523809524,426.8360655737705,409.2705314009662,386.7944444444444,422.874213836478,344.75,507.288961038961,326.1025641025641,392.00387596899225,337.38461538461536,251.9240506329114,371.5441176470589,335.6575342465753,315.2156862745098,344.58649789029533,493.3018867924528,356.68275862068964,375.2014925373134,374.9868421052632,420.9009009009009,539.5454545454545,358.0923076923077],\"yaxis\":\"y\",\"type\":\"scatter\"},{\"hovertemplate\":\"<b>OLS trendline</b><br>avg_response_time = 0.0157498 * white + 358.033<br>R<sup>2</sup>=0.069839<br><br>white=%{x}<br>avg_response_time=%{y} <b>(trend)</b><extra></extra>\",\"legendgroup\":\"\",\"marker\":{\"color\":\"#636efa\",\"symbol\":\"circle\"},\"mode\":\"lines\",\"name\":\"\",\"showlegend\":false,\"x\":[89.0,90.0,108.0,202.0,215.0,227.0,251.0,274.0,280.0,309.0,341.0,400.0,449.0,511.0,582.0,590.0,620.0,693.0,698.0,761.0,789.0,845.0,911.0,1107.0,1136.0,1163.0,1226.0,1263.0,1281.0,1284.0,1397.0,1402.0,1414.0,1434.0,1447.0,1456.0,1456.0,1559.0,1685.0,1708.0,1727.0,1779.0,1799.0,1819.0,1829.0,1875.0,1930.0,1946.0,2061.0,2083.0,2119.0,2137.0,2148.0,2151.0,2181.0,2202.0,2203.0,2308.0,2322.0,2327.0,2339.0,2404.0,2405.0,2409.0,2415.0,2416.0,2422.0,2424.0,2451.0,2458.0,2467.0,2474.0,2474.0,2475.0,2484.0,2504.0,2543.0,2554.0,2562.0,2573.0,2574.0,2589.0,2601.0,2625.0,2672.0,2692.0,2726.0,2751.0,2791.0,2813.0,2813.0,2816.0,2826.0,2832.0,2837.0,2841.0,2851.0,2870.0,2928.0,2928.0,2954.0,2963.0,2990.0,3013.0,3055.0,3079.0,3102.0,3117.0,3134.0,3175.0,3191.0,3219.0,3220.0,3253.0,3272.0,3273.0,3307.0,3314.0,3353.0,3427.0,3461.0,3552.0,3562.0,3643.0,3691.0,3726.0,3731.0,3910.0,3940.0,3956.0,3958.0,3987.0,4047.0,4057.0,4154.0,4252.0,4275.0,4287.0,4365.0,4374.0,4437.0,4459.0,4523.0,4579.0,4597.0,4692.0,4715.0,4727.0,4738.0,4772.0,4881.0,4932.0,5021.0,5101.0,5269.0,5302.0,6430.0,6815.0,9132.0],\"xaxis\":\"x\",\"y\":[359.435127085852,359.4508768446459,359.7343725029368,361.21484982956696,361.41959669388814,361.60859379941536,361.98658801046986,362.34883246273046,362.44333101549404,362.9000740205183,363.4040663019243,364.3333020707666,365.1050402516695,366.08152529689363,367.1997581712632,367.3257562416147,367.7982490054328,368.94798139739027,369.02673019135995,370.01896499537804,370.45995824160826,371.34194473406876,372.3814288144687,375.4683815380804,375.92512454310463,376.3503680305409,377.342602834559,377.92534390993467,378.2088395682255,378.25608884460735,380.0358115883223,380.114560382292,380.30355748781926,380.618552663698,380.82329952801916,380.9650473571646,380.9650473571646,382.58727251294016,384.5717421209763,384.9339865732369,385.2332319903217,386.05221944760643,386.3672146234852,386.68220979936393,386.83970738730335,387.56419629182443,388.430433025491,388.682429166194,390.49365142749684,390.8401461209635,391.4071374375452,391.6906330958361,391.8638804425694,391.9111297189512,392.38362248276934,392.714367417442,392.730117176236,394.38384184959943,394.6043384727145,394.6830872666842,394.8720843722115,395.89581869381743,395.91156845261133,395.9745674877871,396.06906604055075,396.08481579934465,396.1793143521083,396.21081386969615,396.6360573571325,396.74630566869007,396.8880534978355,396.99830180939307,396.99830180939307,397.01405156818697,397.15579939733243,397.47079457321115,398.08503516617475,398.25828251290807,398.38428058325957,398.5575279299929,398.5732776887868,398.8095240706959,398.9985211762231,399.3765153872776,400.1167540505927,400.4317492264714,400.9672410254653,401.36098499531374,401.99097534707124,402.3374700405379,402.3374700405379,402.3847193169197,402.54221690485906,402.6367154576227,402.7154642515924,402.7784632867681,402.9359608747075,403.23520629179234,404.1486923018407,404.1486923018407,404.55818603048306,404.6999338596285,405.12517734706483,405.4874217993254,406.14891166867073,406.5269058797253,406.88915033198583,407.1253967138949,407.39314261339183,408.0388827239433,408.2908788646463,408.7318721108765,408.74762186967047,409.26736390987037,409.5666093269552,409.58235908574915,410.117850884743,410.2280991963006,410.84233978926414,412.00782194001556,412.5433137390094,413.97654178925774,414.1340393771971,415.40976983950605,416.16575826161505,416.7169998194029,416.79574861337255,419.61495543748737,420.0874482013055,420.3394443420085,420.37094385959637,420.82768686462055,421.7726723922568,421.9301699801962,423.45789658320814,425.001372945014,425.36361739727454,425.5526145028018,426.78109568872895,426.9228435178744,427.91507832189245,428.2615730153591,429.2695575781711,430.1515440706316,430.43503972892245,431.93126681434654,432.2935112666071,432.48250837213436,432.6557557188677,433.19124751786154,434.9079712264007,435.71120892489154,437.112937457552,438.372918161067,441.0188776384485,441.53861967864844,459.30434759821003,465.368004733876,501.86019585942927],\"yaxis\":\"y\",\"type\":\"scatter\"}],                        {\"template\":{\"data\":{\"histogram2dcontour\":[{\"type\":\"histogram2dcontour\",\"colorbar\":{\"outlinewidth\":0,\"ticks\":\"\"},\"colorscale\":[[0.0,\"#0d0887\"],[0.1111111111111111,\"#46039f\"],[0.2222222222222222,\"#7201a8\"],[0.3333333333333333,\"#9c179e\"],[0.4444444444444444,\"#bd3786\"],[0.5555555555555556,\"#d8576b\"],[0.6666666666666666,\"#ed7953\"],[0.7777777777777778,\"#fb9f3a\"],[0.8888888888888888,\"#fdca26\"],[1.0,\"#f0f921\"]]}],\"choropleth\":[{\"type\":\"choropleth\",\"colorbar\":{\"outlinewidth\":0,\"ticks\":\"\"}}],\"histogram2d\":[{\"type\":\"histogram2d\",\"colorbar\":{\"outlinewidth\":0,\"ticks\":\"\"},\"colorscale\":[[0.0,\"#0d0887\"],[0.1111111111111111,\"#46039f\"],[0.2222222222222222,\"#7201a8\"],[0.3333333333333333,\"#9c179e\"],[0.4444444444444444,\"#bd3786\"],[0.5555555555555556,\"#d8576b\"],[0.6666666666666666,\"#ed7953\"],[0.7777777777777778,\"#fb9f3a\"],[0.8888888888888888,\"#fdca26\"],[1.0,\"#f0f921\"]]}],\"heatmap\":[{\"type\":\"heatmap\",\"colorbar\":{\"outlinewidth\":0,\"ticks\":\"\"},\"colorscale\":[[0.0,\"#0d0887\"],[0.1111111111111111,\"#46039f\"],[0.2222222222222222,\"#7201a8\"],[0.3333333333333333,\"#9c179e\"],[0.4444444444444444,\"#bd3786\"],[0.5555555555555556,\"#d8576b\"],[0.6666666666666666,\"#ed7953\"],[0.7777777777777778,\"#fb9f3a\"],[0.8888888888888888,\"#fdca26\"],[1.0,\"#f0f921\"]]}],\"heatmapgl\":[{\"type\":\"heatmapgl\",\"colorbar\":{\"outlinewidth\":0,\"ticks\":\"\"},\"colorscale\":[[0.0,\"#0d0887\"],[0.1111111111111111,\"#46039f\"],[0.2222222222222222,\"#7201a8\"],[0.3333333333333333,\"#9c179e\"],[0.4444444444444444,\"#bd3786\"],[0.5555555555555556,\"#d8576b\"],[0.6666666666666666,\"#ed7953\"],[0.7777777777777778,\"#fb9f3a\"],[0.8888888888888888,\"#fdca26\"],[1.0,\"#f0f921\"]]}],\"contourcarpet\":[{\"type\":\"contourcarpet\",\"colorbar\":{\"outlinewidth\":0,\"ticks\":\"\"}}],\"contour\":[{\"type\":\"contour\",\"colorbar\":{\"outlinewidth\":0,\"ticks\":\"\"},\"colorscale\":[[0.0,\"#0d0887\"],[0.1111111111111111,\"#46039f\"],[0.2222222222222222,\"#7201a8\"],[0.3333333333333333,\"#9c179e\"],[0.4444444444444444,\"#bd3786\"],[0.5555555555555556,\"#d8576b\"],[0.6666666666666666,\"#ed7953\"],[0.7777777777777778,\"#fb9f3a\"],[0.8888888888888888,\"#fdca26\"],[1.0,\"#f0f921\"]]}],\"surface\":[{\"type\":\"surface\",\"colorbar\":{\"outlinewidth\":0,\"ticks\":\"\"},\"colorscale\":[[0.0,\"#0d0887\"],[0.1111111111111111,\"#46039f\"],[0.2222222222222222,\"#7201a8\"],[0.3333333333333333,\"#9c179e\"],[0.4444444444444444,\"#bd3786\"],[0.5555555555555556,\"#d8576b\"],[0.6666666666666666,\"#ed7953\"],[0.7777777777777778,\"#fb9f3a\"],[0.8888888888888888,\"#fdca26\"],[1.0,\"#f0f921\"]]}],\"mesh3d\":[{\"type\":\"mesh3d\",\"colorbar\":{\"outlinewidth\":0,\"ticks\":\"\"}}],\"scatter\":[{\"fillpattern\":{\"fillmode\":\"overlay\",\"size\":10,\"solidity\":0.2},\"type\":\"scatter\"}],\"parcoords\":[{\"type\":\"parcoords\",\"line\":{\"colorbar\":{\"outlinewidth\":0,\"ticks\":\"\"}}}],\"scatterpolargl\":[{\"type\":\"scatterpolargl\",\"marker\":{\"colorbar\":{\"outlinewidth\":0,\"ticks\":\"\"}}}],\"bar\":[{\"error_x\":{\"color\":\"#2a3f5f\"},\"error_y\":{\"color\":\"#2a3f5f\"},\"marker\":{\"line\":{\"color\":\"#E5ECF6\",\"width\":0.5},\"pattern\":{\"fillmode\":\"overlay\",\"size\":10,\"solidity\":0.2}},\"type\":\"bar\"}],\"scattergeo\":[{\"type\":\"scattergeo\",\"marker\":{\"colorbar\":{\"outlinewidth\":0,\"ticks\":\"\"}}}],\"scatterpolar\":[{\"type\":\"scatterpolar\",\"marker\":{\"colorbar\":{\"outlinewidth\":0,\"ticks\":\"\"}}}],\"histogram\":[{\"marker\":{\"pattern\":{\"fillmode\":\"overlay\",\"size\":10,\"solidity\":0.2}},\"type\":\"histogram\"}],\"scattergl\":[{\"type\":\"scattergl\",\"marker\":{\"colorbar\":{\"outlinewidth\":0,\"ticks\":\"\"}}}],\"scatter3d\":[{\"type\":\"scatter3d\",\"line\":{\"colorbar\":{\"outlinewidth\":0,\"ticks\":\"\"}},\"marker\":{\"colorbar\":{\"outlinewidth\":0,\"ticks\":\"\"}}}],\"scattermapbox\":[{\"type\":\"scattermapbox\",\"marker\":{\"colorbar\":{\"outlinewidth\":0,\"ticks\":\"\"}}}],\"scatterternary\":[{\"type\":\"scatterternary\",\"marker\":{\"colorbar\":{\"outlinewidth\":0,\"ticks\":\"\"}}}],\"scattercarpet\":[{\"type\":\"scattercarpet\",\"marker\":{\"colorbar\":{\"outlinewidth\":0,\"ticks\":\"\"}}}],\"carpet\":[{\"aaxis\":{\"endlinecolor\":\"#2a3f5f\",\"gridcolor\":\"white\",\"linecolor\":\"white\",\"minorgridcolor\":\"white\",\"startlinecolor\":\"#2a3f5f\"},\"baxis\":{\"endlinecolor\":\"#2a3f5f\",\"gridcolor\":\"white\",\"linecolor\":\"white\",\"minorgridcolor\":\"white\",\"startlinecolor\":\"#2a3f5f\"},\"type\":\"carpet\"}],\"table\":[{\"cells\":{\"fill\":{\"color\":\"#EBF0F8\"},\"line\":{\"color\":\"white\"}},\"header\":{\"fill\":{\"color\":\"#C8D4E3\"},\"line\":{\"color\":\"white\"}},\"type\":\"table\"}],\"barpolar\":[{\"marker\":{\"line\":{\"color\":\"#E5ECF6\",\"width\":0.5},\"pattern\":{\"fillmode\":\"overlay\",\"size\":10,\"solidity\":0.2}},\"type\":\"barpolar\"}],\"pie\":[{\"automargin\":true,\"type\":\"pie\"}]},\"layout\":{\"autotypenumbers\":\"strict\",\"colorway\":[\"#636efa\",\"#EF553B\",\"#00cc96\",\"#ab63fa\",\"#FFA15A\",\"#19d3f3\",\"#FF6692\",\"#B6E880\",\"#FF97FF\",\"#FECB52\"],\"font\":{\"color\":\"#2a3f5f\"},\"hovermode\":\"closest\",\"hoverlabel\":{\"align\":\"left\"},\"paper_bgcolor\":\"white\",\"plot_bgcolor\":\"#E5ECF6\",\"polar\":{\"bgcolor\":\"#E5ECF6\",\"angularaxis\":{\"gridcolor\":\"white\",\"linecolor\":\"white\",\"ticks\":\"\"},\"radialaxis\":{\"gridcolor\":\"white\",\"linecolor\":\"white\",\"ticks\":\"\"}},\"ternary\":{\"bgcolor\":\"#E5ECF6\",\"aaxis\":{\"gridcolor\":\"white\",\"linecolor\":\"white\",\"ticks\":\"\"},\"baxis\":{\"gridcolor\":\"white\",\"linecolor\":\"white\",\"ticks\":\"\"},\"caxis\":{\"gridcolor\":\"white\",\"linecolor\":\"white\",\"ticks\":\"\"}},\"coloraxis\":{\"colorbar\":{\"outlinewidth\":0,\"ticks\":\"\"}},\"colorscale\":{\"sequential\":[[0.0,\"#0d0887\"],[0.1111111111111111,\"#46039f\"],[0.2222222222222222,\"#7201a8\"],[0.3333333333333333,\"#9c179e\"],[0.4444444444444444,\"#bd3786\"],[0.5555555555555556,\"#d8576b\"],[0.6666666666666666,\"#ed7953\"],[0.7777777777777778,\"#fb9f3a\"],[0.8888888888888888,\"#fdca26\"],[1.0,\"#f0f921\"]],\"sequentialminus\":[[0.0,\"#0d0887\"],[0.1111111111111111,\"#46039f\"],[0.2222222222222222,\"#7201a8\"],[0.3333333333333333,\"#9c179e\"],[0.4444444444444444,\"#bd3786\"],[0.5555555555555556,\"#d8576b\"],[0.6666666666666666,\"#ed7953\"],[0.7777777777777778,\"#fb9f3a\"],[0.8888888888888888,\"#fdca26\"],[1.0,\"#f0f921\"]],\"diverging\":[[0,\"#8e0152\"],[0.1,\"#c51b7d\"],[0.2,\"#de77ae\"],[0.3,\"#f1b6da\"],[0.4,\"#fde0ef\"],[0.5,\"#f7f7f7\"],[0.6,\"#e6f5d0\"],[0.7,\"#b8e186\"],[0.8,\"#7fbc41\"],[0.9,\"#4d9221\"],[1,\"#276419\"]]},\"xaxis\":{\"gridcolor\":\"white\",\"linecolor\":\"white\",\"ticks\":\"\",\"title\":{\"standoff\":15},\"zerolinecolor\":\"white\",\"automargin\":true,\"zerolinewidth\":2},\"yaxis\":{\"gridcolor\":\"white\",\"linecolor\":\"white\",\"ticks\":\"\",\"title\":{\"standoff\":15},\"zerolinecolor\":\"white\",\"automargin\":true,\"zerolinewidth\":2},\"scene\":{\"xaxis\":{\"backgroundcolor\":\"#E5ECF6\",\"gridcolor\":\"white\",\"linecolor\":\"white\",\"showbackground\":true,\"ticks\":\"\",\"zerolinecolor\":\"white\",\"gridwidth\":2},\"yaxis\":{\"backgroundcolor\":\"#E5ECF6\",\"gridcolor\":\"white\",\"linecolor\":\"white\",\"showbackground\":true,\"ticks\":\"\",\"zerolinecolor\":\"white\",\"gridwidth\":2},\"zaxis\":{\"backgroundcolor\":\"#E5ECF6\",\"gridcolor\":\"white\",\"linecolor\":\"white\",\"showbackground\":true,\"ticks\":\"\",\"zerolinecolor\":\"white\",\"gridwidth\":2}},\"shapedefaults\":{\"line\":{\"color\":\"#2a3f5f\"}},\"annotationdefaults\":{\"arrowcolor\":\"#2a3f5f\",\"arrowhead\":0,\"arrowwidth\":1},\"geo\":{\"bgcolor\":\"white\",\"landcolor\":\"#E5ECF6\",\"subunitcolor\":\"white\",\"showland\":true,\"showlakes\":true,\"lakecolor\":\"white\"},\"title\":{\"x\":0.05},\"mapbox\":{\"style\":\"light\"}}},\"xaxis\":{\"anchor\":\"y\",\"domain\":[0.0,1.0],\"title\":{\"text\":\"white\"}},\"yaxis\":{\"anchor\":\"x\",\"domain\":[0.0,1.0],\"title\":{\"text\":\"avg_response_time\"}},\"legend\":{\"tracegroupgap\":0},\"title\":{\"text\":\"Response Time by Average White Population for Census Tracts, Davidson County 2017-2021\"}},                        {\"responsive\": true}                    ).then(function(){\n",
       "                            \n",
       "var gd = document.getElementById('5401421f-3237-4971-b5a8-0847ff404ae4');\n",
       "var x = new MutationObserver(function (mutations, observer) {{\n",
       "        var display = window.getComputedStyle(gd).display;\n",
       "        if (!display || display === 'none') {{\n",
       "            console.log([gd, 'removed!']);\n",
       "            Plotly.purge(gd);\n",
       "            observer.disconnect();\n",
       "        }}\n",
       "}});\n",
       "\n",
       "// Listen for the removal of the full notebook cells\n",
       "var notebookContainer = gd.closest('#notebook-container');\n",
       "if (notebookContainer) {{\n",
       "    x.observe(notebookContainer, {childList: true});\n",
       "}}\n",
       "\n",
       "// Listen for the clearing of the current output cell\n",
       "var outputEl = gd.closest('.output');\n",
       "if (outputEl) {{\n",
       "    x.observe(outputEl, {childList: true});\n",
       "}}\n",
       "\n",
       "                        })                };                });            </script>        </div>"
      ]
     },
     "metadata": {},
     "output_type": "display_data"
    }
   ],
   "source": [
    "fig = px.scatter(res_dem_gdf, x='white', y='avg_response_time', trendline=\"ols\",\n",
    "    title=\"Response Time by Average White Population for Census Tracts, Davidson County 2017-2021\")\n",
    "fig.show()\n",
    "fig.write_html('res_time_by_white_pop.html')"
   ]
  },
  {
   "cell_type": "code",
   "execution_count": 20,
   "id": "b3b025dd",
   "metadata": {
    "colab": {
     "base_uri": "https://localhost:8080/",
     "height": 542
    },
    "id": "b3b025dd",
    "outputId": "bebd1a07-f98c-4138-8ee2-43a4d77b3c5f"
   },
   "outputs": [
    {
     "data": {
      "application/vnd.plotly.v1+json": {
       "config": {
        "plotlyServerURL": "https://plot.ly"
       },
       "data": [
        {
         "hovertemplate": "hispanic=%{x}<br>avg_response_time=%{y}<extra></extra>",
         "legendgroup": "",
         "marker": {
          "color": "#636efa",
          "symbol": "circle"
         },
         "mode": "markers",
         "name": "",
         "orientation": "v",
         "showlegend": false,
         "type": "scatter",
         "x": [
          1263,
          null,
          39,
          429,
          10,
          57,
          1645,
          369,
          480,
          342,
          1843,
          160,
          198,
          624,
          null,
          null,
          462,
          252,
          171,
          313,
          134,
          106,
          468,
          494,
          204,
          447,
          463,
          32,
          null,
          227,
          172,
          581,
          209,
          448,
          49,
          72,
          1214,
          138,
          771,
          1465,
          88,
          723,
          516,
          82,
          212,
          242,
          75,
          null,
          343,
          806,
          23,
          1030,
          2008,
          209,
          440,
          111,
          97,
          137,
          370,
          1548,
          812,
          694,
          700,
          800,
          48,
          599,
          216,
          81,
          1576,
          27,
          40,
          880,
          978,
          368,
          34,
          870,
          470,
          12,
          498,
          164,
          25,
          185,
          1437,
          2030,
          602,
          257,
          59,
          62,
          49,
          482,
          631,
          68,
          166,
          143,
          915,
          144,
          null,
          331,
          759,
          194,
          1106,
          162,
          1095,
          809,
          48,
          13,
          1074,
          1101,
          12,
          51,
          968,
          167,
          137,
          103,
          115,
          1141,
          1382,
          46,
          496,
          98,
          1333,
          43,
          740,
          57,
          205,
          59,
          142,
          1174,
          335,
          28,
          1321,
          103,
          77,
          38,
          80,
          572,
          349,
          345,
          39,
          584,
          41,
          1073,
          183,
          null,
          318,
          44,
          123,
          815,
          607,
          121,
          38,
          149,
          358,
          174,
          431,
          null,
          92,
          130,
          69,
          111,
          19
         ],
         "xaxis": "x",
         "y": [
          336.6775956284153,
          392.2,
          639.9289099526067,
          413.8970976253298,
          337.46315789473687,
          343.90845070422534,
          403.3207547169811,
          377.4945848375451,
          426.2622309197652,
          506.2486486486487,
          397.247619047619,
          342.8245614035088,
          381.283105022831,
          415.08053691275165,
          513.1833333333333,
          404.9782608695652,
          246.04109589041096,
          311.0698924731183,
          274.52272727272725,
          382.125,
          368.5692307692308,
          247.34883720930236,
          264.5217391304348,
          286.4347826086956,
          400.4852941176471,
          457.71875,
          339.1875,
          357.5594713656388,
          375.1241217798595,
          372.95211267605634,
          218,
          348.8513513513513,
          290.258064516129,
          525.8956228956229,
          407.55555555555554,
          310.2708333333333,
          435.0614754098361,
          429.14722222222224,
          367.09580838323353,
          404.17471264367816,
          416.0079365079365,
          373.7714285714285,
          383.6575342465753,
          359.68981481481484,
          600.0677966101695,
          426.3877551020408,
          317.44642857142856,
          630.8415841584158,
          300.89473684210526,
          379.9160839160839,
          381.9090909090909,
          252.49693251533745,
          392.8523489932886,
          515.2967479674796,
          443.54852320675104,
          308.5217391304348,
          383.01666666666665,
          386.5857142857143,
          314.9942903752039,
          308.64054054054054,
          403.8528610354224,
          423.8928571428572,
          394.0194174757282,
          295.31,
          351.95,
          395.5157068062827,
          528.156862745098,
          383.71014492753625,
          405.18367346938777,
          525.6027397260274,
          518.2647058823529,
          333.64912280701753,
          372.7011494252874,
          368.9325842696629,
          508.7916666666667,
          353.20652173913044,
          452.38483146067415,
          341.4803149606299,
          569.0920770877945,
          586.1904761904761,
          338.6793893129771,
          598.314606741573,
          389.30272108843536,
          354.32142857142856,
          458.2314814814815,
          577.2447257383966,
          521.4477611940298,
          389.3076923076923,
          262.6,
          466.16541353383457,
          632.3542857142858,
          244.3203125,
          533.3709677419355,
          396.73333333333335,
          372.1428571428572,
          518.8085106382979,
          441.7914691943128,
          443.60483870967744,
          350.697247706422,
          297.5394736842105,
          462.8490566037736,
          467.5384615384616,
          364.31111111111113,
          334.13963039014374,
          387.0642857142857,
          371.48521739130433,
          442.10927835051547,
          293.6640625,
          380.5033112582781,
          451,
          407.6756756756757,
          422.9333333333333,
          297.0272727272727,
          474,
          639.0377358490566,
          428.88793103448273,
          380.4224137931034,
          357.984496124031,
          485.6714285714286,
          512.3,
          310.587962962963,
          426.7450980392157,
          342.31052631578945,
          486.9072164948454,
          356.5846153846154,
          599.4285714285714,
          315.73298429319374,
          472.6010638297872,
          405.1830985915493,
          330.3380281690141,
          459.6571428571429,
          358.2287581699346,
          432.94685990338166,
          271.14772727272725,
          317.11304347826086,
          414.8344827586207,
          354.4871794871795,
          506.9166666666667,
          353.5561643835616,
          338.3809523809524,
          426.8360655737705,
          409.2705314009662,
          386.7944444444444,
          422.874213836478,
          344.75,
          507.288961038961,
          326.1025641025641,
          392.00387596899225,
          337.38461538461536,
          251.9240506329114,
          371.5441176470589,
          335.6575342465753,
          315.2156862745098,
          344.58649789029533,
          493.3018867924528,
          356.68275862068964,
          375.2014925373134,
          374.9868421052632,
          420.9009009009009,
          539.5454545454545,
          358.0923076923077
         ],
         "yaxis": "y"
        },
        {
         "hovertemplate": "<b>OLS trendline</b><br>avg_response_time = -0.0139005 * hispanic + 403.391<br>R<sup>2</sup>=0.005484<br><br>hispanic=%{x}<br>avg_response_time=%{y} <b>(trend)</b><extra></extra>",
         "legendgroup": "",
         "marker": {
          "color": "#636efa",
          "symbol": "circle"
         },
         "mode": "lines",
         "name": "",
         "showlegend": false,
         "type": "scatter",
         "x": [
          10,
          12,
          12,
          13,
          19,
          23,
          25,
          27,
          28,
          32,
          34,
          38,
          38,
          39,
          39,
          40,
          41,
          43,
          44,
          46,
          48,
          48,
          49,
          49,
          51,
          57,
          57,
          59,
          59,
          62,
          68,
          69,
          72,
          75,
          77,
          80,
          81,
          82,
          88,
          92,
          97,
          98,
          103,
          103,
          106,
          111,
          111,
          115,
          121,
          123,
          130,
          134,
          137,
          137,
          138,
          142,
          143,
          144,
          149,
          160,
          162,
          164,
          166,
          167,
          171,
          172,
          174,
          183,
          185,
          194,
          198,
          204,
          205,
          209,
          209,
          212,
          216,
          227,
          242,
          252,
          257,
          313,
          318,
          331,
          335,
          342,
          343,
          345,
          349,
          358,
          368,
          369,
          370,
          429,
          431,
          440,
          447,
          448,
          462,
          463,
          468,
          470,
          480,
          482,
          494,
          496,
          498,
          516,
          572,
          581,
          584,
          599,
          602,
          607,
          624,
          631,
          694,
          700,
          723,
          740,
          759,
          771,
          800,
          806,
          809,
          812,
          815,
          870,
          880,
          915,
          968,
          978,
          1030,
          1073,
          1074,
          1095,
          1101,
          1106,
          1141,
          1174,
          1214,
          1263,
          1321,
          1333,
          1382,
          1437,
          1465,
          1548,
          1576,
          1645,
          1843,
          2008,
          2030
         ],
         "xaxis": "x",
         "y": [
          403.25171420332816,
          403.2239132948184,
          403.2239132948184,
          403.2100128405635,
          403.12661011503417,
          403.0710082980146,
          403.0432073895048,
          403.015406480995,
          403.0015060267401,
          402.94590420972054,
          402.91810330121075,
          402.86250148419117,
          402.86250148419117,
          402.8486010299363,
          402.8486010299363,
          402.8347005756814,
          402.8208001214265,
          402.79299921291675,
          402.77909875866186,
          402.75129785015207,
          402.7234969416423,
          402.7234969416423,
          402.7095964873874,
          402.7095964873874,
          402.6817955788776,
          402.59839285334823,
          402.59839285334823,
          402.57059194483844,
          402.57059194483844,
          402.52889058207376,
          402.4454878565444,
          402.4315874022895,
          402.38988603952487,
          402.3481846767602,
          402.3203837682504,
          402.2786824054857,
          402.2647819512308,
          402.2508814969759,
          402.16747877144655,
          402.111876954427,
          402.0423746831525,
          402.0284742288976,
          401.9589719576232,
          401.9589719576232,
          401.9172705948585,
          401.84776832358403,
          401.84776832358403,
          401.79216650656446,
          401.7087637810351,
          401.6809628725253,
          401.5836596927411,
          401.5280578757215,
          401.48635651295683,
          401.48635651295683,
          401.47245605870194,
          401.41685424168236,
          401.40295378742746,
          401.38905333317257,
          401.3195510618981,
          401.1666460650943,
          401.1388451565845,
          401.11104424807473,
          401.08324333956494,
          401.06934288531005,
          401.01374106829047,
          400.9998406140356,
          400.9720397055258,
          400.84693561723174,
          400.81913470872195,
          400.69403062042795,
          400.6384288034084,
          400.555026077879,
          400.5411256236241,
          400.48552380660453,
          400.48552380660453,
          400.44382244383985,
          400.3882206268203,
          400.2353156300165,
          400.02680881619307,
          399.8878042736442,
          399.8183020023697,
          399.0398765640957,
          398.97037429282125,
          398.7896683875077,
          398.7340665704881,
          398.63676339070383,
          398.62286293644894,
          398.59506202793915,
          398.5394602109196,
          398.4143561226256,
          398.27535158007663,
          398.26145112582174,
          398.24755067156684,
          397.4274238705282,
          397.3996229620184,
          397.27451887372433,
          397.1772156939401,
          397.16331523968523,
          396.9687088801167,
          396.9548084258618,
          396.88530615458734,
          396.85750524607755,
          396.71850070352866,
          396.6906997950189,
          396.52389434396014,
          396.49609343545035,
          396.46829252694056,
          396.2180843503525,
          395.4396589120785,
          395.3145548237845,
          395.2728534610198,
          395.06434664719643,
          395.02264528443175,
          394.9531430131573,
          394.7168352908241,
          394.61953211103986,
          393.7438034929816,
          393.6604007674523,
          393.3406903195897,
          393.1043825972566,
          392.84027396641363,
          392.6734685153549,
          392.270355341963,
          392.18695261643364,
          392.14525125366896,
          392.1035498909043,
          392.06184852813965,
          391.2973235441205,
          391.1583190015716,
          390.67180310265036,
          389.93507902714106,
          389.7960744845921,
          389.0732508633377,
          388.47553133037735,
          388.46163087612246,
          388.16972133676967,
          388.08631861124036,
          388.0168163399659,
          387.53030044104463,
          387.07158545063317,
          386.5155672804375,
          385.8344450219477,
          385.02821867516394,
          384.86141322410526,
          384.1802909656155,
          383.4157659815964,
          383.0265532624594,
          381.8728155593033,
          381.4836028401663,
          380.52447149657877,
          377.77218155411003,
          375.4786066020527,
          375.1727966084451
         ],
         "yaxis": "y"
        }
       ],
       "layout": {
        "legend": {
         "tracegroupgap": 0
        },
        "template": {
         "data": {
          "bar": [
           {
            "error_x": {
             "color": "#2a3f5f"
            },
            "error_y": {
             "color": "#2a3f5f"
            },
            "marker": {
             "line": {
              "color": "#E5ECF6",
              "width": 0.5
             },
             "pattern": {
              "fillmode": "overlay",
              "size": 10,
              "solidity": 0.2
             }
            },
            "type": "bar"
           }
          ],
          "barpolar": [
           {
            "marker": {
             "line": {
              "color": "#E5ECF6",
              "width": 0.5
             },
             "pattern": {
              "fillmode": "overlay",
              "size": 10,
              "solidity": 0.2
             }
            },
            "type": "barpolar"
           }
          ],
          "carpet": [
           {
            "aaxis": {
             "endlinecolor": "#2a3f5f",
             "gridcolor": "white",
             "linecolor": "white",
             "minorgridcolor": "white",
             "startlinecolor": "#2a3f5f"
            },
            "baxis": {
             "endlinecolor": "#2a3f5f",
             "gridcolor": "white",
             "linecolor": "white",
             "minorgridcolor": "white",
             "startlinecolor": "#2a3f5f"
            },
            "type": "carpet"
           }
          ],
          "choropleth": [
           {
            "colorbar": {
             "outlinewidth": 0,
             "ticks": ""
            },
            "type": "choropleth"
           }
          ],
          "contour": [
           {
            "colorbar": {
             "outlinewidth": 0,
             "ticks": ""
            },
            "colorscale": [
             [
              0,
              "#0d0887"
             ],
             [
              0.1111111111111111,
              "#46039f"
             ],
             [
              0.2222222222222222,
              "#7201a8"
             ],
             [
              0.3333333333333333,
              "#9c179e"
             ],
             [
              0.4444444444444444,
              "#bd3786"
             ],
             [
              0.5555555555555556,
              "#d8576b"
             ],
             [
              0.6666666666666666,
              "#ed7953"
             ],
             [
              0.7777777777777778,
              "#fb9f3a"
             ],
             [
              0.8888888888888888,
              "#fdca26"
             ],
             [
              1,
              "#f0f921"
             ]
            ],
            "type": "contour"
           }
          ],
          "contourcarpet": [
           {
            "colorbar": {
             "outlinewidth": 0,
             "ticks": ""
            },
            "type": "contourcarpet"
           }
          ],
          "heatmap": [
           {
            "colorbar": {
             "outlinewidth": 0,
             "ticks": ""
            },
            "colorscale": [
             [
              0,
              "#0d0887"
             ],
             [
              0.1111111111111111,
              "#46039f"
             ],
             [
              0.2222222222222222,
              "#7201a8"
             ],
             [
              0.3333333333333333,
              "#9c179e"
             ],
             [
              0.4444444444444444,
              "#bd3786"
             ],
             [
              0.5555555555555556,
              "#d8576b"
             ],
             [
              0.6666666666666666,
              "#ed7953"
             ],
             [
              0.7777777777777778,
              "#fb9f3a"
             ],
             [
              0.8888888888888888,
              "#fdca26"
             ],
             [
              1,
              "#f0f921"
             ]
            ],
            "type": "heatmap"
           }
          ],
          "heatmapgl": [
           {
            "colorbar": {
             "outlinewidth": 0,
             "ticks": ""
            },
            "colorscale": [
             [
              0,
              "#0d0887"
             ],
             [
              0.1111111111111111,
              "#46039f"
             ],
             [
              0.2222222222222222,
              "#7201a8"
             ],
             [
              0.3333333333333333,
              "#9c179e"
             ],
             [
              0.4444444444444444,
              "#bd3786"
             ],
             [
              0.5555555555555556,
              "#d8576b"
             ],
             [
              0.6666666666666666,
              "#ed7953"
             ],
             [
              0.7777777777777778,
              "#fb9f3a"
             ],
             [
              0.8888888888888888,
              "#fdca26"
             ],
             [
              1,
              "#f0f921"
             ]
            ],
            "type": "heatmapgl"
           }
          ],
          "histogram": [
           {
            "marker": {
             "pattern": {
              "fillmode": "overlay",
              "size": 10,
              "solidity": 0.2
             }
            },
            "type": "histogram"
           }
          ],
          "histogram2d": [
           {
            "colorbar": {
             "outlinewidth": 0,
             "ticks": ""
            },
            "colorscale": [
             [
              0,
              "#0d0887"
             ],
             [
              0.1111111111111111,
              "#46039f"
             ],
             [
              0.2222222222222222,
              "#7201a8"
             ],
             [
              0.3333333333333333,
              "#9c179e"
             ],
             [
              0.4444444444444444,
              "#bd3786"
             ],
             [
              0.5555555555555556,
              "#d8576b"
             ],
             [
              0.6666666666666666,
              "#ed7953"
             ],
             [
              0.7777777777777778,
              "#fb9f3a"
             ],
             [
              0.8888888888888888,
              "#fdca26"
             ],
             [
              1,
              "#f0f921"
             ]
            ],
            "type": "histogram2d"
           }
          ],
          "histogram2dcontour": [
           {
            "colorbar": {
             "outlinewidth": 0,
             "ticks": ""
            },
            "colorscale": [
             [
              0,
              "#0d0887"
             ],
             [
              0.1111111111111111,
              "#46039f"
             ],
             [
              0.2222222222222222,
              "#7201a8"
             ],
             [
              0.3333333333333333,
              "#9c179e"
             ],
             [
              0.4444444444444444,
              "#bd3786"
             ],
             [
              0.5555555555555556,
              "#d8576b"
             ],
             [
              0.6666666666666666,
              "#ed7953"
             ],
             [
              0.7777777777777778,
              "#fb9f3a"
             ],
             [
              0.8888888888888888,
              "#fdca26"
             ],
             [
              1,
              "#f0f921"
             ]
            ],
            "type": "histogram2dcontour"
           }
          ],
          "mesh3d": [
           {
            "colorbar": {
             "outlinewidth": 0,
             "ticks": ""
            },
            "type": "mesh3d"
           }
          ],
          "parcoords": [
           {
            "line": {
             "colorbar": {
              "outlinewidth": 0,
              "ticks": ""
             }
            },
            "type": "parcoords"
           }
          ],
          "pie": [
           {
            "automargin": true,
            "type": "pie"
           }
          ],
          "scatter": [
           {
            "fillpattern": {
             "fillmode": "overlay",
             "size": 10,
             "solidity": 0.2
            },
            "type": "scatter"
           }
          ],
          "scatter3d": [
           {
            "line": {
             "colorbar": {
              "outlinewidth": 0,
              "ticks": ""
             }
            },
            "marker": {
             "colorbar": {
              "outlinewidth": 0,
              "ticks": ""
             }
            },
            "type": "scatter3d"
           }
          ],
          "scattercarpet": [
           {
            "marker": {
             "colorbar": {
              "outlinewidth": 0,
              "ticks": ""
             }
            },
            "type": "scattercarpet"
           }
          ],
          "scattergeo": [
           {
            "marker": {
             "colorbar": {
              "outlinewidth": 0,
              "ticks": ""
             }
            },
            "type": "scattergeo"
           }
          ],
          "scattergl": [
           {
            "marker": {
             "colorbar": {
              "outlinewidth": 0,
              "ticks": ""
             }
            },
            "type": "scattergl"
           }
          ],
          "scattermapbox": [
           {
            "marker": {
             "colorbar": {
              "outlinewidth": 0,
              "ticks": ""
             }
            },
            "type": "scattermapbox"
           }
          ],
          "scatterpolar": [
           {
            "marker": {
             "colorbar": {
              "outlinewidth": 0,
              "ticks": ""
             }
            },
            "type": "scatterpolar"
           }
          ],
          "scatterpolargl": [
           {
            "marker": {
             "colorbar": {
              "outlinewidth": 0,
              "ticks": ""
             }
            },
            "type": "scatterpolargl"
           }
          ],
          "scatterternary": [
           {
            "marker": {
             "colorbar": {
              "outlinewidth": 0,
              "ticks": ""
             }
            },
            "type": "scatterternary"
           }
          ],
          "surface": [
           {
            "colorbar": {
             "outlinewidth": 0,
             "ticks": ""
            },
            "colorscale": [
             [
              0,
              "#0d0887"
             ],
             [
              0.1111111111111111,
              "#46039f"
             ],
             [
              0.2222222222222222,
              "#7201a8"
             ],
             [
              0.3333333333333333,
              "#9c179e"
             ],
             [
              0.4444444444444444,
              "#bd3786"
             ],
             [
              0.5555555555555556,
              "#d8576b"
             ],
             [
              0.6666666666666666,
              "#ed7953"
             ],
             [
              0.7777777777777778,
              "#fb9f3a"
             ],
             [
              0.8888888888888888,
              "#fdca26"
             ],
             [
              1,
              "#f0f921"
             ]
            ],
            "type": "surface"
           }
          ],
          "table": [
           {
            "cells": {
             "fill": {
              "color": "#EBF0F8"
             },
             "line": {
              "color": "white"
             }
            },
            "header": {
             "fill": {
              "color": "#C8D4E3"
             },
             "line": {
              "color": "white"
             }
            },
            "type": "table"
           }
          ]
         },
         "layout": {
          "annotationdefaults": {
           "arrowcolor": "#2a3f5f",
           "arrowhead": 0,
           "arrowwidth": 1
          },
          "autotypenumbers": "strict",
          "coloraxis": {
           "colorbar": {
            "outlinewidth": 0,
            "ticks": ""
           }
          },
          "colorscale": {
           "diverging": [
            [
             0,
             "#8e0152"
            ],
            [
             0.1,
             "#c51b7d"
            ],
            [
             0.2,
             "#de77ae"
            ],
            [
             0.3,
             "#f1b6da"
            ],
            [
             0.4,
             "#fde0ef"
            ],
            [
             0.5,
             "#f7f7f7"
            ],
            [
             0.6,
             "#e6f5d0"
            ],
            [
             0.7,
             "#b8e186"
            ],
            [
             0.8,
             "#7fbc41"
            ],
            [
             0.9,
             "#4d9221"
            ],
            [
             1,
             "#276419"
            ]
           ],
           "sequential": [
            [
             0,
             "#0d0887"
            ],
            [
             0.1111111111111111,
             "#46039f"
            ],
            [
             0.2222222222222222,
             "#7201a8"
            ],
            [
             0.3333333333333333,
             "#9c179e"
            ],
            [
             0.4444444444444444,
             "#bd3786"
            ],
            [
             0.5555555555555556,
             "#d8576b"
            ],
            [
             0.6666666666666666,
             "#ed7953"
            ],
            [
             0.7777777777777778,
             "#fb9f3a"
            ],
            [
             0.8888888888888888,
             "#fdca26"
            ],
            [
             1,
             "#f0f921"
            ]
           ],
           "sequentialminus": [
            [
             0,
             "#0d0887"
            ],
            [
             0.1111111111111111,
             "#46039f"
            ],
            [
             0.2222222222222222,
             "#7201a8"
            ],
            [
             0.3333333333333333,
             "#9c179e"
            ],
            [
             0.4444444444444444,
             "#bd3786"
            ],
            [
             0.5555555555555556,
             "#d8576b"
            ],
            [
             0.6666666666666666,
             "#ed7953"
            ],
            [
             0.7777777777777778,
             "#fb9f3a"
            ],
            [
             0.8888888888888888,
             "#fdca26"
            ],
            [
             1,
             "#f0f921"
            ]
           ]
          },
          "colorway": [
           "#636efa",
           "#EF553B",
           "#00cc96",
           "#ab63fa",
           "#FFA15A",
           "#19d3f3",
           "#FF6692",
           "#B6E880",
           "#FF97FF",
           "#FECB52"
          ],
          "font": {
           "color": "#2a3f5f"
          },
          "geo": {
           "bgcolor": "white",
           "lakecolor": "white",
           "landcolor": "#E5ECF6",
           "showlakes": true,
           "showland": true,
           "subunitcolor": "white"
          },
          "hoverlabel": {
           "align": "left"
          },
          "hovermode": "closest",
          "mapbox": {
           "style": "light"
          },
          "paper_bgcolor": "white",
          "plot_bgcolor": "#E5ECF6",
          "polar": {
           "angularaxis": {
            "gridcolor": "white",
            "linecolor": "white",
            "ticks": ""
           },
           "bgcolor": "#E5ECF6",
           "radialaxis": {
            "gridcolor": "white",
            "linecolor": "white",
            "ticks": ""
           }
          },
          "scene": {
           "xaxis": {
            "backgroundcolor": "#E5ECF6",
            "gridcolor": "white",
            "gridwidth": 2,
            "linecolor": "white",
            "showbackground": true,
            "ticks": "",
            "zerolinecolor": "white"
           },
           "yaxis": {
            "backgroundcolor": "#E5ECF6",
            "gridcolor": "white",
            "gridwidth": 2,
            "linecolor": "white",
            "showbackground": true,
            "ticks": "",
            "zerolinecolor": "white"
           },
           "zaxis": {
            "backgroundcolor": "#E5ECF6",
            "gridcolor": "white",
            "gridwidth": 2,
            "linecolor": "white",
            "showbackground": true,
            "ticks": "",
            "zerolinecolor": "white"
           }
          },
          "shapedefaults": {
           "line": {
            "color": "#2a3f5f"
           }
          },
          "ternary": {
           "aaxis": {
            "gridcolor": "white",
            "linecolor": "white",
            "ticks": ""
           },
           "baxis": {
            "gridcolor": "white",
            "linecolor": "white",
            "ticks": ""
           },
           "bgcolor": "#E5ECF6",
           "caxis": {
            "gridcolor": "white",
            "linecolor": "white",
            "ticks": ""
           }
          },
          "title": {
           "x": 0.05
          },
          "xaxis": {
           "automargin": true,
           "gridcolor": "white",
           "linecolor": "white",
           "ticks": "",
           "title": {
            "standoff": 15
           },
           "zerolinecolor": "white",
           "zerolinewidth": 2
          },
          "yaxis": {
           "automargin": true,
           "gridcolor": "white",
           "linecolor": "white",
           "ticks": "",
           "title": {
            "standoff": 15
           },
           "zerolinecolor": "white",
           "zerolinewidth": 2
          }
         }
        },
        "title": {
         "text": "Response Time by Average Hispanic Population for Census Tracts, Davidson County 2017-2021"
        },
        "xaxis": {
         "anchor": "y",
         "domain": [
          0,
          1
         ],
         "title": {
          "text": "hispanic"
         }
        },
        "yaxis": {
         "anchor": "x",
         "domain": [
          0,
          1
         ],
         "title": {
          "text": "avg_response_time"
         }
        }
       }
      },
      "text/html": [
       "<div>                            <div id=\"f19fa6c5-9d55-4165-90b5-959b71c3ff14\" class=\"plotly-graph-div\" style=\"height:525px; width:100%;\"></div>            <script type=\"text/javascript\">                require([\"plotly\"], function(Plotly) {                    window.PLOTLYENV=window.PLOTLYENV || {};                                    if (document.getElementById(\"f19fa6c5-9d55-4165-90b5-959b71c3ff14\")) {                    Plotly.newPlot(                        \"f19fa6c5-9d55-4165-90b5-959b71c3ff14\",                        [{\"hovertemplate\":\"hispanic=%{x}<br>avg_response_time=%{y}<extra></extra>\",\"legendgroup\":\"\",\"marker\":{\"color\":\"#636efa\",\"symbol\":\"circle\"},\"mode\":\"markers\",\"name\":\"\",\"orientation\":\"v\",\"showlegend\":false,\"x\":[1263.0,null,39.0,429.0,10.0,57.0,1645.0,369.0,480.0,342.0,1843.0,160.0,198.0,624.0,null,null,462.0,252.0,171.0,313.0,134.0,106.0,468.0,494.0,204.0,447.0,463.0,32.0,null,227.0,172.0,581.0,209.0,448.0,49.0,72.0,1214.0,138.0,771.0,1465.0,88.0,723.0,516.0,82.0,212.0,242.0,75.0,null,343.0,806.0,23.0,1030.0,2008.0,209.0,440.0,111.0,97.0,137.0,370.0,1548.0,812.0,694.0,700.0,800.0,48.0,599.0,216.0,81.0,1576.0,27.0,40.0,880.0,978.0,368.0,34.0,870.0,470.0,12.0,498.0,164.0,25.0,185.0,1437.0,2030.0,602.0,257.0,59.0,62.0,49.0,482.0,631.0,68.0,166.0,143.0,915.0,144.0,null,331.0,759.0,194.0,1106.0,162.0,1095.0,809.0,48.0,13.0,1074.0,1101.0,12.0,51.0,968.0,167.0,137.0,103.0,115.0,1141.0,1382.0,46.0,496.0,98.0,1333.0,43.0,740.0,57.0,205.0,59.0,142.0,1174.0,335.0,28.0,1321.0,103.0,77.0,38.0,80.0,572.0,349.0,345.0,39.0,584.0,41.0,1073.0,183.0,null,318.0,44.0,123.0,815.0,607.0,121.0,38.0,149.0,358.0,174.0,431.0,null,92.0,130.0,69.0,111.0,19.0],\"xaxis\":\"x\",\"y\":[336.6775956284153,392.2,639.9289099526067,413.8970976253298,337.46315789473687,343.90845070422534,403.3207547169811,377.4945848375451,426.2622309197652,506.2486486486487,397.247619047619,342.8245614035088,381.283105022831,415.08053691275165,513.1833333333333,404.9782608695652,246.04109589041096,311.0698924731183,274.52272727272725,382.125,368.5692307692308,247.34883720930236,264.5217391304348,286.4347826086956,400.4852941176471,457.71875,339.1875,357.5594713656388,375.1241217798595,372.95211267605634,218.0,348.8513513513513,290.258064516129,525.8956228956229,407.55555555555554,310.2708333333333,435.0614754098361,429.14722222222224,367.09580838323353,404.17471264367816,416.0079365079365,373.7714285714285,383.6575342465753,359.68981481481484,600.0677966101695,426.3877551020408,317.44642857142856,630.8415841584158,300.89473684210526,379.9160839160839,381.9090909090909,252.49693251533745,392.8523489932886,515.2967479674796,443.54852320675104,308.5217391304348,383.01666666666665,386.5857142857143,314.9942903752039,308.64054054054054,403.8528610354224,423.8928571428572,394.0194174757282,295.31,351.95,395.5157068062827,528.156862745098,383.71014492753625,405.18367346938777,525.6027397260274,518.2647058823529,333.64912280701753,372.7011494252874,368.9325842696629,508.7916666666667,353.20652173913044,452.38483146067415,341.4803149606299,569.0920770877945,586.1904761904761,338.6793893129771,598.314606741573,389.30272108843536,354.32142857142856,458.2314814814815,577.2447257383966,521.4477611940298,389.3076923076923,262.6,466.16541353383457,632.3542857142858,244.3203125,533.3709677419355,396.73333333333335,372.1428571428572,518.8085106382979,441.7914691943128,443.60483870967744,350.697247706422,297.5394736842105,462.8490566037736,467.5384615384616,364.31111111111113,334.13963039014374,387.0642857142857,371.48521739130433,442.10927835051547,293.6640625,380.5033112582781,451.0,407.6756756756757,422.9333333333333,297.0272727272727,474.0,639.0377358490566,428.88793103448273,380.4224137931034,357.984496124031,485.6714285714286,512.3,310.587962962963,426.7450980392157,342.31052631578945,486.9072164948454,356.5846153846154,599.4285714285714,315.73298429319374,472.6010638297872,405.1830985915493,330.3380281690141,459.6571428571429,358.2287581699346,432.94685990338166,271.14772727272725,317.11304347826086,414.8344827586207,354.4871794871795,506.9166666666667,353.5561643835616,338.3809523809524,426.8360655737705,409.2705314009662,386.7944444444444,422.874213836478,344.75,507.288961038961,326.1025641025641,392.00387596899225,337.38461538461536,251.9240506329114,371.5441176470589,335.6575342465753,315.2156862745098,344.58649789029533,493.3018867924528,356.68275862068964,375.2014925373134,374.9868421052632,420.9009009009009,539.5454545454545,358.0923076923077],\"yaxis\":\"y\",\"type\":\"scatter\"},{\"hovertemplate\":\"<b>OLS trendline</b><br>avg_response_time = -0.0139005 * hispanic + 403.391<br>R<sup>2</sup>=0.005484<br><br>hispanic=%{x}<br>avg_response_time=%{y} <b>(trend)</b><extra></extra>\",\"legendgroup\":\"\",\"marker\":{\"color\":\"#636efa\",\"symbol\":\"circle\"},\"mode\":\"lines\",\"name\":\"\",\"showlegend\":false,\"x\":[10.0,12.0,12.0,13.0,19.0,23.0,25.0,27.0,28.0,32.0,34.0,38.0,38.0,39.0,39.0,40.0,41.0,43.0,44.0,46.0,48.0,48.0,49.0,49.0,51.0,57.0,57.0,59.0,59.0,62.0,68.0,69.0,72.0,75.0,77.0,80.0,81.0,82.0,88.0,92.0,97.0,98.0,103.0,103.0,106.0,111.0,111.0,115.0,121.0,123.0,130.0,134.0,137.0,137.0,138.0,142.0,143.0,144.0,149.0,160.0,162.0,164.0,166.0,167.0,171.0,172.0,174.0,183.0,185.0,194.0,198.0,204.0,205.0,209.0,209.0,212.0,216.0,227.0,242.0,252.0,257.0,313.0,318.0,331.0,335.0,342.0,343.0,345.0,349.0,358.0,368.0,369.0,370.0,429.0,431.0,440.0,447.0,448.0,462.0,463.0,468.0,470.0,480.0,482.0,494.0,496.0,498.0,516.0,572.0,581.0,584.0,599.0,602.0,607.0,624.0,631.0,694.0,700.0,723.0,740.0,759.0,771.0,800.0,806.0,809.0,812.0,815.0,870.0,880.0,915.0,968.0,978.0,1030.0,1073.0,1074.0,1095.0,1101.0,1106.0,1141.0,1174.0,1214.0,1263.0,1321.0,1333.0,1382.0,1437.0,1465.0,1548.0,1576.0,1645.0,1843.0,2008.0,2030.0],\"xaxis\":\"x\",\"y\":[403.25171420332816,403.2239132948184,403.2239132948184,403.2100128405635,403.12661011503417,403.0710082980146,403.0432073895048,403.015406480995,403.0015060267401,402.94590420972054,402.91810330121075,402.86250148419117,402.86250148419117,402.8486010299363,402.8486010299363,402.8347005756814,402.8208001214265,402.79299921291675,402.77909875866186,402.75129785015207,402.7234969416423,402.7234969416423,402.7095964873874,402.7095964873874,402.6817955788776,402.59839285334823,402.59839285334823,402.57059194483844,402.57059194483844,402.52889058207376,402.4454878565444,402.4315874022895,402.38988603952487,402.3481846767602,402.3203837682504,402.2786824054857,402.2647819512308,402.2508814969759,402.16747877144655,402.111876954427,402.0423746831525,402.0284742288976,401.9589719576232,401.9589719576232,401.9172705948585,401.84776832358403,401.84776832358403,401.79216650656446,401.7087637810351,401.6809628725253,401.5836596927411,401.5280578757215,401.48635651295683,401.48635651295683,401.47245605870194,401.41685424168236,401.40295378742746,401.38905333317257,401.3195510618981,401.1666460650943,401.1388451565845,401.11104424807473,401.08324333956494,401.06934288531005,401.01374106829047,400.9998406140356,400.9720397055258,400.84693561723174,400.81913470872195,400.69403062042795,400.6384288034084,400.555026077879,400.5411256236241,400.48552380660453,400.48552380660453,400.44382244383985,400.3882206268203,400.2353156300165,400.02680881619307,399.8878042736442,399.8183020023697,399.0398765640957,398.97037429282125,398.7896683875077,398.7340665704881,398.63676339070383,398.62286293644894,398.59506202793915,398.5394602109196,398.4143561226256,398.27535158007663,398.26145112582174,398.24755067156684,397.4274238705282,397.3996229620184,397.27451887372433,397.1772156939401,397.16331523968523,396.9687088801167,396.9548084258618,396.88530615458734,396.85750524607755,396.71850070352866,396.6906997950189,396.52389434396014,396.49609343545035,396.46829252694056,396.2180843503525,395.4396589120785,395.3145548237845,395.2728534610198,395.06434664719643,395.02264528443175,394.9531430131573,394.7168352908241,394.61953211103986,393.7438034929816,393.6604007674523,393.3406903195897,393.1043825972566,392.84027396641363,392.6734685153549,392.270355341963,392.18695261643364,392.14525125366896,392.1035498909043,392.06184852813965,391.2973235441205,391.1583190015716,390.67180310265036,389.93507902714106,389.7960744845921,389.0732508633377,388.47553133037735,388.46163087612246,388.16972133676967,388.08631861124036,388.0168163399659,387.53030044104463,387.07158545063317,386.5155672804375,385.8344450219477,385.02821867516394,384.86141322410526,384.1802909656155,383.4157659815964,383.0265532624594,381.8728155593033,381.4836028401663,380.52447149657877,377.77218155411003,375.4786066020527,375.1727966084451],\"yaxis\":\"y\",\"type\":\"scatter\"}],                        {\"template\":{\"data\":{\"histogram2dcontour\":[{\"type\":\"histogram2dcontour\",\"colorbar\":{\"outlinewidth\":0,\"ticks\":\"\"},\"colorscale\":[[0.0,\"#0d0887\"],[0.1111111111111111,\"#46039f\"],[0.2222222222222222,\"#7201a8\"],[0.3333333333333333,\"#9c179e\"],[0.4444444444444444,\"#bd3786\"],[0.5555555555555556,\"#d8576b\"],[0.6666666666666666,\"#ed7953\"],[0.7777777777777778,\"#fb9f3a\"],[0.8888888888888888,\"#fdca26\"],[1.0,\"#f0f921\"]]}],\"choropleth\":[{\"type\":\"choropleth\",\"colorbar\":{\"outlinewidth\":0,\"ticks\":\"\"}}],\"histogram2d\":[{\"type\":\"histogram2d\",\"colorbar\":{\"outlinewidth\":0,\"ticks\":\"\"},\"colorscale\":[[0.0,\"#0d0887\"],[0.1111111111111111,\"#46039f\"],[0.2222222222222222,\"#7201a8\"],[0.3333333333333333,\"#9c179e\"],[0.4444444444444444,\"#bd3786\"],[0.5555555555555556,\"#d8576b\"],[0.6666666666666666,\"#ed7953\"],[0.7777777777777778,\"#fb9f3a\"],[0.8888888888888888,\"#fdca26\"],[1.0,\"#f0f921\"]]}],\"heatmap\":[{\"type\":\"heatmap\",\"colorbar\":{\"outlinewidth\":0,\"ticks\":\"\"},\"colorscale\":[[0.0,\"#0d0887\"],[0.1111111111111111,\"#46039f\"],[0.2222222222222222,\"#7201a8\"],[0.3333333333333333,\"#9c179e\"],[0.4444444444444444,\"#bd3786\"],[0.5555555555555556,\"#d8576b\"],[0.6666666666666666,\"#ed7953\"],[0.7777777777777778,\"#fb9f3a\"],[0.8888888888888888,\"#fdca26\"],[1.0,\"#f0f921\"]]}],\"heatmapgl\":[{\"type\":\"heatmapgl\",\"colorbar\":{\"outlinewidth\":0,\"ticks\":\"\"},\"colorscale\":[[0.0,\"#0d0887\"],[0.1111111111111111,\"#46039f\"],[0.2222222222222222,\"#7201a8\"],[0.3333333333333333,\"#9c179e\"],[0.4444444444444444,\"#bd3786\"],[0.5555555555555556,\"#d8576b\"],[0.6666666666666666,\"#ed7953\"],[0.7777777777777778,\"#fb9f3a\"],[0.8888888888888888,\"#fdca26\"],[1.0,\"#f0f921\"]]}],\"contourcarpet\":[{\"type\":\"contourcarpet\",\"colorbar\":{\"outlinewidth\":0,\"ticks\":\"\"}}],\"contour\":[{\"type\":\"contour\",\"colorbar\":{\"outlinewidth\":0,\"ticks\":\"\"},\"colorscale\":[[0.0,\"#0d0887\"],[0.1111111111111111,\"#46039f\"],[0.2222222222222222,\"#7201a8\"],[0.3333333333333333,\"#9c179e\"],[0.4444444444444444,\"#bd3786\"],[0.5555555555555556,\"#d8576b\"],[0.6666666666666666,\"#ed7953\"],[0.7777777777777778,\"#fb9f3a\"],[0.8888888888888888,\"#fdca26\"],[1.0,\"#f0f921\"]]}],\"surface\":[{\"type\":\"surface\",\"colorbar\":{\"outlinewidth\":0,\"ticks\":\"\"},\"colorscale\":[[0.0,\"#0d0887\"],[0.1111111111111111,\"#46039f\"],[0.2222222222222222,\"#7201a8\"],[0.3333333333333333,\"#9c179e\"],[0.4444444444444444,\"#bd3786\"],[0.5555555555555556,\"#d8576b\"],[0.6666666666666666,\"#ed7953\"],[0.7777777777777778,\"#fb9f3a\"],[0.8888888888888888,\"#fdca26\"],[1.0,\"#f0f921\"]]}],\"mesh3d\":[{\"type\":\"mesh3d\",\"colorbar\":{\"outlinewidth\":0,\"ticks\":\"\"}}],\"scatter\":[{\"fillpattern\":{\"fillmode\":\"overlay\",\"size\":10,\"solidity\":0.2},\"type\":\"scatter\"}],\"parcoords\":[{\"type\":\"parcoords\",\"line\":{\"colorbar\":{\"outlinewidth\":0,\"ticks\":\"\"}}}],\"scatterpolargl\":[{\"type\":\"scatterpolargl\",\"marker\":{\"colorbar\":{\"outlinewidth\":0,\"ticks\":\"\"}}}],\"bar\":[{\"error_x\":{\"color\":\"#2a3f5f\"},\"error_y\":{\"color\":\"#2a3f5f\"},\"marker\":{\"line\":{\"color\":\"#E5ECF6\",\"width\":0.5},\"pattern\":{\"fillmode\":\"overlay\",\"size\":10,\"solidity\":0.2}},\"type\":\"bar\"}],\"scattergeo\":[{\"type\":\"scattergeo\",\"marker\":{\"colorbar\":{\"outlinewidth\":0,\"ticks\":\"\"}}}],\"scatterpolar\":[{\"type\":\"scatterpolar\",\"marker\":{\"colorbar\":{\"outlinewidth\":0,\"ticks\":\"\"}}}],\"histogram\":[{\"marker\":{\"pattern\":{\"fillmode\":\"overlay\",\"size\":10,\"solidity\":0.2}},\"type\":\"histogram\"}],\"scattergl\":[{\"type\":\"scattergl\",\"marker\":{\"colorbar\":{\"outlinewidth\":0,\"ticks\":\"\"}}}],\"scatter3d\":[{\"type\":\"scatter3d\",\"line\":{\"colorbar\":{\"outlinewidth\":0,\"ticks\":\"\"}},\"marker\":{\"colorbar\":{\"outlinewidth\":0,\"ticks\":\"\"}}}],\"scattermapbox\":[{\"type\":\"scattermapbox\",\"marker\":{\"colorbar\":{\"outlinewidth\":0,\"ticks\":\"\"}}}],\"scatterternary\":[{\"type\":\"scatterternary\",\"marker\":{\"colorbar\":{\"outlinewidth\":0,\"ticks\":\"\"}}}],\"scattercarpet\":[{\"type\":\"scattercarpet\",\"marker\":{\"colorbar\":{\"outlinewidth\":0,\"ticks\":\"\"}}}],\"carpet\":[{\"aaxis\":{\"endlinecolor\":\"#2a3f5f\",\"gridcolor\":\"white\",\"linecolor\":\"white\",\"minorgridcolor\":\"white\",\"startlinecolor\":\"#2a3f5f\"},\"baxis\":{\"endlinecolor\":\"#2a3f5f\",\"gridcolor\":\"white\",\"linecolor\":\"white\",\"minorgridcolor\":\"white\",\"startlinecolor\":\"#2a3f5f\"},\"type\":\"carpet\"}],\"table\":[{\"cells\":{\"fill\":{\"color\":\"#EBF0F8\"},\"line\":{\"color\":\"white\"}},\"header\":{\"fill\":{\"color\":\"#C8D4E3\"},\"line\":{\"color\":\"white\"}},\"type\":\"table\"}],\"barpolar\":[{\"marker\":{\"line\":{\"color\":\"#E5ECF6\",\"width\":0.5},\"pattern\":{\"fillmode\":\"overlay\",\"size\":10,\"solidity\":0.2}},\"type\":\"barpolar\"}],\"pie\":[{\"automargin\":true,\"type\":\"pie\"}]},\"layout\":{\"autotypenumbers\":\"strict\",\"colorway\":[\"#636efa\",\"#EF553B\",\"#00cc96\",\"#ab63fa\",\"#FFA15A\",\"#19d3f3\",\"#FF6692\",\"#B6E880\",\"#FF97FF\",\"#FECB52\"],\"font\":{\"color\":\"#2a3f5f\"},\"hovermode\":\"closest\",\"hoverlabel\":{\"align\":\"left\"},\"paper_bgcolor\":\"white\",\"plot_bgcolor\":\"#E5ECF6\",\"polar\":{\"bgcolor\":\"#E5ECF6\",\"angularaxis\":{\"gridcolor\":\"white\",\"linecolor\":\"white\",\"ticks\":\"\"},\"radialaxis\":{\"gridcolor\":\"white\",\"linecolor\":\"white\",\"ticks\":\"\"}},\"ternary\":{\"bgcolor\":\"#E5ECF6\",\"aaxis\":{\"gridcolor\":\"white\",\"linecolor\":\"white\",\"ticks\":\"\"},\"baxis\":{\"gridcolor\":\"white\",\"linecolor\":\"white\",\"ticks\":\"\"},\"caxis\":{\"gridcolor\":\"white\",\"linecolor\":\"white\",\"ticks\":\"\"}},\"coloraxis\":{\"colorbar\":{\"outlinewidth\":0,\"ticks\":\"\"}},\"colorscale\":{\"sequential\":[[0.0,\"#0d0887\"],[0.1111111111111111,\"#46039f\"],[0.2222222222222222,\"#7201a8\"],[0.3333333333333333,\"#9c179e\"],[0.4444444444444444,\"#bd3786\"],[0.5555555555555556,\"#d8576b\"],[0.6666666666666666,\"#ed7953\"],[0.7777777777777778,\"#fb9f3a\"],[0.8888888888888888,\"#fdca26\"],[1.0,\"#f0f921\"]],\"sequentialminus\":[[0.0,\"#0d0887\"],[0.1111111111111111,\"#46039f\"],[0.2222222222222222,\"#7201a8\"],[0.3333333333333333,\"#9c179e\"],[0.4444444444444444,\"#bd3786\"],[0.5555555555555556,\"#d8576b\"],[0.6666666666666666,\"#ed7953\"],[0.7777777777777778,\"#fb9f3a\"],[0.8888888888888888,\"#fdca26\"],[1.0,\"#f0f921\"]],\"diverging\":[[0,\"#8e0152\"],[0.1,\"#c51b7d\"],[0.2,\"#de77ae\"],[0.3,\"#f1b6da\"],[0.4,\"#fde0ef\"],[0.5,\"#f7f7f7\"],[0.6,\"#e6f5d0\"],[0.7,\"#b8e186\"],[0.8,\"#7fbc41\"],[0.9,\"#4d9221\"],[1,\"#276419\"]]},\"xaxis\":{\"gridcolor\":\"white\",\"linecolor\":\"white\",\"ticks\":\"\",\"title\":{\"standoff\":15},\"zerolinecolor\":\"white\",\"automargin\":true,\"zerolinewidth\":2},\"yaxis\":{\"gridcolor\":\"white\",\"linecolor\":\"white\",\"ticks\":\"\",\"title\":{\"standoff\":15},\"zerolinecolor\":\"white\",\"automargin\":true,\"zerolinewidth\":2},\"scene\":{\"xaxis\":{\"backgroundcolor\":\"#E5ECF6\",\"gridcolor\":\"white\",\"linecolor\":\"white\",\"showbackground\":true,\"ticks\":\"\",\"zerolinecolor\":\"white\",\"gridwidth\":2},\"yaxis\":{\"backgroundcolor\":\"#E5ECF6\",\"gridcolor\":\"white\",\"linecolor\":\"white\",\"showbackground\":true,\"ticks\":\"\",\"zerolinecolor\":\"white\",\"gridwidth\":2},\"zaxis\":{\"backgroundcolor\":\"#E5ECF6\",\"gridcolor\":\"white\",\"linecolor\":\"white\",\"showbackground\":true,\"ticks\":\"\",\"zerolinecolor\":\"white\",\"gridwidth\":2}},\"shapedefaults\":{\"line\":{\"color\":\"#2a3f5f\"}},\"annotationdefaults\":{\"arrowcolor\":\"#2a3f5f\",\"arrowhead\":0,\"arrowwidth\":1},\"geo\":{\"bgcolor\":\"white\",\"landcolor\":\"#E5ECF6\",\"subunitcolor\":\"white\",\"showland\":true,\"showlakes\":true,\"lakecolor\":\"white\"},\"title\":{\"x\":0.05},\"mapbox\":{\"style\":\"light\"}}},\"xaxis\":{\"anchor\":\"y\",\"domain\":[0.0,1.0],\"title\":{\"text\":\"hispanic\"}},\"yaxis\":{\"anchor\":\"x\",\"domain\":[0.0,1.0],\"title\":{\"text\":\"avg_response_time\"}},\"legend\":{\"tracegroupgap\":0},\"title\":{\"text\":\"Response Time by Average Hispanic Population for Census Tracts, Davidson County 2017-2021\"}},                        {\"responsive\": true}                    ).then(function(){\n",
       "                            \n",
       "var gd = document.getElementById('f19fa6c5-9d55-4165-90b5-959b71c3ff14');\n",
       "var x = new MutationObserver(function (mutations, observer) {{\n",
       "        var display = window.getComputedStyle(gd).display;\n",
       "        if (!display || display === 'none') {{\n",
       "            console.log([gd, 'removed!']);\n",
       "            Plotly.purge(gd);\n",
       "            observer.disconnect();\n",
       "        }}\n",
       "}});\n",
       "\n",
       "// Listen for the removal of the full notebook cells\n",
       "var notebookContainer = gd.closest('#notebook-container');\n",
       "if (notebookContainer) {{\n",
       "    x.observe(notebookContainer, {childList: true});\n",
       "}}\n",
       "\n",
       "// Listen for the clearing of the current output cell\n",
       "var outputEl = gd.closest('.output');\n",
       "if (outputEl) {{\n",
       "    x.observe(outputEl, {childList: true});\n",
       "}}\n",
       "\n",
       "                        })                };                });            </script>        </div>"
      ]
     },
     "metadata": {},
     "output_type": "display_data"
    }
   ],
   "source": [
    "fig = px.scatter(res_dem_gdf, x='hispanic', y='avg_response_time', trendline='ols',\n",
    "                 title=\"Response Time by Average Hispanic Population for Census Tracts, Davidson County 2017-2021\")\n",
    "fig.show()\n",
    "fig.write_html('res_time_by_hispanic_pop.html')"
   ]
  },
  {
   "cell_type": "code",
   "execution_count": 21,
   "id": "3c17741d",
   "metadata": {
    "colab": {
     "base_uri": "https://localhost:8080/",
     "height": 542
    },
    "id": "3c17741d",
    "outputId": "5edfe339-ac52-4f2e-84b7-5b1e8327df8d"
   },
   "outputs": [],
   "source": [
    "fig = px.choropleth(res_dem_gdf, geojson=res_dem_gdf, locations = res_dem_gdf.index,\n",
    "                            color='african_american',\n",
    "                            color_continuous_scale=\"Viridis\",\n",
    "                            range_color=(0, res_dem_gdf['african_american'].max()),\n",
    "                            scope = \"usa\",\n",
    "                            title=\"Number of African-American People by Census Tract, Davidson County 2017-2021\")\n",
    "fig.update_geos(fitbounds=\"locations\", visible=True)\n",
    "fig.update_layout(margin={\"r\":0,\"t\":40,\"l\":0,\"b\":0})\n",
    "fig.write_html('african_american_pop_by_tract.html')"
   ]
  },
  {
   "cell_type": "code",
   "execution_count": 22,
   "id": "ca9ac306",
   "metadata": {
    "colab": {
     "base_uri": "https://localhost:8080/",
     "height": 542
    },
    "id": "ca9ac306",
    "outputId": "e1f49a72-59e4-4667-822f-fc446117d6be"
   },
   "outputs": [],
   "source": [
    "fig = px.choropleth(res_dem_gdf, geojson=res_dem_gdf, locations = res_dem_gdf.index,\n",
    "                            color='white',\n",
    "                            color_continuous_scale=\"Viridis\",\n",
    "                            range_color=(0, res_dem_gdf['white'].max()),\n",
    "                            scope = \"usa\",\n",
    "                            title=\"Number of White People by Census Tract, Davidson County 2017-2021\")\n",
    "fig.update_geos(fitbounds=\"locations\", visible=True)\n",
    "fig.update_layout(margin={\"r\":0,\"t\":40,\"l\":0,\"b\":0})\n",
    "fig.write_html('white_pop_by_tract.html')"
   ]
  },
  {
   "cell_type": "code",
   "execution_count": 23,
   "id": "88d8f8a8",
   "metadata": {
    "colab": {
     "base_uri": "https://localhost:8080/",
     "height": 542
    },
    "id": "88d8f8a8",
    "outputId": "f6a1c4da-f565-42f2-b79b-9b4f9ca49879"
   },
   "outputs": [],
   "source": [
    "fig = px.choropleth(res_dem_gdf, geojson=res_dem_gdf, locations = res_dem_gdf.index,\n",
    "                            color='hispanic',\n",
    "                            color_continuous_scale=\"Viridis\",\n",
    "                            range_color=(0, res_dem_gdf['hispanic'].max()),\n",
    "                            scope = \"usa\",\n",
    "                            title=\"Number of Hispanic People by Census Tract, Davidson County 2017-2021\")\n",
    "fig.update_geos(fitbounds=\"locations\", visible=True)\n",
    "fig.update_layout(margin={\"r\":0,\"t\":40,\"l\":0,\"b\":0})\n",
    "fig.write_html('hispanic_pop_by_tract.html')"
   ]
  },
  {
   "cell_type": "markdown",
   "id": "1b84467f",
   "metadata": {
    "id": "1b84467f"
   },
   "source": [
    "- Now make similar analyses based on the economic/financial makeup of a tract and the response times. This involves making scatter plots of response time versus various economic assessment factors and comparing choropleth plots of these economic assessment factors for each tract with the prior num_incidents and avg_response_time choropleths from Sections 2 and 3."
   ]
  },
  {
   "cell_type": "code",
   "execution_count": 24,
   "id": "05901902",
   "metadata": {
    "colab": {
     "base_uri": "https://localhost:8080/",
     "height": 542
    },
    "id": "05901902",
    "outputId": "c2989228-c61f-41a6-dafb-1455b1f109bc"
   },
   "outputs": [
    {
     "data": {
      "application/vnd.plotly.v1+json": {
       "config": {
        "plotlyServerURL": "https://plot.ly"
       },
       "data": [
        {
         "hovertemplate": "median_household_income=%{x}<br>avg_response_time=%{y}<extra></extra>",
         "legendgroup": "",
         "marker": {
          "color": "#636efa",
          "symbol": "circle"
         },
         "mode": "markers",
         "name": "",
         "orientation": "v",
         "showlegend": false,
         "type": "scatter",
         "x": [
          51596,
          51106,
          67250,
          49878,
          34688,
          23821,
          40094,
          38869,
          14083,
          50217,
          40625,
          79954,
          27336,
          37178,
          183750,
          24082,
          62021,
          53806,
          47727,
          66090,
          54724,
          47470,
          61404,
          32237,
          91528,
          107555,
          59565,
          59244,
          28896,
          52207,
          52835,
          55036,
          31406,
          63488,
          125000,
          35417,
          36304,
          45543,
          40694,
          34559,
          56182,
          58134,
          40188,
          14013,
          57971,
          62994,
          75536,
          60000,
          52426,
          38679,
          30081,
          37917,
          36102,
          67953,
          44535,
          28882,
          73125,
          90082,
          60066,
          24122,
          42065,
          48040,
          52792,
          22101,
          52213,
          32832,
          47450,
          41326,
          35721,
          177692,
          52540,
          25292,
          37598,
          55036,
          115399,
          43878,
          58306,
          87083,
          68142,
          58563,
          22260,
          60156,
          31449,
          37134,
          40982,
          61635,
          58393,
          null,
          32500,
          48615,
          79811,
          102700,
          69710,
          87798,
          59688,
          104107,
          46736,
          56620,
          39740,
          30929,
          43255,
          59125,
          42383,
          28564,
          58352,
          9355,
          50125,
          31493,
          42208,
          96696,
          30933,
          50303,
          40203,
          58105,
          88009,
          46545,
          47845,
          29006,
          62342,
          84063,
          33909,
          133360,
          39700,
          116250,
          42083,
          65227,
          48136,
          63711,
          61431,
          18480,
          63409,
          34425,
          69490,
          23942,
          52674,
          48391,
          45478,
          75074,
          27066,
          44968,
          37384,
          41920,
          56480,
          null,
          40028,
          150707,
          71657,
          38115,
          44083,
          30313,
          94595,
          24794,
          53150,
          34384,
          53516,
          null,
          94331,
          45625,
          36855,
          95571,
          23611
         ],
         "xaxis": "x",
         "y": [
          336.6775956284153,
          392.2,
          639.9289099526067,
          413.8970976253298,
          337.46315789473687,
          343.90845070422534,
          403.3207547169811,
          377.4945848375451,
          426.2622309197652,
          506.2486486486487,
          397.247619047619,
          342.8245614035088,
          381.283105022831,
          415.08053691275165,
          513.1833333333333,
          404.9782608695652,
          246.04109589041096,
          311.0698924731183,
          274.52272727272725,
          382.125,
          368.5692307692308,
          247.34883720930236,
          264.5217391304348,
          286.4347826086956,
          400.4852941176471,
          457.71875,
          339.1875,
          357.5594713656388,
          375.1241217798595,
          372.95211267605634,
          218,
          348.8513513513513,
          290.258064516129,
          525.8956228956229,
          407.55555555555554,
          310.2708333333333,
          435.0614754098361,
          429.14722222222224,
          367.09580838323353,
          404.17471264367816,
          416.0079365079365,
          373.7714285714285,
          383.6575342465753,
          359.68981481481484,
          600.0677966101695,
          426.3877551020408,
          317.44642857142856,
          630.8415841584158,
          300.89473684210526,
          379.9160839160839,
          381.9090909090909,
          252.49693251533745,
          392.8523489932886,
          515.2967479674796,
          443.54852320675104,
          308.5217391304348,
          383.01666666666665,
          386.5857142857143,
          314.9942903752039,
          308.64054054054054,
          403.8528610354224,
          423.8928571428572,
          394.0194174757282,
          295.31,
          351.95,
          395.5157068062827,
          528.156862745098,
          383.71014492753625,
          405.18367346938777,
          525.6027397260274,
          518.2647058823529,
          333.64912280701753,
          372.7011494252874,
          368.9325842696629,
          508.7916666666667,
          353.20652173913044,
          452.38483146067415,
          341.4803149606299,
          569.0920770877945,
          586.1904761904761,
          338.6793893129771,
          598.314606741573,
          389.30272108843536,
          354.32142857142856,
          458.2314814814815,
          577.2447257383966,
          521.4477611940298,
          389.3076923076923,
          262.6,
          466.16541353383457,
          632.3542857142858,
          244.3203125,
          533.3709677419355,
          396.73333333333335,
          372.1428571428572,
          518.8085106382979,
          441.7914691943128,
          443.60483870967744,
          350.697247706422,
          297.5394736842105,
          462.8490566037736,
          467.5384615384616,
          364.31111111111113,
          334.13963039014374,
          387.0642857142857,
          371.48521739130433,
          442.10927835051547,
          293.6640625,
          380.5033112582781,
          451,
          407.6756756756757,
          422.9333333333333,
          297.0272727272727,
          474,
          639.0377358490566,
          428.88793103448273,
          380.4224137931034,
          357.984496124031,
          485.6714285714286,
          512.3,
          310.587962962963,
          426.7450980392157,
          342.31052631578945,
          486.9072164948454,
          356.5846153846154,
          599.4285714285714,
          315.73298429319374,
          472.6010638297872,
          405.1830985915493,
          330.3380281690141,
          459.6571428571429,
          358.2287581699346,
          432.94685990338166,
          271.14772727272725,
          317.11304347826086,
          414.8344827586207,
          354.4871794871795,
          506.9166666666667,
          353.5561643835616,
          338.3809523809524,
          426.8360655737705,
          409.2705314009662,
          386.7944444444444,
          422.874213836478,
          344.75,
          507.288961038961,
          326.1025641025641,
          392.00387596899225,
          337.38461538461536,
          251.9240506329114,
          371.5441176470589,
          335.6575342465753,
          315.2156862745098,
          344.58649789029533,
          493.3018867924528,
          356.68275862068964,
          375.2014925373134,
          374.9868421052632,
          420.9009009009009,
          539.5454545454545,
          358.0923076923077
         ],
         "yaxis": "y"
        },
        {
         "hovertemplate": "<b>OLS trendline</b><br>avg_response_time = 0.00129474 * median_household_income + 329.572<br>R<sup>2</sup>=0.167274<br><br>median_household_income=%{x}<br>avg_response_time=%{y} <b>(trend)</b><extra></extra>",
         "legendgroup": "",
         "marker": {
          "color": "#636efa",
          "symbol": "circle"
         },
         "mode": "lines",
         "name": "",
         "showlegend": false,
         "type": "scatter",
         "x": [
          9355,
          14013,
          14083,
          18480,
          22101,
          22260,
          23611,
          23821,
          23942,
          24082,
          24122,
          24794,
          25292,
          27066,
          27336,
          28564,
          28882,
          28896,
          29006,
          30081,
          30313,
          30929,
          30933,
          31406,
          31449,
          31493,
          32237,
          32500,
          32832,
          33909,
          34384,
          34425,
          34559,
          34688,
          35417,
          35721,
          36102,
          36304,
          36855,
          37134,
          37178,
          37384,
          37598,
          37917,
          38115,
          38679,
          38869,
          39700,
          39740,
          40028,
          40094,
          40188,
          40203,
          40625,
          40694,
          40982,
          41326,
          41920,
          42065,
          42083,
          42208,
          42383,
          43255,
          43878,
          44083,
          44535,
          44968,
          45478,
          45543,
          45625,
          46545,
          46736,
          47450,
          47470,
          47727,
          47845,
          48040,
          48136,
          48391,
          48615,
          49878,
          50125,
          50217,
          50303,
          51106,
          51596,
          52207,
          52213,
          52426,
          52540,
          52674,
          52792,
          52835,
          53150,
          53516,
          53806,
          54724,
          55036,
          55036,
          56182,
          56480,
          56620,
          57971,
          58105,
          58134,
          58306,
          58352,
          58393,
          58563,
          59125,
          59244,
          59565,
          59688,
          60000,
          60066,
          60156,
          61404,
          61431,
          61635,
          62021,
          62342,
          62994,
          63409,
          63488,
          63711,
          65227,
          66090,
          67250,
          67953,
          68142,
          69490,
          69710,
          71657,
          73125,
          75074,
          75536,
          79811,
          79954,
          84063,
          87083,
          87798,
          88009,
          90082,
          91528,
          94331,
          94595,
          95571,
          96696,
          102700,
          104107,
          107555,
          115399,
          116250,
          125000,
          133360,
          150707,
          177692,
          183750
         ],
         "xaxis": "x",
         "y": [
          341.6838952348086,
          347.7147960826661,
          347.80542791163776,
          353.4984015114723,
          358.18665655013524,
          358.3925202759423,
          360.1417145750955,
          360.4136100620105,
          360.57027365209007,
          360.7515373100334,
          360.8033269265886,
          361.67339248471666,
          362.31817321082934,
          364.6150427050542,
          364.96462261680205,
          366.5545638450478,
          366.966291296662,
          366.9844176624563,
          367.1268391079832,
          368.51868505290525,
          368.8190648289256,
          369.6166249238763,
          369.6218038855318,
          370.23421610129753,
          370.2898899390944,
          370.3468585173051,
          371.31014538523254,
          371.6506621140833,
          372.08051593149173,
          373.47495135724154,
          374.08995305383496,
          374.1430374108041,
          374.3165326262641,
          374.4835541396548,
          375.42741990137404,
          375.82102098719383,
          376.3143170848825,
          376.5758546484864,
          377.28925661653483,
          377.6504891920076,
          377.70745777021835,
          377.97417429547784,
          378.2512487440484,
          378.6642709360764,
          378.9206295380248,
          379.65086313145366,
          379.8968638100911,
          380.97279309402614,
          381.0245827105814,
          381.39746794977907,
          381.48292081709525,
          381.60462641600003,
          381.62404752220823,
          382.170427976866,
          382.2597650654238,
          382.6326503046215,
          383.07804100699656,
          383.8471168128418,
          384.0348541728546,
          384.05815950030444,
          384.22000205203955,
          384.4465816244687,
          385.5755952653729,
          386.38221854322074,
          386.64764032806636,
          387.2328629951405,
          387.793485594351,
          388.4538032054303,
          388.53796133233254,
          388.6441300462708,
          389.83529122704124,
          390.0825866460925,
          391.00703130160355,
          391.03292610988115,
          391.36567439624855,
          391.5184537650865,
          391.7709281457933,
          391.89522322552585,
          392.22538203106546,
          392.5154038837748,
          394.15066102650644,
          394.47046190873505,
          394.5895780268121,
          394.70092570240587,
          395.7406022547523,
          396.37502505755396,
          397.1661114504352,
          397.17387989291854,
          397.44965960107515,
          397.5972600082576,
          397.77075522371763,
          397.9235345925556,
          397.97920843035246,
          398.387051660725,
          398.86092665220536,
          399.23640137223083,
          400.42497307217354,
          400.8289320813044,
          400.8289320813044,
          402.312704595612,
          402.6985372389485,
          402.8798008968919,
          404.628995196045,
          404.80249041150506,
          404.84003788350765,
          405.06273323469514,
          405.12229129373367,
          405.1753756507028,
          405.39548152106255,
          406.1231256336637,
          406.2771997429155,
          406.6928114157713,
          406.8520644866786,
          407.2560234958095,
          407.3414763631256,
          407.4580030003749,
          409.07383903689833,
          409.1087970280731,
          409.3729240725048,
          409.87269387226286,
          410.28830554511865,
          411.132476294969,
          411.66979356672965,
          411.77207805942624,
          412.0608051717217,
          414.0236316391652,
          415.1409926163445,
          416.6428914964464,
          417.5530940074047,
          417.7977999456282,
          419.5431100235397,
          419.82795291459354,
          422.34881250041974,
          424.249491427997,
          426.772940494651,
          427.371110565864,
          432.90612583520505,
          433.09127371439,
          438.4113620750269,
          442.32147812494736,
          443.24721752087225,
          443.52040774820114,
          446.2044046261763,
          448.07659926464817,
          451.7057566447565,
          452.04756811402103,
          453.31123475796886,
          454.7678177235849,
          462.54143916852615,
          464.3631389308567,
          468.8274038779182,
          478.9833476844004,
          480.0851717766131,
          491.41415039807146,
          502.23818025811624,
          524.6980422177091,
          559.6366122862867,
          567.4801497135775
         ],
         "yaxis": "y"
        }
       ],
       "layout": {
        "legend": {
         "tracegroupgap": 0
        },
        "template": {
         "data": {
          "bar": [
           {
            "error_x": {
             "color": "#2a3f5f"
            },
            "error_y": {
             "color": "#2a3f5f"
            },
            "marker": {
             "line": {
              "color": "#E5ECF6",
              "width": 0.5
             },
             "pattern": {
              "fillmode": "overlay",
              "size": 10,
              "solidity": 0.2
             }
            },
            "type": "bar"
           }
          ],
          "barpolar": [
           {
            "marker": {
             "line": {
              "color": "#E5ECF6",
              "width": 0.5
             },
             "pattern": {
              "fillmode": "overlay",
              "size": 10,
              "solidity": 0.2
             }
            },
            "type": "barpolar"
           }
          ],
          "carpet": [
           {
            "aaxis": {
             "endlinecolor": "#2a3f5f",
             "gridcolor": "white",
             "linecolor": "white",
             "minorgridcolor": "white",
             "startlinecolor": "#2a3f5f"
            },
            "baxis": {
             "endlinecolor": "#2a3f5f",
             "gridcolor": "white",
             "linecolor": "white",
             "minorgridcolor": "white",
             "startlinecolor": "#2a3f5f"
            },
            "type": "carpet"
           }
          ],
          "choropleth": [
           {
            "colorbar": {
             "outlinewidth": 0,
             "ticks": ""
            },
            "type": "choropleth"
           }
          ],
          "contour": [
           {
            "colorbar": {
             "outlinewidth": 0,
             "ticks": ""
            },
            "colorscale": [
             [
              0,
              "#0d0887"
             ],
             [
              0.1111111111111111,
              "#46039f"
             ],
             [
              0.2222222222222222,
              "#7201a8"
             ],
             [
              0.3333333333333333,
              "#9c179e"
             ],
             [
              0.4444444444444444,
              "#bd3786"
             ],
             [
              0.5555555555555556,
              "#d8576b"
             ],
             [
              0.6666666666666666,
              "#ed7953"
             ],
             [
              0.7777777777777778,
              "#fb9f3a"
             ],
             [
              0.8888888888888888,
              "#fdca26"
             ],
             [
              1,
              "#f0f921"
             ]
            ],
            "type": "contour"
           }
          ],
          "contourcarpet": [
           {
            "colorbar": {
             "outlinewidth": 0,
             "ticks": ""
            },
            "type": "contourcarpet"
           }
          ],
          "heatmap": [
           {
            "colorbar": {
             "outlinewidth": 0,
             "ticks": ""
            },
            "colorscale": [
             [
              0,
              "#0d0887"
             ],
             [
              0.1111111111111111,
              "#46039f"
             ],
             [
              0.2222222222222222,
              "#7201a8"
             ],
             [
              0.3333333333333333,
              "#9c179e"
             ],
             [
              0.4444444444444444,
              "#bd3786"
             ],
             [
              0.5555555555555556,
              "#d8576b"
             ],
             [
              0.6666666666666666,
              "#ed7953"
             ],
             [
              0.7777777777777778,
              "#fb9f3a"
             ],
             [
              0.8888888888888888,
              "#fdca26"
             ],
             [
              1,
              "#f0f921"
             ]
            ],
            "type": "heatmap"
           }
          ],
          "heatmapgl": [
           {
            "colorbar": {
             "outlinewidth": 0,
             "ticks": ""
            },
            "colorscale": [
             [
              0,
              "#0d0887"
             ],
             [
              0.1111111111111111,
              "#46039f"
             ],
             [
              0.2222222222222222,
              "#7201a8"
             ],
             [
              0.3333333333333333,
              "#9c179e"
             ],
             [
              0.4444444444444444,
              "#bd3786"
             ],
             [
              0.5555555555555556,
              "#d8576b"
             ],
             [
              0.6666666666666666,
              "#ed7953"
             ],
             [
              0.7777777777777778,
              "#fb9f3a"
             ],
             [
              0.8888888888888888,
              "#fdca26"
             ],
             [
              1,
              "#f0f921"
             ]
            ],
            "type": "heatmapgl"
           }
          ],
          "histogram": [
           {
            "marker": {
             "pattern": {
              "fillmode": "overlay",
              "size": 10,
              "solidity": 0.2
             }
            },
            "type": "histogram"
           }
          ],
          "histogram2d": [
           {
            "colorbar": {
             "outlinewidth": 0,
             "ticks": ""
            },
            "colorscale": [
             [
              0,
              "#0d0887"
             ],
             [
              0.1111111111111111,
              "#46039f"
             ],
             [
              0.2222222222222222,
              "#7201a8"
             ],
             [
              0.3333333333333333,
              "#9c179e"
             ],
             [
              0.4444444444444444,
              "#bd3786"
             ],
             [
              0.5555555555555556,
              "#d8576b"
             ],
             [
              0.6666666666666666,
              "#ed7953"
             ],
             [
              0.7777777777777778,
              "#fb9f3a"
             ],
             [
              0.8888888888888888,
              "#fdca26"
             ],
             [
              1,
              "#f0f921"
             ]
            ],
            "type": "histogram2d"
           }
          ],
          "histogram2dcontour": [
           {
            "colorbar": {
             "outlinewidth": 0,
             "ticks": ""
            },
            "colorscale": [
             [
              0,
              "#0d0887"
             ],
             [
              0.1111111111111111,
              "#46039f"
             ],
             [
              0.2222222222222222,
              "#7201a8"
             ],
             [
              0.3333333333333333,
              "#9c179e"
             ],
             [
              0.4444444444444444,
              "#bd3786"
             ],
             [
              0.5555555555555556,
              "#d8576b"
             ],
             [
              0.6666666666666666,
              "#ed7953"
             ],
             [
              0.7777777777777778,
              "#fb9f3a"
             ],
             [
              0.8888888888888888,
              "#fdca26"
             ],
             [
              1,
              "#f0f921"
             ]
            ],
            "type": "histogram2dcontour"
           }
          ],
          "mesh3d": [
           {
            "colorbar": {
             "outlinewidth": 0,
             "ticks": ""
            },
            "type": "mesh3d"
           }
          ],
          "parcoords": [
           {
            "line": {
             "colorbar": {
              "outlinewidth": 0,
              "ticks": ""
             }
            },
            "type": "parcoords"
           }
          ],
          "pie": [
           {
            "automargin": true,
            "type": "pie"
           }
          ],
          "scatter": [
           {
            "fillpattern": {
             "fillmode": "overlay",
             "size": 10,
             "solidity": 0.2
            },
            "type": "scatter"
           }
          ],
          "scatter3d": [
           {
            "line": {
             "colorbar": {
              "outlinewidth": 0,
              "ticks": ""
             }
            },
            "marker": {
             "colorbar": {
              "outlinewidth": 0,
              "ticks": ""
             }
            },
            "type": "scatter3d"
           }
          ],
          "scattercarpet": [
           {
            "marker": {
             "colorbar": {
              "outlinewidth": 0,
              "ticks": ""
             }
            },
            "type": "scattercarpet"
           }
          ],
          "scattergeo": [
           {
            "marker": {
             "colorbar": {
              "outlinewidth": 0,
              "ticks": ""
             }
            },
            "type": "scattergeo"
           }
          ],
          "scattergl": [
           {
            "marker": {
             "colorbar": {
              "outlinewidth": 0,
              "ticks": ""
             }
            },
            "type": "scattergl"
           }
          ],
          "scattermapbox": [
           {
            "marker": {
             "colorbar": {
              "outlinewidth": 0,
              "ticks": ""
             }
            },
            "type": "scattermapbox"
           }
          ],
          "scatterpolar": [
           {
            "marker": {
             "colorbar": {
              "outlinewidth": 0,
              "ticks": ""
             }
            },
            "type": "scatterpolar"
           }
          ],
          "scatterpolargl": [
           {
            "marker": {
             "colorbar": {
              "outlinewidth": 0,
              "ticks": ""
             }
            },
            "type": "scatterpolargl"
           }
          ],
          "scatterternary": [
           {
            "marker": {
             "colorbar": {
              "outlinewidth": 0,
              "ticks": ""
             }
            },
            "type": "scatterternary"
           }
          ],
          "surface": [
           {
            "colorbar": {
             "outlinewidth": 0,
             "ticks": ""
            },
            "colorscale": [
             [
              0,
              "#0d0887"
             ],
             [
              0.1111111111111111,
              "#46039f"
             ],
             [
              0.2222222222222222,
              "#7201a8"
             ],
             [
              0.3333333333333333,
              "#9c179e"
             ],
             [
              0.4444444444444444,
              "#bd3786"
             ],
             [
              0.5555555555555556,
              "#d8576b"
             ],
             [
              0.6666666666666666,
              "#ed7953"
             ],
             [
              0.7777777777777778,
              "#fb9f3a"
             ],
             [
              0.8888888888888888,
              "#fdca26"
             ],
             [
              1,
              "#f0f921"
             ]
            ],
            "type": "surface"
           }
          ],
          "table": [
           {
            "cells": {
             "fill": {
              "color": "#EBF0F8"
             },
             "line": {
              "color": "white"
             }
            },
            "header": {
             "fill": {
              "color": "#C8D4E3"
             },
             "line": {
              "color": "white"
             }
            },
            "type": "table"
           }
          ]
         },
         "layout": {
          "annotationdefaults": {
           "arrowcolor": "#2a3f5f",
           "arrowhead": 0,
           "arrowwidth": 1
          },
          "autotypenumbers": "strict",
          "coloraxis": {
           "colorbar": {
            "outlinewidth": 0,
            "ticks": ""
           }
          },
          "colorscale": {
           "diverging": [
            [
             0,
             "#8e0152"
            ],
            [
             0.1,
             "#c51b7d"
            ],
            [
             0.2,
             "#de77ae"
            ],
            [
             0.3,
             "#f1b6da"
            ],
            [
             0.4,
             "#fde0ef"
            ],
            [
             0.5,
             "#f7f7f7"
            ],
            [
             0.6,
             "#e6f5d0"
            ],
            [
             0.7,
             "#b8e186"
            ],
            [
             0.8,
             "#7fbc41"
            ],
            [
             0.9,
             "#4d9221"
            ],
            [
             1,
             "#276419"
            ]
           ],
           "sequential": [
            [
             0,
             "#0d0887"
            ],
            [
             0.1111111111111111,
             "#46039f"
            ],
            [
             0.2222222222222222,
             "#7201a8"
            ],
            [
             0.3333333333333333,
             "#9c179e"
            ],
            [
             0.4444444444444444,
             "#bd3786"
            ],
            [
             0.5555555555555556,
             "#d8576b"
            ],
            [
             0.6666666666666666,
             "#ed7953"
            ],
            [
             0.7777777777777778,
             "#fb9f3a"
            ],
            [
             0.8888888888888888,
             "#fdca26"
            ],
            [
             1,
             "#f0f921"
            ]
           ],
           "sequentialminus": [
            [
             0,
             "#0d0887"
            ],
            [
             0.1111111111111111,
             "#46039f"
            ],
            [
             0.2222222222222222,
             "#7201a8"
            ],
            [
             0.3333333333333333,
             "#9c179e"
            ],
            [
             0.4444444444444444,
             "#bd3786"
            ],
            [
             0.5555555555555556,
             "#d8576b"
            ],
            [
             0.6666666666666666,
             "#ed7953"
            ],
            [
             0.7777777777777778,
             "#fb9f3a"
            ],
            [
             0.8888888888888888,
             "#fdca26"
            ],
            [
             1,
             "#f0f921"
            ]
           ]
          },
          "colorway": [
           "#636efa",
           "#EF553B",
           "#00cc96",
           "#ab63fa",
           "#FFA15A",
           "#19d3f3",
           "#FF6692",
           "#B6E880",
           "#FF97FF",
           "#FECB52"
          ],
          "font": {
           "color": "#2a3f5f"
          },
          "geo": {
           "bgcolor": "white",
           "lakecolor": "white",
           "landcolor": "#E5ECF6",
           "showlakes": true,
           "showland": true,
           "subunitcolor": "white"
          },
          "hoverlabel": {
           "align": "left"
          },
          "hovermode": "closest",
          "mapbox": {
           "style": "light"
          },
          "paper_bgcolor": "white",
          "plot_bgcolor": "#E5ECF6",
          "polar": {
           "angularaxis": {
            "gridcolor": "white",
            "linecolor": "white",
            "ticks": ""
           },
           "bgcolor": "#E5ECF6",
           "radialaxis": {
            "gridcolor": "white",
            "linecolor": "white",
            "ticks": ""
           }
          },
          "scene": {
           "xaxis": {
            "backgroundcolor": "#E5ECF6",
            "gridcolor": "white",
            "gridwidth": 2,
            "linecolor": "white",
            "showbackground": true,
            "ticks": "",
            "zerolinecolor": "white"
           },
           "yaxis": {
            "backgroundcolor": "#E5ECF6",
            "gridcolor": "white",
            "gridwidth": 2,
            "linecolor": "white",
            "showbackground": true,
            "ticks": "",
            "zerolinecolor": "white"
           },
           "zaxis": {
            "backgroundcolor": "#E5ECF6",
            "gridcolor": "white",
            "gridwidth": 2,
            "linecolor": "white",
            "showbackground": true,
            "ticks": "",
            "zerolinecolor": "white"
           }
          },
          "shapedefaults": {
           "line": {
            "color": "#2a3f5f"
           }
          },
          "ternary": {
           "aaxis": {
            "gridcolor": "white",
            "linecolor": "white",
            "ticks": ""
           },
           "baxis": {
            "gridcolor": "white",
            "linecolor": "white",
            "ticks": ""
           },
           "bgcolor": "#E5ECF6",
           "caxis": {
            "gridcolor": "white",
            "linecolor": "white",
            "ticks": ""
           }
          },
          "title": {
           "x": 0.05
          },
          "xaxis": {
           "automargin": true,
           "gridcolor": "white",
           "linecolor": "white",
           "ticks": "",
           "title": {
            "standoff": 15
           },
           "zerolinecolor": "white",
           "zerolinewidth": 2
          },
          "yaxis": {
           "automargin": true,
           "gridcolor": "white",
           "linecolor": "white",
           "ticks": "",
           "title": {
            "standoff": 15
           },
           "zerolinecolor": "white",
           "zerolinewidth": 2
          }
         }
        },
        "title": {
         "text": "Response Time by Median Household Income for Census Tracts, Davidson County 2017-2021"
        },
        "xaxis": {
         "anchor": "y",
         "domain": [
          0,
          1
         ],
         "title": {
          "text": "median_household_income"
         }
        },
        "yaxis": {
         "anchor": "x",
         "domain": [
          0,
          1
         ],
         "title": {
          "text": "avg_response_time"
         }
        }
       }
      },
      "text/html": [
       "<div>                            <div id=\"0f25b952-d1b7-403b-ab54-e15bf9826136\" class=\"plotly-graph-div\" style=\"height:525px; width:100%;\"></div>            <script type=\"text/javascript\">                require([\"plotly\"], function(Plotly) {                    window.PLOTLYENV=window.PLOTLYENV || {};                                    if (document.getElementById(\"0f25b952-d1b7-403b-ab54-e15bf9826136\")) {                    Plotly.newPlot(                        \"0f25b952-d1b7-403b-ab54-e15bf9826136\",                        [{\"hovertemplate\":\"median_household_income=%{x}<br>avg_response_time=%{y}<extra></extra>\",\"legendgroup\":\"\",\"marker\":{\"color\":\"#636efa\",\"symbol\":\"circle\"},\"mode\":\"markers\",\"name\":\"\",\"orientation\":\"v\",\"showlegend\":false,\"x\":[51596.0,51106.0,67250.0,49878.0,34688.0,23821.0,40094.0,38869.0,14083.0,50217.0,40625.0,79954.0,27336.0,37178.0,183750.0,24082.0,62021.0,53806.0,47727.0,66090.0,54724.0,47470.0,61404.0,32237.0,91528.0,107555.0,59565.0,59244.0,28896.0,52207.0,52835.0,55036.0,31406.0,63488.0,125000.0,35417.0,36304.0,45543.0,40694.0,34559.0,56182.0,58134.0,40188.0,14013.0,57971.0,62994.0,75536.0,60000.0,52426.0,38679.0,30081.0,37917.0,36102.0,67953.0,44535.0,28882.0,73125.0,90082.0,60066.0,24122.0,42065.0,48040.0,52792.0,22101.0,52213.0,32832.0,47450.0,41326.0,35721.0,177692.0,52540.0,25292.0,37598.0,55036.0,115399.0,43878.0,58306.0,87083.0,68142.0,58563.0,22260.0,60156.0,31449.0,37134.0,40982.0,61635.0,58393.0,null,32500.0,48615.0,79811.0,102700.0,69710.0,87798.0,59688.0,104107.0,46736.0,56620.0,39740.0,30929.0,43255.0,59125.0,42383.0,28564.0,58352.0,9355.0,50125.0,31493.0,42208.0,96696.0,30933.0,50303.0,40203.0,58105.0,88009.0,46545.0,47845.0,29006.0,62342.0,84063.0,33909.0,133360.0,39700.0,116250.0,42083.0,65227.0,48136.0,63711.0,61431.0,18480.0,63409.0,34425.0,69490.0,23942.0,52674.0,48391.0,45478.0,75074.0,27066.0,44968.0,37384.0,41920.0,56480.0,null,40028.0,150707.0,71657.0,38115.0,44083.0,30313.0,94595.0,24794.0,53150.0,34384.0,53516.0,null,94331.0,45625.0,36855.0,95571.0,23611.0],\"xaxis\":\"x\",\"y\":[336.6775956284153,392.2,639.9289099526067,413.8970976253298,337.46315789473687,343.90845070422534,403.3207547169811,377.4945848375451,426.2622309197652,506.2486486486487,397.247619047619,342.8245614035088,381.283105022831,415.08053691275165,513.1833333333333,404.9782608695652,246.04109589041096,311.0698924731183,274.52272727272725,382.125,368.5692307692308,247.34883720930236,264.5217391304348,286.4347826086956,400.4852941176471,457.71875,339.1875,357.5594713656388,375.1241217798595,372.95211267605634,218.0,348.8513513513513,290.258064516129,525.8956228956229,407.55555555555554,310.2708333333333,435.0614754098361,429.14722222222224,367.09580838323353,404.17471264367816,416.0079365079365,373.7714285714285,383.6575342465753,359.68981481481484,600.0677966101695,426.3877551020408,317.44642857142856,630.8415841584158,300.89473684210526,379.9160839160839,381.9090909090909,252.49693251533745,392.8523489932886,515.2967479674796,443.54852320675104,308.5217391304348,383.01666666666665,386.5857142857143,314.9942903752039,308.64054054054054,403.8528610354224,423.8928571428572,394.0194174757282,295.31,351.95,395.5157068062827,528.156862745098,383.71014492753625,405.18367346938777,525.6027397260274,518.2647058823529,333.64912280701753,372.7011494252874,368.9325842696629,508.7916666666667,353.20652173913044,452.38483146067415,341.4803149606299,569.0920770877945,586.1904761904761,338.6793893129771,598.314606741573,389.30272108843536,354.32142857142856,458.2314814814815,577.2447257383966,521.4477611940298,389.3076923076923,262.6,466.16541353383457,632.3542857142858,244.3203125,533.3709677419355,396.73333333333335,372.1428571428572,518.8085106382979,441.7914691943128,443.60483870967744,350.697247706422,297.5394736842105,462.8490566037736,467.5384615384616,364.31111111111113,334.13963039014374,387.0642857142857,371.48521739130433,442.10927835051547,293.6640625,380.5033112582781,451.0,407.6756756756757,422.9333333333333,297.0272727272727,474.0,639.0377358490566,428.88793103448273,380.4224137931034,357.984496124031,485.6714285714286,512.3,310.587962962963,426.7450980392157,342.31052631578945,486.9072164948454,356.5846153846154,599.4285714285714,315.73298429319374,472.6010638297872,405.1830985915493,330.3380281690141,459.6571428571429,358.2287581699346,432.94685990338166,271.14772727272725,317.11304347826086,414.8344827586207,354.4871794871795,506.9166666666667,353.5561643835616,338.3809523809524,426.8360655737705,409.2705314009662,386.7944444444444,422.874213836478,344.75,507.288961038961,326.1025641025641,392.00387596899225,337.38461538461536,251.9240506329114,371.5441176470589,335.6575342465753,315.2156862745098,344.58649789029533,493.3018867924528,356.68275862068964,375.2014925373134,374.9868421052632,420.9009009009009,539.5454545454545,358.0923076923077],\"yaxis\":\"y\",\"type\":\"scatter\"},{\"hovertemplate\":\"<b>OLS trendline</b><br>avg_response_time = 0.00129474 * median_household_income + 329.572<br>R<sup>2</sup>=0.167274<br><br>median_household_income=%{x}<br>avg_response_time=%{y} <b>(trend)</b><extra></extra>\",\"legendgroup\":\"\",\"marker\":{\"color\":\"#636efa\",\"symbol\":\"circle\"},\"mode\":\"lines\",\"name\":\"\",\"showlegend\":false,\"x\":[9355.0,14013.0,14083.0,18480.0,22101.0,22260.0,23611.0,23821.0,23942.0,24082.0,24122.0,24794.0,25292.0,27066.0,27336.0,28564.0,28882.0,28896.0,29006.0,30081.0,30313.0,30929.0,30933.0,31406.0,31449.0,31493.0,32237.0,32500.0,32832.0,33909.0,34384.0,34425.0,34559.0,34688.0,35417.0,35721.0,36102.0,36304.0,36855.0,37134.0,37178.0,37384.0,37598.0,37917.0,38115.0,38679.0,38869.0,39700.0,39740.0,40028.0,40094.0,40188.0,40203.0,40625.0,40694.0,40982.0,41326.0,41920.0,42065.0,42083.0,42208.0,42383.0,43255.0,43878.0,44083.0,44535.0,44968.0,45478.0,45543.0,45625.0,46545.0,46736.0,47450.0,47470.0,47727.0,47845.0,48040.0,48136.0,48391.0,48615.0,49878.0,50125.0,50217.0,50303.0,51106.0,51596.0,52207.0,52213.0,52426.0,52540.0,52674.0,52792.0,52835.0,53150.0,53516.0,53806.0,54724.0,55036.0,55036.0,56182.0,56480.0,56620.0,57971.0,58105.0,58134.0,58306.0,58352.0,58393.0,58563.0,59125.0,59244.0,59565.0,59688.0,60000.0,60066.0,60156.0,61404.0,61431.0,61635.0,62021.0,62342.0,62994.0,63409.0,63488.0,63711.0,65227.0,66090.0,67250.0,67953.0,68142.0,69490.0,69710.0,71657.0,73125.0,75074.0,75536.0,79811.0,79954.0,84063.0,87083.0,87798.0,88009.0,90082.0,91528.0,94331.0,94595.0,95571.0,96696.0,102700.0,104107.0,107555.0,115399.0,116250.0,125000.0,133360.0,150707.0,177692.0,183750.0],\"xaxis\":\"x\",\"y\":[341.6838952348086,347.7147960826661,347.80542791163776,353.4984015114723,358.18665655013524,358.3925202759423,360.1417145750955,360.4136100620105,360.57027365209007,360.7515373100334,360.8033269265886,361.67339248471666,362.31817321082934,364.6150427050542,364.96462261680205,366.5545638450478,366.966291296662,366.9844176624563,367.1268391079832,368.51868505290525,368.8190648289256,369.6166249238763,369.6218038855318,370.23421610129753,370.2898899390944,370.3468585173051,371.31014538523254,371.6506621140833,372.08051593149173,373.47495135724154,374.08995305383496,374.1430374108041,374.3165326262641,374.4835541396548,375.42741990137404,375.82102098719383,376.3143170848825,376.5758546484864,377.28925661653483,377.6504891920076,377.70745777021835,377.97417429547784,378.2512487440484,378.6642709360764,378.9206295380248,379.65086313145366,379.8968638100911,380.97279309402614,381.0245827105814,381.39746794977907,381.48292081709525,381.60462641600003,381.62404752220823,382.170427976866,382.2597650654238,382.6326503046215,383.07804100699656,383.8471168128418,384.0348541728546,384.05815950030444,384.22000205203955,384.4465816244687,385.5755952653729,386.38221854322074,386.64764032806636,387.2328629951405,387.793485594351,388.4538032054303,388.53796133233254,388.6441300462708,389.83529122704124,390.0825866460925,391.00703130160355,391.03292610988115,391.36567439624855,391.5184537650865,391.7709281457933,391.89522322552585,392.22538203106546,392.5154038837748,394.15066102650644,394.47046190873505,394.5895780268121,394.70092570240587,395.7406022547523,396.37502505755396,397.1661114504352,397.17387989291854,397.44965960107515,397.5972600082576,397.77075522371763,397.9235345925556,397.97920843035246,398.387051660725,398.86092665220536,399.23640137223083,400.42497307217354,400.8289320813044,400.8289320813044,402.312704595612,402.6985372389485,402.8798008968919,404.628995196045,404.80249041150506,404.84003788350765,405.06273323469514,405.12229129373367,405.1753756507028,405.39548152106255,406.1231256336637,406.2771997429155,406.6928114157713,406.8520644866786,407.2560234958095,407.3414763631256,407.4580030003749,409.07383903689833,409.1087970280731,409.3729240725048,409.87269387226286,410.28830554511865,411.132476294969,411.66979356672965,411.77207805942624,412.0608051717217,414.0236316391652,415.1409926163445,416.6428914964464,417.5530940074047,417.7977999456282,419.5431100235397,419.82795291459354,422.34881250041974,424.249491427997,426.772940494651,427.371110565864,432.90612583520505,433.09127371439,438.4113620750269,442.32147812494736,443.24721752087225,443.52040774820114,446.2044046261763,448.07659926464817,451.7057566447565,452.04756811402103,453.31123475796886,454.7678177235849,462.54143916852615,464.3631389308567,468.8274038779182,478.9833476844004,480.0851717766131,491.41415039807146,502.23818025811624,524.6980422177091,559.6366122862867,567.4801497135775],\"yaxis\":\"y\",\"type\":\"scatter\"}],                        {\"template\":{\"data\":{\"histogram2dcontour\":[{\"type\":\"histogram2dcontour\",\"colorbar\":{\"outlinewidth\":0,\"ticks\":\"\"},\"colorscale\":[[0.0,\"#0d0887\"],[0.1111111111111111,\"#46039f\"],[0.2222222222222222,\"#7201a8\"],[0.3333333333333333,\"#9c179e\"],[0.4444444444444444,\"#bd3786\"],[0.5555555555555556,\"#d8576b\"],[0.6666666666666666,\"#ed7953\"],[0.7777777777777778,\"#fb9f3a\"],[0.8888888888888888,\"#fdca26\"],[1.0,\"#f0f921\"]]}],\"choropleth\":[{\"type\":\"choropleth\",\"colorbar\":{\"outlinewidth\":0,\"ticks\":\"\"}}],\"histogram2d\":[{\"type\":\"histogram2d\",\"colorbar\":{\"outlinewidth\":0,\"ticks\":\"\"},\"colorscale\":[[0.0,\"#0d0887\"],[0.1111111111111111,\"#46039f\"],[0.2222222222222222,\"#7201a8\"],[0.3333333333333333,\"#9c179e\"],[0.4444444444444444,\"#bd3786\"],[0.5555555555555556,\"#d8576b\"],[0.6666666666666666,\"#ed7953\"],[0.7777777777777778,\"#fb9f3a\"],[0.8888888888888888,\"#fdca26\"],[1.0,\"#f0f921\"]]}],\"heatmap\":[{\"type\":\"heatmap\",\"colorbar\":{\"outlinewidth\":0,\"ticks\":\"\"},\"colorscale\":[[0.0,\"#0d0887\"],[0.1111111111111111,\"#46039f\"],[0.2222222222222222,\"#7201a8\"],[0.3333333333333333,\"#9c179e\"],[0.4444444444444444,\"#bd3786\"],[0.5555555555555556,\"#d8576b\"],[0.6666666666666666,\"#ed7953\"],[0.7777777777777778,\"#fb9f3a\"],[0.8888888888888888,\"#fdca26\"],[1.0,\"#f0f921\"]]}],\"heatmapgl\":[{\"type\":\"heatmapgl\",\"colorbar\":{\"outlinewidth\":0,\"ticks\":\"\"},\"colorscale\":[[0.0,\"#0d0887\"],[0.1111111111111111,\"#46039f\"],[0.2222222222222222,\"#7201a8\"],[0.3333333333333333,\"#9c179e\"],[0.4444444444444444,\"#bd3786\"],[0.5555555555555556,\"#d8576b\"],[0.6666666666666666,\"#ed7953\"],[0.7777777777777778,\"#fb9f3a\"],[0.8888888888888888,\"#fdca26\"],[1.0,\"#f0f921\"]]}],\"contourcarpet\":[{\"type\":\"contourcarpet\",\"colorbar\":{\"outlinewidth\":0,\"ticks\":\"\"}}],\"contour\":[{\"type\":\"contour\",\"colorbar\":{\"outlinewidth\":0,\"ticks\":\"\"},\"colorscale\":[[0.0,\"#0d0887\"],[0.1111111111111111,\"#46039f\"],[0.2222222222222222,\"#7201a8\"],[0.3333333333333333,\"#9c179e\"],[0.4444444444444444,\"#bd3786\"],[0.5555555555555556,\"#d8576b\"],[0.6666666666666666,\"#ed7953\"],[0.7777777777777778,\"#fb9f3a\"],[0.8888888888888888,\"#fdca26\"],[1.0,\"#f0f921\"]]}],\"surface\":[{\"type\":\"surface\",\"colorbar\":{\"outlinewidth\":0,\"ticks\":\"\"},\"colorscale\":[[0.0,\"#0d0887\"],[0.1111111111111111,\"#46039f\"],[0.2222222222222222,\"#7201a8\"],[0.3333333333333333,\"#9c179e\"],[0.4444444444444444,\"#bd3786\"],[0.5555555555555556,\"#d8576b\"],[0.6666666666666666,\"#ed7953\"],[0.7777777777777778,\"#fb9f3a\"],[0.8888888888888888,\"#fdca26\"],[1.0,\"#f0f921\"]]}],\"mesh3d\":[{\"type\":\"mesh3d\",\"colorbar\":{\"outlinewidth\":0,\"ticks\":\"\"}}],\"scatter\":[{\"fillpattern\":{\"fillmode\":\"overlay\",\"size\":10,\"solidity\":0.2},\"type\":\"scatter\"}],\"parcoords\":[{\"type\":\"parcoords\",\"line\":{\"colorbar\":{\"outlinewidth\":0,\"ticks\":\"\"}}}],\"scatterpolargl\":[{\"type\":\"scatterpolargl\",\"marker\":{\"colorbar\":{\"outlinewidth\":0,\"ticks\":\"\"}}}],\"bar\":[{\"error_x\":{\"color\":\"#2a3f5f\"},\"error_y\":{\"color\":\"#2a3f5f\"},\"marker\":{\"line\":{\"color\":\"#E5ECF6\",\"width\":0.5},\"pattern\":{\"fillmode\":\"overlay\",\"size\":10,\"solidity\":0.2}},\"type\":\"bar\"}],\"scattergeo\":[{\"type\":\"scattergeo\",\"marker\":{\"colorbar\":{\"outlinewidth\":0,\"ticks\":\"\"}}}],\"scatterpolar\":[{\"type\":\"scatterpolar\",\"marker\":{\"colorbar\":{\"outlinewidth\":0,\"ticks\":\"\"}}}],\"histogram\":[{\"marker\":{\"pattern\":{\"fillmode\":\"overlay\",\"size\":10,\"solidity\":0.2}},\"type\":\"histogram\"}],\"scattergl\":[{\"type\":\"scattergl\",\"marker\":{\"colorbar\":{\"outlinewidth\":0,\"ticks\":\"\"}}}],\"scatter3d\":[{\"type\":\"scatter3d\",\"line\":{\"colorbar\":{\"outlinewidth\":0,\"ticks\":\"\"}},\"marker\":{\"colorbar\":{\"outlinewidth\":0,\"ticks\":\"\"}}}],\"scattermapbox\":[{\"type\":\"scattermapbox\",\"marker\":{\"colorbar\":{\"outlinewidth\":0,\"ticks\":\"\"}}}],\"scatterternary\":[{\"type\":\"scatterternary\",\"marker\":{\"colorbar\":{\"outlinewidth\":0,\"ticks\":\"\"}}}],\"scattercarpet\":[{\"type\":\"scattercarpet\",\"marker\":{\"colorbar\":{\"outlinewidth\":0,\"ticks\":\"\"}}}],\"carpet\":[{\"aaxis\":{\"endlinecolor\":\"#2a3f5f\",\"gridcolor\":\"white\",\"linecolor\":\"white\",\"minorgridcolor\":\"white\",\"startlinecolor\":\"#2a3f5f\"},\"baxis\":{\"endlinecolor\":\"#2a3f5f\",\"gridcolor\":\"white\",\"linecolor\":\"white\",\"minorgridcolor\":\"white\",\"startlinecolor\":\"#2a3f5f\"},\"type\":\"carpet\"}],\"table\":[{\"cells\":{\"fill\":{\"color\":\"#EBF0F8\"},\"line\":{\"color\":\"white\"}},\"header\":{\"fill\":{\"color\":\"#C8D4E3\"},\"line\":{\"color\":\"white\"}},\"type\":\"table\"}],\"barpolar\":[{\"marker\":{\"line\":{\"color\":\"#E5ECF6\",\"width\":0.5},\"pattern\":{\"fillmode\":\"overlay\",\"size\":10,\"solidity\":0.2}},\"type\":\"barpolar\"}],\"pie\":[{\"automargin\":true,\"type\":\"pie\"}]},\"layout\":{\"autotypenumbers\":\"strict\",\"colorway\":[\"#636efa\",\"#EF553B\",\"#00cc96\",\"#ab63fa\",\"#FFA15A\",\"#19d3f3\",\"#FF6692\",\"#B6E880\",\"#FF97FF\",\"#FECB52\"],\"font\":{\"color\":\"#2a3f5f\"},\"hovermode\":\"closest\",\"hoverlabel\":{\"align\":\"left\"},\"paper_bgcolor\":\"white\",\"plot_bgcolor\":\"#E5ECF6\",\"polar\":{\"bgcolor\":\"#E5ECF6\",\"angularaxis\":{\"gridcolor\":\"white\",\"linecolor\":\"white\",\"ticks\":\"\"},\"radialaxis\":{\"gridcolor\":\"white\",\"linecolor\":\"white\",\"ticks\":\"\"}},\"ternary\":{\"bgcolor\":\"#E5ECF6\",\"aaxis\":{\"gridcolor\":\"white\",\"linecolor\":\"white\",\"ticks\":\"\"},\"baxis\":{\"gridcolor\":\"white\",\"linecolor\":\"white\",\"ticks\":\"\"},\"caxis\":{\"gridcolor\":\"white\",\"linecolor\":\"white\",\"ticks\":\"\"}},\"coloraxis\":{\"colorbar\":{\"outlinewidth\":0,\"ticks\":\"\"}},\"colorscale\":{\"sequential\":[[0.0,\"#0d0887\"],[0.1111111111111111,\"#46039f\"],[0.2222222222222222,\"#7201a8\"],[0.3333333333333333,\"#9c179e\"],[0.4444444444444444,\"#bd3786\"],[0.5555555555555556,\"#d8576b\"],[0.6666666666666666,\"#ed7953\"],[0.7777777777777778,\"#fb9f3a\"],[0.8888888888888888,\"#fdca26\"],[1.0,\"#f0f921\"]],\"sequentialminus\":[[0.0,\"#0d0887\"],[0.1111111111111111,\"#46039f\"],[0.2222222222222222,\"#7201a8\"],[0.3333333333333333,\"#9c179e\"],[0.4444444444444444,\"#bd3786\"],[0.5555555555555556,\"#d8576b\"],[0.6666666666666666,\"#ed7953\"],[0.7777777777777778,\"#fb9f3a\"],[0.8888888888888888,\"#fdca26\"],[1.0,\"#f0f921\"]],\"diverging\":[[0,\"#8e0152\"],[0.1,\"#c51b7d\"],[0.2,\"#de77ae\"],[0.3,\"#f1b6da\"],[0.4,\"#fde0ef\"],[0.5,\"#f7f7f7\"],[0.6,\"#e6f5d0\"],[0.7,\"#b8e186\"],[0.8,\"#7fbc41\"],[0.9,\"#4d9221\"],[1,\"#276419\"]]},\"xaxis\":{\"gridcolor\":\"white\",\"linecolor\":\"white\",\"ticks\":\"\",\"title\":{\"standoff\":15},\"zerolinecolor\":\"white\",\"automargin\":true,\"zerolinewidth\":2},\"yaxis\":{\"gridcolor\":\"white\",\"linecolor\":\"white\",\"ticks\":\"\",\"title\":{\"standoff\":15},\"zerolinecolor\":\"white\",\"automargin\":true,\"zerolinewidth\":2},\"scene\":{\"xaxis\":{\"backgroundcolor\":\"#E5ECF6\",\"gridcolor\":\"white\",\"linecolor\":\"white\",\"showbackground\":true,\"ticks\":\"\",\"zerolinecolor\":\"white\",\"gridwidth\":2},\"yaxis\":{\"backgroundcolor\":\"#E5ECF6\",\"gridcolor\":\"white\",\"linecolor\":\"white\",\"showbackground\":true,\"ticks\":\"\",\"zerolinecolor\":\"white\",\"gridwidth\":2},\"zaxis\":{\"backgroundcolor\":\"#E5ECF6\",\"gridcolor\":\"white\",\"linecolor\":\"white\",\"showbackground\":true,\"ticks\":\"\",\"zerolinecolor\":\"white\",\"gridwidth\":2}},\"shapedefaults\":{\"line\":{\"color\":\"#2a3f5f\"}},\"annotationdefaults\":{\"arrowcolor\":\"#2a3f5f\",\"arrowhead\":0,\"arrowwidth\":1},\"geo\":{\"bgcolor\":\"white\",\"landcolor\":\"#E5ECF6\",\"subunitcolor\":\"white\",\"showland\":true,\"showlakes\":true,\"lakecolor\":\"white\"},\"title\":{\"x\":0.05},\"mapbox\":{\"style\":\"light\"}}},\"xaxis\":{\"anchor\":\"y\",\"domain\":[0.0,1.0],\"title\":{\"text\":\"median_household_income\"}},\"yaxis\":{\"anchor\":\"x\",\"domain\":[0.0,1.0],\"title\":{\"text\":\"avg_response_time\"}},\"legend\":{\"tracegroupgap\":0},\"title\":{\"text\":\"Response Time by Median Household Income for Census Tracts, Davidson County 2017-2021\"}},                        {\"responsive\": true}                    ).then(function(){\n",
       "                            \n",
       "var gd = document.getElementById('0f25b952-d1b7-403b-ab54-e15bf9826136');\n",
       "var x = new MutationObserver(function (mutations, observer) {{\n",
       "        var display = window.getComputedStyle(gd).display;\n",
       "        if (!display || display === 'none') {{\n",
       "            console.log([gd, 'removed!']);\n",
       "            Plotly.purge(gd);\n",
       "            observer.disconnect();\n",
       "        }}\n",
       "}});\n",
       "\n",
       "// Listen for the removal of the full notebook cells\n",
       "var notebookContainer = gd.closest('#notebook-container');\n",
       "if (notebookContainer) {{\n",
       "    x.observe(notebookContainer, {childList: true});\n",
       "}}\n",
       "\n",
       "// Listen for the clearing of the current output cell\n",
       "var outputEl = gd.closest('.output');\n",
       "if (outputEl) {{\n",
       "    x.observe(outputEl, {childList: true});\n",
       "}}\n",
       "\n",
       "                        })                };                });            </script>        </div>"
      ]
     },
     "metadata": {},
     "output_type": "display_data"
    }
   ],
   "source": [
    "fig = px.scatter(res_dem_gdf, x='median_household_income', y='avg_response_time', trendline='ols',\n",
    "    title=\"Response Time by Median Household Income for Census Tracts, Davidson County 2017-2021\")\n",
    "fig.show()\n",
    "fig.write_html('response_time_by_median_household_income.html')"
   ]
  },
  {
   "cell_type": "code",
   "execution_count": 25,
   "id": "8d66b9f8",
   "metadata": {
    "colab": {
     "base_uri": "https://localhost:8080/",
     "height": 542
    },
    "id": "8d66b9f8",
    "outputId": "43b50830-4f5d-471c-944f-0462803a5e27"
   },
   "outputs": [
    {
     "data": {
      "application/vnd.plotly.v1+json": {
       "config": {
        "plotlyServerURL": "https://plot.ly"
       },
       "data": [
        {
         "hovertemplate": "median_housing_value=%{x}<br>avg_response_time=%{y}<extra></extra>",
         "legendgroup": "",
         "marker": {
          "color": "#636efa",
          "symbol": "circle"
         },
         "mode": "markers",
         "name": "",
         "orientation": "v",
         "showlegend": false,
         "type": "scatter",
         "x": [
          137000,
          163700,
          201500,
          137200,
          112200,
          136100,
          134100,
          160800,
          120300,
          139800,
          109300,
          421100,
          108100,
          145300,
          815700,
          116400,
          211600,
          265600,
          168600,
          312400,
          438800,
          187200,
          144400,
          114700,
          578000,
          339600,
          239200,
          284000,
          132600,
          151100,
          135700,
          138300,
          null,
          153400,
          539700,
          148000,
          100400,
          126700,
          129800,
          121100,
          303500,
          139000,
          135200,
          61700,
          140200,
          177100,
          380200,
          197300,
          136400,
          105000,
          90600,
          112600,
          154400,
          185800,
          161100,
          161800,
          409300,
          506300,
          287800,
          112500,
          117600,
          129700,
          239900,
          142000,
          168400,
          115400,
          133900,
          126600,
          121300,
          643600,
          151900,
          119300,
          188900,
          171700,
          279500,
          166000,
          172900,
          478900,
          267200,
          216100,
          118000,
          165700,
          155900,
          148600,
          136900,
          235100,
          180000,
          null,
          365400,
          144400,
          225000,
          373000,
          315800,
          397600,
          149800,
          319700,
          136900,
          150900,
          162500,
          416700,
          122400,
          227600,
          152100,
          95700,
          148500,
          304300,
          138000,
          109100,
          142200,
          365400,
          130000,
          153500,
          162500,
          245000,
          235200,
          143700,
          119100,
          141700,
          155300,
          261300,
          105200,
          811200,
          215500,
          469100,
          165200,
          130500,
          213800,
          174000,
          158200,
          108200,
          145000,
          202600,
          393400,
          97900,
          291100,
          142600,
          263700,
          203000,
          102500,
          189000,
          123400,
          138400,
          167100,
          null,
          147200,
          632100,
          320900,
          109300,
          124800,
          82900,
          301100,
          212400,
          166800,
          123700,
          148900,
          null,
          606000,
          270000,
          104700,
          248400,
          null
         ],
         "xaxis": "x",
         "y": [
          336.6775956284153,
          392.2,
          639.9289099526067,
          413.8970976253298,
          337.46315789473687,
          343.90845070422534,
          403.3207547169811,
          377.4945848375451,
          426.2622309197652,
          506.2486486486487,
          397.247619047619,
          342.8245614035088,
          381.283105022831,
          415.08053691275165,
          513.1833333333333,
          404.9782608695652,
          246.04109589041096,
          311.0698924731183,
          274.52272727272725,
          382.125,
          368.5692307692308,
          247.34883720930236,
          264.5217391304348,
          286.4347826086956,
          400.4852941176471,
          457.71875,
          339.1875,
          357.5594713656388,
          375.1241217798595,
          372.95211267605634,
          218,
          348.8513513513513,
          290.258064516129,
          525.8956228956229,
          407.55555555555554,
          310.2708333333333,
          435.0614754098361,
          429.14722222222224,
          367.09580838323353,
          404.17471264367816,
          416.0079365079365,
          373.7714285714285,
          383.6575342465753,
          359.68981481481484,
          600.0677966101695,
          426.3877551020408,
          317.44642857142856,
          630.8415841584158,
          300.89473684210526,
          379.9160839160839,
          381.9090909090909,
          252.49693251533745,
          392.8523489932886,
          515.2967479674796,
          443.54852320675104,
          308.5217391304348,
          383.01666666666665,
          386.5857142857143,
          314.9942903752039,
          308.64054054054054,
          403.8528610354224,
          423.8928571428572,
          394.0194174757282,
          295.31,
          351.95,
          395.5157068062827,
          528.156862745098,
          383.71014492753625,
          405.18367346938777,
          525.6027397260274,
          518.2647058823529,
          333.64912280701753,
          372.7011494252874,
          368.9325842696629,
          508.7916666666667,
          353.20652173913044,
          452.38483146067415,
          341.4803149606299,
          569.0920770877945,
          586.1904761904761,
          338.6793893129771,
          598.314606741573,
          389.30272108843536,
          354.32142857142856,
          458.2314814814815,
          577.2447257383966,
          521.4477611940298,
          389.3076923076923,
          262.6,
          466.16541353383457,
          632.3542857142858,
          244.3203125,
          533.3709677419355,
          396.73333333333335,
          372.1428571428572,
          518.8085106382979,
          441.7914691943128,
          443.60483870967744,
          350.697247706422,
          297.5394736842105,
          462.8490566037736,
          467.5384615384616,
          364.31111111111113,
          334.13963039014374,
          387.0642857142857,
          371.48521739130433,
          442.10927835051547,
          293.6640625,
          380.5033112582781,
          451,
          407.6756756756757,
          422.9333333333333,
          297.0272727272727,
          474,
          639.0377358490566,
          428.88793103448273,
          380.4224137931034,
          357.984496124031,
          485.6714285714286,
          512.3,
          310.587962962963,
          426.7450980392157,
          342.31052631578945,
          486.9072164948454,
          356.5846153846154,
          599.4285714285714,
          315.73298429319374,
          472.6010638297872,
          405.1830985915493,
          330.3380281690141,
          459.6571428571429,
          358.2287581699346,
          432.94685990338166,
          271.14772727272725,
          317.11304347826086,
          414.8344827586207,
          354.4871794871795,
          506.9166666666667,
          353.5561643835616,
          338.3809523809524,
          426.8360655737705,
          409.2705314009662,
          386.7944444444444,
          422.874213836478,
          344.75,
          507.288961038961,
          326.1025641025641,
          392.00387596899225,
          337.38461538461536,
          251.9240506329114,
          371.5441176470589,
          335.6575342465753,
          315.2156862745098,
          344.58649789029533,
          493.3018867924528,
          356.68275862068964,
          375.2014925373134,
          374.9868421052632,
          420.9009009009009,
          539.5454545454545,
          358.0923076923077
         ],
         "yaxis": "y"
        },
        {
         "hovertemplate": "<b>OLS trendline</b><br>avg_response_time = 8.73511e-05 * median_housing_value + 382.324<br>R<sup>2</sup>=0.017882<br><br>median_housing_value=%{x}<br>avg_response_time=%{y} <b>(trend)</b><extra></extra>",
         "legendgroup": "",
         "marker": {
          "color": "#636efa",
          "symbol": "circle"
         },
         "mode": "lines",
         "name": "",
         "showlegend": false,
         "type": "scatter",
         "x": [
          61700,
          82900,
          90600,
          95700,
          97900,
          100400,
          102500,
          104700,
          105000,
          105200,
          108100,
          108200,
          109100,
          109300,
          109300,
          112200,
          112500,
          112600,
          114700,
          115400,
          116400,
          117600,
          118000,
          119100,
          119300,
          120300,
          121100,
          121300,
          122400,
          123400,
          123700,
          124800,
          126600,
          126700,
          129700,
          129800,
          130000,
          130500,
          132600,
          133900,
          134100,
          135200,
          135700,
          136100,
          136400,
          136900,
          136900,
          137000,
          137200,
          138000,
          138300,
          138400,
          139000,
          139800,
          140200,
          141700,
          142000,
          142200,
          142600,
          143700,
          144400,
          144400,
          145000,
          145300,
          147200,
          148000,
          148500,
          148600,
          148900,
          149800,
          150900,
          151100,
          151900,
          152100,
          153400,
          153500,
          154400,
          155300,
          155900,
          158200,
          160800,
          161100,
          161800,
          162500,
          162500,
          163700,
          165200,
          165700,
          166000,
          166800,
          167100,
          168400,
          168600,
          171700,
          172900,
          174000,
          177100,
          180000,
          185800,
          187200,
          188900,
          189000,
          197300,
          201500,
          202600,
          203000,
          211600,
          212400,
          213800,
          215500,
          216100,
          225000,
          227600,
          235100,
          235200,
          239200,
          239900,
          245000,
          248400,
          261300,
          263700,
          265600,
          267200,
          270000,
          279500,
          284000,
          287800,
          291100,
          301100,
          303500,
          304300,
          312400,
          315800,
          319700,
          320900,
          339600,
          365400,
          365400,
          373000,
          380200,
          393400,
          397600,
          409300,
          416700,
          421100,
          438800,
          469100,
          478900,
          506300,
          539700,
          578000,
          606000,
          632100,
          643600,
          811200,
          815700
         ],
         "xaxis": "x",
         "y": [
          387.7136977311699,
          389.56554071136185,
          390.23814405794104,
          390.6836345861947,
          390.87580697093165,
          391.09418468085994,
          391.2776219571997,
          391.4697943419366,
          391.495999667128,
          391.51346988392226,
          391.7667880274391,
          391.77552313583624,
          391.8541391114104,
          391.87160932820467,
          391.87160932820467,
          392.1249274717215,
          392.1511327969129,
          392.15986790531,
          392.3433051816498,
          392.40445094042974,
          392.49180202440107,
          392.59662332516666,
          392.63156375875514,
          392.7276499511236,
          392.7451201679179,
          392.8324712518892,
          392.9023521190662,
          392.9198223358605,
          393.015908528229,
          393.1032596122003,
          393.1294649373917,
          393.2255511297601,
          393.3827830809085,
          393.39151818930566,
          393.6535714412196,
          393.66230654961674,
          393.679776766411,
          393.72345230839665,
          393.9068895847364,
          394.02044599389916,
          394.0379162106934,
          394.13400240306186,
          394.1776779450475,
          394.212618378636,
          394.23882370382745,
          394.2824992458131,
          394.2824992458131,
          394.29123435421025,
          394.3087045710045,
          394.3785854381815,
          394.40479076337294,
          394.41352587177005,
          394.46593652215284,
          394.5358173893299,
          394.57075782291844,
          394.7017844488754,
          394.7279897740668,
          394.7454599908611,
          394.7804004244496,
          394.87648661681806,
          394.937632375598,
          394.937632375598,
          394.99004302598075,
          395.0162483511722,
          395.1822154107177,
          395.25209627789474,
          395.2957718198804,
          395.30450692827753,
          395.3307122534689,
          395.4093282290431,
          395.50541442141156,
          395.5228846382058,
          395.5927655053829,
          395.61023572217715,
          395.72379213133985,
          395.732527239737,
          395.8111432153112,
          395.88975919088534,
          395.94216984126814,
          396.14307733440216,
          396.3701901527276,
          396.39639547791904,
          396.45754123669894,
          396.51868699547884,
          396.51868699547884,
          396.62350829624444,
          396.7545349222014,
          396.7982104641871,
          396.82441578937846,
          396.8942966565555,
          396.92050198174695,
          397.03405839090965,
          397.0515286077039,
          397.322316968015,
          397.4271382687806,
          397.523224461149,
          397.7940128214601,
          398.04733096497694,
          398.5539672520106,
          398.67625876957044,
          398.82475561232167,
          398.8334907207188,
          399.55850471768076,
          399.9253792703603,
          400.02146546272877,
          400.0564058963173,
          400.80762521847066,
          400.87750608564767,
          400.9997976032075,
          401.14829444595875,
          401.20070509634155,
          401.9781297436863,
          402.20524256201173,
          402.86037569179666,
          402.86911080019377,
          403.218515136079,
          403.279660894859,
          403.7251514231127,
          404.0221451086152,
          405.1489740918452,
          405.35861669337635,
          405.5245837529219,
          405.66434548727597,
          405.9089285223957,
          406.7387638201232,
          407.13184369799416,
          407.46377781708514,
          407.7520363941905,
          408.6255472339037,
          408.83518983543485,
          408.9050707026119,
          409.6126144827796,
          409.9096081682821,
          410.25027739577024,
          410.35509869653583,
          411.98856396679946,
          414.24222193325954,
          414.24222193325954,
          414.9060901714415,
          415.535017976035,
          416.6880522844565,
          417.054926837136,
          418.07693451960046,
          418.72333254098817,
          419.107677310462,
          420.65379149675437,
          423.30052934108534,
          424.15656996400423,
          426.5499896648184,
          429.46751586946044,
          432.813062385562,
          435.2588927367589,
          437.5387560284104,
          438.5432934940805,
          453.1833351676736,
          453.57641504554454
         ],
         "yaxis": "y"
        }
       ],
       "layout": {
        "legend": {
         "tracegroupgap": 0
        },
        "template": {
         "data": {
          "bar": [
           {
            "error_x": {
             "color": "#2a3f5f"
            },
            "error_y": {
             "color": "#2a3f5f"
            },
            "marker": {
             "line": {
              "color": "#E5ECF6",
              "width": 0.5
             },
             "pattern": {
              "fillmode": "overlay",
              "size": 10,
              "solidity": 0.2
             }
            },
            "type": "bar"
           }
          ],
          "barpolar": [
           {
            "marker": {
             "line": {
              "color": "#E5ECF6",
              "width": 0.5
             },
             "pattern": {
              "fillmode": "overlay",
              "size": 10,
              "solidity": 0.2
             }
            },
            "type": "barpolar"
           }
          ],
          "carpet": [
           {
            "aaxis": {
             "endlinecolor": "#2a3f5f",
             "gridcolor": "white",
             "linecolor": "white",
             "minorgridcolor": "white",
             "startlinecolor": "#2a3f5f"
            },
            "baxis": {
             "endlinecolor": "#2a3f5f",
             "gridcolor": "white",
             "linecolor": "white",
             "minorgridcolor": "white",
             "startlinecolor": "#2a3f5f"
            },
            "type": "carpet"
           }
          ],
          "choropleth": [
           {
            "colorbar": {
             "outlinewidth": 0,
             "ticks": ""
            },
            "type": "choropleth"
           }
          ],
          "contour": [
           {
            "colorbar": {
             "outlinewidth": 0,
             "ticks": ""
            },
            "colorscale": [
             [
              0,
              "#0d0887"
             ],
             [
              0.1111111111111111,
              "#46039f"
             ],
             [
              0.2222222222222222,
              "#7201a8"
             ],
             [
              0.3333333333333333,
              "#9c179e"
             ],
             [
              0.4444444444444444,
              "#bd3786"
             ],
             [
              0.5555555555555556,
              "#d8576b"
             ],
             [
              0.6666666666666666,
              "#ed7953"
             ],
             [
              0.7777777777777778,
              "#fb9f3a"
             ],
             [
              0.8888888888888888,
              "#fdca26"
             ],
             [
              1,
              "#f0f921"
             ]
            ],
            "type": "contour"
           }
          ],
          "contourcarpet": [
           {
            "colorbar": {
             "outlinewidth": 0,
             "ticks": ""
            },
            "type": "contourcarpet"
           }
          ],
          "heatmap": [
           {
            "colorbar": {
             "outlinewidth": 0,
             "ticks": ""
            },
            "colorscale": [
             [
              0,
              "#0d0887"
             ],
             [
              0.1111111111111111,
              "#46039f"
             ],
             [
              0.2222222222222222,
              "#7201a8"
             ],
             [
              0.3333333333333333,
              "#9c179e"
             ],
             [
              0.4444444444444444,
              "#bd3786"
             ],
             [
              0.5555555555555556,
              "#d8576b"
             ],
             [
              0.6666666666666666,
              "#ed7953"
             ],
             [
              0.7777777777777778,
              "#fb9f3a"
             ],
             [
              0.8888888888888888,
              "#fdca26"
             ],
             [
              1,
              "#f0f921"
             ]
            ],
            "type": "heatmap"
           }
          ],
          "heatmapgl": [
           {
            "colorbar": {
             "outlinewidth": 0,
             "ticks": ""
            },
            "colorscale": [
             [
              0,
              "#0d0887"
             ],
             [
              0.1111111111111111,
              "#46039f"
             ],
             [
              0.2222222222222222,
              "#7201a8"
             ],
             [
              0.3333333333333333,
              "#9c179e"
             ],
             [
              0.4444444444444444,
              "#bd3786"
             ],
             [
              0.5555555555555556,
              "#d8576b"
             ],
             [
              0.6666666666666666,
              "#ed7953"
             ],
             [
              0.7777777777777778,
              "#fb9f3a"
             ],
             [
              0.8888888888888888,
              "#fdca26"
             ],
             [
              1,
              "#f0f921"
             ]
            ],
            "type": "heatmapgl"
           }
          ],
          "histogram": [
           {
            "marker": {
             "pattern": {
              "fillmode": "overlay",
              "size": 10,
              "solidity": 0.2
             }
            },
            "type": "histogram"
           }
          ],
          "histogram2d": [
           {
            "colorbar": {
             "outlinewidth": 0,
             "ticks": ""
            },
            "colorscale": [
             [
              0,
              "#0d0887"
             ],
             [
              0.1111111111111111,
              "#46039f"
             ],
             [
              0.2222222222222222,
              "#7201a8"
             ],
             [
              0.3333333333333333,
              "#9c179e"
             ],
             [
              0.4444444444444444,
              "#bd3786"
             ],
             [
              0.5555555555555556,
              "#d8576b"
             ],
             [
              0.6666666666666666,
              "#ed7953"
             ],
             [
              0.7777777777777778,
              "#fb9f3a"
             ],
             [
              0.8888888888888888,
              "#fdca26"
             ],
             [
              1,
              "#f0f921"
             ]
            ],
            "type": "histogram2d"
           }
          ],
          "histogram2dcontour": [
           {
            "colorbar": {
             "outlinewidth": 0,
             "ticks": ""
            },
            "colorscale": [
             [
              0,
              "#0d0887"
             ],
             [
              0.1111111111111111,
              "#46039f"
             ],
             [
              0.2222222222222222,
              "#7201a8"
             ],
             [
              0.3333333333333333,
              "#9c179e"
             ],
             [
              0.4444444444444444,
              "#bd3786"
             ],
             [
              0.5555555555555556,
              "#d8576b"
             ],
             [
              0.6666666666666666,
              "#ed7953"
             ],
             [
              0.7777777777777778,
              "#fb9f3a"
             ],
             [
              0.8888888888888888,
              "#fdca26"
             ],
             [
              1,
              "#f0f921"
             ]
            ],
            "type": "histogram2dcontour"
           }
          ],
          "mesh3d": [
           {
            "colorbar": {
             "outlinewidth": 0,
             "ticks": ""
            },
            "type": "mesh3d"
           }
          ],
          "parcoords": [
           {
            "line": {
             "colorbar": {
              "outlinewidth": 0,
              "ticks": ""
             }
            },
            "type": "parcoords"
           }
          ],
          "pie": [
           {
            "automargin": true,
            "type": "pie"
           }
          ],
          "scatter": [
           {
            "fillpattern": {
             "fillmode": "overlay",
             "size": 10,
             "solidity": 0.2
            },
            "type": "scatter"
           }
          ],
          "scatter3d": [
           {
            "line": {
             "colorbar": {
              "outlinewidth": 0,
              "ticks": ""
             }
            },
            "marker": {
             "colorbar": {
              "outlinewidth": 0,
              "ticks": ""
             }
            },
            "type": "scatter3d"
           }
          ],
          "scattercarpet": [
           {
            "marker": {
             "colorbar": {
              "outlinewidth": 0,
              "ticks": ""
             }
            },
            "type": "scattercarpet"
           }
          ],
          "scattergeo": [
           {
            "marker": {
             "colorbar": {
              "outlinewidth": 0,
              "ticks": ""
             }
            },
            "type": "scattergeo"
           }
          ],
          "scattergl": [
           {
            "marker": {
             "colorbar": {
              "outlinewidth": 0,
              "ticks": ""
             }
            },
            "type": "scattergl"
           }
          ],
          "scattermapbox": [
           {
            "marker": {
             "colorbar": {
              "outlinewidth": 0,
              "ticks": ""
             }
            },
            "type": "scattermapbox"
           }
          ],
          "scatterpolar": [
           {
            "marker": {
             "colorbar": {
              "outlinewidth": 0,
              "ticks": ""
             }
            },
            "type": "scatterpolar"
           }
          ],
          "scatterpolargl": [
           {
            "marker": {
             "colorbar": {
              "outlinewidth": 0,
              "ticks": ""
             }
            },
            "type": "scatterpolargl"
           }
          ],
          "scatterternary": [
           {
            "marker": {
             "colorbar": {
              "outlinewidth": 0,
              "ticks": ""
             }
            },
            "type": "scatterternary"
           }
          ],
          "surface": [
           {
            "colorbar": {
             "outlinewidth": 0,
             "ticks": ""
            },
            "colorscale": [
             [
              0,
              "#0d0887"
             ],
             [
              0.1111111111111111,
              "#46039f"
             ],
             [
              0.2222222222222222,
              "#7201a8"
             ],
             [
              0.3333333333333333,
              "#9c179e"
             ],
             [
              0.4444444444444444,
              "#bd3786"
             ],
             [
              0.5555555555555556,
              "#d8576b"
             ],
             [
              0.6666666666666666,
              "#ed7953"
             ],
             [
              0.7777777777777778,
              "#fb9f3a"
             ],
             [
              0.8888888888888888,
              "#fdca26"
             ],
             [
              1,
              "#f0f921"
             ]
            ],
            "type": "surface"
           }
          ],
          "table": [
           {
            "cells": {
             "fill": {
              "color": "#EBF0F8"
             },
             "line": {
              "color": "white"
             }
            },
            "header": {
             "fill": {
              "color": "#C8D4E3"
             },
             "line": {
              "color": "white"
             }
            },
            "type": "table"
           }
          ]
         },
         "layout": {
          "annotationdefaults": {
           "arrowcolor": "#2a3f5f",
           "arrowhead": 0,
           "arrowwidth": 1
          },
          "autotypenumbers": "strict",
          "coloraxis": {
           "colorbar": {
            "outlinewidth": 0,
            "ticks": ""
           }
          },
          "colorscale": {
           "diverging": [
            [
             0,
             "#8e0152"
            ],
            [
             0.1,
             "#c51b7d"
            ],
            [
             0.2,
             "#de77ae"
            ],
            [
             0.3,
             "#f1b6da"
            ],
            [
             0.4,
             "#fde0ef"
            ],
            [
             0.5,
             "#f7f7f7"
            ],
            [
             0.6,
             "#e6f5d0"
            ],
            [
             0.7,
             "#b8e186"
            ],
            [
             0.8,
             "#7fbc41"
            ],
            [
             0.9,
             "#4d9221"
            ],
            [
             1,
             "#276419"
            ]
           ],
           "sequential": [
            [
             0,
             "#0d0887"
            ],
            [
             0.1111111111111111,
             "#46039f"
            ],
            [
             0.2222222222222222,
             "#7201a8"
            ],
            [
             0.3333333333333333,
             "#9c179e"
            ],
            [
             0.4444444444444444,
             "#bd3786"
            ],
            [
             0.5555555555555556,
             "#d8576b"
            ],
            [
             0.6666666666666666,
             "#ed7953"
            ],
            [
             0.7777777777777778,
             "#fb9f3a"
            ],
            [
             0.8888888888888888,
             "#fdca26"
            ],
            [
             1,
             "#f0f921"
            ]
           ],
           "sequentialminus": [
            [
             0,
             "#0d0887"
            ],
            [
             0.1111111111111111,
             "#46039f"
            ],
            [
             0.2222222222222222,
             "#7201a8"
            ],
            [
             0.3333333333333333,
             "#9c179e"
            ],
            [
             0.4444444444444444,
             "#bd3786"
            ],
            [
             0.5555555555555556,
             "#d8576b"
            ],
            [
             0.6666666666666666,
             "#ed7953"
            ],
            [
             0.7777777777777778,
             "#fb9f3a"
            ],
            [
             0.8888888888888888,
             "#fdca26"
            ],
            [
             1,
             "#f0f921"
            ]
           ]
          },
          "colorway": [
           "#636efa",
           "#EF553B",
           "#00cc96",
           "#ab63fa",
           "#FFA15A",
           "#19d3f3",
           "#FF6692",
           "#B6E880",
           "#FF97FF",
           "#FECB52"
          ],
          "font": {
           "color": "#2a3f5f"
          },
          "geo": {
           "bgcolor": "white",
           "lakecolor": "white",
           "landcolor": "#E5ECF6",
           "showlakes": true,
           "showland": true,
           "subunitcolor": "white"
          },
          "hoverlabel": {
           "align": "left"
          },
          "hovermode": "closest",
          "mapbox": {
           "style": "light"
          },
          "paper_bgcolor": "white",
          "plot_bgcolor": "#E5ECF6",
          "polar": {
           "angularaxis": {
            "gridcolor": "white",
            "linecolor": "white",
            "ticks": ""
           },
           "bgcolor": "#E5ECF6",
           "radialaxis": {
            "gridcolor": "white",
            "linecolor": "white",
            "ticks": ""
           }
          },
          "scene": {
           "xaxis": {
            "backgroundcolor": "#E5ECF6",
            "gridcolor": "white",
            "gridwidth": 2,
            "linecolor": "white",
            "showbackground": true,
            "ticks": "",
            "zerolinecolor": "white"
           },
           "yaxis": {
            "backgroundcolor": "#E5ECF6",
            "gridcolor": "white",
            "gridwidth": 2,
            "linecolor": "white",
            "showbackground": true,
            "ticks": "",
            "zerolinecolor": "white"
           },
           "zaxis": {
            "backgroundcolor": "#E5ECF6",
            "gridcolor": "white",
            "gridwidth": 2,
            "linecolor": "white",
            "showbackground": true,
            "ticks": "",
            "zerolinecolor": "white"
           }
          },
          "shapedefaults": {
           "line": {
            "color": "#2a3f5f"
           }
          },
          "ternary": {
           "aaxis": {
            "gridcolor": "white",
            "linecolor": "white",
            "ticks": ""
           },
           "baxis": {
            "gridcolor": "white",
            "linecolor": "white",
            "ticks": ""
           },
           "bgcolor": "#E5ECF6",
           "caxis": {
            "gridcolor": "white",
            "linecolor": "white",
            "ticks": ""
           }
          },
          "title": {
           "x": 0.05
          },
          "xaxis": {
           "automargin": true,
           "gridcolor": "white",
           "linecolor": "white",
           "ticks": "",
           "title": {
            "standoff": 15
           },
           "zerolinecolor": "white",
           "zerolinewidth": 2
          },
          "yaxis": {
           "automargin": true,
           "gridcolor": "white",
           "linecolor": "white",
           "ticks": "",
           "title": {
            "standoff": 15
           },
           "zerolinecolor": "white",
           "zerolinewidth": 2
          }
         }
        },
        "title": {
         "text": "Response Time by Median Housing Value for Census Tracts, Davidson County 2017-2021"
        },
        "xaxis": {
         "anchor": "y",
         "domain": [
          0,
          1
         ],
         "title": {
          "text": "median_housing_value"
         }
        },
        "yaxis": {
         "anchor": "x",
         "domain": [
          0,
          1
         ],
         "title": {
          "text": "avg_response_time"
         }
        }
       }
      },
      "text/html": [
       "<div>                            <div id=\"f4d6f368-dded-4d08-b8b2-3367f8c344fc\" class=\"plotly-graph-div\" style=\"height:525px; width:100%;\"></div>            <script type=\"text/javascript\">                require([\"plotly\"], function(Plotly) {                    window.PLOTLYENV=window.PLOTLYENV || {};                                    if (document.getElementById(\"f4d6f368-dded-4d08-b8b2-3367f8c344fc\")) {                    Plotly.newPlot(                        \"f4d6f368-dded-4d08-b8b2-3367f8c344fc\",                        [{\"hovertemplate\":\"median_housing_value=%{x}<br>avg_response_time=%{y}<extra></extra>\",\"legendgroup\":\"\",\"marker\":{\"color\":\"#636efa\",\"symbol\":\"circle\"},\"mode\":\"markers\",\"name\":\"\",\"orientation\":\"v\",\"showlegend\":false,\"x\":[137000.0,163700.0,201500.0,137200.0,112200.0,136100.0,134100.0,160800.0,120300.0,139800.0,109300.0,421100.0,108100.0,145300.0,815700.0,116400.0,211600.0,265600.0,168600.0,312400.0,438800.0,187200.0,144400.0,114700.0,578000.0,339600.0,239200.0,284000.0,132600.0,151100.0,135700.0,138300.0,null,153400.0,539700.0,148000.0,100400.0,126700.0,129800.0,121100.0,303500.0,139000.0,135200.0,61700.0,140200.0,177100.0,380200.0,197300.0,136400.0,105000.0,90600.0,112600.0,154400.0,185800.0,161100.0,161800.0,409300.0,506300.0,287800.0,112500.0,117600.0,129700.0,239900.0,142000.0,168400.0,115400.0,133900.0,126600.0,121300.0,643600.0,151900.0,119300.0,188900.0,171700.0,279500.0,166000.0,172900.0,478900.0,267200.0,216100.0,118000.0,165700.0,155900.0,148600.0,136900.0,235100.0,180000.0,null,365400.0,144400.0,225000.0,373000.0,315800.0,397600.0,149800.0,319700.0,136900.0,150900.0,162500.0,416700.0,122400.0,227600.0,152100.0,95700.0,148500.0,304300.0,138000.0,109100.0,142200.0,365400.0,130000.0,153500.0,162500.0,245000.0,235200.0,143700.0,119100.0,141700.0,155300.0,261300.0,105200.0,811200.0,215500.0,469100.0,165200.0,130500.0,213800.0,174000.0,158200.0,108200.0,145000.0,202600.0,393400.0,97900.0,291100.0,142600.0,263700.0,203000.0,102500.0,189000.0,123400.0,138400.0,167100.0,null,147200.0,632100.0,320900.0,109300.0,124800.0,82900.0,301100.0,212400.0,166800.0,123700.0,148900.0,null,606000.0,270000.0,104700.0,248400.0,null],\"xaxis\":\"x\",\"y\":[336.6775956284153,392.2,639.9289099526067,413.8970976253298,337.46315789473687,343.90845070422534,403.3207547169811,377.4945848375451,426.2622309197652,506.2486486486487,397.247619047619,342.8245614035088,381.283105022831,415.08053691275165,513.1833333333333,404.9782608695652,246.04109589041096,311.0698924731183,274.52272727272725,382.125,368.5692307692308,247.34883720930236,264.5217391304348,286.4347826086956,400.4852941176471,457.71875,339.1875,357.5594713656388,375.1241217798595,372.95211267605634,218.0,348.8513513513513,290.258064516129,525.8956228956229,407.55555555555554,310.2708333333333,435.0614754098361,429.14722222222224,367.09580838323353,404.17471264367816,416.0079365079365,373.7714285714285,383.6575342465753,359.68981481481484,600.0677966101695,426.3877551020408,317.44642857142856,630.8415841584158,300.89473684210526,379.9160839160839,381.9090909090909,252.49693251533745,392.8523489932886,515.2967479674796,443.54852320675104,308.5217391304348,383.01666666666665,386.5857142857143,314.9942903752039,308.64054054054054,403.8528610354224,423.8928571428572,394.0194174757282,295.31,351.95,395.5157068062827,528.156862745098,383.71014492753625,405.18367346938777,525.6027397260274,518.2647058823529,333.64912280701753,372.7011494252874,368.9325842696629,508.7916666666667,353.20652173913044,452.38483146067415,341.4803149606299,569.0920770877945,586.1904761904761,338.6793893129771,598.314606741573,389.30272108843536,354.32142857142856,458.2314814814815,577.2447257383966,521.4477611940298,389.3076923076923,262.6,466.16541353383457,632.3542857142858,244.3203125,533.3709677419355,396.73333333333335,372.1428571428572,518.8085106382979,441.7914691943128,443.60483870967744,350.697247706422,297.5394736842105,462.8490566037736,467.5384615384616,364.31111111111113,334.13963039014374,387.0642857142857,371.48521739130433,442.10927835051547,293.6640625,380.5033112582781,451.0,407.6756756756757,422.9333333333333,297.0272727272727,474.0,639.0377358490566,428.88793103448273,380.4224137931034,357.984496124031,485.6714285714286,512.3,310.587962962963,426.7450980392157,342.31052631578945,486.9072164948454,356.5846153846154,599.4285714285714,315.73298429319374,472.6010638297872,405.1830985915493,330.3380281690141,459.6571428571429,358.2287581699346,432.94685990338166,271.14772727272725,317.11304347826086,414.8344827586207,354.4871794871795,506.9166666666667,353.5561643835616,338.3809523809524,426.8360655737705,409.2705314009662,386.7944444444444,422.874213836478,344.75,507.288961038961,326.1025641025641,392.00387596899225,337.38461538461536,251.9240506329114,371.5441176470589,335.6575342465753,315.2156862745098,344.58649789029533,493.3018867924528,356.68275862068964,375.2014925373134,374.9868421052632,420.9009009009009,539.5454545454545,358.0923076923077],\"yaxis\":\"y\",\"type\":\"scatter\"},{\"hovertemplate\":\"<b>OLS trendline</b><br>avg_response_time = 8.73511e-05 * median_housing_value + 382.324<br>R<sup>2</sup>=0.017882<br><br>median_housing_value=%{x}<br>avg_response_time=%{y} <b>(trend)</b><extra></extra>\",\"legendgroup\":\"\",\"marker\":{\"color\":\"#636efa\",\"symbol\":\"circle\"},\"mode\":\"lines\",\"name\":\"\",\"showlegend\":false,\"x\":[61700.0,82900.0,90600.0,95700.0,97900.0,100400.0,102500.0,104700.0,105000.0,105200.0,108100.0,108200.0,109100.0,109300.0,109300.0,112200.0,112500.0,112600.0,114700.0,115400.0,116400.0,117600.0,118000.0,119100.0,119300.0,120300.0,121100.0,121300.0,122400.0,123400.0,123700.0,124800.0,126600.0,126700.0,129700.0,129800.0,130000.0,130500.0,132600.0,133900.0,134100.0,135200.0,135700.0,136100.0,136400.0,136900.0,136900.0,137000.0,137200.0,138000.0,138300.0,138400.0,139000.0,139800.0,140200.0,141700.0,142000.0,142200.0,142600.0,143700.0,144400.0,144400.0,145000.0,145300.0,147200.0,148000.0,148500.0,148600.0,148900.0,149800.0,150900.0,151100.0,151900.0,152100.0,153400.0,153500.0,154400.0,155300.0,155900.0,158200.0,160800.0,161100.0,161800.0,162500.0,162500.0,163700.0,165200.0,165700.0,166000.0,166800.0,167100.0,168400.0,168600.0,171700.0,172900.0,174000.0,177100.0,180000.0,185800.0,187200.0,188900.0,189000.0,197300.0,201500.0,202600.0,203000.0,211600.0,212400.0,213800.0,215500.0,216100.0,225000.0,227600.0,235100.0,235200.0,239200.0,239900.0,245000.0,248400.0,261300.0,263700.0,265600.0,267200.0,270000.0,279500.0,284000.0,287800.0,291100.0,301100.0,303500.0,304300.0,312400.0,315800.0,319700.0,320900.0,339600.0,365400.0,365400.0,373000.0,380200.0,393400.0,397600.0,409300.0,416700.0,421100.0,438800.0,469100.0,478900.0,506300.0,539700.0,578000.0,606000.0,632100.0,643600.0,811200.0,815700.0],\"xaxis\":\"x\",\"y\":[387.7136977311699,389.56554071136185,390.23814405794104,390.6836345861947,390.87580697093165,391.09418468085994,391.2776219571997,391.4697943419366,391.495999667128,391.51346988392226,391.7667880274391,391.77552313583624,391.8541391114104,391.87160932820467,391.87160932820467,392.1249274717215,392.1511327969129,392.15986790531,392.3433051816498,392.40445094042974,392.49180202440107,392.59662332516666,392.63156375875514,392.7276499511236,392.7451201679179,392.8324712518892,392.9023521190662,392.9198223358605,393.015908528229,393.1032596122003,393.1294649373917,393.2255511297601,393.3827830809085,393.39151818930566,393.6535714412196,393.66230654961674,393.679776766411,393.72345230839665,393.9068895847364,394.02044599389916,394.0379162106934,394.13400240306186,394.1776779450475,394.212618378636,394.23882370382745,394.2824992458131,394.2824992458131,394.29123435421025,394.3087045710045,394.3785854381815,394.40479076337294,394.41352587177005,394.46593652215284,394.5358173893299,394.57075782291844,394.7017844488754,394.7279897740668,394.7454599908611,394.7804004244496,394.87648661681806,394.937632375598,394.937632375598,394.99004302598075,395.0162483511722,395.1822154107177,395.25209627789474,395.2957718198804,395.30450692827753,395.3307122534689,395.4093282290431,395.50541442141156,395.5228846382058,395.5927655053829,395.61023572217715,395.72379213133985,395.732527239737,395.8111432153112,395.88975919088534,395.94216984126814,396.14307733440216,396.3701901527276,396.39639547791904,396.45754123669894,396.51868699547884,396.51868699547884,396.62350829624444,396.7545349222014,396.7982104641871,396.82441578937846,396.8942966565555,396.92050198174695,397.03405839090965,397.0515286077039,397.322316968015,397.4271382687806,397.523224461149,397.7940128214601,398.04733096497694,398.5539672520106,398.67625876957044,398.82475561232167,398.8334907207188,399.55850471768076,399.9253792703603,400.02146546272877,400.0564058963173,400.80762521847066,400.87750608564767,400.9997976032075,401.14829444595875,401.20070509634155,401.9781297436863,402.20524256201173,402.86037569179666,402.86911080019377,403.218515136079,403.279660894859,403.7251514231127,404.0221451086152,405.1489740918452,405.35861669337635,405.5245837529219,405.66434548727597,405.9089285223957,406.7387638201232,407.13184369799416,407.46377781708514,407.7520363941905,408.6255472339037,408.83518983543485,408.9050707026119,409.6126144827796,409.9096081682821,410.25027739577024,410.35509869653583,411.98856396679946,414.24222193325954,414.24222193325954,414.9060901714415,415.535017976035,416.6880522844565,417.054926837136,418.07693451960046,418.72333254098817,419.107677310462,420.65379149675437,423.30052934108534,424.15656996400423,426.5499896648184,429.46751586946044,432.813062385562,435.2588927367589,437.5387560284104,438.5432934940805,453.1833351676736,453.57641504554454],\"yaxis\":\"y\",\"type\":\"scatter\"}],                        {\"template\":{\"data\":{\"histogram2dcontour\":[{\"type\":\"histogram2dcontour\",\"colorbar\":{\"outlinewidth\":0,\"ticks\":\"\"},\"colorscale\":[[0.0,\"#0d0887\"],[0.1111111111111111,\"#46039f\"],[0.2222222222222222,\"#7201a8\"],[0.3333333333333333,\"#9c179e\"],[0.4444444444444444,\"#bd3786\"],[0.5555555555555556,\"#d8576b\"],[0.6666666666666666,\"#ed7953\"],[0.7777777777777778,\"#fb9f3a\"],[0.8888888888888888,\"#fdca26\"],[1.0,\"#f0f921\"]]}],\"choropleth\":[{\"type\":\"choropleth\",\"colorbar\":{\"outlinewidth\":0,\"ticks\":\"\"}}],\"histogram2d\":[{\"type\":\"histogram2d\",\"colorbar\":{\"outlinewidth\":0,\"ticks\":\"\"},\"colorscale\":[[0.0,\"#0d0887\"],[0.1111111111111111,\"#46039f\"],[0.2222222222222222,\"#7201a8\"],[0.3333333333333333,\"#9c179e\"],[0.4444444444444444,\"#bd3786\"],[0.5555555555555556,\"#d8576b\"],[0.6666666666666666,\"#ed7953\"],[0.7777777777777778,\"#fb9f3a\"],[0.8888888888888888,\"#fdca26\"],[1.0,\"#f0f921\"]]}],\"heatmap\":[{\"type\":\"heatmap\",\"colorbar\":{\"outlinewidth\":0,\"ticks\":\"\"},\"colorscale\":[[0.0,\"#0d0887\"],[0.1111111111111111,\"#46039f\"],[0.2222222222222222,\"#7201a8\"],[0.3333333333333333,\"#9c179e\"],[0.4444444444444444,\"#bd3786\"],[0.5555555555555556,\"#d8576b\"],[0.6666666666666666,\"#ed7953\"],[0.7777777777777778,\"#fb9f3a\"],[0.8888888888888888,\"#fdca26\"],[1.0,\"#f0f921\"]]}],\"heatmapgl\":[{\"type\":\"heatmapgl\",\"colorbar\":{\"outlinewidth\":0,\"ticks\":\"\"},\"colorscale\":[[0.0,\"#0d0887\"],[0.1111111111111111,\"#46039f\"],[0.2222222222222222,\"#7201a8\"],[0.3333333333333333,\"#9c179e\"],[0.4444444444444444,\"#bd3786\"],[0.5555555555555556,\"#d8576b\"],[0.6666666666666666,\"#ed7953\"],[0.7777777777777778,\"#fb9f3a\"],[0.8888888888888888,\"#fdca26\"],[1.0,\"#f0f921\"]]}],\"contourcarpet\":[{\"type\":\"contourcarpet\",\"colorbar\":{\"outlinewidth\":0,\"ticks\":\"\"}}],\"contour\":[{\"type\":\"contour\",\"colorbar\":{\"outlinewidth\":0,\"ticks\":\"\"},\"colorscale\":[[0.0,\"#0d0887\"],[0.1111111111111111,\"#46039f\"],[0.2222222222222222,\"#7201a8\"],[0.3333333333333333,\"#9c179e\"],[0.4444444444444444,\"#bd3786\"],[0.5555555555555556,\"#d8576b\"],[0.6666666666666666,\"#ed7953\"],[0.7777777777777778,\"#fb9f3a\"],[0.8888888888888888,\"#fdca26\"],[1.0,\"#f0f921\"]]}],\"surface\":[{\"type\":\"surface\",\"colorbar\":{\"outlinewidth\":0,\"ticks\":\"\"},\"colorscale\":[[0.0,\"#0d0887\"],[0.1111111111111111,\"#46039f\"],[0.2222222222222222,\"#7201a8\"],[0.3333333333333333,\"#9c179e\"],[0.4444444444444444,\"#bd3786\"],[0.5555555555555556,\"#d8576b\"],[0.6666666666666666,\"#ed7953\"],[0.7777777777777778,\"#fb9f3a\"],[0.8888888888888888,\"#fdca26\"],[1.0,\"#f0f921\"]]}],\"mesh3d\":[{\"type\":\"mesh3d\",\"colorbar\":{\"outlinewidth\":0,\"ticks\":\"\"}}],\"scatter\":[{\"fillpattern\":{\"fillmode\":\"overlay\",\"size\":10,\"solidity\":0.2},\"type\":\"scatter\"}],\"parcoords\":[{\"type\":\"parcoords\",\"line\":{\"colorbar\":{\"outlinewidth\":0,\"ticks\":\"\"}}}],\"scatterpolargl\":[{\"type\":\"scatterpolargl\",\"marker\":{\"colorbar\":{\"outlinewidth\":0,\"ticks\":\"\"}}}],\"bar\":[{\"error_x\":{\"color\":\"#2a3f5f\"},\"error_y\":{\"color\":\"#2a3f5f\"},\"marker\":{\"line\":{\"color\":\"#E5ECF6\",\"width\":0.5},\"pattern\":{\"fillmode\":\"overlay\",\"size\":10,\"solidity\":0.2}},\"type\":\"bar\"}],\"scattergeo\":[{\"type\":\"scattergeo\",\"marker\":{\"colorbar\":{\"outlinewidth\":0,\"ticks\":\"\"}}}],\"scatterpolar\":[{\"type\":\"scatterpolar\",\"marker\":{\"colorbar\":{\"outlinewidth\":0,\"ticks\":\"\"}}}],\"histogram\":[{\"marker\":{\"pattern\":{\"fillmode\":\"overlay\",\"size\":10,\"solidity\":0.2}},\"type\":\"histogram\"}],\"scattergl\":[{\"type\":\"scattergl\",\"marker\":{\"colorbar\":{\"outlinewidth\":0,\"ticks\":\"\"}}}],\"scatter3d\":[{\"type\":\"scatter3d\",\"line\":{\"colorbar\":{\"outlinewidth\":0,\"ticks\":\"\"}},\"marker\":{\"colorbar\":{\"outlinewidth\":0,\"ticks\":\"\"}}}],\"scattermapbox\":[{\"type\":\"scattermapbox\",\"marker\":{\"colorbar\":{\"outlinewidth\":0,\"ticks\":\"\"}}}],\"scatterternary\":[{\"type\":\"scatterternary\",\"marker\":{\"colorbar\":{\"outlinewidth\":0,\"ticks\":\"\"}}}],\"scattercarpet\":[{\"type\":\"scattercarpet\",\"marker\":{\"colorbar\":{\"outlinewidth\":0,\"ticks\":\"\"}}}],\"carpet\":[{\"aaxis\":{\"endlinecolor\":\"#2a3f5f\",\"gridcolor\":\"white\",\"linecolor\":\"white\",\"minorgridcolor\":\"white\",\"startlinecolor\":\"#2a3f5f\"},\"baxis\":{\"endlinecolor\":\"#2a3f5f\",\"gridcolor\":\"white\",\"linecolor\":\"white\",\"minorgridcolor\":\"white\",\"startlinecolor\":\"#2a3f5f\"},\"type\":\"carpet\"}],\"table\":[{\"cells\":{\"fill\":{\"color\":\"#EBF0F8\"},\"line\":{\"color\":\"white\"}},\"header\":{\"fill\":{\"color\":\"#C8D4E3\"},\"line\":{\"color\":\"white\"}},\"type\":\"table\"}],\"barpolar\":[{\"marker\":{\"line\":{\"color\":\"#E5ECF6\",\"width\":0.5},\"pattern\":{\"fillmode\":\"overlay\",\"size\":10,\"solidity\":0.2}},\"type\":\"barpolar\"}],\"pie\":[{\"automargin\":true,\"type\":\"pie\"}]},\"layout\":{\"autotypenumbers\":\"strict\",\"colorway\":[\"#636efa\",\"#EF553B\",\"#00cc96\",\"#ab63fa\",\"#FFA15A\",\"#19d3f3\",\"#FF6692\",\"#B6E880\",\"#FF97FF\",\"#FECB52\"],\"font\":{\"color\":\"#2a3f5f\"},\"hovermode\":\"closest\",\"hoverlabel\":{\"align\":\"left\"},\"paper_bgcolor\":\"white\",\"plot_bgcolor\":\"#E5ECF6\",\"polar\":{\"bgcolor\":\"#E5ECF6\",\"angularaxis\":{\"gridcolor\":\"white\",\"linecolor\":\"white\",\"ticks\":\"\"},\"radialaxis\":{\"gridcolor\":\"white\",\"linecolor\":\"white\",\"ticks\":\"\"}},\"ternary\":{\"bgcolor\":\"#E5ECF6\",\"aaxis\":{\"gridcolor\":\"white\",\"linecolor\":\"white\",\"ticks\":\"\"},\"baxis\":{\"gridcolor\":\"white\",\"linecolor\":\"white\",\"ticks\":\"\"},\"caxis\":{\"gridcolor\":\"white\",\"linecolor\":\"white\",\"ticks\":\"\"}},\"coloraxis\":{\"colorbar\":{\"outlinewidth\":0,\"ticks\":\"\"}},\"colorscale\":{\"sequential\":[[0.0,\"#0d0887\"],[0.1111111111111111,\"#46039f\"],[0.2222222222222222,\"#7201a8\"],[0.3333333333333333,\"#9c179e\"],[0.4444444444444444,\"#bd3786\"],[0.5555555555555556,\"#d8576b\"],[0.6666666666666666,\"#ed7953\"],[0.7777777777777778,\"#fb9f3a\"],[0.8888888888888888,\"#fdca26\"],[1.0,\"#f0f921\"]],\"sequentialminus\":[[0.0,\"#0d0887\"],[0.1111111111111111,\"#46039f\"],[0.2222222222222222,\"#7201a8\"],[0.3333333333333333,\"#9c179e\"],[0.4444444444444444,\"#bd3786\"],[0.5555555555555556,\"#d8576b\"],[0.6666666666666666,\"#ed7953\"],[0.7777777777777778,\"#fb9f3a\"],[0.8888888888888888,\"#fdca26\"],[1.0,\"#f0f921\"]],\"diverging\":[[0,\"#8e0152\"],[0.1,\"#c51b7d\"],[0.2,\"#de77ae\"],[0.3,\"#f1b6da\"],[0.4,\"#fde0ef\"],[0.5,\"#f7f7f7\"],[0.6,\"#e6f5d0\"],[0.7,\"#b8e186\"],[0.8,\"#7fbc41\"],[0.9,\"#4d9221\"],[1,\"#276419\"]]},\"xaxis\":{\"gridcolor\":\"white\",\"linecolor\":\"white\",\"ticks\":\"\",\"title\":{\"standoff\":15},\"zerolinecolor\":\"white\",\"automargin\":true,\"zerolinewidth\":2},\"yaxis\":{\"gridcolor\":\"white\",\"linecolor\":\"white\",\"ticks\":\"\",\"title\":{\"standoff\":15},\"zerolinecolor\":\"white\",\"automargin\":true,\"zerolinewidth\":2},\"scene\":{\"xaxis\":{\"backgroundcolor\":\"#E5ECF6\",\"gridcolor\":\"white\",\"linecolor\":\"white\",\"showbackground\":true,\"ticks\":\"\",\"zerolinecolor\":\"white\",\"gridwidth\":2},\"yaxis\":{\"backgroundcolor\":\"#E5ECF6\",\"gridcolor\":\"white\",\"linecolor\":\"white\",\"showbackground\":true,\"ticks\":\"\",\"zerolinecolor\":\"white\",\"gridwidth\":2},\"zaxis\":{\"backgroundcolor\":\"#E5ECF6\",\"gridcolor\":\"white\",\"linecolor\":\"white\",\"showbackground\":true,\"ticks\":\"\",\"zerolinecolor\":\"white\",\"gridwidth\":2}},\"shapedefaults\":{\"line\":{\"color\":\"#2a3f5f\"}},\"annotationdefaults\":{\"arrowcolor\":\"#2a3f5f\",\"arrowhead\":0,\"arrowwidth\":1},\"geo\":{\"bgcolor\":\"white\",\"landcolor\":\"#E5ECF6\",\"subunitcolor\":\"white\",\"showland\":true,\"showlakes\":true,\"lakecolor\":\"white\"},\"title\":{\"x\":0.05},\"mapbox\":{\"style\":\"light\"}}},\"xaxis\":{\"anchor\":\"y\",\"domain\":[0.0,1.0],\"title\":{\"text\":\"median_housing_value\"}},\"yaxis\":{\"anchor\":\"x\",\"domain\":[0.0,1.0],\"title\":{\"text\":\"avg_response_time\"}},\"legend\":{\"tracegroupgap\":0},\"title\":{\"text\":\"Response Time by Median Housing Value for Census Tracts, Davidson County 2017-2021\"}},                        {\"responsive\": true}                    ).then(function(){\n",
       "                            \n",
       "var gd = document.getElementById('f4d6f368-dded-4d08-b8b2-3367f8c344fc');\n",
       "var x = new MutationObserver(function (mutations, observer) {{\n",
       "        var display = window.getComputedStyle(gd).display;\n",
       "        if (!display || display === 'none') {{\n",
       "            console.log([gd, 'removed!']);\n",
       "            Plotly.purge(gd);\n",
       "            observer.disconnect();\n",
       "        }}\n",
       "}});\n",
       "\n",
       "// Listen for the removal of the full notebook cells\n",
       "var notebookContainer = gd.closest('#notebook-container');\n",
       "if (notebookContainer) {{\n",
       "    x.observe(notebookContainer, {childList: true});\n",
       "}}\n",
       "\n",
       "// Listen for the clearing of the current output cell\n",
       "var outputEl = gd.closest('.output');\n",
       "if (outputEl) {{\n",
       "    x.observe(outputEl, {childList: true});\n",
       "}}\n",
       "\n",
       "                        })                };                });            </script>        </div>"
      ]
     },
     "metadata": {},
     "output_type": "display_data"
    }
   ],
   "source": [
    "fig = px.scatter(res_dem_gdf, x='median_housing_value', y='avg_response_time', trendline='ols',\n",
    "    title=\"Response Time by Median Housing Value for Census Tracts, Davidson County 2017-2021\")\n",
    "fig.show()\n",
    "fig.write_html('response_time_by_median_housingval.html')"
   ]
  },
  {
   "cell_type": "code",
   "execution_count": 26,
   "id": "434465ad",
   "metadata": {
    "colab": {
     "base_uri": "https://localhost:8080/",
     "height": 542
    },
    "id": "434465ad",
    "outputId": "bfb3c9d1-d089-4aea-a1d9-5763f0f7ea9b"
   },
   "outputs": [],
   "source": [
    "fig = px.choropleth(res_dem_gdf, geojson=res_dem_gdf, locations = res_dem_gdf.index,\n",
    "                            color='median_household_income',\n",
    "                            color_continuous_scale=\"Viridis\",\n",
    "                            range_color=(res_dem_gdf['median_household_income'].min(), res_dem_gdf['median_household_income'].max()),\n",
    "                            scope = \"usa\",\n",
    "                            title=\"Median Household Income by Census Tract, Davidson County 2017-2021\")\n",
    "fig.update_geos(fitbounds=\"locations\", visible=True)\n",
    "fig.update_layout(margin={\"r\":0,\"t\":40,\"l\":0,\"b\":0})\n",
    "fig.write_html('median_household_income_census_tract.html')"
   ]
  },
  {
   "cell_type": "code",
   "execution_count": 27,
   "id": "ec8525b7",
   "metadata": {
    "colab": {
     "base_uri": "https://localhost:8080/",
     "height": 542
    },
    "id": "ec8525b7",
    "outputId": "c8dcbf73-291d-4cf9-90b9-5993958b40cc"
   },
   "outputs": [],
   "source": [
    "fig = px.choropleth(res_dem_gdf, geojson=res_dem_gdf, locations = res_dem_gdf.index,\n",
    "                            color='median_housing_value',\n",
    "                            color_continuous_scale=\"Viridis\",\n",
    "                            range_color=(res_dem_gdf['median_housing_value'].min(), res_dem_gdf['median_housing_value'].max()),\n",
    "                            scope = \"usa\",\n",
    "                            title=\"Median Housing Value by Census Tract, Davidson County 2017-2021\")\n",
    "fig.update_geos(fitbounds=\"locations\", visible=True)\n",
    "fig.update_layout(margin={\"r\":0,\"t\":40,\"l\":0,\"b\":0})\n",
    "fig.write_html('median_housing_val_census_tract.html')"
   ]
  },
  {
   "cell_type": "markdown",
   "id": "00d9ef1b",
   "metadata": {
    "id": "00d9ef1b"
   },
   "source": [
    "- **Notable Conclusions for Section 4: Demographic Correlation on Incidents and Response Time Distribution**\n",
    "    - There is a slightly positive correlation between the number of white people in a tract and the average response time for that region, which means it takes longer to reach the regions with higher white populations. This is explained by the choropleth of white population by tract, as the regions farther away from the city center generally have the highest white populations and the regions farther away from the city generally have longer response times (as shown by section 3). By contrast, the areas with the highest African-American and Hispanic populations are closer to the city center, which explains why the average response times for both demographics do not seem to change much as population increases. With that said, the number of incidents per capita is also significantly lower there. Any action that might be taken to increase emergency response presence in those outer regions might also impact this difference.\n",
    "    - There is a slightly positive correlation between the income/housing prices in a tract and the average response time for that tract, which means it takes longer to reach the more affluent regions. These more affluent regions are generally located away from the city, which explains why they generally have longer response times. As with the point above, any action that might be taken to increase emergency response presence in those outer regions might impact this difference."
   ]
  },
  {
   "cell_type": "markdown",
   "id": "7630de3a",
   "metadata": {
    "id": "7630de3a"
   },
   "source": [
    "## FINAL CONCLUSIONS: SOCIOECONOMIC CENSUS DATA AND INCIDENTS\n",
    "- Temporally, incidents occur most often during the winter months, so it is best to keep emergency response teams prepared during those times.\n",
    "- Spatially, incidents are more common as you move closer to the city center, so it is good to have solid emergency response in the city. With that said, the average response time is better as you move closer to the city center. Some of the outer tracts with high response times have high populations (albeit low incident occurrence relative to the city center), namely the aforementioned tracts 47037019114 and 47037018301.\n",
    "- Regions that are farther away from the city, which are also generally more affluent and have higher white populations, seem to have longer response times. With that said, they also have fewer emergency response incidents per capita. Heightening emergency response presence in regions farther away from the city may reduce response times for those areas, but it also may not be worth the money to establish them since those regions experience fewer incidents."
   ]
  },
  {
   "cell_type": "markdown",
   "id": "97567c82",
   "metadata": {
    "id": "97567c82"
   },
   "source": [
    "## SOURCES\n",
    "- Geospatial queries: https://docs.aws.amazon.com/athena/latest/ug/geospatial-functions-list-v2.html, https://docs.aws.amazon.com/athena/latest/ug/geospatial-example-queries.html\n",
    "- SQL joins: https://www.w3schools.com/sql/sql_join.asp\n",
    "- Using wkt for CSV uploads to Athena: https://stackoverflow.com/questions/74179881/attributeerror-polygon-object-has-no-attribute-to-wkt\n",
    "- Plotly documentation: https://plotly.com/python"
   ]
  }
 ],
 "metadata": {
  "colab": {
   "provenance": []
  },
  "kernelspec": {
   "display_name": "Python 3 (ipykernel)",
   "language": "python",
   "name": "python3"
  },
  "language_info": {
   "codemirror_mode": {
    "name": "ipython",
    "version": 3
   },
   "file_extension": ".py",
   "mimetype": "text/x-python",
   "name": "python",
   "nbconvert_exporter": "python",
   "pygments_lexer": "ipython3",
   "version": "3.8.15"
  }
 },
 "nbformat": 4,
 "nbformat_minor": 5
}
